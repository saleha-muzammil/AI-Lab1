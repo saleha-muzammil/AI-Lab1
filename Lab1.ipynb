{
  "nbformat": 4,
  "nbformat_minor": 0,
  "metadata": {
    "colab": {
      "provenance": [],
      "authorship_tag": "ABX9TyP7faEdfCGsnMQpsCNYR/4Z",
      "include_colab_link": true
    },
    "kernelspec": {
      "name": "python3",
      "display_name": "Python 3"
    },
    "language_info": {
      "name": "python"
    }
  },
  "cells": [
    {
      "cell_type": "markdown",
      "metadata": {
        "id": "view-in-github",
        "colab_type": "text"
      },
      "source": [
        "<a href=\"https://colab.research.google.com/github/aneeb02/AI-Lab1/blob/main/Lab1.ipynb\" target=\"_parent\"><img src=\"https://colab.research.google.com/assets/colab-badge.svg\" alt=\"Open In Colab\"/></a>"
      ]
    },
    {
      "cell_type": "code",
      "execution_count": 3,
      "metadata": {
        "colab": {
          "base_uri": "https://localhost:8080/"
        },
        "id": "YGs8RO3uzLEt",
        "outputId": "af00aef7-30df-44ba-dfc3-174e2fe40b03"
      },
      "outputs": [
        {
          "output_type": "stream",
          "name": "stdout",
          "text": [
            "Enter Name:aneeb\n",
            "Enter Age:22\n",
            "Hello aneeb You are 22 years old!\n"
          ]
        }
      ],
      "source": [
        "# Q1\n",
        "name = input(\"Enter Name:\")\n",
        "age = input(\"Enter Age:\")\n",
        "\n",
        "print(f\"Hello {name}! You are {age} years old!\")"
      ]
    },
    {
      "cell_type": "code",
      "source": [
        "# Q2\n",
        "def is_int_or_float(s):\n",
        "  if s.isdigit():\n",
        "    return \"Integer\"\n",
        "  elif \".\" in s and s.replace(\".\", \"\", 1).isdigit():\n",
        "    return \"Float\"\n",
        "  else:\n",
        "    return \"Neither\"\n",
        "\n",
        "string1 = \"123\"\n",
        "string2 = \"3.14\"\n",
        "string3 = \"hello\"\n",
        "\n",
        "print(is_int_or_float(string1))  # Output: Integer\n",
        "print(is_int_or_float(string2))  # Output: Float\n",
        "print(is_int_or_float(string3))  # Output: Neither"
      ],
      "metadata": {
        "colab": {
          "base_uri": "https://localhost:8080/"
        },
        "id": "_HtZbckg0h5X",
        "outputId": "5823cb31-a838-4b2b-88f0-0ee1cbf6d648"
      },
      "execution_count": 4,
      "outputs": [
        {
          "output_type": "stream",
          "name": "stdout",
          "text": [
            "Enter anything: 123412\n",
            "<class 'str'>\n"
          ]
        }
      ]
    },
    {
      "cell_type": "code",
      "source": [
        "# Q3\n",
        "l = [1,4,56,7,21]\n",
        "print(l)\n",
        "l.append(3)\n",
        "l.insert(1,9)\n",
        "l.remove(21)\n",
        "print(l)"
      ],
      "metadata": {
        "colab": {
          "base_uri": "https://localhost:8080/"
        },
        "id": "N_HCIUVg1S9i",
        "outputId": "625efdcd-2fb5-4c9b-d188-06d9ea25478e"
      },
      "execution_count": 7,
      "outputs": [
        {
          "output_type": "stream",
          "name": "stdout",
          "text": [
            "[1, 4, 56, 7, 21]\n",
            "[1, 9, 4, 56, 7, 3]\n"
          ]
        }
      ]
    },
    {
      "cell_type": "code",
      "source": [
        "# Q4\n",
        "t = ('apple', 'banana', 'grapes')\n",
        "print(t)\n",
        "(green, yellow, red) = t\n",
        "\n",
        "print(green)\n",
        "print(yellow)\n",
        "print(red)"
      ],
      "metadata": {
        "colab": {
          "base_uri": "https://localhost:8080/"
        },
        "id": "PMSXUe-A124o",
        "outputId": "eaaa8db4-f604-45a4-9f3f-8d594a43baa9"
      },
      "execution_count": 10,
      "outputs": [
        {
          "output_type": "stream",
          "name": "stdout",
          "text": [
            "('apple', 'banana', 'grapes')\n",
            "apple\n",
            "banana\n",
            "grapes\n"
          ]
        }
      ]
    },
    {
      "cell_type": "code",
      "source": [
        "# Q5\n",
        "myDict = {\n",
        "  \"Aneeb\":\"A\",\n",
        "  \"Ramisha\":\"A\",\n",
        "  \"Aadil\":\"A\",\n",
        "  \"Huzz\":\"F\",\n",
        "  \"ap\":\"U\"\n",
        "}\n",
        "\n",
        "print(myDict)"
      ],
      "metadata": {
        "colab": {
          "base_uri": "https://localhost:8080/"
        },
        "id": "ZXYJhz0r2r5o",
        "outputId": "a5f9e9d4-3103-40f1-f0d6-82c6e5d86fe2"
      },
      "execution_count": 11,
      "outputs": [
        {
          "output_type": "stream",
          "name": "stdout",
          "text": [
            "{'Aneeb': 'A', 'Ramisha': 'A', 'Aadil': 'A', 'Huzz': 'F', 'ap': 'U'}\n"
          ]
        }
      ]
    },
    {
      "cell_type": "code",
      "source": [
        "# Q6\n",
        "list1 = input(\"Enter a list elements separated by space \")\n",
        "user_list1 = list1.split()\n",
        "for i, number in enumerate(user_list1):\n",
        "  user_list1[i] = int(number)\n",
        "print(user_list1)\n",
        "set1= set(user_list1)\n",
        "\n",
        "list2 = input(\"Enter a list elements separated by space \")\n",
        "user_list2 = list2.split()\n",
        "for i, number in enumerate(user_list2):\n",
        "  user_list2[i] = int(number)\n",
        "print(user_list2)\n",
        "set2 = set(user_list2)\n",
        "\n",
        "print(\"Difference: \",set1.difference(set2))\n",
        "print(\"Intersection: \", set1.intersection(set2))\n",
        "print(\"Union: \", set1.union(set2))"
      ],
      "metadata": {
        "colab": {
          "base_uri": "https://localhost:8080/"
        },
        "id": "dzk50Vl93e1p",
        "outputId": "52fc65a6-6fb2-404d-870c-0cba577377e2"
      },
      "execution_count": 20,
      "outputs": [
        {
          "output_type": "stream",
          "name": "stdout",
          "text": [
            "Enter a list elements separated by space 2 4 6 8 9\n",
            "[2, 4, 6, 8, 9]\n",
            "Enter a list elements separated by space 1 3 5 7 9\n",
            "[1, 3, 5, 7, 9]\n",
            "Difference:  {8, 2, 4, 6}\n",
            "Intersection:  {9}\n",
            "Union:  {1, 2, 3, 4, 5, 6, 7, 8, 9}\n"
          ]
        }
      ]
    },
    {
      "cell_type": "code",
      "source": [
        "# Q7\n",
        "number = input(\"Enter a number:\")\n",
        "number = int(number)\n",
        "\n",
        "print(\"Number:\", number)\n",
        "print(\"Even\" if number % 2 == 0 else \"Odd\")\n",
        "print(\"Positive\" if number > 0 else \"Negative\" if number <0 else \"Zero\")\n"
      ],
      "metadata": {
        "colab": {
          "base_uri": "https://localhost:8080/"
        },
        "id": "1qPCBvf-5Tvi",
        "outputId": "a5f0a407-1f9d-4678-d18d-85fc2f5f981f"
      },
      "execution_count": 23,
      "outputs": [
        {
          "output_type": "stream",
          "name": "stdout",
          "text": [
            "Enter a number:-90\n",
            "Number: -90\n",
            "Even\n",
            "Negative\n"
          ]
        }
      ]
    },
    {
      "cell_type": "code",
      "source": [
        "# Q8\n",
        "for i in range(1,51):\n",
        "  print(\"FizzBuzz\" if i%3 == 0 and i%5 == 0 else \"Fizz\" if i%3 == 0 else \"Buzz\" if i%5 == 0 else i)\n"
      ],
      "metadata": {
        "colab": {
          "base_uri": "https://localhost:8080/"
        },
        "id": "3t7QkppV52Vg",
        "outputId": "0d7c8cfb-3c36-4e1b-dd1a-dd300dc1c207"
      },
      "execution_count": 26,
      "outputs": [
        {
          "output_type": "stream",
          "name": "stdout",
          "text": [
            "1\n",
            "2\n",
            "Fizz\n",
            "4\n",
            "Buzz\n",
            "Fizz\n",
            "7\n",
            "8\n",
            "Fizz\n",
            "Buzz\n",
            "11\n",
            "Fizz\n",
            "13\n",
            "14\n",
            "FizzBuzz\n",
            "16\n",
            "17\n",
            "Fizz\n",
            "19\n",
            "Buzz\n",
            "Fizz\n",
            "22\n",
            "23\n",
            "Fizz\n",
            "Buzz\n",
            "26\n",
            "Fizz\n",
            "28\n",
            "29\n",
            "FizzBuzz\n",
            "31\n",
            "32\n",
            "Fizz\n",
            "34\n",
            "Buzz\n",
            "Fizz\n",
            "37\n",
            "38\n",
            "Fizz\n",
            "Buzz\n",
            "41\n",
            "Fizz\n",
            "43\n",
            "44\n",
            "FizzBuzz\n",
            "46\n",
            "47\n",
            "Fizz\n",
            "49\n",
            "Buzz\n"
          ]
        }
      ]
    },
    {
      "cell_type": "code",
      "source": [
        "# Q9\n",
        "number = input(\"Enter number:\")\n",
        "number = int(number)\n",
        "fact = number\n",
        "for i in range(number,0,-1):\n",
        "  print(i)"
      ],
      "metadata": {
        "colab": {
          "base_uri": "https://localhost:8080/"
        },
        "id": "pAcPMVNy5_SC",
        "outputId": "fa421c78-34ee-4f7f-866b-dc5e4fa07afb"
      },
      "execution_count": 33,
      "outputs": [
        {
          "output_type": "stream",
          "name": "stdout",
          "text": [
            "Enter number:4\n",
            "96\n"
          ]
        }
      ]
    },
    {
      "cell_type": "code",
      "source": [
        "# Q10\n",
        "import math\n",
        "number = int(input(\"enter number:\"))\n",
        "isPrime = True;\n",
        "for i in range(2,int(math.sqrt(number))):\n",
        "  if (number%i == 0):\n",
        "    isPrime = False\n",
        "print(\"Prime\" if isPrime else \"Not Prime\")"
      ],
      "metadata": {
        "colab": {
          "base_uri": "https://localhost:8080/"
        },
        "id": "glT94xDO9c-w",
        "outputId": "55e69ba9-dca8-494e-82fb-2901a9da2a0e"
      },
      "execution_count": 40,
      "outputs": [
        {
          "output_type": "stream",
          "name": "stdout",
          "text": [
            "enter number:12\n",
            "Not Prime\n"
          ]
        }
      ]
    },
    {
      "cell_type": "code",
      "source": [
        "# Q11\n",
        "list1 = input(\"Enter a list of numbers: \")\n",
        "user_list1 = list1.split()\n",
        "for i, number in enumerate(user_list1):\n",
        "  user_list1[i] = int(number)\n",
        "squares = [number**2 for number in user_list1]\n",
        "print(squares)"
      ],
      "metadata": {
        "colab": {
          "base_uri": "https://localhost:8080/"
        },
        "id": "m_8SNB5j-WdG",
        "outputId": "43aadc06-5a09-4209-9e06-f178487bda5c"
      },
      "execution_count": 42,
      "outputs": [
        {
          "output_type": "stream",
          "name": "stdout",
          "text": [
            "Enter a list of numbers: 1 4 5 6\n",
            "[1, 16, 25, 36]\n"
          ]
        }
      ]
    },
    {
      "cell_type": "code",
      "source": [
        "# Q12\n",
        "myDict = {\n",
        "  \"Aneeb\":\"A\",\n",
        "  \"Ramisha\":\"A\",\n",
        "  \"Aadil\":\"A\",\n",
        "  \"Huzz\":\"F\",\n",
        "  \"ap\":\"U\"\n",
        "}\n",
        "\n",
        "yourDict = {\n",
        "  \"Aneeb\":\"A\",\n",
        "  \"Ramisha\":\"A\",\n",
        "  \"Aadil\":\"A\",\n",
        "  \"idiot\": \"B\",\n",
        "  \"adbul\": \"C\"\n",
        "}\n",
        "\n",
        "mergedDict = myDict.copy()\n",
        "mergedDict.update(yourDict)\n",
        "\n",
        "print(mergedDict)\n",
        "print(yourDict)"
      ],
      "metadata": {
        "colab": {
          "base_uri": "https://localhost:8080/"
        },
        "id": "RNVpETKg_BZu",
        "outputId": "33a13e15-5508-430e-df7c-ac9c0322ad3f"
      },
      "execution_count": 81,
      "outputs": [
        {
          "output_type": "stream",
          "name": "stdout",
          "text": [
            "{'Aneeb': 'A', 'Ramisha': 'A', 'Aadil': 'A', 'Huzz': 'F', 'ap': 'U', 'idiot': 'B', 'adbul': 'C'}\n",
            "{'Aneeb': 'A', 'Ramisha': 'A', 'Aadil': 'A', 'idiot': 'B', 'adbul': 'C'}\n"
          ]
        }
      ]
    },
    {
      "cell_type": "code",
      "source": [
        "# Q13\n",
        "list1 = [1,4,7,9,3,1,6,3,5,2]\n",
        "nodups = []\n",
        "for number in list1:\n",
        "  if number not in nodups:\n",
        "    nodups.append(number)\n",
        "print(nodups)"
      ],
      "metadata": {
        "colab": {
          "base_uri": "https://localhost:8080/"
        },
        "id": "akQKAUvE_44H",
        "outputId": "697fdfef-865a-4aee-8c34-0ed9a503adc7"
      },
      "execution_count": 49,
      "outputs": [
        {
          "output_type": "stream",
          "name": "stdout",
          "text": [
            "[1, 4, 7, 9, 3, 6, 5, 2]\n"
          ]
        }
      ]
    },
    {
      "cell_type": "code",
      "source": [
        "# Q14\n",
        "l1 = \"Dad\"\n",
        "l2 = lambda s: s == s[::-1]\n",
        "print(l2(l1))\n"
      ],
      "metadata": {
        "colab": {
          "base_uri": "https://localhost:8080/"
        },
        "id": "bALIuqRACBI8",
        "outputId": "b043b001-1f83-411b-bd80-b7622dad9615"
      },
      "execution_count": 55,
      "outputs": [
        {
          "output_type": "stream",
          "name": "stdout",
          "text": [
            "False\n"
          ]
        }
      ]
    },
    {
      "cell_type": "code",
      "source": [
        "# Q15\n",
        "def fib(number):\n",
        "  a,b = 0,1\n",
        "  fibs = []\n",
        "\n",
        "  for i in range(number):\n",
        "    fibs.append(a)\n",
        "    a,b = b, a+b\n",
        "\n",
        "  return fibs\n",
        "\n",
        "n = 15\n",
        "print(fib(n))\n"
      ],
      "metadata": {
        "colab": {
          "base_uri": "https://localhost:8080/"
        },
        "id": "VokR-t4AC2sQ",
        "outputId": "bbb51c53-cb11-4cd2-e742-56a7da06d99e"
      },
      "execution_count": 57,
      "outputs": [
        {
          "output_type": "stream",
          "name": "stdout",
          "text": [
            "[0, 1, 1, 2, 3, 5, 8, 13, 21, 34, 55, 89, 144, 233, 377]\n"
          ]
        }
      ]
    },
    {
      "cell_type": "code",
      "source": [
        "# Q16\n",
        "numbers = input(\"Enter numbers: \")\n",
        "numbers = numbers.split()\n",
        "print(numbers)\n",
        "\n",
        "nums = [float(number) for number in numbers]\n",
        "print(nums)\n",
        "\n",
        "sum = 0\n",
        "for num in nums:\n",
        "  sum += num\n",
        "\n",
        "sum = sum/len(nums)\n",
        "print(sum)"
      ],
      "metadata": {
        "colab": {
          "base_uri": "https://localhost:8080/"
        },
        "id": "isqFARvRESjU",
        "outputId": "3390bdd1-4ec1-4ff8-e7dd-1f1c490c1812"
      },
      "execution_count": 64,
      "outputs": [
        {
          "output_type": "stream",
          "name": "stdout",
          "text": [
            "Enter numbers: 1 2 3 4 5\n",
            "['1', '2', '3', '4', '5']\n",
            "[1.0, 2.0, 3.0, 4.0, 5.0]\n",
            "3.0\n"
          ]
        }
      ]
    },
    {
      "cell_type": "code",
      "source": [
        "# Q17\n",
        "\n",
        "for i in range(1,11):\n",
        "  for j in range(1,11):\n",
        "    print(f'{i} x {j} = {i*j}')\n",
        "  print('\\n')\n"
      ],
      "metadata": {
        "colab": {
          "base_uri": "https://localhost:8080/"
        },
        "id": "bb59FydcGWuo",
        "outputId": "aaae54b0-8c10-4452-b406-e8384cb7e248"
      },
      "execution_count": 68,
      "outputs": [
        {
          "output_type": "stream",
          "name": "stdout",
          "text": [
            "1 x 1 = 1\n",
            "1 x 2 = 2\n",
            "1 x 3 = 3\n",
            "1 x 4 = 4\n",
            "1 x 5 = 5\n",
            "1 x 6 = 6\n",
            "1 x 7 = 7\n",
            "1 x 8 = 8\n",
            "1 x 9 = 9\n",
            "1 x 10 = 10\n",
            "\n",
            "\n",
            "2 x 1 = 2\n",
            "2 x 2 = 4\n",
            "2 x 3 = 6\n",
            "2 x 4 = 8\n",
            "2 x 5 = 10\n",
            "2 x 6 = 12\n",
            "2 x 7 = 14\n",
            "2 x 8 = 16\n",
            "2 x 9 = 18\n",
            "2 x 10 = 20\n",
            "\n",
            "\n",
            "3 x 1 = 3\n",
            "3 x 2 = 6\n",
            "3 x 3 = 9\n",
            "3 x 4 = 12\n",
            "3 x 5 = 15\n",
            "3 x 6 = 18\n",
            "3 x 7 = 21\n",
            "3 x 8 = 24\n",
            "3 x 9 = 27\n",
            "3 x 10 = 30\n",
            "\n",
            "\n",
            "4 x 1 = 4\n",
            "4 x 2 = 8\n",
            "4 x 3 = 12\n",
            "4 x 4 = 16\n",
            "4 x 5 = 20\n",
            "4 x 6 = 24\n",
            "4 x 7 = 28\n",
            "4 x 8 = 32\n",
            "4 x 9 = 36\n",
            "4 x 10 = 40\n",
            "\n",
            "\n",
            "5 x 1 = 5\n",
            "5 x 2 = 10\n",
            "5 x 3 = 15\n",
            "5 x 4 = 20\n",
            "5 x 5 = 25\n",
            "5 x 6 = 30\n",
            "5 x 7 = 35\n",
            "5 x 8 = 40\n",
            "5 x 9 = 45\n",
            "5 x 10 = 50\n",
            "\n",
            "\n",
            "6 x 1 = 6\n",
            "6 x 2 = 12\n",
            "6 x 3 = 18\n",
            "6 x 4 = 24\n",
            "6 x 5 = 30\n",
            "6 x 6 = 36\n",
            "6 x 7 = 42\n",
            "6 x 8 = 48\n",
            "6 x 9 = 54\n",
            "6 x 10 = 60\n",
            "\n",
            "\n",
            "7 x 1 = 7\n",
            "7 x 2 = 14\n",
            "7 x 3 = 21\n",
            "7 x 4 = 28\n",
            "7 x 5 = 35\n",
            "7 x 6 = 42\n",
            "7 x 7 = 49\n",
            "7 x 8 = 56\n",
            "7 x 9 = 63\n",
            "7 x 10 = 70\n",
            "\n",
            "\n",
            "8 x 1 = 8\n",
            "8 x 2 = 16\n",
            "8 x 3 = 24\n",
            "8 x 4 = 32\n",
            "8 x 5 = 40\n",
            "8 x 6 = 48\n",
            "8 x 7 = 56\n",
            "8 x 8 = 64\n",
            "8 x 9 = 72\n",
            "8 x 10 = 80\n",
            "\n",
            "\n",
            "9 x 1 = 9\n",
            "9 x 2 = 18\n",
            "9 x 3 = 27\n",
            "9 x 4 = 36\n",
            "9 x 5 = 45\n",
            "9 x 6 = 54\n",
            "9 x 7 = 63\n",
            "9 x 8 = 72\n",
            "9 x 9 = 81\n",
            "9 x 10 = 90\n",
            "\n",
            "\n",
            "10 x 1 = 10\n",
            "10 x 2 = 20\n",
            "10 x 3 = 30\n",
            "10 x 4 = 40\n",
            "10 x 5 = 50\n",
            "10 x 6 = 60\n",
            "10 x 7 = 70\n",
            "10 x 8 = 80\n",
            "10 x 9 = 90\n",
            "10 x 10 = 100\n",
            "\n",
            "\n"
          ]
        }
      ]
    },
    {
      "cell_type": "code",
      "source": [
        "# Q18\n",
        "myDB = [\n",
        "    {\"username\": \"aneeb02\", \"password\": \"ace\"},\n",
        "    {\"username\": \"user123\", \"password\": \"pass123\"},\n",
        "]\n",
        "\n",
        "username = input(\"Enter Username:\")\n",
        "password = input(\"Enter Password:\")\n",
        "\n",
        "login_successful = False\n",
        "\n",
        "for user in myDB:\n",
        "    if user[\"username\"] == username and user[\"password\"] == password:\n",
        "        login_successful = True\n",
        "        break\n",
        "if login_successful:\n",
        "    print(\"Login Successful\")\n",
        "else:\n",
        "    print(\"Login Failed\")"
      ],
      "metadata": {
        "colab": {
          "base_uri": "https://localhost:8080/"
        },
        "id": "M-nUEumuGu5z",
        "outputId": "b3c53c5a-990b-447a-f5d4-c489941b22b1"
      },
      "execution_count": 74,
      "outputs": [
        {
          "output_type": "stream",
          "name": "stdout",
          "text": [
            "Enter Username:aneeb-2\n",
            "Enter Password:ace\n",
            "Login Failed\n"
          ]
        }
      ]
    },
    {
      "cell_type": "code",
      "source": [
        "# Q19\n",
        "words = input(\"Enter words: \")\n",
        "word_counts = {}\n",
        "\n",
        "for word in words.split():\n",
        "    if word in word_counts:\n",
        "        word_counts[word] += 1\n",
        "    else:\n",
        "        word_counts[word] = 1\n",
        "\n",
        "print(word_counts)\n",
        "\n",
        "\n"
      ],
      "metadata": {
        "colab": {
          "base_uri": "https://localhost:8080/"
        },
        "id": "gZdrqg-gImLL",
        "outputId": "dea35acd-e617-4e15-c495-40da52a74999"
      },
      "execution_count": 78,
      "outputs": [
        {
          "output_type": "stream",
          "name": "stdout",
          "text": [
            "Enter words: apple apple tomato apple tomato blender\n",
            "{'apple': 3, 'tomato': 2, 'blender': 1}\n"
          ]
        }
      ]
    },
    {
      "cell_type": "code",
      "source": [
        "# Q20\n",
        "def cToF(temp):\n",
        "  return (temp * 9/5) + 32\n",
        "\n",
        "\n",
        "def FToC(temp):\n",
        "  return (temp-32) * 5/9\n",
        "\n",
        "\n",
        "temp = 15\n",
        "print(cToF(temp))\n",
        "print(FToC(temp))"
      ],
      "metadata": {
        "colab": {
          "base_uri": "https://localhost:8080/"
        },
        "id": "Zcl4l73pJkQO",
        "outputId": "ed00ab09-1403-49bc-e5e2-076fbe5e96b0"
      },
      "execution_count": 79,
      "outputs": [
        {
          "output_type": "stream",
          "name": "stdout",
          "text": [
            "59.0\n",
            "-9.444444444444445\n"
          ]
        }
      ]
    }
  ]
}