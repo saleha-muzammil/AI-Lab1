{
  "nbformat": 4,
  "nbformat_minor": 0,
  "metadata": {
    "colab": {
      "provenance": []
    },
    "kernelspec": {
      "name": "python3",
      "display_name": "Python 3"
    },
    "language_info": {
      "name": "python"
    }
  },
  "cells": [
    {
      "cell_type": "code",
      "execution_count": 12,
      "metadata": {
        "colab": {
          "base_uri": "https://localhost:8080/"
        },
        "id": "qaagO6gR1LkS",
        "outputId": "1eda27bd-7f60-465f-9181-f7cfa807af85"
      },
      "outputs": [
        {
          "output_type": "stream",
          "name": "stdout",
          "text": [
            "Enter Anything: 123.asd\n",
            "The input was string.\n",
            "123.asd\n"
          ]
        }
      ],
      "source": [
        "name = input(\"Enter Name: \")\n",
        "age = int(input(\"Enter Age: \"))\n",
        "if name != \"\" and age > 0:\n",
        "  print(f'Hello {name}, you are {age} years old')"
      ]
    },
    {
      "cell_type": "code",
      "source": [
        "user_input = input(\"Enter Anything: \")\n",
        "conversion= None\n",
        "ty = 'int'\n",
        "num = 0\n",
        "for ch in user_input:\n",
        "  if ty == 'int' and ch == '.':\n",
        "    ty = 'float'\n",
        "  elif ch >= 'A' and ch <= 'z':\n",
        "    ty = 'string'\n",
        "if ty == 'int':\n",
        "  print(\"The input was integer.\")\n",
        "  conversion = int(user_input)\n",
        "elif ty == 'float':\n",
        "  print(\"The input was float.\")\n",
        "  conversion = float(user_input)\n",
        "else:\n",
        "  print(\"The input was string.\")\n",
        "  conversion = user_input\n",
        "print(conversion)"
      ],
      "metadata": {
        "id": "O17LJ1QN62HU"
      },
      "execution_count": null,
      "outputs": []
    },
    {
      "cell_type": "code",
      "source": [
        "randomList = ['apples', 'bananas','oranges']\n",
        "randomList.append('kiwi')\n",
        "print(randomList)\n",
        "randomList.remove('kiwi')\n",
        "print(randomList)\n",
        "for fruit in randomList:\n",
        "  print(fruit.upper())\n"
      ],
      "metadata": {
        "colab": {
          "base_uri": "https://localhost:8080/"
        },
        "id": "Q-qd0Bf-69T7",
        "outputId": "b6aafbd0-e07e-4626-83e9-a9cfb578f5e1"
      },
      "execution_count": 14,
      "outputs": [
        {
          "output_type": "stream",
          "name": "stdout",
          "text": [
            "['apples', 'bananas', 'oranges', 'kiwi']\n",
            "['apples', 'bananas', 'oranges']\n",
            "APPLES\n",
            "BANANAS\n",
            "ORANGES\n"
          ]
        }
      ]
    },
    {
      "cell_type": "code",
      "source": [
        "fruits = (\"apple\", \"banana\", \"cherry\")\n",
        "\n",
        "(green, yellow, red) = fruits\n",
        "\n",
        "print(green)\n",
        "print(yellow)"
      ],
      "metadata": {
        "colab": {
          "base_uri": "https://localhost:8080/"
        },
        "id": "PnSJosVQ8lEt",
        "outputId": "86831135-b7ec-4c8b-c635-c490b8d9bebf"
      },
      "execution_count": 15,
      "outputs": [
        {
          "output_type": "stream",
          "name": "stdout",
          "text": [
            "apple\n",
            "banana\n"
          ]
        }
      ]
    },
    {
      "cell_type": "code",
      "source": [
        "results = {'Shaheer':'A+',\n",
        "           'Shahbakht':'B+',\n",
        "           'Butt':'B'}\n",
        "print(results)"
      ],
      "metadata": {
        "colab": {
          "base_uri": "https://localhost:8080/"
        },
        "id": "keiyJOQ_9946",
        "outputId": "56ae25ab-cccd-447c-f8df-2d419528cdfd"
      },
      "execution_count": 16,
      "outputs": [
        {
          "output_type": "stream",
          "name": "stdout",
          "text": [
            "{'Shaheer': 'A+', 'Shahbakht': 'D-', 'Butt': 'D-'}\n"
          ]
        }
      ]
    },
    {
      "cell_type": "code",
      "source": [
        "list1 = input(\"Enter the first list of integers: \")\n",
        "\n",
        "set1 = set(map(int, list1.split(',')))\n",
        "list2 = input(\"Enter the second list of integers: \")\n",
        "set2 = set(map(int, list2.split(',')))\n",
        "\n",
        "\n",
        "union = set1.union(set2)\n",
        "intersection = set1.intersection(set2)\n",
        "difference1 = set1.difference(set2)\n",
        "difference2 = set2.difference(set1)\n",
        "\n",
        "print(\"\\nResults:\")\n",
        "print(f\"Union: {union}\")\n",
        "print(f\"Intersection: {intersection}\")\n",
        "print(f\"Difference (Set 1 - Set 2): {difference1}\")\n",
        "print(f\"Difference (Set 2 - Set 1): {difference2}\")"
      ],
      "metadata": {
        "colab": {
          "base_uri": "https://localhost:8080/"
        },
        "id": "H0sNJhz9-njP",
        "outputId": "20290c14-1373-468f-ed59-e6051f9a74de"
      },
      "execution_count": 17,
      "outputs": [
        {
          "output_type": "stream",
          "name": "stdout",
          "text": [
            "Enter the first list of integers: 1,2,3,4,5\n",
            "Enter the second list of integers: 3,4,5,6,7,8,9\n",
            "\n",
            "Results:\n",
            "Union: {1, 2, 3, 4, 5, 6, 7, 8, 9}\n",
            "Intersection: {3, 4, 5}\n",
            "Difference (Set 1 - Set 2): {1, 2}\n",
            "Difference (Set 2 - Set 1): {8, 9, 6, 7}\n"
          ]
        }
      ]
    },
    {
      "cell_type": "code",
      "source": [
        "user_input = int(input(\"Please enter an integer: \"))\n",
        "\n",
        "if user_input > 0:\n",
        "    sign = \"positive\"\n",
        "elif user_input < 0:\n",
        "    sign = \"negative\"\n",
        "else:\n",
        "    sign = \"zero\"\n",
        "\n",
        "if user_input % 2 == 0:\n",
        "    parity = \"even\"\n",
        "else:\n",
        "    parity = \"odd\"\n",
        "\n",
        "print(f\"The number {user_input} is {sign} and {parity}.\")"
      ],
      "metadata": {
        "colab": {
          "base_uri": "https://localhost:8080/"
        },
        "id": "o30qC5ePALrV",
        "outputId": "78f4ef35-535d-4190-a216-f60c5c40ca14"
      },
      "execution_count": 18,
      "outputs": [
        {
          "output_type": "stream",
          "name": "stdout",
          "text": [
            "Please enter an integer: 123\n",
            "The number 123 is positive and odd.\n"
          ]
        }
      ]
    },
    {
      "cell_type": "code",
      "source": [
        "for i in range(1, 51):\n",
        "    if i % 3 == 0 and i % 5 == 0:\n",
        "        print(\"FizzBuzz\")\n",
        "    elif i % 3 == 0:\n",
        "        print(\"Fizz\")\n",
        "    elif i % 5 == 0:\n",
        "        print(\"Buzz\")\n",
        "    else:\n",
        "        print(i)"
      ],
      "metadata": {
        "colab": {
          "base_uri": "https://localhost:8080/"
        },
        "id": "wBum1VYSBCdt",
        "outputId": "6d80776c-3dc3-4d97-d991-521ea8a2ffa7"
      },
      "execution_count": 19,
      "outputs": [
        {
          "output_type": "stream",
          "name": "stdout",
          "text": [
            "1\n",
            "2\n",
            "Fizz\n",
            "4\n",
            "Buzz\n",
            "Fizz\n",
            "7\n",
            "8\n",
            "Fizz\n",
            "Buzz\n",
            "11\n",
            "Fizz\n",
            "13\n",
            "14\n",
            "FizzBuzz\n",
            "16\n",
            "17\n",
            "Fizz\n",
            "19\n",
            "Buzz\n",
            "Fizz\n",
            "22\n",
            "23\n",
            "Fizz\n",
            "Buzz\n",
            "26\n",
            "Fizz\n",
            "28\n",
            "29\n",
            "FizzBuzz\n",
            "31\n",
            "32\n",
            "Fizz\n",
            "34\n",
            "Buzz\n",
            "Fizz\n",
            "37\n",
            "38\n",
            "Fizz\n",
            "Buzz\n",
            "41\n",
            "Fizz\n",
            "43\n",
            "44\n",
            "FizzBuzz\n",
            "46\n",
            "47\n",
            "Fizz\n",
            "49\n",
            "Buzz\n"
          ]
        }
      ]
    },
    {
      "cell_type": "code",
      "source": [
        "def factorial(n):\n",
        "    if n < 0:\n",
        "        print(\"Wrong Input!\\n\")\n",
        "        return -1\n",
        "    result = 1\n",
        "    for i in range(2, n + 1):\n",
        "        result *= i\n",
        "    return result\n",
        "\n",
        "num = int(input(\"Enter Number: \"))\n",
        "print(factorial(num))"
      ],
      "metadata": {
        "colab": {
          "base_uri": "https://localhost:8080/"
        },
        "id": "IYUHPK7MBSMg",
        "outputId": "11d9baa7-3e64-4845-df8f-305b40339d4b"
      },
      "execution_count": 23,
      "outputs": [
        {
          "output_type": "stream",
          "name": "stdout",
          "text": [
            "Enter Number: 5\n",
            "120\n"
          ]
        }
      ]
    },
    {
      "cell_type": "code",
      "source": [
        "def is_prime(n):\n",
        "    if n <= 1:\n",
        "        return False\n",
        "    for i in range(2, n):\n",
        "        if n % i == 0:\n",
        "            return False\n",
        "    return True\n",
        "num = int(input(\"Enter Number: \"))\n",
        "print(is_prime(num))"
      ],
      "metadata": {
        "colab": {
          "base_uri": "https://localhost:8080/"
        },
        "id": "oLv66_I7COsM",
        "outputId": "c1a649e2-d40a-468f-c2f7-5355c0898351"
      },
      "execution_count": 31,
      "outputs": [
        {
          "output_type": "stream",
          "name": "stdout",
          "text": [
            "Enter Number: 101\n",
            "True\n"
          ]
        }
      ]
    },
    {
      "cell_type": "code",
      "source": [
        "def square_numbers(numbers):\n",
        "    return [x**2 for x in numbers]\n",
        "\n",
        "input_list = [1, 2, 3, 4, 5]\n",
        "squared_list = square_numbers(input_list)\n",
        "print(f\"The squares of {input_list} are {squared_list}.\")"
      ],
      "metadata": {
        "colab": {
          "base_uri": "https://localhost:8080/"
        },
        "id": "KAJvzTfQDOLo",
        "outputId": "f2c07db5-b262-4a22-b0fd-492e3775ca2b"
      },
      "execution_count": 32,
      "outputs": [
        {
          "output_type": "stream",
          "name": "stdout",
          "text": [
            "The squares of [1, 2, 3, 4, 5] are [1, 4, 9, 16, 25].\n"
          ]
        }
      ]
    },
    {
      "cell_type": "code",
      "source": [
        "d1 = {'a': 1, 'b': 2}\n",
        "d2 = {'b': 3, 'c': 4}\n",
        "\n",
        "d1.update(d2)\n",
        "print(d1)"
      ],
      "metadata": {
        "colab": {
          "base_uri": "https://localhost:8080/"
        },
        "id": "lHY5phYhDp5N",
        "outputId": "23a0dc02-8738-4eb4-9ffb-fac247710168"
      },
      "execution_count": 33,
      "outputs": [
        {
          "output_type": "stream",
          "name": "stdout",
          "text": [
            "{'a': 1, 'b': 3, 'c': 4}\n"
          ]
        }
      ]
    },
    {
      "cell_type": "code",
      "source": [
        "def remove_duplicates(input_list):\n",
        "    result = []\n",
        "    for number in input_list:\n",
        "        if number not in result:\n",
        "            result.append(number)\n",
        "    return result\n",
        "\n",
        "input_list = [1, 2, 3, 2, 4, 1, 5]\n",
        "unique_list = remove_duplicates(input_list)\n",
        "print(\"Original list:\", input_list)\n",
        "print(\"List after removing duplicates:\", unique_list)"
      ],
      "metadata": {
        "colab": {
          "base_uri": "https://localhost:8080/"
        },
        "id": "YQlGetpIE0bA",
        "outputId": "26f56c87-9300-40fe-ce16-351a4b4aa3f8"
      },
      "execution_count": 34,
      "outputs": [
        {
          "output_type": "stream",
          "name": "stdout",
          "text": [
            "Original list: [1, 2, 3, 2, 4, 1, 5]\n",
            "List after removing duplicates: [1, 2, 3, 4, 5]\n"
          ]
        }
      ]
    },
    {
      "cell_type": "code",
      "source": [
        "is_palindrome = lambda s: (s := ''.join(s.lower().split())) == s[::-1]\n",
        "\n",
        "# Example usage\n",
        "input_string = input(\"Enter a string: \")\n",
        "if is_palindrome(input_string):\n",
        "    print(f'The string \"{input_string}\" is a palindrome.')\n",
        "else:\n",
        "    print(f'The string \"{input_string}\" is not a palindrome.')"
      ],
      "metadata": {
        "colab": {
          "base_uri": "https://localhost:8080/"
        },
        "id": "M3vpiN0JKEMe",
        "outputId": "00f3822e-6e9a-4705-9f0b-2cecc7f55825"
      },
      "execution_count": 40,
      "outputs": [
        {
          "output_type": "stream",
          "name": "stdout",
          "text": [
            "Enter a string: hello\n",
            "The string \"hello\" is not a palindrome.\n"
          ]
        }
      ]
    },
    {
      "cell_type": "code",
      "source": [
        "def fib(n):\n",
        "    seq = []\n",
        "    a, b = 0, 1\n",
        "    for _ in range(n):\n",
        "        seq.append(a)\n",
        "        a, b = b, a + b\n",
        "    return seq\n",
        "\n",
        "# Example usage\n",
        "n = input(\"Enter the number of Fibonacci numbers to generate: \")\n",
        "if n.isdigit():\n",
        "    n = int(n)\n",
        "    if n < 0:\n",
        "        print(\"error\")\n",
        "    else:\n",
        "        result = fib(n)\n",
        "        print(result)\n",
        "else:\n",
        "    print(\"error\")"
      ],
      "metadata": {
        "colab": {
          "base_uri": "https://localhost:8080/"
        },
        "id": "wL04YvBvFahz",
        "outputId": "fc50f83c-f9f0-4725-afa9-5e7bc6bcd4b2"
      },
      "execution_count": 35,
      "outputs": [
        {
          "output_type": "stream",
          "name": "stdout",
          "text": [
            "Enter the number of Fibonacci numbers to generate: 12\n",
            "[0, 1, 1, 2, 3, 5, 8, 13, 21, 34, 55, 89]\n"
          ]
        }
      ]
    },
    {
      "cell_type": "code",
      "source": [
        "def calculate_average():\n",
        "    numbers = []\n",
        "    while True:\n",
        "        num = input(\"Enter num (type 'stop' to finish): \")\n",
        "        if num == 'stop':\n",
        "            break\n",
        "        if num.replace('.', '', 1).isdigit() or (num.startswith('-') and num[1:].replace('.', '', 1).isdigit()):\n",
        "            numbers.append(float(num))\n",
        "        else:\n",
        "            print(\"Invalid input. Please enter a valid number.\")\n",
        "    if numbers:\n",
        "        average = sum(numbers) / len(numbers)\n",
        "        print(f'The average of the entered numbers is: {average}')\n",
        "    else:\n",
        "        print(\"No valid numbers were entered.\")\n",
        "\n",
        "calculate_average()\n"
      ],
      "metadata": {
        "colab": {
          "base_uri": "https://localhost:8080/"
        },
        "id": "ykwINhrqGnrd",
        "outputId": "e1f5d493-0ff5-4e17-c199-97be04fedb12"
      },
      "execution_count": 36,
      "outputs": [
        {
          "output_type": "stream",
          "name": "stdout",
          "text": [
            "Enter num (type 'stop' to finish): 1\n",
            "Enter num (type 'stop' to finish): 2\n",
            "Enter num (type 'stop' to finish): 3\n",
            "Enter num (type 'stop' to finish): stop\n",
            "The average of the entered numbers is: 2.0\n"
          ]
        }
      ]
    },
    {
      "cell_type": "code",
      "source": [
        "database = {\n",
        "    'shaheer':'hello',\n",
        "    'shah':'asd'\n",
        "}\n",
        "username = input(\"Enter username: \")\n",
        "password = input(\"Enter Password: \")\n",
        "credential = {username:password}\n",
        "if credential in database:\n",
        "  print(\"Login Successful!\")\n",
        "else:\n",
        "  print(\"Unlogin Successful!\")"
      ],
      "metadata": {
        "id": "yceQKcabH8MD"
      },
      "execution_count": null,
      "outputs": []
    },
    {
      "cell_type": "code",
      "source": [
        "words = input(\"Enter words separated by spaces: \").split()\n",
        "frequency = {}\n",
        "for word in words:\n",
        "    if word in frequency:\n",
        "        frequency[word] += 1\n",
        "    else:\n",
        "        frequency[word] = 1\n",
        "for word, count in frequency.items():\n",
        "    print(f'{word}: {count}')"
      ],
      "metadata": {
        "colab": {
          "base_uri": "https://localhost:8080/"
        },
        "id": "mXlb0HS3I_sL",
        "outputId": "2eb606c2-2114-475e-b06f-654f62572b2a"
      },
      "execution_count": 38,
      "outputs": [
        {
          "output_type": "stream",
          "name": "stdout",
          "text": [
            "Enter words separated by spaces: hello hello world\n",
            "hello: 2\n",
            "world: 1\n"
          ]
        }
      ]
    },
    {
      "cell_type": "code",
      "source": [
        "def convert_temperature():\n",
        "    choice = input(\"Type 'C' to convert Celsius to Fahrenheit or 'F' to convert Fahrenheit to Celsius: \").upper()\n",
        "\n",
        "    if choice == 'C':\n",
        "        celsius = float(input(\"Enter temperature in Celsius: \"))\n",
        "        fahrenheit = (celsius * 9/5) + 32\n",
        "        print(f'{celsius}°C is equal to {fahrenheit}°F')\n",
        "\n",
        "    elif choice == 'F':\n",
        "        fahrenheit = float(input(\"Enter temperature in Fahrenheit: \"))\n",
        "        celsius = (fahrenheit - 32) * 5/9\n",
        "        print(f'{fahrenheit}°F is equal to {celsius}°C')\n",
        "\n",
        "    else:\n",
        "        print(\"Invalid choice. Please enter 'C' or 'F'.\")\n",
        "\n",
        "convert_temperature()"
      ],
      "metadata": {
        "id": "xmsMFGxeJZrg"
      },
      "execution_count": null,
      "outputs": []
    }
  ]
}