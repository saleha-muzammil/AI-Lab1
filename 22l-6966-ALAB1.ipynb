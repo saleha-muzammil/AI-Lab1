{
  "nbformat": 4,
  "nbformat_minor": 0,
  "metadata": {
    "colab": {
      "provenance": []
    },
    "kernelspec": {
      "name": "python3",
      "display_name": "Python 3"
    },
    "language_info": {
      "name": "python"
    }
  },
  "cells": [
    {
      "cell_type": "code",
      "execution_count": 7,
      "metadata": {
        "colab": {
          "base_uri": "https://localhost:8080/"
        },
        "id": "L9dIa2o61Zlc",
        "outputId": "9dac2e0b-621f-4a83-c35e-73934888d66e"
      },
      "outputs": [
        {
          "output_type": "stream",
          "name": "stdout",
          "text": [
            "Enter your nameawais\n",
            "Enter your age21\n",
            "Hello awais you are 21 year old\n"
          ]
        }
      ],
      "source": [
        "a = input(\"Enter your name\")\n",
        "b = input(\"Enter your age\")\n",
        "print(f\"Hello {a} you are {b} year old\")"
      ]
    },
    {
      "cell_type": "code",
      "source": [
        "a = input(\"Enter number\")\n",
        "\n",
        "try:\n",
        "  a_int = int(a)\n",
        "  print(f\"a in int is {a_int}\")\n",
        "\n",
        "except:\n",
        "\n",
        "  try:\n",
        "    a_float = float(a)\n",
        "    print(f\"a is float {a_float}\")\n",
        "  except:\n",
        "    a_string = str(a)\n",
        "    print(f\"a is string {a_string}\")\n",
        "\n",
        "\n"
      ],
      "metadata": {
        "colab": {
          "base_uri": "https://localhost:8080/"
        },
        "id": "a2B4dC8d3E1T",
        "outputId": "f4dd4ecd-37c5-4b2f-cbd5-e754ef37c2a8"
      },
      "execution_count": 15,
      "outputs": [
        {
          "output_type": "stream",
          "name": "stdout",
          "text": [
            "Enter numberawais\n",
            "a is string awais\n"
          ]
        }
      ]
    },
    {
      "cell_type": "code",
      "source": [
        "a_list = ['Apple' , 'banana' , 'cake']\n",
        "a_list.append('Dog')\n",
        "a_list.remove('Apple');\n",
        "\n",
        "for i in a_list:\n",
        "  print(i.upper())"
      ],
      "metadata": {
        "colab": {
          "base_uri": "https://localhost:8080/"
        },
        "id": "wGsC2GRb3E0S",
        "outputId": "825d61a4-88aa-4175-86e3-7b5e596a2775"
      },
      "execution_count": 21,
      "outputs": [
        {
          "output_type": "stream",
          "name": "stdout",
          "text": [
            "BANANA\n",
            "CAKE\n",
            "DOG\n"
          ]
        }
      ]
    },
    {
      "cell_type": "code",
      "source": [
        "t = (1,2,3,4)\n",
        "a , b = t[:2]\n",
        "print(f\"First two elements are {a} and {b}\")"
      ],
      "metadata": {
        "colab": {
          "base_uri": "https://localhost:8080/"
        },
        "id": "vtdLSgAP7TCN",
        "outputId": "489ad268-21d5-4689-ba0c-a839108f727a"
      },
      "execution_count": 23,
      "outputs": [
        {
          "output_type": "stream",
          "name": "stdout",
          "text": [
            "First two elements are 1 and 2\n"
          ]
        }
      ]
    },
    {
      "cell_type": "code",
      "source": [
        "dic = {\n",
        "    \"Awais\" : \"A+\",\n",
        "    \"Aans\" : \"A+\",\n",
        "    \"Adam\" : \"A+\",\n",
        "    \"Wolf\" : \"A+\",\n",
        "    \"Dilijit\" : \"A+\",\n",
        "}\n",
        "print(dic )"
      ],
      "metadata": {
        "colab": {
          "base_uri": "https://localhost:8080/"
        },
        "id": "953ey7f58JDg",
        "outputId": "640299c2-8084-414c-d648-516a0835edcf"
      },
      "execution_count": 24,
      "outputs": [
        {
          "output_type": "stream",
          "name": "stdout",
          "text": [
            "{'Awais': 'A+', 'Aans': 'A+', 'Adam': 'A+', 'Wolf': 'A+', 'Dilijit': 'A+'}\n"
          ]
        }
      ]
    },
    {
      "cell_type": "code",
      "source": [
        "size1 = input(\"Enter list size 1\")\n",
        "size2 = input(\"Enter List Size 2\")\n",
        "list1 =[]\n",
        "list2 = []\n",
        "for i in range(0,int(size1)):\n",
        "  i = int(input(f\"Enter element {i + 1} for list 1 \"))\n",
        "  list1.append(i)\n",
        "\n",
        "for i in range(0,int(size2)):\n",
        "  i = int(input(f\"Enter element {i + 1} for list 2 \"))\n",
        "  list2.append(i)\n",
        "\n",
        "set1 = set(list1)\n",
        "set2 = set(list2)\n",
        "\n",
        "union_set = set1.union(set2)\n",
        "inter_set = set1.intersection(set2)\n",
        "diff_set = set1.difference(set2)\n",
        "print(union_set)\n",
        "print(inter_set)\n",
        "print(diff_set)"
      ],
      "metadata": {
        "colab": {
          "base_uri": "https://localhost:8080/"
        },
        "id": "NlvPEvcW8es8",
        "outputId": "6d7c1261-78ec-4593-a18b-3770461e7cb0"
      },
      "execution_count": 33,
      "outputs": [
        {
          "output_type": "stream",
          "name": "stdout",
          "text": [
            "Enter list size 12\n",
            "Enter List Size 22\n",
            "Enter element 1 for list 1 2\n",
            "Enter element 2 for list 1 1\n",
            "Enter element 1 for list 2 4\n",
            "Enter element 2 for list 2 3\n",
            "{1, 2, 3, 4}\n",
            "set()\n",
            "{1, 2}\n"
          ]
        }
      ]
    },
    {
      "cell_type": "code",
      "source": [
        "a = input(\"Enter number\");\n",
        "if int(a) < 0:\n",
        "  print(\"Negetive\")\n",
        "\n",
        "elif int(a) > 0:\n",
        "  print(\"Positive\")\n",
        "\n",
        "else:\n",
        "  print(\"number is zero\")\n",
        "\n",
        "if int(a) % 2 == 0:\n",
        "  print(\"even\")\n",
        "else:\n",
        "  print(\"Odd\")"
      ],
      "metadata": {
        "colab": {
          "base_uri": "https://localhost:8080/"
        },
        "id": "batVJH5Y_2IB",
        "outputId": "4825ff10-d853-4e5c-fcff-54ad6bad0b4a"
      },
      "execution_count": 35,
      "outputs": [
        {
          "output_type": "stream",
          "name": "stdout",
          "text": [
            "Enter number67\n",
            "Positive\n",
            "Odd\n"
          ]
        }
      ]
    },
    {
      "cell_type": "code",
      "source": [
        "for i in range(0 , 51):\n",
        "  if(i % 3 == 0):\n",
        "    print(\"Fuzz\")\n",
        "  if i % 5 == 0:\n",
        "    print(\"Buzz\")\n",
        "  if i % 3 == 0 and i % 5 == 0:\n",
        "    print(\"FuzzBuzz\")\n",
        "  else:\n",
        "    print(i)"
      ],
      "metadata": {
        "colab": {
          "base_uri": "https://localhost:8080/"
        },
        "id": "s5-1wTcEAlM8",
        "outputId": "eb2f5478-fc76-4f95-fa5d-84a10f3559e8"
      },
      "execution_count": 38,
      "outputs": [
        {
          "output_type": "stream",
          "name": "stdout",
          "text": [
            "Fuzz\n",
            "Buzz\n",
            "FuzzBuzz\n",
            "1\n",
            "2\n",
            "Fuzz\n",
            "3\n",
            "4\n",
            "Buzz\n",
            "5\n",
            "Fuzz\n",
            "6\n",
            "7\n",
            "8\n",
            "Fuzz\n",
            "9\n",
            "Buzz\n",
            "10\n",
            "11\n",
            "Fuzz\n",
            "12\n",
            "13\n",
            "14\n",
            "Fuzz\n",
            "Buzz\n",
            "FuzzBuzz\n",
            "16\n",
            "17\n",
            "Fuzz\n",
            "18\n",
            "19\n",
            "Buzz\n",
            "20\n",
            "Fuzz\n",
            "21\n",
            "22\n",
            "23\n",
            "Fuzz\n",
            "24\n",
            "Buzz\n",
            "25\n",
            "26\n",
            "Fuzz\n",
            "27\n",
            "28\n",
            "29\n",
            "Fuzz\n",
            "Buzz\n",
            "FuzzBuzz\n",
            "31\n",
            "32\n",
            "Fuzz\n",
            "33\n",
            "34\n",
            "Buzz\n",
            "35\n",
            "Fuzz\n",
            "36\n",
            "37\n",
            "38\n",
            "Fuzz\n",
            "39\n",
            "Buzz\n",
            "40\n",
            "41\n",
            "Fuzz\n",
            "42\n",
            "43\n",
            "44\n",
            "Fuzz\n",
            "Buzz\n",
            "FuzzBuzz\n",
            "46\n",
            "47\n",
            "Fuzz\n",
            "48\n",
            "49\n",
            "Buzz\n",
            "50\n"
          ]
        }
      ]
    },
    {
      "cell_type": "code",
      "source": [
        "def factorial(a):\n",
        "    c = 1\n",
        "    b = int(a)\n",
        "\n",
        "    while b >= 1:\n",
        "      c = b * c\n",
        "      b = b - 1\n",
        "    return c\n",
        "\n",
        "if __name__ == \"__main__\":\n",
        "  a = input(\"Enter number to calculate factorial\")\n",
        "  print(factorial(a))"
      ],
      "metadata": {
        "colab": {
          "base_uri": "https://localhost:8080/"
        },
        "id": "1KKXF_YVBuXM",
        "outputId": "88af8461-d1b5-4e90-c7c7-542a8c5d2552"
      },
      "execution_count": 44,
      "outputs": [
        {
          "output_type": "stream",
          "name": "stdout",
          "text": [
            "Enter number to calculate factorial5\n",
            "120\n"
          ]
        }
      ]
    },
    {
      "cell_type": "code",
      "source": [
        "def prime(a):\n",
        "  check = True\n",
        "  if a == 1 or a == 2:\n",
        "    return True\n",
        "  for i in range(3 , a):\n",
        "    if a % i == 0:\n",
        "      check = False\n",
        "      return check\n",
        "  return check\n",
        "if __name__ == \"__main__\":\n",
        "  a = input(\"Enter number to calculate Prime number\")\n",
        "  print(prime(int(a)))"
      ],
      "metadata": {
        "colab": {
          "base_uri": "https://localhost:8080/"
        },
        "id": "BUBNPz7OEUz8",
        "outputId": "9d66cc50-dbc3-4c4c-99c9-bb226e662f46"
      },
      "execution_count": 58,
      "outputs": [
        {
          "output_type": "stream",
          "name": "stdout",
          "text": [
            "Enter number to calculate Prime number13\n",
            "True\n"
          ]
        }
      ]
    },
    {
      "cell_type": "code",
      "source": [
        "def func(list1):\n",
        "  newlist= []\n",
        "  for i in list1:\n",
        "    newlist.append(i*i)\n",
        "\n",
        "  return newlist\n",
        "if __name__ == \"__main__\":\n",
        "  a = input(\"Enter List size\")\n",
        "  list1 = []\n",
        "  for i in range(0, int(a)):\n",
        "    i = input(f\"Enter {i} number\")\n",
        "    list1.append(int(i))\n",
        "\n",
        "  newlist = (func(list1))\n",
        "  for i in newlist:\n",
        "    print(i)"
      ],
      "metadata": {
        "colab": {
          "base_uri": "https://localhost:8080/"
        },
        "id": "VAsNym6mGmvc",
        "outputId": "a9d06a7f-4404-4815-aab5-e24530a34c39"
      },
      "execution_count": 61,
      "outputs": [
        {
          "output_type": "stream",
          "name": "stdout",
          "text": [
            "Enter List size3\n",
            "Enter 0 number3\n",
            "Enter 1 number2\n",
            "Enter 2 number1\n",
            "9\n",
            "4\n",
            "1\n"
          ]
        }
      ]
    },
    {
      "cell_type": "code",
      "source": [
        "dict1 = {\n",
        "    \"awais\" : \"1\",\n",
        "    \"awai\" : \"2\",\n",
        "    \"awa\" : \"3\",\n",
        "    \"aw\" : \"4\",\n",
        "    \"a\" : \"5\",\n",
        "}\n",
        "dict2 = {\n",
        "    \"awais\" : \"100\",\n",
        "    \"awai\" : \"200\",\n",
        "    \"awa\" : \"300\",\n",
        "    \"aw\" : \"400\",\n",
        "    \"a\" : \"500\",\n",
        "}\n",
        "\n",
        "dictnew = dict1.copy()\n",
        "dictnew.update(dict2)\n",
        "print(dictnew)"
      ],
      "metadata": {
        "colab": {
          "base_uri": "https://localhost:8080/"
        },
        "id": "j-dt2abdIHNe",
        "outputId": "a9ee4dde-d451-4b27-fadf-5a6b30def110"
      },
      "execution_count": 69,
      "outputs": [
        {
          "output_type": "stream",
          "name": "stdout",
          "text": [
            "{'awais': '100', 'awai': '200', 'awa': '300', 'aw': '400', 'a': '500'}\n"
          ]
        }
      ]
    },
    {
      "cell_type": "code",
      "source": [
        "list1 = [1, 1, 2, 3, 4, 5, 6, 7, 7, 9]\n",
        "\n",
        "unique_list = []\n",
        "\n",
        "for i in list1:\n",
        "    if i not in unique_list:\n",
        "        unique_list.append(i)\n",
        "\n",
        "for i in unique_list:\n",
        "    print(i)"
      ],
      "metadata": {
        "colab": {
          "base_uri": "https://localhost:8080/"
        },
        "outputId": "c6f4b9a8-a8bd-4069-ed2d-69f2017ac5e3",
        "id": "jQHkEz4fJcMk"
      },
      "execution_count": 72,
      "outputs": [
        {
          "output_type": "stream",
          "name": "stdout",
          "text": [
            "1\n",
            "2\n",
            "3\n",
            "4\n",
            "5\n",
            "6\n",
            "7\n",
            "9\n"
          ]
        }
      ]
    },
    {
      "cell_type": "code",
      "source": [
        "def palindrome(stre):\n",
        "  length = len(stre)\n",
        "  for i in range(0 , int(length / 2)):\n",
        "    if stre[i] != stre[length - 1 - i]:\n",
        "      return False\n",
        "  return True\n",
        "\n",
        "if __name__ == \"__main__\":\n",
        "  stre = input(\"Enter string\");\n",
        "  print(palindrome(stre))"
      ],
      "metadata": {
        "colab": {
          "base_uri": "https://localhost:8080/"
        },
        "id": "VwPv8y0WK9ri",
        "outputId": "ad200b6e-a893-4f5f-eb1d-0821018639e1"
      },
      "execution_count": 78,
      "outputs": [
        {
          "output_type": "stream",
          "name": "stdout",
          "text": [
            "Enter stringmadam\n",
            "True\n"
          ]
        }
      ]
    },
    {
      "cell_type": "code",
      "source": [
        "def Fibo(stre):\n",
        "  n1 = 0\n",
        "  n2 = 1\n",
        "  new = n1 + n2\n",
        "\n",
        "  print(0)\n",
        "  print(1)\n",
        "  for i in range(0 , stre):\n",
        "    print(new)\n",
        "    n1 = n2\n",
        "    n2 = new\n",
        "    new = n1 + n2\n",
        "\n",
        "\n",
        "if __name__ == \"__main__\":\n",
        "  stre = input(\"Enter Number\");\n",
        "  print(Fibo(int(stre)))"
      ],
      "metadata": {
        "colab": {
          "base_uri": "https://localhost:8080/"
        },
        "outputId": "fc98d534-e0cc-41a3-a517-224493e28711",
        "id": "dUzxoYsxMokp"
      },
      "execution_count": 81,
      "outputs": [
        {
          "output_type": "stream",
          "name": "stdout",
          "text": [
            "Enter Number7\n",
            "0\n",
            "1\n",
            "1\n",
            "2\n",
            "3\n",
            "5\n",
            "8\n",
            "13\n",
            "21\n",
            "None\n"
          ]
        }
      ]
    },
    {
      "cell_type": "code",
      "source": [
        "size = int(input(\"Enter size\"))\n",
        "list1 = []\n",
        "avg = 0\n",
        "for i in range(0,size):\n",
        "  i = input(\"Enter number\")\n",
        "  if int(i):\n",
        "    list1.append(int(i))\n",
        "    avg = avg + int(i)\n",
        "\n",
        "print(avg / size)"
      ],
      "metadata": {
        "colab": {
          "base_uri": "https://localhost:8080/"
        },
        "id": "oD3HdyYVNtmL",
        "outputId": "b5e54255-2988-48f4-aa93-98ca6a80dc12"
      },
      "execution_count": 84,
      "outputs": [
        {
          "output_type": "stream",
          "name": "stdout",
          "text": [
            "Enter size4\n",
            "Enter number2\n",
            "Enter number2\n",
            "Enter number2\n",
            "Enter number2\n",
            "2.0\n"
          ]
        }
      ]
    },
    {
      "cell_type": "code",
      "source": [
        "for i in range(1 , 11):\n",
        "  for j in range(1 , 11):\n",
        "    print(f\"{i} * {j} = {i * j}\")"
      ],
      "metadata": {
        "colab": {
          "base_uri": "https://localhost:8080/"
        },
        "id": "oTCLAGZtOu88",
        "outputId": "4082626d-d8ed-4de9-fac6-f78a0117524e"
      },
      "execution_count": 86,
      "outputs": [
        {
          "output_type": "stream",
          "name": "stdout",
          "text": [
            "1 * 1 = 1\n",
            "1 * 2 = 2\n",
            "1 * 3 = 3\n",
            "1 * 4 = 4\n",
            "1 * 5 = 5\n",
            "1 * 6 = 6\n",
            "1 * 7 = 7\n",
            "1 * 8 = 8\n",
            "1 * 9 = 9\n",
            "1 * 10 = 10\n",
            "2 * 1 = 2\n",
            "2 * 2 = 4\n",
            "2 * 3 = 6\n",
            "2 * 4 = 8\n",
            "2 * 5 = 10\n",
            "2 * 6 = 12\n",
            "2 * 7 = 14\n",
            "2 * 8 = 16\n",
            "2 * 9 = 18\n",
            "2 * 10 = 20\n",
            "3 * 1 = 3\n",
            "3 * 2 = 6\n",
            "3 * 3 = 9\n",
            "3 * 4 = 12\n",
            "3 * 5 = 15\n",
            "3 * 6 = 18\n",
            "3 * 7 = 21\n",
            "3 * 8 = 24\n",
            "3 * 9 = 27\n",
            "3 * 10 = 30\n",
            "4 * 1 = 4\n",
            "4 * 2 = 8\n",
            "4 * 3 = 12\n",
            "4 * 4 = 16\n",
            "4 * 5 = 20\n",
            "4 * 6 = 24\n",
            "4 * 7 = 28\n",
            "4 * 8 = 32\n",
            "4 * 9 = 36\n",
            "4 * 10 = 40\n",
            "5 * 1 = 5\n",
            "5 * 2 = 10\n",
            "5 * 3 = 15\n",
            "5 * 4 = 20\n",
            "5 * 5 = 25\n",
            "5 * 6 = 30\n",
            "5 * 7 = 35\n",
            "5 * 8 = 40\n",
            "5 * 9 = 45\n",
            "5 * 10 = 50\n",
            "6 * 1 = 6\n",
            "6 * 2 = 12\n",
            "6 * 3 = 18\n",
            "6 * 4 = 24\n",
            "6 * 5 = 30\n",
            "6 * 6 = 36\n",
            "6 * 7 = 42\n",
            "6 * 8 = 48\n",
            "6 * 9 = 54\n",
            "6 * 10 = 60\n",
            "7 * 1 = 7\n",
            "7 * 2 = 14\n",
            "7 * 3 = 21\n",
            "7 * 4 = 28\n",
            "7 * 5 = 35\n",
            "7 * 6 = 42\n",
            "7 * 7 = 49\n",
            "7 * 8 = 56\n",
            "7 * 9 = 63\n",
            "7 * 10 = 70\n",
            "8 * 1 = 8\n",
            "8 * 2 = 16\n",
            "8 * 3 = 24\n",
            "8 * 4 = 32\n",
            "8 * 5 = 40\n",
            "8 * 6 = 48\n",
            "8 * 7 = 56\n",
            "8 * 8 = 64\n",
            "8 * 9 = 72\n",
            "8 * 10 = 80\n",
            "9 * 1 = 9\n",
            "9 * 2 = 18\n",
            "9 * 3 = 27\n",
            "9 * 4 = 36\n",
            "9 * 5 = 45\n",
            "9 * 6 = 54\n",
            "9 * 7 = 63\n",
            "9 * 8 = 72\n",
            "9 * 9 = 81\n",
            "9 * 10 = 90\n",
            "10 * 1 = 10\n",
            "10 * 2 = 20\n",
            "10 * 3 = 30\n",
            "10 * 4 = 40\n",
            "10 * 5 = 50\n",
            "10 * 6 = 60\n",
            "10 * 7 = 70\n",
            "10 * 8 = 80\n",
            "10 * 9 = 90\n",
            "10 * 10 = 100\n"
          ]
        }
      ]
    },
    {
      "cell_type": "code",
      "source": [
        "\n",
        "user_credentials = {}\n",
        "def register():\n",
        "\n",
        "    print(\"\\n--- Register ---\")\n",
        "    username = input(\"Enter a username: \")\n",
        "    if username in user_credentials:\n",
        "        print(\"Username already exists. Please try a different one.\")\n",
        "        return\n",
        "    password = input(\"Enter a password: \")\n",
        "    user_credentials[username] = password\n",
        "    print(\"Registration successful!\")\n",
        "\n",
        "def login():\n",
        "\n",
        "    print(\"\\n--- Login ---\")\n",
        "    username = input(\"Enter your username: \")\n",
        "    if username not in user_credentials:\n",
        "        print(\"Username not found. Please register first.\")\n",
        "        return\n",
        "    password = input(\"Enter your password: \")\n",
        "    if user_credentials[username] == password:\n",
        "        print(\"Login successful! Welcome back!\")\n",
        "    else:\n",
        "        print(\"Incorrect password. Please try again.\")\n",
        "\n",
        "def main():\n",
        "    while True:\n",
        "        print(\"\\n--- User Registration and Login System ---\")\n",
        "        print(\"1. Register\")\n",
        "        print(\"2. Login\")\n",
        "        print(\"3. Exit\")\n",
        "        choice = input(\"Enter your choice (1/2/3): \")\n",
        "\n",
        "        if choice == \"1\":\n",
        "            register()\n",
        "        elif choice == \"2\":\n",
        "            login()\n",
        "        elif choice == \"3\":\n",
        "            print(\"Exiting the system. Goodbye!\")\n",
        "            break\n",
        "        else:\n",
        "            print(\"Invalid choice. Please try again.\")\n",
        "\n",
        "\n",
        "main()"
      ],
      "metadata": {
        "colab": {
          "base_uri": "https://localhost:8080/"
        },
        "id": "sMuLbRZnOu7S",
        "outputId": "e6e58b80-a8c5-474d-af7e-3858536d1d71"
      },
      "execution_count": 89,
      "outputs": [
        {
          "output_type": "stream",
          "name": "stdout",
          "text": [
            "\n",
            "--- User Registration and Login System ---\n",
            "1. Register\n",
            "2. Login\n",
            "3. Exit\n",
            "Enter your choice (1/2/3): 1\n",
            "\n",
            "--- Register ---\n",
            "Enter a username: awas\n",
            "Enter a password: 123\n",
            "Registration successful!\n",
            "\n",
            "--- User Registration and Login System ---\n",
            "1. Register\n",
            "2. Login\n",
            "3. Exit\n",
            "Enter your choice (1/2/3): 3\n",
            "Exiting the system. Goodbye!\n"
          ]
        }
      ]
    },
    {
      "cell_type": "code",
      "source": [
        "\n",
        "\n",
        "def count_word_frequencies():\n",
        "\n",
        "    user_input = input(\"Enter a list of words separated by spaces: \")\n",
        "\n",
        "    words = user_input.split()\n",
        "\n",
        "\n",
        "    word_frequencies = {}\n",
        "\n",
        "    for word in words:\n",
        "\n",
        "        word_frequencies[word] = word_frequencies.get(word, 0) + 1\n",
        "\n",
        "\n",
        "    print(\"\\nWord Frequencies:\")\n",
        "    for word, count in word_frequencies.items():\n",
        "        print(f\"{word}: {count}\")\n",
        "\n",
        "count_word_frequencies()"
      ],
      "metadata": {
        "colab": {
          "base_uri": "https://localhost:8080/"
        },
        "id": "yHg01wWJQVZo",
        "outputId": "b5ee55a3-a96e-41a8-862d-b25679d89d5c"
      },
      "execution_count": 90,
      "outputs": [
        {
          "output_type": "stream",
          "name": "stdout",
          "text": [
            "Enter a list of words separated by spaces: a b c f d d \n",
            "\n",
            "Word Frequencies:\n",
            "a: 1\n",
            "b: 1\n",
            "c: 1\n",
            "f: 1\n",
            "d: 2\n"
          ]
        }
      ]
    },
    {
      "cell_type": "code",
      "source": [
        "def temperature_converter():\n",
        "    print(\"Temperature Converter\")\n",
        "    print(\"1. Convert Celsius to Fahrenheit\")\n",
        "    print(\"2. Convert Fahrenheit to Celsius\")\n",
        "\n",
        "\n",
        "    choice = input(\"Enter your choice (1 or 2): \")\n",
        "\n",
        "    if choice == \"1\":\n",
        "        celsius = float(input(\"Enter temperature in Celsius: \"))\n",
        "        fahrenheit = (celsius * 9 / 5) + 32\n",
        "        print(f\"{celsius}°C is equal to {fahrenheit:.2f}°F\")\n",
        "    elif choice == \"2\":\n",
        "        fahrenheit = float(input(\"Enter temperature in Fahrenheit: \"))\n",
        "        celsius = (fahrenheit - 32) * 5 / 9\n",
        "        print(f\"{fahrenheit}°F is equal to {celsius:.2f}°C\")\n",
        "    else:\n",
        "        print(\"Invalid choice. Please enter 1 or 2.\")\n",
        "\n",
        "\n",
        "temperature_converter()"
      ],
      "metadata": {
        "colab": {
          "base_uri": "https://localhost:8080/"
        },
        "id": "umzItdfWQyL0",
        "outputId": "268fda50-4086-4c71-d371-f201ed0dc8a9"
      },
      "execution_count": 91,
      "outputs": [
        {
          "output_type": "stream",
          "name": "stdout",
          "text": [
            "Temperature Converter\n",
            "1. Convert Celsius to Fahrenheit\n",
            "2. Convert Fahrenheit to Celsius\n",
            "Enter your choice (1 or 2): 1\n",
            "Enter temperature in Celsius: 43\n",
            "43.0°C is equal to 109.40°F\n"
          ]
        }
      ]
    }
  ]
}