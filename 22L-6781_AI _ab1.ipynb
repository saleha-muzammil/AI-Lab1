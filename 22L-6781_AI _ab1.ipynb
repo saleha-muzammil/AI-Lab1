{
  "nbformat": 4,
  "nbformat_minor": 0,
  "metadata": {
    "colab": {
      "provenance": []
    },
    "kernelspec": {
      "name": "python3",
      "display_name": "Python 3"
    },
    "language_info": {
      "name": "python"
    }
  },
  "cells": [
    {
      "cell_type": "code",
      "execution_count": null,
      "metadata": {
        "id": "TLs42uxwBvHP"
      },
      "outputs": [],
      "source": [
        "name=input('whats your name')\n",
        "age=input('whats your age')\n",
        "\n",
        "print(\"username: \",name)\n",
        "print(\"age: \",age)"
      ]
    },
    {
      "cell_type": "code",
      "source": [
        "def get_type(input_data):\n",
        "      return type(eval(input_data))\n",
        "\n",
        "res=input('enter input')\n",
        "output=get_type(res)\n",
        "print(output)"
      ],
      "metadata": {
        "colab": {
          "base_uri": "https://localhost:8080/"
        },
        "id": "ILdSWWn7DNJd",
        "outputId": "f638ec21-39a3-41f1-da59-b0f21f2b6b0c"
      },
      "execution_count": null,
      "outputs": [
        {
          "output_type": "stream",
          "name": "stdout",
          "text": [
            "enter input78.9\n",
            "<class 'float'>\n"
          ]
        }
      ]
    },
    {
      "cell_type": "code",
      "source": [
        "list1=[\"saqib\",\"ali\"]\n",
        "list1.append(\"austin\")\n",
        "list1.remove(\"ali\")\n",
        "\n",
        "for i in list1:\n",
        "  i=i.upper\n",
        "\n",
        "print(list1)"
      ],
      "metadata": {
        "colab": {
          "base_uri": "https://localhost:8080/"
        },
        "id": "bylUffStHBmw",
        "outputId": "294f9a08-37f8-42ed-e56a-94e564ee6978"
      },
      "execution_count": null,
      "outputs": [
        {
          "output_type": "stream",
          "name": "stdout",
          "text": [
            "['saqib', 'austin']\n"
          ]
        }
      ]
    },
    {
      "cell_type": "code",
      "source": [
        "touple1=(\"saqib\",\"ali\",\"steve\",\"austin\")\n",
        "(first,second,*third)=touple1\n",
        "\n",
        "print(\"first element is: \",first)\n",
        "print(\"second element is: \",second)"
      ],
      "metadata": {
        "colab": {
          "base_uri": "https://localhost:8080/"
        },
        "id": "JGphoL8rJOtb",
        "outputId": "01a9e3cb-d952-4c19-9757-08a8b8a638b8"
      },
      "execution_count": 27,
      "outputs": [
        {
          "output_type": "stream",
          "name": "stdout",
          "text": [
            "first element is:  saqib\n",
            "second element is:  ali\n"
          ]
        }
      ]
    },
    {
      "cell_type": "code",
      "source": [
        "StudentGrades = {\n",
        "    \"Alice\": [85, 90, 88],\n",
        "    \"Bob\": [92, 89, 93],\n",
        "    \"Charlie\": [88, 91, 87],\n",
        "    \"David\": [74, 70, 79],\n",
        "    \"Eve\": [91, 95, 89]\n",
        "}\n",
        "print(StudentGrades)"
      ],
      "metadata": {
        "colab": {
          "base_uri": "https://localhost:8080/"
        },
        "id": "8YPQYZaTUpEv",
        "outputId": "c84f23a0-d7c0-4936-a7f9-6f3dc6af9480"
      },
      "execution_count": 28,
      "outputs": [
        {
          "output_type": "stream",
          "name": "stdout",
          "text": [
            "{'Alice': [85, 90, 88], 'Bob': [92, 89, 93], 'Charlie': [88, 91, 87], 'David': [74, 70, 79], 'Eve': [91, 95, 89]}\n"
          ]
        }
      ]
    },
    {
      "cell_type": "code",
      "source": [
        "list1=[]\n",
        "list1=input(\"enter first list\")\n",
        "list2=[]\n",
        "list2=input(\"enter second list\")\n",
        "\n",
        "list1=set(list1)\n",
        "list2=set(list2)\n",
        "\n",
        "print(\"list1: \",list1)\n",
        "print(\"list2: \",list2)\n",
        "\n",
        "union=list1|list2\n",
        "print(\"union: \",union)\n",
        "\n",
        "diff=list1 - list2\n",
        "print(\"difference: \",diff)\n",
        "\n",
        "inter=list1 & list2\n",
        "print(\"intersection: \",inter)"
      ],
      "metadata": {
        "colab": {
          "base_uri": "https://localhost:8080/"
        },
        "id": "-j6z9IffeaA4",
        "outputId": "61413104-5d72-4eab-acb5-21e65419aa0d"
      },
      "execution_count": 40,
      "outputs": [
        {
          "output_type": "stream",
          "name": "stdout",
          "text": [
            "enter first list2,3,4,5\n",
            "enter second list3,4,6\n",
            "list1:  {',', '5', '2', '3', '4'}\n",
            "list2:  {'4', ',', '3', '6'}\n",
            "union:  {',', '5', '6', '2', '3', '4'}\n",
            "difference:  {'5', '2'}\n",
            "intersection:  {'3', ',', '4'}\n"
          ]
        }
      ]
    },
    {
      "cell_type": "code",
      "source": [
        "num=input(\"enter a number\")\n",
        "num=float(num)\n",
        "if num==0:\n",
        "  print(\"number is zero\")\n",
        "elif num > 0:\n",
        "  print(\"number is positive\")\n",
        "else:\n",
        "  print(\"number is negative\")\n",
        "if num%2==0:\n",
        "  print(\"number is even\")\n",
        "else:\n",
        "  print(\"number is odd\")"
      ],
      "metadata": {
        "colab": {
          "base_uri": "https://localhost:8080/"
        },
        "id": "mPDSYWPFx4y1",
        "outputId": "87ae434c-cb9e-46c8-ed24-ea261319c85a"
      },
      "execution_count": 46,
      "outputs": [
        {
          "output_type": "stream",
          "name": "stdout",
          "text": [
            "enter a number-89.4\n",
            "number is negative\n",
            "number is odd\n"
          ]
        }
      ]
    },
    {
      "cell_type": "code",
      "source": [
        "i=1\n",
        "while i!=101:\n",
        "  if (i%3==0 and i%5==0):\n",
        "    print(\"FizzBuzz \")\n",
        "  if i%3==0 :\n",
        "    print(\"Fizz \")\n",
        "  if i%5==0:\n",
        "    print(\"Buzz \")\n",
        "  else:\n",
        "    print(i)\n",
        "  i=i+1"
      ],
      "metadata": {
        "colab": {
          "base_uri": "https://localhost:8080/"
        },
        "collapsed": true,
        "id": "JhHT6wmvzgX0",
        "outputId": "4897247b-2489-4e6c-f218-e00f72d2f73b"
      },
      "execution_count": 3,
      "outputs": [
        {
          "output_type": "stream",
          "name": "stdout",
          "text": [
            "1\n",
            "2\n",
            "Fizz \n",
            "3\n",
            "4\n",
            "Buzz \n",
            "Fizz \n",
            "6\n",
            "7\n",
            "8\n",
            "Fizz \n",
            "9\n",
            "Buzz \n",
            "11\n",
            "Fizz \n",
            "12\n",
            "13\n",
            "14\n",
            "FizzBuzz \n",
            "Fizz \n",
            "Buzz \n",
            "16\n",
            "17\n",
            "Fizz \n",
            "18\n",
            "19\n",
            "Buzz \n",
            "Fizz \n",
            "21\n",
            "22\n",
            "23\n",
            "Fizz \n",
            "24\n",
            "Buzz \n",
            "26\n",
            "Fizz \n",
            "27\n",
            "28\n",
            "29\n",
            "FizzBuzz \n",
            "Fizz \n",
            "Buzz \n",
            "31\n",
            "32\n",
            "Fizz \n",
            "33\n",
            "34\n",
            "Buzz \n",
            "Fizz \n",
            "36\n",
            "37\n",
            "38\n",
            "Fizz \n",
            "39\n",
            "Buzz \n",
            "41\n",
            "Fizz \n",
            "42\n",
            "43\n",
            "44\n",
            "FizzBuzz \n",
            "Fizz \n",
            "Buzz \n",
            "46\n",
            "47\n",
            "Fizz \n",
            "48\n",
            "49\n",
            "Buzz \n",
            "Fizz \n",
            "51\n",
            "52\n",
            "53\n",
            "Fizz \n",
            "54\n",
            "Buzz \n",
            "56\n",
            "Fizz \n",
            "57\n",
            "58\n",
            "59\n",
            "FizzBuzz \n",
            "Fizz \n",
            "Buzz \n",
            "61\n",
            "62\n",
            "Fizz \n",
            "63\n",
            "64\n",
            "Buzz \n",
            "Fizz \n",
            "66\n",
            "67\n",
            "68\n",
            "Fizz \n",
            "69\n",
            "Buzz \n",
            "71\n",
            "Fizz \n",
            "72\n",
            "73\n",
            "74\n",
            "FizzBuzz \n",
            "Fizz \n",
            "Buzz \n",
            "76\n",
            "77\n",
            "Fizz \n",
            "78\n",
            "79\n",
            "Buzz \n",
            "Fizz \n",
            "81\n",
            "82\n",
            "83\n",
            "Fizz \n",
            "84\n",
            "Buzz \n",
            "86\n",
            "Fizz \n",
            "87\n",
            "88\n",
            "89\n",
            "FizzBuzz \n",
            "Fizz \n",
            "Buzz \n",
            "91\n",
            "92\n",
            "Fizz \n",
            "93\n",
            "94\n",
            "Buzz \n",
            "Fizz \n",
            "96\n",
            "97\n",
            "98\n",
            "Fizz \n",
            "99\n",
            "Buzz \n"
          ]
        }
      ]
    },
    {
      "cell_type": "code",
      "source": [
        "#9\n",
        "n=input()\n",
        "n=int(n)\n",
        "i=1\n",
        "fact=1\n",
        "while i<=n:\n",
        "  fact=fact*i\n",
        "  i=i+1\n",
        "print(\"factorial: \",fact)"
      ],
      "metadata": {
        "colab": {
          "base_uri": "https://localhost:8080/"
        },
        "id": "dbvxPquk1O0q",
        "outputId": "c9f4ee36-f6b9-4848-d9a5-8138f2b27db0"
      },
      "execution_count": 11,
      "outputs": [
        {
          "output_type": "stream",
          "name": "stdout",
          "text": [
            "6\n",
            "factorial:  720\n"
          ]
        }
      ]
    },
    {
      "cell_type": "code",
      "source": [
        "#10\n",
        "flag=0\n",
        "n=input()\n",
        "n=int(n)\n",
        "i=2\n",
        "\n",
        "while i<=n:\n",
        "  if n%i==0:\n",
        "    flag=flag+1\n",
        "    if flag>1:\n",
        "      break\n",
        "  i=i+1\n",
        "if flag==1:\n",
        "  print(\"number is prime\")\n",
        "else:\n",
        "  print(\"number is not a prime\")"
      ],
      "metadata": {
        "colab": {
          "base_uri": "https://localhost:8080/"
        },
        "id": "W91M32zp-aOe",
        "outputId": "9760013d-1f53-49b0-cc14-0ebcc6fbe633"
      },
      "execution_count": 17,
      "outputs": [
        {
          "output_type": "stream",
          "name": "stdout",
          "text": [
            "15\n",
            "number is not a prime\n"
          ]
        }
      ]
    },
    {
      "cell_type": "code",
      "source": [
        "#11\n",
        "list1=['3','5','12','67']\n",
        "list2=[]\n",
        "\n",
        "for i in list1:\n",
        "  j=int(i)\n",
        "  num=j*j\n",
        "  list2.append(num)\n",
        "print(list2)"
      ],
      "metadata": {
        "colab": {
          "base_uri": "https://localhost:8080/"
        },
        "id": "y1JuKodn_Y2d",
        "outputId": "19eca026-a164-49fb-dc71-115075eecad9"
      },
      "execution_count": 27,
      "outputs": [
        {
          "output_type": "stream",
          "name": "stdout",
          "text": [
            "[9, 25, 144, 4489]\n"
          ]
        }
      ]
    },
    {
      "cell_type": "code",
      "source": [
        "#12\n",
        "d1 = {'x': 1, 'y': 2}\n",
        "d2 = {'y': 3, 'z': 4}\n",
        "\n",
        "d1.update(d2)\n",
        "print(d1)"
      ],
      "metadata": {
        "colab": {
          "base_uri": "https://localhost:8080/"
        },
        "id": "j32njmfnA6Uc",
        "outputId": "c801aadc-e0ec-4d66-ce55-f1592d0695ad"
      },
      "execution_count": 28,
      "outputs": [
        {
          "output_type": "stream",
          "name": "stdout",
          "text": [
            "{'x': 1, 'y': 3, 'z': 4}\n"
          ]
        }
      ]
    },
    {
      "cell_type": "code",
      "source": [
        "#13\n",
        "my_list = [4,1, 2, 2, 3, 4, 4, 5]\n",
        "unique_list = []\n",
        "for item in my_list:\n",
        "    if item not in unique_list:\n",
        "        unique_list.append(item)\n",
        "print(unique_list)"
      ],
      "metadata": {
        "colab": {
          "base_uri": "https://localhost:8080/"
        },
        "id": "TbPr7ho3BRyn",
        "outputId": "7475367d-e3fb-4c89-f9a8-a86563f0a4d3"
      },
      "execution_count": 31,
      "outputs": [
        {
          "output_type": "stream",
          "name": "stdout",
          "text": [
            "[4, 1, 2, 3, 5]\n"
          ]
        }
      ]
    },
    {
      "cell_type": "code",
      "source": [
        "#14\n",
        "str=\"mada M\"\n",
        "str=str.replace(\" \",\"\").lower()\n",
        "if str==str[::-1]:\n",
        "  print(\"string is palindrome\")\n",
        "else:\n",
        "  print(\"string is not palindrome\")"
      ],
      "metadata": {
        "colab": {
          "base_uri": "https://localhost:8080/"
        },
        "id": "XaGqh2z8DvtV",
        "outputId": "ace298b6-94c9-496b-e578-6e5724face31"
      },
      "execution_count": 34,
      "outputs": [
        {
          "output_type": "stream",
          "name": "stdout",
          "text": [
            "string is palindrome\n"
          ]
        }
      ]
    },
    {
      "cell_type": "code",
      "source": [
        "#15\n",
        "n=input()\n",
        "n=int(n)\n",
        "n=n-1\n",
        "i=0\n",
        "j=1\n",
        "print(i)\n",
        "print(j)\n",
        "while n>0:\n",
        "  m=i+j\n",
        "  print(m)\n",
        "  i=j\n",
        "  j=m\n",
        "  n=n-1"
      ],
      "metadata": {
        "colab": {
          "base_uri": "https://localhost:8080/"
        },
        "id": "BE4lI9xIGBHa",
        "outputId": "b2119c1b-f9ed-4f25-fc05-1bfaab669ea1"
      },
      "execution_count": 40,
      "outputs": [
        {
          "output_type": "stream",
          "name": "stdout",
          "text": [
            "10\n",
            "0\n",
            "1\n",
            "1\n",
            "2\n",
            "3\n",
            "5\n",
            "8\n",
            "13\n",
            "21\n",
            "34\n",
            "55\n"
          ]
        }
      ]
    },
    {
      "cell_type": "code",
      "source": [
        "#16\n",
        "def get_numbers():\n",
        "    numbers = input(\"Enter a series of numbers separated by spaces: \").split()\n",
        "    numbers2 = []\n",
        "\n",
        "    for num in numbers:\n",
        "      numbers2.append(float(num))\n",
        "\n",
        "    return numbers2\n",
        "\n",
        "def calculate_average(numbers):\n",
        "    if len(numbers) == 0:\n",
        "        return None\n",
        "    return sum(numbers) / len(numbers)\n",
        "\n",
        "numbers = get_numbers()\n",
        "\n",
        "if numbers:\n",
        "    average = calculate_average(numbers)\n",
        "    print(f\"The average of the valid numbers is: {average}\")\n",
        "else:\n",
        "    print(\"No valid numbers were entered.\")\n"
      ],
      "metadata": {
        "colab": {
          "base_uri": "https://localhost:8080/"
        },
        "id": "Ukp8UDtOHfe-",
        "outputId": "e6c80a36-33f0-489b-8ee0-ac968ccccf05"
      },
      "execution_count": 41,
      "outputs": [
        {
          "output_type": "stream",
          "name": "stdout",
          "text": [
            "Enter a series of numbers separated by spaces: 3 4 6 7\n",
            "The average of the valid numbers is: 5.0\n"
          ]
        }
      ]
    },
    {
      "cell_type": "code",
      "source": [
        "#17\n",
        "for i in range(1,11):\n",
        "  print(\"\\ntable of \",i,\"\\n\")\n",
        "  for j in range(1,11):\n",
        "    print(i,\" x \",j,\" = \",i*j)"
      ],
      "metadata": {
        "colab": {
          "base_uri": "https://localhost:8080/"
        },
        "collapsed": true,
        "id": "RMXYqEKeInA3",
        "outputId": "09da82b4-d79f-4ac2-e2a2-4d691ad59389"
      },
      "execution_count": 44,
      "outputs": [
        {
          "output_type": "stream",
          "name": "stdout",
          "text": [
            "\n",
            "table of  1 \n",
            "\n",
            "1  x  1  =  1\n",
            "1  x  2  =  2\n",
            "1  x  3  =  3\n",
            "1  x  4  =  4\n",
            "1  x  5  =  5\n",
            "1  x  6  =  6\n",
            "1  x  7  =  7\n",
            "1  x  8  =  8\n",
            "1  x  9  =  9\n",
            "1  x  10  =  10\n",
            "\n",
            "table of  2 \n",
            "\n",
            "2  x  1  =  2\n",
            "2  x  2  =  4\n",
            "2  x  3  =  6\n",
            "2  x  4  =  8\n",
            "2  x  5  =  10\n",
            "2  x  6  =  12\n",
            "2  x  7  =  14\n",
            "2  x  8  =  16\n",
            "2  x  9  =  18\n",
            "2  x  10  =  20\n",
            "\n",
            "table of  3 \n",
            "\n",
            "3  x  1  =  3\n",
            "3  x  2  =  6\n",
            "3  x  3  =  9\n",
            "3  x  4  =  12\n",
            "3  x  5  =  15\n",
            "3  x  6  =  18\n",
            "3  x  7  =  21\n",
            "3  x  8  =  24\n",
            "3  x  9  =  27\n",
            "3  x  10  =  30\n",
            "\n",
            "table of  4 \n",
            "\n",
            "4  x  1  =  4\n",
            "4  x  2  =  8\n",
            "4  x  3  =  12\n",
            "4  x  4  =  16\n",
            "4  x  5  =  20\n",
            "4  x  6  =  24\n",
            "4  x  7  =  28\n",
            "4  x  8  =  32\n",
            "4  x  9  =  36\n",
            "4  x  10  =  40\n",
            "\n",
            "table of  5 \n",
            "\n",
            "5  x  1  =  5\n",
            "5  x  2  =  10\n",
            "5  x  3  =  15\n",
            "5  x  4  =  20\n",
            "5  x  5  =  25\n",
            "5  x  6  =  30\n",
            "5  x  7  =  35\n",
            "5  x  8  =  40\n",
            "5  x  9  =  45\n",
            "5  x  10  =  50\n",
            "\n",
            "table of  6 \n",
            "\n",
            "6  x  1  =  6\n",
            "6  x  2  =  12\n",
            "6  x  3  =  18\n",
            "6  x  4  =  24\n",
            "6  x  5  =  30\n",
            "6  x  6  =  36\n",
            "6  x  7  =  42\n",
            "6  x  8  =  48\n",
            "6  x  9  =  54\n",
            "6  x  10  =  60\n",
            "\n",
            "table of  7 \n",
            "\n",
            "7  x  1  =  7\n",
            "7  x  2  =  14\n",
            "7  x  3  =  21\n",
            "7  x  4  =  28\n",
            "7  x  5  =  35\n",
            "7  x  6  =  42\n",
            "7  x  7  =  49\n",
            "7  x  8  =  56\n",
            "7  x  9  =  63\n",
            "7  x  10  =  70\n",
            "\n",
            "table of  8 \n",
            "\n",
            "8  x  1  =  8\n",
            "8  x  2  =  16\n",
            "8  x  3  =  24\n",
            "8  x  4  =  32\n",
            "8  x  5  =  40\n",
            "8  x  6  =  48\n",
            "8  x  7  =  56\n",
            "8  x  8  =  64\n",
            "8  x  9  =  72\n",
            "8  x  10  =  80\n",
            "\n",
            "table of  9 \n",
            "\n",
            "9  x  1  =  9\n",
            "9  x  2  =  18\n",
            "9  x  3  =  27\n",
            "9  x  4  =  36\n",
            "9  x  5  =  45\n",
            "9  x  6  =  54\n",
            "9  x  7  =  63\n",
            "9  x  8  =  72\n",
            "9  x  9  =  81\n",
            "9  x  10  =  90\n",
            "\n",
            "table of  10 \n",
            "\n",
            "10  x  1  =  10\n",
            "10  x  2  =  20\n",
            "10  x  3  =  30\n",
            "10  x  4  =  40\n",
            "10  x  5  =  50\n",
            "10  x  6  =  60\n",
            "10  x  7  =  70\n",
            "10  x  8  =  80\n",
            "10  x  9  =  90\n",
            "10  x  10  =  100\n"
          ]
        }
      ]
    },
    {
      "cell_type": "code",
      "source": [
        "#18\n",
        "register = { \"username\":[] , \"email\":[], \"password\":[],}\n",
        "u=input(\"enter username: \")\n",
        "e=input(\"enter email: \")\n",
        "p=input(\"enter password: \")\n",
        "register[\"username\"].append(u)\n",
        "register[\"email\"].append(e)\n",
        "register[\"password\"].append(p)\n",
        "\n",
        "print(register)"
      ],
      "metadata": {
        "colab": {
          "base_uri": "https://localhost:8080/"
        },
        "id": "JGKl79KpJpTj",
        "outputId": "5859bbcb-4f85-49a3-f7b0-3878905d21ae"
      },
      "execution_count": 46,
      "outputs": [
        {
          "output_type": "stream",
          "name": "stdout",
          "text": [
            "enter username: fd\n",
            "enter email: sdfsd\n",
            "enter password: sfdsdf\n",
            "{'username': ['fd'], 'email': ['sdfsd'], 'password': ['sfdsdf']}\n"
          ]
        }
      ]
    },
    {
      "cell_type": "code",
      "source": [
        "#19\n",
        "words = input(\"Enter a list of words separated by spaces: \").split()\n",
        "word_frequency = {}\n",
        "\n",
        "for word in words:\n",
        "    if word in word_frequency:\n",
        "        word_frequency[word] += 1\n",
        "    else:\n",
        "        word_frequency[word] = 1\n",
        "\n",
        "print(\"Word frequencies:\")\n",
        "for word, frequency in word_frequency.items():\n",
        "    print(f\"'{word}': {frequency}\")\n",
        "\n"
      ],
      "metadata": {
        "colab": {
          "base_uri": "https://localhost:8080/"
        },
        "id": "S1kFp4PAP1aR",
        "outputId": "0c36f372-2379-4ffd-c0f8-54815cdc9c2d"
      },
      "execution_count": 49,
      "outputs": [
        {
          "output_type": "stream",
          "name": "stdout",
          "text": [
            "Enter a list of words separated by spaces: a x a v c v \n",
            "Word frequencies:\n",
            "'a': 2\n",
            "'x': 1\n",
            "'v': 2\n",
            "'c': 1\n"
          ]
        }
      ]
    },
    {
      "cell_type": "code",
      "source": [
        "#20\n",
        "num=input(\"enter 'a' for celcius->farenheit & 'b' for farenheit->celcius\")\n",
        "if num=='a':\n",
        "  c=input(\"enter celcius temperature: \")\n",
        "  c=float(c)\n",
        "  f=c*(9/5)+32\n",
        "  print(\"farenheit temperature is: \",f)\n",
        "elif num=='b':\n",
        "  f1=input(\"enter farenheit temperature: \")\n",
        "  f1=float(f1)\n",
        "  c1=(f1-32)*5/9\n",
        "  print(\"celcius temperature is: \",c1)\n",
        "else:\n",
        "  print(\"wrong choice\")"
      ],
      "metadata": {
        "colab": {
          "base_uri": "https://localhost:8080/"
        },
        "id": "wc2wZduaSmQ0",
        "outputId": "48f0e658-efdd-4d82-a7db-b2736463e0d2"
      },
      "execution_count": 55,
      "outputs": [
        {
          "output_type": "stream",
          "name": "stdout",
          "text": [
            "enter 'a' for celcius->farenheit & 'b' for farenheit->celciusb\n",
            "enter farenheit temperature: 113.8\n",
            "celcius temperature is:  45.44444444444444\n"
          ]
        }
      ]
    }
  ]
}