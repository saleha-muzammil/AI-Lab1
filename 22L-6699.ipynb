{
  "nbformat": 4,
  "nbformat_minor": 0,
  "metadata": {
    "colab": {
      "provenance": []
    },
    "kernelspec": {
      "name": "python3",
      "display_name": "Python 3"
    },
    "language_info": {
      "name": "python"
    }
  },
  "cells": [
    {
      "cell_type": "code",
      "execution_count": 6,
      "metadata": {
        "colab": {
          "base_uri": "https://localhost:8080/"
        },
        "id": "66Axu3XyxzWW",
        "outputId": "e94277ec-9982-4b18-c027-929de550df99"
      },
      "outputs": [
        {
          "output_type": "stream",
          "name": "stdout",
          "text": [
            "Enter your name: a\n",
            "Enter your age: 50\n",
            "Hello a,you are 50 years old!\n"
          ]
        }
      ],
      "source": [
        "name = input(\"Enter your name: \")\n",
        "age = int(input(\"Enter your age: \"))\n",
        "print(f\"Hello {name},you are {age} years old!\")"
      ]
    },
    {
      "cell_type": "code",
      "source": [
        "data = input(\"Enter: \")\n",
        "try:\n",
        "    data = int(data)\n",
        "    print(\"Integer\")\n",
        "except ValueError:\n",
        "    try:\n",
        "        data = float(data)\n",
        "        print(\"Float\")\n",
        "    except ValueError:\n",
        "        print(\"String\")"
      ],
      "metadata": {
        "colab": {
          "base_uri": "https://localhost:8080/"
        },
        "id": "gPOE_7If1lQ8",
        "outputId": "d6894707-0833-440b-8b54-9ea915e23939"
      },
      "execution_count": 3,
      "outputs": [
        {
          "output_type": "stream",
          "name": "stdout",
          "text": [
            "Enter: 1\n",
            "Integer\n"
          ]
        }
      ]
    },
    {
      "cell_type": "code",
      "source": [
        "data = [\"a\",\"b\",\"c\",\"d\",\"e\",\"f\"]\n",
        "data.append(\"g\")\n",
        "data.remove(\"b\")\n",
        "for word in data:\n",
        "    word=word.upper()\n",
        "    print(word,end=\" \")"
      ],
      "metadata": {
        "colab": {
          "base_uri": "https://localhost:8080/"
        },
        "id": "eKy77Ywe2sPL",
        "outputId": "71a217e7-86ca-43d7-c9d1-e246396cdf45"
      },
      "execution_count": 11,
      "outputs": [
        {
          "output_type": "stream",
          "name": "stdout",
          "text": [
            "A C D E F G "
          ]
        }
      ]
    },
    {
      "cell_type": "code",
      "source": [
        "t = (1,2,3,4,5,6)\n",
        "a=t[0]\n",
        "b=t[1]\n",
        "print(a,end=\"\")\n",
        "print(b,end=\"\")"
      ],
      "metadata": {
        "colab": {
          "base_uri": "https://localhost:8080/"
        },
        "id": "mB_ZzfKK3xDd",
        "outputId": "7c475f93-124f-42a5-fda4-98f135cbaa8d"
      },
      "execution_count": 13,
      "outputs": [
        {
          "output_type": "stream",
          "name": "stdout",
          "text": [
            "12"
          ]
        }
      ]
    },
    {
      "cell_type": "code",
      "source": [
        "dic={\n",
        "    \"Student1\":\"A\",\n",
        "        \"Student2\":\"B\",\n",
        "        \"Student3\":\"C\",\n",
        "        \"Student4\":\"D\",\n",
        "        \"Student5\":\"E\",\n",
        "}\n",
        "for key in dic:\n",
        "    print(f\"{key} : {dic[key]}\")\n"
      ],
      "metadata": {
        "colab": {
          "base_uri": "https://localhost:8080/"
        },
        "id": "zHnup8554I_7",
        "outputId": "a1877acf-5c1e-458a-a52c-3c0aeadc8a5a"
      },
      "execution_count": 15,
      "outputs": [
        {
          "output_type": "stream",
          "name": "stdout",
          "text": [
            "Student1 : A\n",
            "Student2 : B\n",
            "Student3 : C\n",
            "Student4 : D\n",
            "Student5 : E\n"
          ]
        }
      ]
    },
    {
      "cell_type": "code",
      "source": [
        "l1=[]\n",
        "l2=[]\n",
        "for i in range(5):\n",
        "  l1.append(input(\"Enter int for list 1: \"))\n",
        "for i in range(5):\n",
        "  l2.append(input(\"Enter int for list 2: \"))\n",
        "set1=set(l1)\n",
        "set2=set(l2)\n",
        "print(set1.intersection(set2))\n",
        "print(set1.union(set2))\n",
        "print(set1.difference(set2))\n",
        ""
      ],
      "metadata": {
        "colab": {
          "base_uri": "https://localhost:8080/"
        },
        "id": "babUTVzW4eww",
        "outputId": "70f67e82-eefe-48b1-df39-b783058f79c2"
      },
      "execution_count": 17,
      "outputs": [
        {
          "name": "stdout",
          "output_type": "stream",
          "text": [
            "Enter int for l1: 1\n",
            "Enter int for l1: 2\n",
            "Enter int for l1: 3\n",
            "Enter int for l1: 4\n",
            "Enter int for l1: 5\n",
            "Enter int for l1: 6\n",
            "Enter int for l1: 7\n",
            "Enter int for l1: 8\n",
            "Enter int for l1: 9\n",
            "Enter int for l1: 0\n"
          ]
        }
      ]
    },
    {
      "cell_type": "code",
      "source": [
        "num = input(\"Enter number: \")\n",
        "num=float(num)\n",
        "if num <0:\n",
        "  print(\"Negative\")\n",
        "elif num>0:\n",
        "  print(\"Positive\")\n",
        "else:\n",
        "  print(\"Zero\")\n",
        "\n",
        "if num%2==0:\n",
        "  print(\"Even\")\n",
        "else:\n",
        "  print(\"Odd\")"
      ],
      "metadata": {
        "colab": {
          "base_uri": "https://localhost:8080/"
        },
        "id": "CGGwX-yx5ztI",
        "outputId": "7ff7eb93-5ba0-4d2b-8efd-6f4d1aed5d6c"
      },
      "execution_count": 22,
      "outputs": [
        {
          "output_type": "stream",
          "name": "stdout",
          "text": [
            "Enter number: 2\n",
            "Positive\n",
            "Even\n"
          ]
        }
      ]
    },
    {
      "cell_type": "code",
      "source": [
        "for i in range(50):\n",
        "  if i%2 and i%5==0:\n",
        "    print(\"FizzBuzz\")\n",
        "  elif i%2==0:\n",
        "    print(\"Fizz\")\n",
        "  elif i%5==0:\n",
        "    print(\"Buzz\")"
      ],
      "metadata": {
        "colab": {
          "base_uri": "https://localhost:8080/"
        },
        "id": "6mhAWlcY6Pg-",
        "outputId": "f34c5a79-a8fe-4d9f-dbd4-0682315b331e"
      },
      "execution_count": 23,
      "outputs": [
        {
          "output_type": "stream",
          "name": "stdout",
          "text": [
            "Fizz\n",
            "Fizz\n",
            "Fizz\n",
            "FizzBuzz\n",
            "Fizz\n",
            "Fizz\n",
            "Fizz\n",
            "Fizz\n",
            "Fizz\n",
            "FizzBuzz\n",
            "Fizz\n",
            "Fizz\n",
            "Fizz\n",
            "Fizz\n",
            "Fizz\n",
            "FizzBuzz\n",
            "Fizz\n",
            "Fizz\n",
            "Fizz\n",
            "Fizz\n",
            "Fizz\n",
            "FizzBuzz\n",
            "Fizz\n",
            "Fizz\n",
            "Fizz\n",
            "Fizz\n",
            "Fizz\n",
            "FizzBuzz\n",
            "Fizz\n",
            "Fizz\n"
          ]
        }
      ]
    },
    {
      "cell_type": "code",
      "source": [
        "number = input(\"Enter non negative integer: \")\n",
        "number = int(number)\n",
        "factorial=1\n",
        "for i in range(1,number+1):\n",
        "  factorial*=i\n",
        "print(factorial)"
      ],
      "metadata": {
        "colab": {
          "base_uri": "https://localhost:8080/"
        },
        "id": "CUSgD13Y6cAM",
        "outputId": "a93d32f9-d162-4829-9103-bce8441474de"
      },
      "execution_count": 25,
      "outputs": [
        {
          "output_type": "stream",
          "name": "stdout",
          "text": [
            "Enter non negative integer: 5\n",
            "120\n"
          ]
        }
      ]
    },
    {
      "cell_type": "code",
      "source": [
        "number = input(\"Enter number: \")\n",
        "number = int(number)\n",
        "if(number<2):\n",
        "  print(\"Not prime\")\n",
        "else:\n",
        "  for i in range(2,number):\n",
        "    if number%i==0:\n",
        "      print(\"Not prime\")\n",
        "      break\n",
        "  else:\n",
        "    print(\"Prime\")"
      ],
      "metadata": {
        "colab": {
          "base_uri": "https://localhost:8080/"
        },
        "id": "pt4ZjHDB6v0g",
        "outputId": "2781b6b2-947b-4e75-aa45-4a1c9ee072ed"
      },
      "execution_count": 34,
      "outputs": [
        {
          "output_type": "stream",
          "name": "stdout",
          "text": [
            "Enter number: 15\n",
            "Not prime\n"
          ]
        }
      ]
    },
    {
      "cell_type": "code",
      "source": [
        "l = []\n",
        "for i in range(10):\n",
        "  l.append(int(input(\"Enter int: \")))\n",
        "l = [i**2 for i in l]\n",
        "print(l)"
      ],
      "metadata": {
        "colab": {
          "base_uri": "https://localhost:8080/"
        },
        "id": "Xsdkl_iR6-Ed",
        "outputId": "77b2e714-6b38-4c32-927d-29f33d4a0571"
      },
      "execution_count": 28,
      "outputs": [
        {
          "output_type": "stream",
          "name": "stdout",
          "text": [
            "Enter int: 1\n",
            "Enter int: 2\n",
            "Enter int: 3\n",
            "Enter int: 4\n",
            "Enter int: 5\n",
            "Enter int: 6\n",
            "Enter int: 7\n",
            "Enter int: 8\n",
            "Enter int: 9\n",
            "Enter int: 10\n",
            "[1, 4, 9, 16, 25, 36, 49, 64, 81, 100]\n"
          ]
        }
      ]
    },
    {
      "cell_type": "code",
      "source": [
        "dict1={\n",
        "    \"key1\":\"a\",\n",
        "        \"key2\":\"b\",\n",
        "        \"key3\":\"c\",\n",
        "        \"key4\":\"d\",\n",
        "        \"key5\":\"e\",\n",
        "}\n",
        "dict2={\n",
        "        \"key4\":\"f\",\n",
        "            \"key5\":\"g\",\n",
        "            \"key6\":\"h\",\n",
        "            \"key7\":\"i\",\n",
        "            \"key8\":\"j\",\n",
        "\n",
        "}\n",
        "dict1.update(dict2)\n",
        "print(dict1)"
      ],
      "metadata": {
        "colab": {
          "base_uri": "https://localhost:8080/"
        },
        "id": "pzpv9Jlw7W6D",
        "outputId": "33d0cf84-d642-4242-d2ff-950a071f5a13"
      },
      "execution_count": 29,
      "outputs": [
        {
          "output_type": "stream",
          "name": "stdout",
          "text": [
            "{'key1': 'a', 'key2': 'b', 'key3': 'c', 'key4': 'f', 'key5': 'g', 'key6': 'h', 'key7': 'i', 'key8': 'j'}\n"
          ]
        }
      ]
    },
    {
      "cell_type": "code",
      "source": [
        "l1=[1,1,2,3,4,5,6,7,7,8,9]\n",
        "dict1={}\n",
        "for i in l1:\n",
        "  if(dict1.get(i)):\n",
        "    l1.remove(i)\n",
        "  else:\n",
        "    dict1[i]=1\n",
        "print(l1)"
      ],
      "metadata": {
        "colab": {
          "base_uri": "https://localhost:8080/"
        },
        "id": "KR11YxkU79IE",
        "outputId": "d5447aae-36c1-49c0-97e9-4cc85808513b"
      },
      "execution_count": 36,
      "outputs": [
        {
          "output_type": "stream",
          "name": "stdout",
          "text": [
            "[1, 2, 3, 4, 5, 6, 7, 8, 9]\n"
          ]
        }
      ]
    },
    {
      "cell_type": "code",
      "source": [
        "IsPalindrome = (\n",
        " lambda x: (x.lower().replace(\" \",\"\")) == (x.lower().replace(\" \",\"\"))[::-1]\n",
        ")\n",
        "string=input(\"Enter string: \")\n",
        "if IsPalindrome(string):\n",
        "  print(\"Palindrome\")\n",
        "else:\n",
        "  print(\"Not palindrome\")"
      ],
      "metadata": {
        "colab": {
          "base_uri": "https://localhost:8080/"
        },
        "id": "iczv8MI88gd5",
        "outputId": "283afd13-ad56-48b5-9184-19f3e6b52601"
      },
      "execution_count": 66,
      "outputs": [
        {
          "output_type": "stream",
          "name": "stdout",
          "text": [
            "Enter string: RaceCar\n",
            "Palindrome\n"
          ]
        }
      ]
    },
    {
      "cell_type": "code",
      "source": [
        "n = int(input(\"Enter n: \"))\n",
        "a=1\n",
        "b=1\n",
        "if(n==1):\n",
        "  print(a)\n",
        "elif(n==2):\n",
        "  print(a,b)\n",
        "else:\n",
        "  print(a,b,end=\" \")\n",
        "  for i in range(n-2):\n",
        "    c=a+b\n",
        "    print(c,end=\" \")\n",
        "    a=b\n",
        "    b=c"
      ],
      "metadata": {
        "colab": {
          "base_uri": "https://localhost:8080/"
        },
        "id": "CmT3lzT583x0",
        "outputId": "86f83a45-2f18-4e45-f490-1fa0f3b4f44e"
      },
      "execution_count": 44,
      "outputs": [
        {
          "output_type": "stream",
          "name": "stdout",
          "text": [
            "Enter n: 10\n",
            "1 1 2 3 5 8 13 21 34 55 "
          ]
        }
      ]
    },
    {
      "cell_type": "code",
      "source": [
        "l1=[]\n",
        "for i in range(5):\n",
        "  l1.append(int(input(\"Enter int: \")))\n",
        "avg=0\n",
        "for i in l1:\n",
        "  avg+=i\n",
        "avg/=len(l1)\n",
        "print(avg)"
      ],
      "metadata": {
        "colab": {
          "base_uri": "https://localhost:8080/"
        },
        "id": "UdYU4IY89Ws-",
        "outputId": "94235794-2f93-4e46-8049-9da8e777a185"
      },
      "execution_count": 45,
      "outputs": [
        {
          "output_type": "stream",
          "name": "stdout",
          "text": [
            "Enter int: 5\n",
            "Enter int: 10\n",
            "Enter int: 15\n",
            "Enter int: 1\n",
            "Enter int: 5\n",
            "7.2\n"
          ]
        }
      ]
    },
    {
      "cell_type": "code",
      "source": [
        "for i in range(1,11):\n",
        "  for j in range(1,11):\n",
        "    print(f\"{i} * {j} = {i*j}\")\n",
        "  print(\" \")"
      ],
      "metadata": {
        "colab": {
          "base_uri": "https://localhost:8080/"
        },
        "id": "2dmYU--v-AuV",
        "outputId": "07549f62-fe53-4f31-a16c-d08d9ede7ef4"
      },
      "execution_count": 48,
      "outputs": [
        {
          "output_type": "stream",
          "name": "stdout",
          "text": [
            "1 * 1 = 1\n",
            "1 * 2 = 2\n",
            "1 * 3 = 3\n",
            "1 * 4 = 4\n",
            "1 * 5 = 5\n",
            "1 * 6 = 6\n",
            "1 * 7 = 7\n",
            "1 * 8 = 8\n",
            "1 * 9 = 9\n",
            "1 * 10 = 10\n",
            " \n",
            "2 * 1 = 2\n",
            "2 * 2 = 4\n",
            "2 * 3 = 6\n",
            "2 * 4 = 8\n",
            "2 * 5 = 10\n",
            "2 * 6 = 12\n",
            "2 * 7 = 14\n",
            "2 * 8 = 16\n",
            "2 * 9 = 18\n",
            "2 * 10 = 20\n",
            " \n",
            "3 * 1 = 3\n",
            "3 * 2 = 6\n",
            "3 * 3 = 9\n",
            "3 * 4 = 12\n",
            "3 * 5 = 15\n",
            "3 * 6 = 18\n",
            "3 * 7 = 21\n",
            "3 * 8 = 24\n",
            "3 * 9 = 27\n",
            "3 * 10 = 30\n",
            " \n",
            "4 * 1 = 4\n",
            "4 * 2 = 8\n",
            "4 * 3 = 12\n",
            "4 * 4 = 16\n",
            "4 * 5 = 20\n",
            "4 * 6 = 24\n",
            "4 * 7 = 28\n",
            "4 * 8 = 32\n",
            "4 * 9 = 36\n",
            "4 * 10 = 40\n",
            " \n",
            "5 * 1 = 5\n",
            "5 * 2 = 10\n",
            "5 * 3 = 15\n",
            "5 * 4 = 20\n",
            "5 * 5 = 25\n",
            "5 * 6 = 30\n",
            "5 * 7 = 35\n",
            "5 * 8 = 40\n",
            "5 * 9 = 45\n",
            "5 * 10 = 50\n",
            " \n",
            "6 * 1 = 6\n",
            "6 * 2 = 12\n",
            "6 * 3 = 18\n",
            "6 * 4 = 24\n",
            "6 * 5 = 30\n",
            "6 * 6 = 36\n",
            "6 * 7 = 42\n",
            "6 * 8 = 48\n",
            "6 * 9 = 54\n",
            "6 * 10 = 60\n",
            " \n",
            "7 * 1 = 7\n",
            "7 * 2 = 14\n",
            "7 * 3 = 21\n",
            "7 * 4 = 28\n",
            "7 * 5 = 35\n",
            "7 * 6 = 42\n",
            "7 * 7 = 49\n",
            "7 * 8 = 56\n",
            "7 * 9 = 63\n",
            "7 * 10 = 70\n",
            " \n",
            "8 * 1 = 8\n",
            "8 * 2 = 16\n",
            "8 * 3 = 24\n",
            "8 * 4 = 32\n",
            "8 * 5 = 40\n",
            "8 * 6 = 48\n",
            "8 * 7 = 56\n",
            "8 * 8 = 64\n",
            "8 * 9 = 72\n",
            "8 * 10 = 80\n",
            " \n",
            "9 * 1 = 9\n",
            "9 * 2 = 18\n",
            "9 * 3 = 27\n",
            "9 * 4 = 36\n",
            "9 * 5 = 45\n",
            "9 * 6 = 54\n",
            "9 * 7 = 63\n",
            "9 * 8 = 72\n",
            "9 * 9 = 81\n",
            "9 * 10 = 90\n",
            " \n",
            "10 * 1 = 10\n",
            "10 * 2 = 20\n",
            "10 * 3 = 30\n",
            "10 * 4 = 40\n",
            "10 * 5 = 50\n",
            "10 * 6 = 60\n",
            "10 * 7 = 70\n",
            "10 * 8 = 80\n",
            "10 * 9 = 90\n",
            "10 * 10 = 100\n",
            " \n"
          ]
        }
      ]
    },
    {
      "cell_type": "code",
      "source": [
        "dict={\n",
        "    \"Username1\":\"Password1\",\n",
        "    \"Username2\":\"Password2\",\n",
        "    \"Username3\":\"Password3\",\n",
        "    \"Username4\":\"Password4\",\n",
        "    \"Username5\":\"Password5\",\n",
        "}\n",
        "\n",
        "username=input(\"Enter username: \")\n",
        "password=input(\"Enter password: \")\n",
        "if dict.get(username):\n",
        "  if dict[username]==password:\n",
        "    print(\"Login successful\")\n",
        "  else:\n",
        "    print(\"Incorrect password\")\n",
        "else:\n",
        "  print(\"Incorrect username\")"
      ],
      "metadata": {
        "colab": {
          "base_uri": "https://localhost:8080/"
        },
        "id": "TnBrX2Nj-cUn",
        "outputId": "a6371be2-0554-4da2-806e-1ed214e1d42e"
      },
      "execution_count": 49,
      "outputs": [
        {
          "output_type": "stream",
          "name": "stdout",
          "text": [
            "Enter username: Username1\n",
            "Enter password: Password1\n",
            "Login successful\n"
          ]
        }
      ]
    },
    {
      "cell_type": "code",
      "source": [
        "l1=[]\n",
        "for i in range(10):\n",
        "  l1.append(input(\"Enter word: \"))\n",
        "dict={}\n",
        "for i in l1:\n",
        "  if dict.get(i):\n",
        "    dict[i]+=1\n",
        "  else:\n",
        "    dict[i]=1\n",
        "print(dict)"
      ],
      "metadata": {
        "colab": {
          "base_uri": "https://localhost:8080/"
        },
        "id": "tqJirLGU-rTb",
        "outputId": "122260d9-b221-4c59-f6dc-96d1ac3051b1"
      },
      "execution_count": 50,
      "outputs": [
        {
          "output_type": "stream",
          "name": "stdout",
          "text": [
            "Enter word: a\n",
            "Enter word: b\n",
            "Enter word: c\n",
            "Enter word: d\n",
            "Enter word: a\n",
            "Enter word: b\n",
            "Enter word: c\n",
            "Enter word: d\n",
            "Enter word: a\n",
            "Enter word: b\n",
            "{'a': 3, 'b': 3, 'c': 2, 'd': 2}\n"
          ]
        }
      ]
    },
    {
      "cell_type": "code",
      "source": [
        "choice=input(\"Press 1 to convert from C to F, 2 to convert from F to C: \")\n",
        "choice=int(choice)\n",
        "if choice==1:\n",
        "  temp=input(\"Enter temperature in Celsius: \")\n",
        "  temp=float(temp)\n",
        "  temp=(temp*9/5)+32\n",
        "  print(f\"Temperature in Fahrenheit: {temp}\")\n",
        "elif choice==2:\n",
        "  temp=input(\"Enter temperature in Fahrenheit: \")\n",
        "  temp=float(temp)\n",
        "  temp=(temp-32)*5/9\n",
        "  print(f\"Temperature in Celsius: {temp}\")\n",
        "else:\n",
        "  print(\"Invalid choice\")"
      ],
      "metadata": {
        "colab": {
          "base_uri": "https://localhost:8080/"
        },
        "id": "-I6s2HYY-68t",
        "outputId": "1d9d574a-fb32-4d4c-e162-b9f5c08d2370"
      },
      "execution_count": 55,
      "outputs": [
        {
          "output_type": "stream",
          "name": "stdout",
          "text": [
            "Press 1 to convert from C to F, 2 to convert from F to C: 2\n",
            "Enter temperature in Fahrenheit: 32\n",
            "Temperature in Celsius: 0.0\n"
          ]
        }
      ]
    },
    {
      "cell_type": "code",
      "source": [
        "print(chr(sum(range(ord(min(str(not())))))))"
      ],
      "metadata": {
        "colab": {
          "base_uri": "https://localhost:8080/"
        },
        "id": "C4JEAoSX5Mx0",
        "outputId": "a5ad9649-3612-432e-86a6-e964c1a21bfd"
      },
      "execution_count": 19,
      "outputs": [
        {
          "output_type": "stream",
          "name": "stdout",
          "text": [
            "ඞ\n"
          ]
        }
      ]
    }
  ]
}