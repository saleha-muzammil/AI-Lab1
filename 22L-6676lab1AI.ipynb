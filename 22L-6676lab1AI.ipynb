{
  "nbformat": 4,
  "nbformat_minor": 0,
  "metadata": {
    "colab": {
      "provenance": []
    },
    "kernelspec": {
      "name": "python3",
      "display_name": "Python 3"
    },
    "language_info": {
      "name": "python"
    }
  },
  "cells": [
    {
      "cell_type": "code",
      "execution_count": null,
      "metadata": {
        "colab": {
          "base_uri": "https://localhost:8080/"
        },
        "id": "5exy6VuV6s3j",
        "outputId": "82cef395-b203-4858-915c-7da9e0e0428e"
      },
      "outputs": [
        {
          "output_type": "stream",
          "name": "stdout",
          "text": [
            "Enter name=amal\n",
            "Enter age=6\n",
            "Greetings amal of 6\n"
          ]
        }
      ],
      "source": [
        "#1\n",
        "name= input(\"Enter name=\")\n",
        "age= input(\"Enter age=\")\n",
        "print(f\"Greetings {name} of {age}\")"
      ]
    },
    {
      "cell_type": "code",
      "source": [
        "#2\n",
        "a = input(\"Enter element=\")\n",
        "try:\n",
        "  int_value = int(a)\n",
        "  print(\"INT\")\n",
        "except ValueError:\n",
        "  try:\n",
        "    float_value = float(a)\n",
        "    print(\"FLOAT\")\n",
        "  except ValueError:\n",
        "    print(\"STRING\")"
      ],
      "metadata": {
        "colab": {
          "base_uri": "https://localhost:8080/"
        },
        "id": "kJInpVWV7Hxf",
        "outputId": "66d7a1ab-9f2a-47d7-a7e1-5bc988a5c4e7"
      },
      "execution_count": null,
      "outputs": [
        {
          "output_type": "stream",
          "name": "stdout",
          "text": [
            "Enter element=1.2\n",
            "FLOAT\n"
          ]
        }
      ]
    },
    {
      "cell_type": "code",
      "source": [
        "#3\n",
        "temp = [\"a\",\"b\",\"c\"]\n",
        "temp.append(\"d\")\n",
        "temp.remove(\"a\")\n",
        "for i in range(3):\n",
        "  print(temp[i].upper())"
      ],
      "metadata": {
        "colab": {
          "base_uri": "https://localhost:8080/"
        },
        "id": "M8hQlu638QWd",
        "outputId": "3c34974a-d1a3-42f0-f650-d1ec82cee3e3"
      },
      "execution_count": null,
      "outputs": [
        {
          "output_type": "stream",
          "name": "stdout",
          "text": [
            "B\n",
            "C\n",
            "D\n"
          ]
        }
      ]
    },
    {
      "cell_type": "code",
      "source": [
        "#4\n",
        "temp = (1,2,3,4)\n",
        "(a,b,*c) = temp\n",
        "print(a,b)"
      ],
      "metadata": {
        "colab": {
          "base_uri": "https://localhost:8080/"
        },
        "id": "soaojYsP8uVN",
        "outputId": "3f341d80-8da6-46bd-99ff-48bbf698514c"
      },
      "execution_count": null,
      "outputs": [
        {
          "output_type": "stream",
          "name": "stdout",
          "text": [
            "1 2\n"
          ]
        }
      ]
    },
    {
      "cell_type": "code",
      "source": [
        "#5\n",
        "students = {'Ali': 'A', 'Basam': 'B', 'Charlie': 'B+','Delta':'F','Eren': 'A-'}\n",
        "print(students)"
      ],
      "metadata": {
        "colab": {
          "base_uri": "https://localhost:8080/"
        },
        "id": "ohx0Gf_L9Mlx",
        "outputId": "cc537bd6-f238-4b44-882e-b76dd7795048"
      },
      "execution_count": null,
      "outputs": [
        {
          "output_type": "stream",
          "name": "stdout",
          "text": [
            "{'Ali': 'A', 'Basam': 'B', 'Charlie': 'B+', 'Delta': 'F', 'Eren': 'A-'}\n"
          ]
        }
      ]
    },
    {
      "cell_type": "code",
      "source": [
        "#6\n",
        "list1 = []\n",
        "list2 = []\n",
        "for i in range(4):\n",
        "  a = int(input(\"Enter value for list 1=\"))\n",
        "  b = int(input(\"Enter value for list 2=\"))\n",
        "  list1.append(a)\n",
        "  list2.append(b)\n",
        "set1 = set(list1)\n",
        "set2 = set(list2)\n",
        "print(\"Union:\", set1 | set2)\n",
        "print(\"Intersection:\", set1 & set2)\n",
        "print(\"Difference:\", set1 - set2)\n",
        "\n"
      ],
      "metadata": {
        "id": "wCY0pvUB9-R6",
        "colab": {
          "base_uri": "https://localhost:8080/"
        },
        "outputId": "885c59f2-2b48-448c-f8b9-e5e29a79d5b1"
      },
      "execution_count": 2,
      "outputs": [
        {
          "output_type": "stream",
          "name": "stdout",
          "text": [
            "Enter value for list 1=1\n",
            "Enter value for list 2=2\n",
            "Enter value for list 1=3\n",
            "Enter value for list 2=4\n",
            "Enter value for list 1=1\n",
            "Enter value for list 2=2\n",
            "Enter value for list 1=7\n",
            "Enter value for list 2=6\n",
            "Union: {1, 2, 3, 4, 6, 7}\n",
            "Intersection: set()\n",
            "Difference: {1, 3, 7}\n"
          ]
        }
      ]
    },
    {
      "cell_type": "code",
      "source": [
        "#7\n",
        "n = int(input(\"Enter an integer: \"))\n",
        "\n",
        "if n > 0:\n",
        "    print(\"+ve\")\n",
        "elif n < 0:\n",
        "    print(\"-ve\")\n",
        "else:\n",
        "    print(\"0\")\n",
        "\n",
        "print(\"Even\" if n % 2 == 0 else \"Odd\")"
      ],
      "metadata": {
        "id": "pRr0eERX_TFW",
        "colab": {
          "base_uri": "https://localhost:8080/"
        },
        "outputId": "b4cfdb4c-47c6-417b-c593-11a43a0a03f7"
      },
      "execution_count": 3,
      "outputs": [
        {
          "output_type": "stream",
          "name": "stdout",
          "text": [
            "Enter an integer: 3\n",
            "+ve\n",
            "Odd\n"
          ]
        }
      ]
    },
    {
      "cell_type": "code",
      "source": [
        "#8\n",
        "for i in range(1, 51):\n",
        "  if i % 3 == 0 and i % 5 == 0:\n",
        "      print(\"FizzBuzz\")\n",
        "  elif i % 3 == 0:\n",
        "      print(\"Fizz\")\n",
        "  elif i % 5 == 0:\n",
        "      print(\"Buzz\")\n",
        "  else:\n",
        "      print(i)"
      ],
      "metadata": {
        "id": "NY2nbpeo_XJU",
        "colab": {
          "base_uri": "https://localhost:8080/"
        },
        "outputId": "6f5e0ea0-d3cf-4f17-c9d3-ba273deb104e"
      },
      "execution_count": 4,
      "outputs": [
        {
          "output_type": "stream",
          "name": "stdout",
          "text": [
            "1\n",
            "2\n",
            "Fizz\n",
            "4\n",
            "Buzz\n",
            "Fizz\n",
            "7\n",
            "8\n",
            "Fizz\n",
            "Buzz\n",
            "11\n",
            "Fizz\n",
            "13\n",
            "14\n",
            "FizzBuzz\n",
            "16\n",
            "17\n",
            "Fizz\n",
            "19\n",
            "Buzz\n",
            "Fizz\n",
            "22\n",
            "23\n",
            "Fizz\n",
            "Buzz\n",
            "26\n",
            "Fizz\n",
            "28\n",
            "29\n",
            "FizzBuzz\n",
            "31\n",
            "32\n",
            "Fizz\n",
            "34\n",
            "Buzz\n",
            "Fizz\n",
            "37\n",
            "38\n",
            "Fizz\n",
            "Buzz\n",
            "41\n",
            "Fizz\n",
            "43\n",
            "44\n",
            "FizzBuzz\n",
            "46\n",
            "47\n",
            "Fizz\n",
            "49\n",
            "Buzz\n"
          ]
        }
      ]
    },
    {
      "cell_type": "code",
      "source": [
        "#9\n",
        "def fac(n):\n",
        "    result = 1\n",
        "    for i in range(1, n + 1):\n",
        "        result *= i\n",
        "    return result\n",
        "\n",
        "n = int(input(\"Enter a non-negative integer: \"))\n",
        "print(fac(n))\n"
      ],
      "metadata": {
        "id": "nvtXuFLJ_lb1",
        "colab": {
          "base_uri": "https://localhost:8080/"
        },
        "outputId": "62c5d36c-cd77-4b38-907f-63b1ff06579c"
      },
      "execution_count": 5,
      "outputs": [
        {
          "output_type": "stream",
          "name": "stdout",
          "text": [
            "Enter a non-negative integer: 7\n",
            "5040\n"
          ]
        }
      ]
    },
    {
      "cell_type": "code",
      "source": [
        "#10\n",
        "def prime(n):\n",
        "    if n < 2:\n",
        "        return False\n",
        "    for i in range(2, int(n/2) + 1):\n",
        "        if n % i == 0:\n",
        "            return False\n",
        "    return True\n",
        "\n",
        "n = int(input(\"Enter a number: \"))\n",
        "print(\"Prime\" if prime(n) else \"Not Prime\")"
      ],
      "metadata": {
        "colab": {
          "base_uri": "https://localhost:8080/"
        },
        "id": "guOI3E1p_95K",
        "outputId": "a6d9e4ff-a7e0-43a3-ae8c-f2aacf28fee4"
      },
      "execution_count": 6,
      "outputs": [
        {
          "output_type": "stream",
          "name": "stdout",
          "text": [
            "Enter a number: 4\n",
            "Not Prime\n"
          ]
        }
      ]
    },
    {
      "cell_type": "code",
      "source": [
        "#11\n",
        "def squares(n):\n",
        "    return [x**2 for x in n]\n",
        "\n",
        "temp =[]\n",
        "for i in range(10):\n",
        "  temp.append(int(input(\"Enter\")))\n",
        "\n",
        "print(squares(temp))"
      ],
      "metadata": {
        "id": "PTJDDO-QAwR6",
        "colab": {
          "base_uri": "https://localhost:8080/"
        },
        "outputId": "6773f707-0639-489c-c5f2-b17b62b02edc"
      },
      "execution_count": 7,
      "outputs": [
        {
          "output_type": "stream",
          "name": "stdout",
          "text": [
            "Enter1\n",
            "Enter2\n",
            "Enter3\n",
            "Enter4\n",
            "Enter5\n",
            "Enter6\n",
            "Enter7\n",
            "Enter8\n",
            "Enter9\n",
            "Enter10\n",
            "[1, 4, 9, 16, 25, 36, 49, 64, 81, 100]\n"
          ]
        }
      ]
    },
    {
      "cell_type": "code",
      "source": [
        "#12\n",
        "dict1 = {\"a\": 1, \"b\": 2, \"c\": 3}\n",
        "dict2 = {\"b\": 20, \"c\": 30, \"d\": 40}\n",
        "\n",
        "merged_dict = {**dict1, **dict2}\n",
        "print(merged_dict)"
      ],
      "metadata": {
        "colab": {
          "base_uri": "https://localhost:8080/"
        },
        "id": "fL9EKJDVBRzZ",
        "outputId": "1f7ce8cf-fe3f-43fa-9af4-ab9746305796"
      },
      "execution_count": 8,
      "outputs": [
        {
          "output_type": "stream",
          "name": "stdout",
          "text": [
            "{'a': 1, 'b': 20, 'c': 30, 'd': 40}\n"
          ]
        }
      ]
    },
    {
      "cell_type": "code",
      "source": [
        "#13\n",
        "temp =[]\n",
        "for i in range(10):\n",
        "  temp.append(int(input(\"Enter\")))\n",
        "set1 = set(temp)\n",
        "temp = list(set1)\n",
        "print(temp)"
      ],
      "metadata": {
        "colab": {
          "base_uri": "https://localhost:8080/"
        },
        "id": "-b1TvuDJBUcY",
        "outputId": "cdf8e809-087b-4a66-992c-094254c58cbb"
      },
      "execution_count": 9,
      "outputs": [
        {
          "output_type": "stream",
          "name": "stdout",
          "text": [
            "Enter1\n",
            "Enter1\n",
            "Enter2\n",
            "Enter2\n",
            "Enter3\n",
            "Enter3\n",
            "Enter3\n",
            "Enter4\n",
            "Enter4\n",
            "Enter4\n",
            "[1, 2, 3, 4]\n"
          ]
        }
      ]
    },
    {
      "cell_type": "code",
      "source": [
        "#14\n",
        "palindrome = lambda s : s == s[::-1]\n",
        "palindrome(\"colc\")\n"
      ],
      "metadata": {
        "colab": {
          "base_uri": "https://localhost:8080/"
        },
        "id": "hV1_Z6ijCN9O",
        "outputId": "1801af0e-e201-4984-b16f-8f7fc3c704cd"
      },
      "execution_count": 10,
      "outputs": [
        {
          "output_type": "execute_result",
          "data": {
            "text/plain": [
              "False"
            ]
          },
          "metadata": {},
          "execution_count": 10
        }
      ]
    },
    {
      "cell_type": "code",
      "source": [
        "#15\n",
        "n = int(input(\"Enter range=\"))\n",
        "a=0\n",
        "b=1\n",
        "for i in range(n):\n",
        "  print(b)\n",
        "  a,b = b,a+b"
      ],
      "metadata": {
        "colab": {
          "base_uri": "https://localhost:8080/"
        },
        "id": "VTjlDPe3DHWz",
        "outputId": "08ce4aaa-57d6-4955-dca7-f79ee5a0e3bb"
      },
      "execution_count": null,
      "outputs": [
        {
          "output_type": "stream",
          "name": "stdout",
          "text": [
            "Enter range=4\n",
            "1\n",
            "1\n",
            "2\n",
            "3\n"
          ]
        }
      ]
    },
    {
      "cell_type": "code",
      "source": [
        "#16\n",
        "temp = []\n",
        "while(len(temp) != 5):\n",
        "    num = input(\"Enter=\")\n",
        "    try:\n",
        "        temp.append(float(num))\n",
        "    except ValueError:\n",
        "        print(\"Invalid\")\n",
        "\n",
        "print(\"Average=\", sum(temp) / len(temp))\n"
      ],
      "metadata": {
        "colab": {
          "base_uri": "https://localhost:8080/"
        },
        "id": "p4YbmtipEumx",
        "outputId": "62fc704b-0c13-453a-8d92-dba3e8fc3976"
      },
      "execution_count": null,
      "outputs": [
        {
          "output_type": "stream",
          "name": "stdout",
          "text": [
            "Enter=1\n",
            "Enter=a\n",
            "Invalid\n",
            "Enter=1\n",
            "Enter=2\n",
            "Enter=3\n",
            "Enter=1\n",
            "Average= 1.6\n"
          ]
        }
      ]
    },
    {
      "cell_type": "code",
      "source": [
        "for i in range(11):\n",
        "  print(\"Multiplication table for \",i,\"\\n\")\n",
        "  for j in range(11):\n",
        "    print(j,\")\",i*j,\"\\n\")\n"
      ],
      "metadata": {
        "colab": {
          "base_uri": "https://localhost:8080/"
        },
        "id": "r7e6YPt0EUOn",
        "outputId": "1c6cdba5-3460-4c29-9846-0c0c19c4d929"
      },
      "execution_count": 13,
      "outputs": [
        {
          "output_type": "stream",
          "name": "stdout",
          "text": [
            "Multiplication table for  0 \n",
            "\n",
            "0 ) 0 \n",
            "\n",
            "1 ) 0 \n",
            "\n",
            "2 ) 0 \n",
            "\n",
            "3 ) 0 \n",
            "\n",
            "4 ) 0 \n",
            "\n",
            "5 ) 0 \n",
            "\n",
            "6 ) 0 \n",
            "\n",
            "7 ) 0 \n",
            "\n",
            "8 ) 0 \n",
            "\n",
            "9 ) 0 \n",
            "\n",
            "10 ) 0 \n",
            "\n",
            "Multiplication table for  1 \n",
            "\n",
            "0 ) 0 \n",
            "\n",
            "1 ) 1 \n",
            "\n",
            "2 ) 2 \n",
            "\n",
            "3 ) 3 \n",
            "\n",
            "4 ) 4 \n",
            "\n",
            "5 ) 5 \n",
            "\n",
            "6 ) 6 \n",
            "\n",
            "7 ) 7 \n",
            "\n",
            "8 ) 8 \n",
            "\n",
            "9 ) 9 \n",
            "\n",
            "10 ) 10 \n",
            "\n",
            "Multiplication table for  2 \n",
            "\n",
            "0 ) 0 \n",
            "\n",
            "1 ) 2 \n",
            "\n",
            "2 ) 4 \n",
            "\n",
            "3 ) 6 \n",
            "\n",
            "4 ) 8 \n",
            "\n",
            "5 ) 10 \n",
            "\n",
            "6 ) 12 \n",
            "\n",
            "7 ) 14 \n",
            "\n",
            "8 ) 16 \n",
            "\n",
            "9 ) 18 \n",
            "\n",
            "10 ) 20 \n",
            "\n",
            "Multiplication table for  3 \n",
            "\n",
            "0 ) 0 \n",
            "\n",
            "1 ) 3 \n",
            "\n",
            "2 ) 6 \n",
            "\n",
            "3 ) 9 \n",
            "\n",
            "4 ) 12 \n",
            "\n",
            "5 ) 15 \n",
            "\n",
            "6 ) 18 \n",
            "\n",
            "7 ) 21 \n",
            "\n",
            "8 ) 24 \n",
            "\n",
            "9 ) 27 \n",
            "\n",
            "10 ) 30 \n",
            "\n",
            "Multiplication table for  4 \n",
            "\n",
            "0 ) 0 \n",
            "\n",
            "1 ) 4 \n",
            "\n",
            "2 ) 8 \n",
            "\n",
            "3 ) 12 \n",
            "\n",
            "4 ) 16 \n",
            "\n",
            "5 ) 20 \n",
            "\n",
            "6 ) 24 \n",
            "\n",
            "7 ) 28 \n",
            "\n",
            "8 ) 32 \n",
            "\n",
            "9 ) 36 \n",
            "\n",
            "10 ) 40 \n",
            "\n",
            "Multiplication table for  5 \n",
            "\n",
            "0 ) 0 \n",
            "\n",
            "1 ) 5 \n",
            "\n",
            "2 ) 10 \n",
            "\n",
            "3 ) 15 \n",
            "\n",
            "4 ) 20 \n",
            "\n",
            "5 ) 25 \n",
            "\n",
            "6 ) 30 \n",
            "\n",
            "7 ) 35 \n",
            "\n",
            "8 ) 40 \n",
            "\n",
            "9 ) 45 \n",
            "\n",
            "10 ) 50 \n",
            "\n",
            "Multiplication table for  6 \n",
            "\n",
            "0 ) 0 \n",
            "\n",
            "1 ) 6 \n",
            "\n",
            "2 ) 12 \n",
            "\n",
            "3 ) 18 \n",
            "\n",
            "4 ) 24 \n",
            "\n",
            "5 ) 30 \n",
            "\n",
            "6 ) 36 \n",
            "\n",
            "7 ) 42 \n",
            "\n",
            "8 ) 48 \n",
            "\n",
            "9 ) 54 \n",
            "\n",
            "10 ) 60 \n",
            "\n",
            "Multiplication table for  7 \n",
            "\n",
            "0 ) 0 \n",
            "\n",
            "1 ) 7 \n",
            "\n",
            "2 ) 14 \n",
            "\n",
            "3 ) 21 \n",
            "\n",
            "4 ) 28 \n",
            "\n",
            "5 ) 35 \n",
            "\n",
            "6 ) 42 \n",
            "\n",
            "7 ) 49 \n",
            "\n",
            "8 ) 56 \n",
            "\n",
            "9 ) 63 \n",
            "\n",
            "10 ) 70 \n",
            "\n",
            "Multiplication table for  8 \n",
            "\n",
            "0 ) 0 \n",
            "\n",
            "1 ) 8 \n",
            "\n",
            "2 ) 16 \n",
            "\n",
            "3 ) 24 \n",
            "\n",
            "4 ) 32 \n",
            "\n",
            "5 ) 40 \n",
            "\n",
            "6 ) 48 \n",
            "\n",
            "7 ) 56 \n",
            "\n",
            "8 ) 64 \n",
            "\n",
            "9 ) 72 \n",
            "\n",
            "10 ) 80 \n",
            "\n",
            "Multiplication table for  9 \n",
            "\n",
            "0 ) 0 \n",
            "\n",
            "1 ) 9 \n",
            "\n",
            "2 ) 18 \n",
            "\n",
            "3 ) 27 \n",
            "\n",
            "4 ) 36 \n",
            "\n",
            "5 ) 45 \n",
            "\n",
            "6 ) 54 \n",
            "\n",
            "7 ) 63 \n",
            "\n",
            "8 ) 72 \n",
            "\n",
            "9 ) 81 \n",
            "\n",
            "10 ) 90 \n",
            "\n",
            "Multiplication table for  10 \n",
            "\n",
            "0 ) 0 \n",
            "\n",
            "1 ) 10 \n",
            "\n",
            "2 ) 20 \n",
            "\n",
            "3 ) 30 \n",
            "\n",
            "4 ) 40 \n",
            "\n",
            "5 ) 50 \n",
            "\n",
            "6 ) 60 \n",
            "\n",
            "7 ) 70 \n",
            "\n",
            "8 ) 80 \n",
            "\n",
            "9 ) 90 \n",
            "\n",
            "10 ) 100 \n",
            "\n"
          ]
        }
      ]
    },
    {
      "cell_type": "code",
      "source": [
        "#18\n",
        "my_dict = {}\n",
        "\n",
        "u = input(\"Enter username= \")\n",
        "p = input(\"Enter password= \")\n",
        "my_dict[u] = p\n",
        "print(\"Registration successful!\")\n",
        "\n",
        "u = input(\"Enter username= \")\n",
        "p = input(\"Enter password= \")\n",
        "if my_dict.get(u) == p:\n",
        "    print(\"Login successful!\")\n",
        "else:\n",
        "    print(\"Invalid credentials.\")"
      ],
      "metadata": {
        "colab": {
          "base_uri": "https://localhost:8080/"
        },
        "id": "3WiOnG8SEsAO",
        "outputId": "d47b16db-a1d1-41f9-874f-11455a60f91c"
      },
      "execution_count": null,
      "outputs": [
        {
          "output_type": "stream",
          "name": "stdout",
          "text": [
            "Enter username= amal\n",
            "Enter password= 1243\n",
            "Registration successful!\n",
            "Enter username= amal\n",
            "Enter password= 1243\n",
            "Login successful!\n"
          ]
        }
      ]
    },
    {
      "cell_type": "code",
      "source": [
        "#19\n",
        "w = input(\"Enter words=\").split()\n",
        "my_dict = {}\n",
        "for x in w:\n",
        "    my_dict[x] = my_dict.get(x, 0) + 1\n",
        "print(my_dict)\n"
      ],
      "metadata": {
        "colab": {
          "base_uri": "https://localhost:8080/"
        },
        "id": "Bj8bzyREEplk",
        "outputId": "1b3b9afa-4a0d-4869-e4f4-49dddafce4b1"
      },
      "execution_count": null,
      "outputs": [
        {
          "output_type": "stream",
          "name": "stdout",
          "text": [
            "Enter words=amal a b c d d \n",
            "{'amal': 1, 'a': 1, 'b': 1, 'c': 1, 'd': 2}\n"
          ]
        }
      ]
    },
    {
      "cell_type": "code",
      "source": [
        "#20\n",
        "c = input(\"a)Celsius to Fahrenheit \\nb)Fahrenheit to Celsius? \").lower()\n",
        "temp = float(input(\"Enter temperature: \"))\n",
        "\n",
        "if c == \"a\":\n",
        "    print(\"Fahrenheit:\", (temp * 9/5) + 32)\n",
        "elif c == \"b\":\n",
        "    print(\"Celsius:\", (temp - 32) * 5/9)\n",
        "else:\n",
        "    print(\"Invalid\")"
      ],
      "metadata": {
        "colab": {
          "base_uri": "https://localhost:8080/"
        },
        "id": "-Bfo3v73EoLF",
        "outputId": "51a0ac52-2124-423e-ef4d-eb59bb313866"
      },
      "execution_count": null,
      "outputs": [
        {
          "output_type": "stream",
          "name": "stdout",
          "text": [
            "a)Celsius to Fahrenheit \n",
            "b)Fahrenheit to Celsius? b\n",
            "Enter temperature: 12.6\n",
            "Celsius: -10.777777777777779\n"
          ]
        }
      ]
    }
  ]
}