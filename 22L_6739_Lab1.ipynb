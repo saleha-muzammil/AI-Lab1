{
  "nbformat": 4,
  "nbformat_minor": 0,
  "metadata": {
    "colab": {
      "provenance": [],
      "toc_visible": true
    },
    "kernelspec": {
      "name": "python3",
      "display_name": "Python 3"
    },
    "language_info": {
      "name": "python"
    }
  },
  "cells": [
    {
      "cell_type": "code",
      "execution_count": null,
      "metadata": {
        "colab": {
          "base_uri": "https://localhost:8080/"
        },
        "id": "vBJXZZOz34Uk",
        "outputId": "878bbba6-7e40-4aaf-ba60-af25e653c2a2"
      },
      "outputs": [
        {
          "output_type": "stream",
          "name": "stdout",
          "text": [
            "Enter your nameWareesha Khawar\n",
            "Enter your age20\n",
            "Hello Wareesha Khawar. Congratz u survived 20 years in this world\n"
          ]
        }
      ],
      "source": [
        "\n",
        "name=input(\"Enter your name\")\n",
        "age=input(\"Enter your age\")\n",
        "print(f\"Hello {name}. Congratz u survived {age} years in this world\")"
      ]
    },
    {
      "cell_type": "code",
      "source": [],
      "metadata": {
        "id": "yA3RKGbaenI7"
      },
      "execution_count": null,
      "outputs": []
    },
    {
      "cell_type": "code",
      "source": [
        "array=['eggs','rice', 'flour','bread','oats']\n",
        "array.append('honey')\n",
        "array.remove('flour')\n",
        "for i in array:\n",
        "    print(i.upper())\n",
        "\n"
      ],
      "metadata": {
        "colab": {
          "base_uri": "https://localhost:8080/"
        },
        "id": "R2IBICBR42J_",
        "outputId": "327f8b52-f921-4a82-9f7c-a2c25126ae66"
      },
      "execution_count": null,
      "outputs": [
        {
          "output_type": "stream",
          "name": "stdout",
          "text": [
            "EGGS\n",
            "RICE\n",
            "BREAD\n",
            "OATS\n",
            "HONEY\n"
          ]
        }
      ]
    },
    {
      "cell_type": "code",
      "source": [
        "tuple=(31,16,1,24,8,2 )\n",
        "a=tuple[0]\n",
        "b=tuple[1]\n",
        "print(a,b)"
      ],
      "metadata": {
        "colab": {
          "base_uri": "https://localhost:8080/"
        },
        "id": "_5mvuUKV6eVO",
        "outputId": "5e850c6e-293b-4d82-bd64-55ba1bf4667b"
      },
      "execution_count": null,
      "outputs": [
        {
          "output_type": "stream",
          "name": "stdout",
          "text": [
            "31 16\n"
          ]
        }
      ]
    },
    {
      "cell_type": "code",
      "source": [
        "dictionary={ \"Wareesha\":\"A\" ,\n",
        "            \"Talal\" : \"A\"     ,\n",
        "            \"Arshah\" : \"A \"}\n",
        "print(dictionary)"
      ],
      "metadata": {
        "colab": {
          "base_uri": "https://localhost:8080/"
        },
        "id": "zFOpRDPz7c0t",
        "outputId": "2f37c753-e568-4531-f3b7-4a833cf708bb"
      },
      "execution_count": null,
      "outputs": [
        {
          "output_type": "stream",
          "name": "stdout",
          "text": [
            "{'Wareesha': 'A', 'Talal': 'A', 'Arshah': 'A '}\n"
          ]
        }
      ]
    },
    {
      "cell_type": "code",
      "source": [
        "list1=[]\n",
        "list2=[]\n",
        "for i in range(0,5):\n",
        "        a=int(input(\"enter numbers in list 1:\"))\n",
        "        list1.append(a)\n",
        "for i in range(0,5):\n",
        "        b=int(input(\"enter numbers in list 2:\"))\n",
        "        list2.append(b)\n",
        "set1=set(list1)\n",
        "set2=set(list2)\n",
        "\n",
        "print(set1.union(set2))\n",
        "print(set1.intersection(set2))\n",
        "print(set1.difference(set2))"
      ],
      "metadata": {
        "colab": {
          "base_uri": "https://localhost:8080/"
        },
        "id": "S-ZX4rxc9cGe",
        "outputId": "15133580-d638-49ca-d91f-7e8ee90f9ddf"
      },
      "execution_count": null,
      "outputs": [
        {
          "output_type": "stream",
          "name": "stdout",
          "text": [
            "enter numbers in list 1:3\n",
            "enter numbers in list 1:4\n",
            "enter numbers in list 1:5\n",
            "enter numbers in list 1:7\n",
            "enter numbers in list 1:5\n",
            "enter numbers in list 2:2\n",
            "enter numbers in list 2:4\n",
            "enter numbers in list 2:6\n",
            "enter numbers in list 2:8\n",
            "enter numbers in list 2:10\n",
            "{2, 3, 4, 5, 6, 7, 8, 10}\n",
            "{4}\n",
            "{3, 5, 7}\n"
          ]
        }
      ]
    },
    {
      "cell_type": "code",
      "source": [
        "number=int(input(\"enter number:\"))\n",
        "if number%2==0:\n",
        "    print(\"even\")\n",
        "else:\n",
        "    print(\"odd\")\n",
        "\n",
        "if number==0:\n",
        "    print(\"zero\")\n",
        "elif number>0:\n",
        "    print(\"positive\")\n",
        "else:\n",
        "    print(\"negative\")\n"
      ],
      "metadata": {
        "colab": {
          "base_uri": "https://localhost:8080/"
        },
        "id": "a5-CeDk6_45L",
        "outputId": "6d9487c7-bae5-4be8-8d81-6a490ccab5b5"
      },
      "execution_count": null,
      "outputs": [
        {
          "output_type": "stream",
          "name": "stdout",
          "text": [
            "enter number:31\n",
            "odd\n",
            "positive\n"
          ]
        }
      ]
    },
    {
      "cell_type": "code",
      "source": [
        "\n",
        "for i in range(1,51):\n",
        "  if i%3==0 and i%5==0:\n",
        "    print(\"fizzbuzz\")\n",
        "  elif i%3==0:\n",
        "    print(\"fizz\")\n",
        "  elif i%5==0:\n",
        "    print(\"buzz\")\n",
        "  else:\n",
        "    print(i)\n"
      ],
      "metadata": {
        "colab": {
          "base_uri": "https://localhost:8080/"
        },
        "id": "J10glP2hAlRa",
        "outputId": "d7e5d775-391d-406f-b794-40df13629ca5"
      },
      "execution_count": null,
      "outputs": [
        {
          "output_type": "stream",
          "name": "stdout",
          "text": [
            "1\n",
            "2\n",
            "fizz\n",
            "4\n",
            "buzz\n",
            "fizz\n",
            "7\n",
            "8\n",
            "fizz\n",
            "buzz\n",
            "11\n",
            "fizz\n",
            "13\n",
            "14\n",
            "fizzbuzz\n",
            "16\n",
            "17\n",
            "fizz\n",
            "19\n",
            "buzz\n",
            "fizz\n",
            "22\n",
            "23\n",
            "fizz\n",
            "buzz\n",
            "26\n",
            "fizz\n",
            "28\n",
            "29\n",
            "fizzbuzz\n",
            "31\n",
            "32\n",
            "fizz\n",
            "34\n",
            "buzz\n",
            "fizz\n",
            "37\n",
            "38\n",
            "fizz\n",
            "buzz\n",
            "41\n",
            "fizz\n",
            "43\n",
            "44\n",
            "fizzbuzz\n",
            "46\n",
            "47\n",
            "fizz\n",
            "49\n",
            "buzz\n"
          ]
        }
      ]
    },
    {
      "cell_type": "code",
      "source": [
        "def fact(num):\n",
        "\n",
        "    if num<0:\n",
        "        print(\"negative number\")\n",
        "    elif num==0:\n",
        "        return 1\n",
        "    else:\n",
        "        return num*fact(num-1)\n",
        "print(fact(31))\n"
      ],
      "metadata": {
        "colab": {
          "base_uri": "https://localhost:8080/"
        },
        "id": "7mrt3aoQBsyk",
        "outputId": "9b550480-c3b3-4e81-cbde-4173320953cb"
      },
      "execution_count": null,
      "outputs": [
        {
          "output_type": "stream",
          "name": "stdout",
          "text": [
            "8222838654177922817725562880000000\n"
          ]
        }
      ]
    },
    {
      "cell_type": "code",
      "source": [
        "def prime(num):\n",
        "    if num>1:\n",
        "        for i in range(2,num):\n",
        "            if num%i==0:\n",
        "                print(\"not prime\")\n",
        "                break\n",
        "        else:\n",
        "            print(\"prime\")\n",
        "    else:\n",
        "        print(\"not prime\")\n",
        "\n",
        "num=int(input(\"enter number:\"))\n",
        "prime(num)"
      ],
      "metadata": {
        "colab": {
          "base_uri": "https://localhost:8080/"
        },
        "id": "9Znsj6KhDPxu",
        "outputId": "50835844-3065-4ea0-d723-cb8c0644101f"
      },
      "execution_count": null,
      "outputs": [
        {
          "output_type": "stream",
          "name": "stdout",
          "text": [
            "enter number:7\n",
            "prime\n"
          ]
        }
      ]
    },
    {
      "cell_type": "code",
      "source": [
        "def square_numbers(numbers):\n",
        "\n",
        "    squared_list = [num ** 2 for num in numbers]\n",
        "    return squared_list\n",
        "\n",
        "numbers = [1, 2, 3, 4, 5]\n",
        "result = square_numbers(numbers)\n",
        "print(result)"
      ],
      "metadata": {
        "id": "Erhub6TaepH_"
      },
      "execution_count": null,
      "outputs": []
    },
    {
      "cell_type": "code",
      "source": [
        "def merge(dict1, dict2):\n",
        "\n",
        "    merged_dict = {**dict1, **dict2}\n",
        "    return merged_dict\n",
        "\n",
        "\n",
        "dict1 = {'a': 1, 'b': 2, 'c': 3}\n",
        "dict2 = {'b': 20, 'd': 4}\n",
        "\n",
        "result = merge(dict1, dict2)\n",
        "print(result)"
      ],
      "metadata": {
        "id": "qvrKcS4ujNvn"
      },
      "execution_count": null,
      "outputs": []
    },
    {
      "cell_type": "code",
      "source": [
        "def func(numbers):\n",
        "    seen = set()\n",
        "    result = []\n",
        "\n",
        "    for num in numbers:\n",
        "        if num not in seen:\n",
        "            result.append(num)\n",
        "            seen.add(num)\n",
        "\n",
        "    return result\n",
        "\n",
        "\n",
        "numbers = [3, 5, 2, 3, 8, 5, 1, 2]\n",
        "result = func(numbers)\n",
        "print(result)"
      ],
      "metadata": {
        "id": "IFKE9E5ljQK0"
      },
      "execution_count": null,
      "outputs": []
    },
    {
      "cell_type": "code",
      "source": [
        "is_palindrome = lambda s: ''.join(s.split()).lower() == ''.join(s.split()).lower()[::-1]\n",
        "test_string1 = \"A man a plan a canal Panama\"\n",
        "print(is_palindrome(test_string1))\n"
      ],
      "metadata": {
        "id": "dCHCF5uejS4G"
      },
      "execution_count": null,
      "outputs": []
    },
    {
      "cell_type": "code",
      "source": [
        "def generate_fibonacci(n):\n",
        "    if n <= 0:\n",
        "        return []\n",
        "    elif n == 1:\n",
        "        return [0]\n",
        "    elif n == 2:\n",
        "        return [0, 1]\n",
        "    fibonacci_sequence = [0, 1]\n",
        "    for i in range(2, n):\n",
        "        next_number = fibonacci_sequence[-1] + fibonacci_sequence[-2]\n",
        "        fibonacci_sequence.append(next_number)\n",
        "\n",
        "    return fibonacci_sequence\n",
        "\n",
        "n = int(input(\"Enter the number of Fibonacci numbers to generate: \"))\n",
        "if n < 0:\n",
        "    print(\"invalid input.\")\n",
        "else:\n",
        "    result = generate_fibonacci(n)\n",
        "    print(f\"{result}\")"
      ],
      "metadata": {
        "id": "E6W980_HjVBv"
      },
      "execution_count": null,
      "outputs": []
    },
    {
      "cell_type": "code",
      "source": [
        "def get_validated_numbers():\n",
        "    numbers = []\n",
        "    while True:\n",
        "        user_input = input(\"Enter a number (or 'done' to finish): \")\n",
        "\n",
        "\n",
        "        if user_input.lower() == 'done':\n",
        "            break\n",
        "\n",
        "\n",
        "        try:\n",
        "            number = float(user_input)\n",
        "            numbers.append(number)\n",
        "        except ValueError:\n",
        "            print(\"Invalid input. Please enter a valid number.\")\n",
        "\n",
        "    return numbers\n",
        "\n",
        "def calculate_average(numbers):\n",
        "    if not numbers:\n",
        "        return 0\n",
        "    return sum(numbers) / len(numbers)\n",
        "\n",
        "print(\"This program calculates the average of a series of numbers.\")\n",
        "numbers = get_validated_numbers()\n",
        "\n",
        "if numbers:\n",
        "    average = calculate_average(numbers)\n",
        "    print(f\"The average of the numbers is: {average:.2f}\")\n",
        "else:\n",
        "    print(\"No valid numbers were entered.\")"
      ],
      "metadata": {
        "id": "lilKBu72jZQg"
      },
      "execution_count": null,
      "outputs": []
    },
    {
      "cell_type": "code",
      "source": [
        "def print_multiplication_table():\n",
        "\n",
        "    for i in range(1, 11):\n",
        "        for j in range(1, 11):\n",
        "            print(f\"{i * j}\", end=\" \")\n",
        "        print()\n",
        "\n",
        "\n",
        "print_multiplication_table()"
      ],
      "metadata": {
        "id": "5sytuI9NmO02"
      },
      "execution_count": null,
      "outputs": []
    },
    {
      "cell_type": "code",
      "source": [
        "\n",
        "user_credentials = {}\n",
        "\n",
        "def register():\n",
        "    print(\"--- Registration ---\")\n",
        "    username = input(\"Enter a username: \")\n",
        "    if username in user_credentials:\n",
        "        print(\"Username already exists. Please choose a different username.\")\n",
        "        return\n",
        "\n",
        "    password = input(\"Enter a password: \")\n",
        "    user_credentials[username] = password\n",
        "    print(\"Registration successful!\")\n",
        "\n",
        "def login():\n",
        "    print(\"--- Login ---\")\n",
        "    username = input(\"Enter your username: \")\n",
        "    password = input(\"Enter your password: \")\n",
        "    if username in user_credentials and user_credentials[username] == password:\n",
        "        print(\"Login successful! Welcome,\", username)\n",
        "    else:\n",
        "        print(\"Invalid username or password. Please try again.\")\n",
        "\n",
        "def main():\n",
        "    while True:\n",
        "        print(\"\\n1. Register\")\n",
        "        print(\"2. Login\")\n",
        "        print(\"3. Exit\")\n",
        "        choice = input(\"Choose an option (1/2/3): \")\n",
        "\n",
        "        if choice == \"1\":\n",
        "            register()\n",
        "        elif choice == \"2\":\n",
        "            login()\n",
        "        elif choice == \"3\":\n",
        "            print(\"Exiting the program. Goodbye!\")\n",
        "            break\n",
        "        else:\n",
        "            print(\"Invalid choice. Please try again.\")\n",
        "\n",
        "main()"
      ],
      "metadata": {
        "id": "iF0RDNgtmPt1"
      },
      "execution_count": null,
      "outputs": []
    },
    {
      "cell_type": "code",
      "source": [
        "\n",
        "words = input(\"Input: \").split()\n",
        "\n",
        "word_count = {}\n",
        "\n",
        "for word in words:\n",
        "    word_count[word] = word_count.get(word, 0) + 1\n",
        "\n",
        "for word, count in word_count.items():\n",
        "    print(f\"{word}: {count}\")"
      ],
      "metadata": {
        "id": "QT7o87OFmSn8"
      },
      "execution_count": null,
      "outputs": []
    },
    {
      "cell_type": "code",
      "source": [
        "def convert_temperature():\n",
        "    print(\"Convert\")\n",
        "    print(\"1. Celsius --> Fahrenheit\")\n",
        "    print(\"2. Fahrenheit --> Celsius\")\n",
        "\n",
        "    choice = input(\"Select from the options above: \")\n",
        "\n",
        "    if choice == \"1\":\n",
        "        celsius = float(input(\"Enter temperature in Celsius: \"))\n",
        "        fahrenheit = (celsius * 9/5) + 32\n",
        "        print(f\"{celsius}°C is equal to {fahrenheit:.2f}°F\")\n",
        "    elif choice == \"2\":\n",
        "        fahrenheit = float(input(\"Enter temperature in Fahrenheit: \"))\n",
        "        celsius = (fahrenheit - 32) * 5/9\n",
        "        print(f\"{fahrenheit}°F is equal to {celsius:.2f}°C\")\n",
        "    else:\n",
        "        print(\"Invalid choice! Please enter 1 or 2.\")\n",
        "\n",
        "convert_temperature()\n"
      ],
      "metadata": {
        "id": "6HH7YPRamVjr"
      },
      "execution_count": null,
      "outputs": []
    },
    {
      "cell_type": "code",
      "source": [],
      "metadata": {
        "id": "VQhIRMBWmWR-"
      },
      "execution_count": null,
      "outputs": []
    }
  ]
}