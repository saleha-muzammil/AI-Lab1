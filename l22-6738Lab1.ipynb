{
  "nbformat": 4,
  "nbformat_minor": 0,
  "metadata": {
    "colab": {
      "provenance": []
    },
    "kernelspec": {
      "name": "python3",
      "display_name": "Python 3"
    },
    "language_info": {
      "name": "python"
    }
  },
  "cells": [
    {
      "cell_type": "code",
      "execution_count": 3,
      "metadata": {
        "colab": {
          "base_uri": "https://localhost:8080/"
        },
        "id": "7auCuQwo18VZ",
        "outputId": "b223d71f-5e51-452a-fb11-c2a0518b9729"
      },
      "outputs": [
        {
          "output_type": "stream",
          "name": "stdout",
          "text": [
            "Enter your Name: \n",
            "hafsa\n",
            "Enter your Age: \n",
            "22\n",
            "Hi hafsa Hope you doin good :) \n"
          ]
        }
      ],
      "source": [
        "print('Enter your Name: ')\n",
        "x = input()\n",
        "print('Enter your Age: ')\n",
        "y = input()\n",
        "print('Hi ' + x + ' Hope you doin good :) ')"
      ]
    },
    {
      "cell_type": "code",
      "source": [
        "a_int = 1\n",
        "b_float = 1.0\n",
        "c_sum = a_int + b_float\n",
        "print(c_sum)\n",
        "print(type(c_sum))"
      ],
      "metadata": {
        "id": "6IV-sfi_3gbM"
      },
      "execution_count": null,
      "outputs": []
    },
    {
      "cell_type": "code",
      "source": [
        "my_list = ['apple','mango','orange', 'banana', 'grapes']\n",
        "\n",
        "my_list.append('cucumber')\n",
        "mango_index = my_list.index('mango')\n",
        "my_list.insert(mango_index, 'strawberry')\n",
        "my_list.remove('banana')\n",
        "print(my_list)\n",
        "for item in my_list:\n",
        "    try:\n",
        "        print(str(item).upper())\n",
        "    except AttributeError:\n",
        "        print(item)"
      ],
      "metadata": {
        "colab": {
          "base_uri": "https://localhost:8080/"
        },
        "id": "DjxBNnlp4qgW",
        "outputId": "9f4a9eb8-7dca-471f-a7b3-e4265422a7dd"
      },
      "execution_count": 9,
      "outputs": [
        {
          "output_type": "stream",
          "name": "stdout",
          "text": [
            "['apple', 'strawberry', 'mango', 'orange', 'grapes', 'cucumber']\n",
            "APPLE\n",
            "STRAWBERRY\n",
            "MANGO\n",
            "ORANGE\n",
            "GRAPES\n",
            "CUCUMBER\n"
          ]
        }
      ]
    },
    {
      "cell_type": "code",
      "source": [
        "my_tuple = ('hafsa', 'qainat', 'baasil', 'asjad', 'raif')\n",
        "first_element, second_element = my_tuple[:2]\n",
        "print(\"First element:\", first_element)\n",
        "print(\"Second element:\", second_element)"
      ],
      "metadata": {
        "colab": {
          "base_uri": "https://localhost:8080/"
        },
        "id": "R6fDI6ey7CFt",
        "outputId": "e47813ac-3c03-4bf6-a74a-e34f3ec09fcc"
      },
      "execution_count": 11,
      "outputs": [
        {
          "output_type": "stream",
          "name": "stdout",
          "text": [
            "First element: hafsa\n",
            "Second element: qainat\n"
          ]
        }
      ]
    },
    {
      "cell_type": "code",
      "source": [
        "student_grades = {}\n",
        "for _ in range(5):\n",
        "    name = input(\"Enter student name: \")\n",
        "    while True:\n",
        "        grade = input(\"Enter student grade (A-F): \").upper()\n",
        "        if grade in ('A', 'B', 'C', 'D', 'E', 'F'):\n",
        "            break\n",
        "        else:\n",
        "            print(\"Invalid grade. Please enter a grade between A and F.\")\n",
        "    student_grades[name] = grade\n",
        "sorted_student_grades = dict(sorted(student_grades.items()))\n",
        "sorted_student_grades"
      ],
      "metadata": {
        "colab": {
          "base_uri": "https://localhost:8080/"
        },
        "id": "G1H6eBS979Z-",
        "outputId": "1cf59e6d-40e7-46a0-a5bc-6496c5d77b5d"
      },
      "execution_count": 13,
      "outputs": [
        {
          "name": "stdout",
          "output_type": "stream",
          "text": [
            "Enter student name: hafsa\n",
            "Enter student grade (A-F): A\n",
            "Enter student name: qainat\n",
            "Enter student grade (A-F): A\n",
            "Enter student name: baasil\n",
            "Enter student grade (A-F): A\n",
            "Enter student name: Asjad \n",
            "Enter student grade (A-F): A\n",
            "Enter student name: Raif\n",
            "Enter student grade (A-F): A\n"
          ]
        },
        {
          "output_type": "execute_result",
          "data": {
            "text/plain": [
              "{'Asjad ': 'A', 'Raif': 'A', 'baasil': 'A', 'hafsa': 'A', 'qainat': 'A'}"
            ]
          },
          "metadata": {},
          "execution_count": 13
        }
      ]
    },
    {
      "cell_type": "code",
      "source": [
        "A = {0, 2, 4, 6, 8};\n",
        "B = {1, 2, 3, 4, 5};\n",
        "print(\"Union :\", A | B)\n",
        "print(\"Intersection :\", A & B)\n",
        "print(\"Difference :\", A - B)\n",
        "print(\"Symmetric difference :\", A ^ B)"
      ],
      "metadata": {
        "colab": {
          "base_uri": "https://localhost:8080/"
        },
        "id": "S3nlNv0q9v56",
        "outputId": "6fe98be0-3669-46f5-90e3-eb289d0892ba"
      },
      "execution_count": 14,
      "outputs": [
        {
          "output_type": "stream",
          "name": "stdout",
          "text": [
            "Union : {0, 1, 2, 3, 4, 5, 6, 8}\n",
            "Intersection : {2, 4}\n",
            "Difference : {0, 8, 6}\n",
            "Symmetric difference : {0, 1, 3, 5, 6, 8}\n"
          ]
        }
      ]
    },
    {
      "cell_type": "code",
      "source": [
        "number = int(input(\"Enter a number : \"))\n",
        "if number>0:\n",
        "  print(number, \"is positive.\")\n",
        "elif number<0:\n",
        "  print(number, \"is negative.\")\n",
        "else:\n",
        "  print(\"Number is 0.\")\n",
        "\n",
        "if number%2 == 0:\n",
        "  print(number, \"is even.\")\n",
        "else:\n",
        "  print(number, \"is odd.\")"
      ],
      "metadata": {
        "colab": {
          "base_uri": "https://localhost:8080/"
        },
        "id": "Y38ATAHT_0LP",
        "outputId": "37e6a8e2-68ad-4f7a-dad2-a17d4975c2e3"
      },
      "execution_count": 15,
      "outputs": [
        {
          "output_type": "stream",
          "name": "stdout",
          "text": [
            "Enter a number : -4\n",
            "-4 is negative.\n",
            "Number is even.\n"
          ]
        }
      ]
    },
    {
      "cell_type": "code",
      "source": [
        "\n",
        "for fizzbuzz in range(51):\n",
        "    if fizzbuzz % 3 == 0 and fizzbuzz % 5 == 0:\n",
        "        print(\"fizzbuzz\")\n",
        "        continue\n",
        "    elif fizzbuzz % 3 == 0:\n",
        "        print(\"fizz\")\n",
        "        continue\n",
        "    elif fizzbuzz % 5 == 0:\n",
        "        print(\"buzz\")\n",
        "        continue\n",
        "    print(fizzbuzz)\n"
      ],
      "metadata": {
        "colab": {
          "base_uri": "https://localhost:8080/"
        },
        "id": "8FC3j9QLAuNp",
        "outputId": "c21bfa9a-985c-456c-9f31-1905d6c711b3"
      },
      "execution_count": 16,
      "outputs": [
        {
          "output_type": "stream",
          "name": "stdout",
          "text": [
            "fizzbuzz\n",
            "1\n",
            "2\n",
            "fizz\n",
            "4\n",
            "buzz\n",
            "fizz\n",
            "7\n",
            "8\n",
            "fizz\n",
            "buzz\n",
            "11\n",
            "fizz\n",
            "13\n",
            "14\n",
            "fizzbuzz\n",
            "16\n",
            "17\n",
            "fizz\n",
            "19\n",
            "buzz\n",
            "fizz\n",
            "22\n",
            "23\n",
            "fizz\n",
            "buzz\n",
            "26\n",
            "fizz\n",
            "28\n",
            "29\n",
            "fizzbuzz\n",
            "31\n",
            "32\n",
            "fizz\n",
            "34\n",
            "buzz\n",
            "fizz\n",
            "37\n",
            "38\n",
            "fizz\n",
            "buzz\n",
            "41\n",
            "fizz\n",
            "43\n",
            "44\n",
            "fizzbuzz\n",
            "46\n",
            "47\n",
            "fizz\n",
            "49\n",
            "buzz\n"
          ]
        }
      ]
    },
    {
      "cell_type": "code",
      "source": [
        "\n",
        "def factorial(n):\n",
        "    if n == 0:\n",
        "        return 1\n",
        "    else:\n",
        "        return n * factorial(n - 1)\n",
        "n = int(input(\"Input a non negative number: \"))\n",
        "print(factorial(n))\n"
      ],
      "metadata": {
        "colab": {
          "base_uri": "https://localhost:8080/"
        },
        "id": "Fe11H5nOBPNQ",
        "outputId": "79414b2d-ce26-450b-d6e5-6db2e3035b16"
      },
      "execution_count": 17,
      "outputs": [
        {
          "output_type": "stream",
          "name": "stdout",
          "text": [
            "Input a non negative number: 5\n",
            "120\n"
          ]
        }
      ]
    },
    {
      "cell_type": "code",
      "source": [
        "def is_prime(num, divisor=None):\n",
        "    if divisor is None:\n",
        "        divisor = num - 1\n",
        "    if num <= 1:\n",
        "        return False\n",
        "    if divisor == 1:\n",
        "        return True\n",
        "    if num % divisor == 0:\n",
        "        return False\n",
        "    return is_prime(num, divisor - 1)\n",
        "\n",
        "number = int(input(\"Enter a number: \"))\n",
        "if is_prime(number):\n",
        "    print(f\"{number} is a prime number.\")\n",
        "else:\n",
        "    print(f\"{number} is not a prime number.\")"
      ],
      "metadata": {
        "colab": {
          "base_uri": "https://localhost:8080/"
        },
        "id": "O2grR7Y_B6p8",
        "outputId": "349e2315-5af1-4805-d259-92b9a3b0c498"
      },
      "execution_count": 19,
      "outputs": [
        {
          "output_type": "stream",
          "name": "stdout",
          "text": [
            "Enter a number: 576875\n",
            "576875 is not a prime number.\n"
          ]
        }
      ]
    },
    {
      "cell_type": "code",
      "source": [
        "\n",
        "data=[11,23,13,3,1,3,4]\n",
        "def square(x):\n",
        "  result = [i*i for i in data ]\n",
        "  return result\n",
        "result = square(data)\n",
        "print(result)\n"
      ],
      "metadata": {
        "colab": {
          "base_uri": "https://localhost:8080/"
        },
        "id": "j6v_fD2dDzmy",
        "outputId": "d6ac3e0e-ba51-4b07-96ab-100e8091d078"
      },
      "execution_count": 22,
      "outputs": [
        {
          "output_type": "stream",
          "name": "stdout",
          "text": [
            "[121, 529, 169, 9, 1, 9, 16]\n"
          ]
        }
      ]
    },
    {
      "cell_type": "code",
      "source": [
        "dict1 = {1: 'One', 2: 'Two', 3: 'Three'}\n",
        "dict2 = {3: 'Zero', 4: 'Four'}\n",
        "dict1.update(dict2)\n",
        "print(dict1)"
      ],
      "metadata": {
        "colab": {
          "base_uri": "https://localhost:8080/"
        },
        "id": "r-44kUTLFjZ2",
        "outputId": "22137d07-9c7b-4e99-8ddb-04684b2aba00"
      },
      "execution_count": 23,
      "outputs": [
        {
          "output_type": "stream",
          "name": "stdout",
          "text": [
            "{1: 'One', 2: 'Two', 3: 'Zero', 4: 'Four'}\n"
          ]
        }
      ]
    },
    {
      "cell_type": "code",
      "source": [
        "names = [\"Hafsa\", \"Qainat\", \"Hafsa\", \"Baasil\", \"Asjad\", \"Raif\", \"Asjad\"]\n",
        "print(list(dict.fromkeys(names)))"
      ],
      "metadata": {
        "colab": {
          "base_uri": "https://localhost:8080/"
        },
        "id": "e_36EKvqGCwE",
        "outputId": "844963ba-4366-4ce2-a3e1-50b90d3f1189"
      },
      "execution_count": 30,
      "outputs": [
        {
          "output_type": "stream",
          "name": "stdout",
          "text": [
            "['Hafsa', 'Qainat', 'Baasil', 'Asjad', 'Raif']\n"
          ]
        }
      ]
    },
    {
      "cell_type": "code",
      "source": [
        "def is_palindrome(value):\n",
        "    lower = value.lower()\n",
        "    return value == value[::-1]\n",
        "\n",
        "print(is_palindrome(input('Enter the value: ')))"
      ],
      "metadata": {
        "colab": {
          "base_uri": "https://localhost:8080/"
        },
        "id": "taWElinYGjAs",
        "outputId": "900bd47e-fcd8-4883-bc3e-c15c143125eb"
      },
      "execution_count": 27,
      "outputs": [
        {
          "output_type": "stream",
          "name": "stdout",
          "text": [
            "Enter the value: maham\n",
            "True\n"
          ]
        }
      ]
    },
    {
      "cell_type": "code",
      "source": [
        "def fibonacci():\n",
        "    x, y = 0, 1\n",
        "    while True:\n",
        "        yield x\n",
        "        x, y = y, x + y\n",
        "\n",
        "n = int(input(\"Input the number of Fibonacci numbers you want to generate? \"))\n",
        "\n",
        "print(\"Number of first \",n,\"Fibonacci numbers:\")\n",
        "fib = fibonacci()\n",
        "for _ in range(n):\n",
        "    print(next(fib),end=\" \")\n"
      ],
      "metadata": {
        "colab": {
          "base_uri": "https://localhost:8080/"
        },
        "id": "qZsrMLs3G76J",
        "outputId": "a4100ba8-2462-4cec-e037-d5875c1fe671"
      },
      "execution_count": 32,
      "outputs": [
        {
          "output_type": "stream",
          "name": "stdout",
          "text": [
            "Input the number of Fibonacci numbers you want to generate? 10\n",
            "Number of first  10 Fibonacci numbers:\n",
            "0 1 1 2 3 5 8 13 21 34 "
          ]
        }
      ]
    },
    {
      "cell_type": "code",
      "source": [
        "scores = []\n",
        "while True:\n",
        "    try:\n",
        "        score = int(input('Enter a score or -1 to quit: '))\n",
        "    except ValueError:\n",
        "        print(f\"Please enter a number\")\n",
        "        continue\n",
        "    if score == -1:\n",
        "        break\n",
        "    scores.append(score)\n",
        "print(f\"Average is {sum(scores)/len(scores)}\")"
      ],
      "metadata": {
        "colab": {
          "base_uri": "https://localhost:8080/"
        },
        "id": "aDbZyMbfIl2E",
        "outputId": "4a707882-e08e-46c7-f6ad-2afa76b6deef"
      },
      "execution_count": 38,
      "outputs": [
        {
          "output_type": "stream",
          "name": "stdout",
          "text": [
            "Enter a score or -1 to quit: 2\n",
            "Enter a score or -1 to quit: 2\n",
            "Enter a score or -1 to quit: 4\n",
            "Enter a score or -1 to quit: 6\n",
            "Enter a score or -1 to quit: 53\n",
            "Enter a score or -1 to quit: -1\n",
            "Average is 13.4\n"
          ]
        }
      ]
    },
    {
      "cell_type": "code",
      "source": [
        "for i in range(1,10):\n",
        "    print(\"i =\", i, \":\")\n",
        "    for j in range(1, 10):\n",
        "        print (i*j)"
      ],
      "metadata": {
        "colab": {
          "base_uri": "https://localhost:8080/"
        },
        "id": "BqQiXqGBLvIb",
        "outputId": "f4928c9e-fc98-497f-f6cd-1bda4d6f9bc0"
      },
      "execution_count": 46,
      "outputs": [
        {
          "output_type": "stream",
          "name": "stdout",
          "text": [
            "i = 1 :\n",
            "1\n",
            "2\n",
            "3\n",
            "4\n",
            "5\n",
            "6\n",
            "7\n",
            "8\n",
            "9\n",
            "i = 2 :\n",
            "2\n",
            "4\n",
            "6\n",
            "8\n",
            "10\n",
            "12\n",
            "14\n",
            "16\n",
            "18\n",
            "i = 3 :\n",
            "3\n",
            "6\n",
            "9\n",
            "12\n",
            "15\n",
            "18\n",
            "21\n",
            "24\n",
            "27\n",
            "i = 4 :\n",
            "4\n",
            "8\n",
            "12\n",
            "16\n",
            "20\n",
            "24\n",
            "28\n",
            "32\n",
            "36\n",
            "i = 5 :\n",
            "5\n",
            "10\n",
            "15\n",
            "20\n",
            "25\n",
            "30\n",
            "35\n",
            "40\n",
            "45\n",
            "i = 6 :\n",
            "6\n",
            "12\n",
            "18\n",
            "24\n",
            "30\n",
            "36\n",
            "42\n",
            "48\n",
            "54\n",
            "i = 7 :\n",
            "7\n",
            "14\n",
            "21\n",
            "28\n",
            "35\n",
            "42\n",
            "49\n",
            "56\n",
            "63\n",
            "i = 8 :\n",
            "8\n",
            "16\n",
            "24\n",
            "32\n",
            "40\n",
            "48\n",
            "56\n",
            "64\n",
            "72\n",
            "i = 9 :\n",
            "9\n",
            "18\n",
            "27\n",
            "36\n",
            "45\n",
            "54\n",
            "63\n",
            "72\n",
            "81\n"
          ]
        }
      ]
    },
    {
      "cell_type": "code",
      "source": [
        "def convert_fahrenheit_to_celsius(fahrenheit):\n",
        "    celsius = float(fahrenheit - 32) * 5 / 9\n",
        "    return celsius\n",
        "def convert_celsius_to_fahrenheit(celsius):\n",
        "    fahrenheit = (float(celsius) * 9 / 5 + 32)\n",
        "    return fahrenheit\n",
        "\n",
        "x=convert_celsius_to_fahrenheit(100)\n",
        "y=convert_fahrenheit_to_celsius(212)\n",
        "print(x)\n",
        "print(y)"
      ],
      "metadata": {
        "colab": {
          "base_uri": "https://localhost:8080/"
        },
        "id": "LrIl5vUzNmeX",
        "outputId": "145f950f-5538-4823-f298-51c21587e20d"
      },
      "execution_count": 50,
      "outputs": [
        {
          "output_type": "stream",
          "name": "stdout",
          "text": [
            "212.0\n",
            "100.0\n"
          ]
        }
      ]
    },
    {
      "cell_type": "code",
      "source": [
        "a = ['apple', 'banana', 'apple', 'orange', 'banana', 'banana']\n",
        "b = {}\n",
        "for c in a:\n",
        "    b[c] = b.get(c, 0) + 1\n",
        "print(b)"
      ],
      "metadata": {
        "colab": {
          "base_uri": "https://localhost:8080/"
        },
        "id": "3niIKNPsN99q",
        "outputId": "a379d97a-7de7-46dc-9990-af0c7c849025"
      },
      "execution_count": 51,
      "outputs": [
        {
          "output_type": "stream",
          "name": "stdout",
          "text": [
            "{'apple': 2, 'banana': 3, 'orange': 1}\n"
          ]
        }
      ]
    },
    {
      "cell_type": "code",
      "source": [
        "login_input = {\"MEK1300\":\"Python\"}\n",
        "username = {}\n",
        "user = input(\"To login enter Yes. If you want to register enter No: \")\n",
        "\n",
        "def login_info():\n",
        "  if user == \"Yes\":\n",
        "    login_user()\n",
        "\n",
        "  else:\n",
        "     user == \"No\"\n",
        "     register_user()\n",
        "     return user\n",
        "\n",
        "def register_user():\n",
        "    new_user = input(\"Enter a username: \")\n",
        "    if new_user in login_input:\n",
        "        print(\"Your username already exists! \")\n",
        "    else:\n",
        "        new_password = input(\"Enter a password: \")\n",
        "        username[new_user] = new_password\n",
        "        print(\"Successful registration!\")\n",
        "\n",
        "def login_user():\n",
        "      login_user = input(\"Enter your username: \")\n",
        "      password = input(\"Enter your password: \")\n",
        "      if login_user in login_input and login_input[login_user] == password:\n",
        "          print(\"Successful login! \")\n",
        "      else:\n",
        "          print(\"Invalid username/passord. Register a new user!\")\n",
        "\n",
        ""
      ],
      "metadata": {
        "id": "FVW_RtRTOa_6"
      },
      "execution_count": null,
      "outputs": []
    }
  ]
}