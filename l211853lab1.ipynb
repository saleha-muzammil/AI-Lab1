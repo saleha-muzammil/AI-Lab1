{
 "cells": [
  {
   "cell_type": "code",
   "execution_count": 1,
   "id": "dff431df",
   "metadata": {},
   "outputs": [
    {
     "name": "stdout",
     "output_type": "stream",
     "text": [
      "hello, python!\n"
     ]
    }
   ],
   "source": [
    "print(\"hello, python!\")"
   ]
  },
  {
   "cell_type": "code",
   "execution_count": 3,
   "id": "d6616e44",
   "metadata": {},
   "outputs": [
    {
     "name": "stdout",
     "output_type": "stream",
     "text": [
      "Enter something: 1\n",
      "'1' is an integer.\n"
     ]
    }
   ],
   "source": [
    "value = input(\"Enter something: \")\n",
    "\n",
    "try:\n",
    "    int_value = int(value)\n",
    "    print(f\"'{value}' is an integer.\")\n",
    "except ValueError:\n",
    "    try:\n",
    "        float_value = float(value)\n",
    "        print(f\"'{value}' is a float.\")\n",
    "    except ValueError:\n",
    "        print(f\"'{value}' is a string.\")"
   ]
  },
  {
   "cell_type": "code",
   "execution_count": 4,
   "id": "e9b805cc",
   "metadata": {},
   "outputs": [
    {
     "name": "stdout",
     "output_type": "stream",
     "text": [
      "APPLE\n",
      "CHERRY\n",
      "ORANGE\n"
     ]
    }
   ],
   "source": [
    "fruits = [\"apple\", \"banana\", \"cherry\"]\n",
    "fruits.append(\"orange\")\n",
    "fruits.remove(\"banana\")\n",
    "\n",
    "for fruit in fruits:\n",
    "    print(fruit.upper())"
   ]
  },
  {
   "cell_type": "code",
   "execution_count": 5,
   "id": "cbf8fb61",
   "metadata": {},
   "outputs": [
    {
     "name": "stdout",
     "output_type": "stream",
     "text": [
      "10 20\n"
     ]
    }
   ],
   "source": [
    "data = (10, 20, 30, 40)\n",
    "a, b, *rest = data\n",
    "print(a, b)"
   ]
  },
  {
   "cell_type": "code",
   "execution_count": 6,
   "id": "cb139ccc",
   "metadata": {
    "scrolled": true
   },
   "outputs": [
    {
     "name": "stdout",
     "output_type": "stream",
     "text": [
      "{'Alice': 85, 'Bob': 90, 'Charlie': 78, 'David': 92, 'Eve': 88}\n"
     ]
    }
   ],
   "source": [
    "students = {\n",
    "    \"Alice\": 85,\n",
    "    \"Bob\": 90,\n",
    "    \"Charlie\": 78,\n",
    "    \"David\": 92,\n",
    "    \"Eve\": 88\n",
    "}\n",
    "print(students)"
   ]
  },
  {
   "cell_type": "code",
   "execution_count": 1,
   "id": "aa9305e3",
   "metadata": {},
   "outputs": [
    {
     "name": "stdout",
     "output_type": "stream",
     "text": [
      "Enter numbers for list 1: 1 2 3\n",
      "Enter numbers for list 2: 4 5\n",
      "Union: {1, 2, 3, 4, 5}\n",
      "Intersection: set()\n",
      "Difference: {1, 2, 3}\n"
     ]
    }
   ],
   "source": [
    "list1 = list(map(int, input(\"Enter numbers for list 1: \").split()))\n",
    "list2 = list(map(int, input(\"Enter numbers for list 2: \").split()))\n",
    "\n",
    "set1, set2 = set(list1), set(list2)\n",
    "\n",
    "print(\"Union:\", set1 | set2)\n",
    "print(\"Intersection:\", set1 & set2)\n",
    "print(\"Difference:\", set1 - set2)"
   ]
  },
  {
   "cell_type": "code",
   "execution_count": 8,
   "id": "0245a20c",
   "metadata": {},
   "outputs": [
    {
     "name": "stdout",
     "output_type": "stream",
     "text": [
      "Enter an integer: 1\n",
      "Positive\n",
      "Odd\n"
     ]
    }
   ],
   "source": [
    "num = int(input(\"Enter an integer: \"))\n",
    "\n",
    "if num > 0:\n",
    "    print(\"Positive\")\n",
    "elif num < 0:\n",
    "    print(\"Negative\")\n",
    "else:\n",
    "    print(\"Zero\")\n",
    "\n",
    "if num % 2 == 0:\n",
    "    print(\"Even\")\n",
    "else:\n",
    "    print(\"Odd\")"
   ]
  },
  {
   "cell_type": "code",
   "execution_count": 9,
   "id": "6b2cc604",
   "metadata": {},
   "outputs": [
    {
     "name": "stdout",
     "output_type": "stream",
     "text": [
      "1\n",
      "2\n",
      "Fizz\n",
      "4\n",
      "Buzz\n",
      "Fizz\n",
      "7\n",
      "8\n",
      "Fizz\n",
      "Buzz\n",
      "11\n",
      "Fizz\n",
      "13\n",
      "14\n",
      "FizzBuzz\n",
      "16\n",
      "17\n",
      "Fizz\n",
      "19\n",
      "Buzz\n",
      "Fizz\n",
      "22\n",
      "23\n",
      "Fizz\n",
      "Buzz\n",
      "26\n",
      "Fizz\n",
      "28\n",
      "29\n",
      "FizzBuzz\n",
      "31\n",
      "32\n",
      "Fizz\n",
      "34\n",
      "Buzz\n",
      "Fizz\n",
      "37\n",
      "38\n",
      "Fizz\n",
      "Buzz\n",
      "41\n",
      "Fizz\n",
      "43\n",
      "44\n",
      "FizzBuzz\n",
      "46\n",
      "47\n",
      "Fizz\n",
      "49\n",
      "Buzz\n"
     ]
    }
   ],
   "source": [
    "for i in range(1, 51):\n",
    "    if i % 3 == 0 and i % 5 == 0:\n",
    "        print(\"FizzBuzz\")\n",
    "    elif i % 3 == 0:\n",
    "        print(\"Fizz\")\n",
    "    elif i % 5 == 0:\n",
    "        print(\"Buzz\")\n",
    "    else:\n",
    "        print(i)"
   ]
  },
  {
   "cell_type": "code",
   "execution_count": 10,
   "id": "f1779723",
   "metadata": {},
   "outputs": [
    {
     "name": "stdout",
     "output_type": "stream",
     "text": [
      "Enter a number: 2\n",
      "Factorial: 2\n"
     ]
    }
   ],
   "source": [
    "def factorial(n):\n",
    "    result = 1\n",
    "    for i in range(1, n + 1):\n",
    "        result *= i\n",
    "    return result\n",
    "\n",
    "num = int(input(\"Enter a number: \"))\n",
    "print(\"Factorial:\", factorial(num))"
   ]
  },
  {
   "cell_type": "code",
   "execution_count": 11,
   "id": "b4c2d22b",
   "metadata": {},
   "outputs": [
    {
     "name": "stdout",
     "output_type": "stream",
     "text": [
      "Enter a number: 1\n",
      "1 is prime: False\n"
     ]
    }
   ],
   "source": [
    "def is_prime(n):\n",
    "    if n < 2:\n",
    "        return False\n",
    "    for i in range(2, int(n ** 0.5) + 1):\n",
    "        if n % i == 0:\n",
    "            return False\n",
    "    return True\n",
    "\n",
    "num = int(input(\"Enter a number: \"))\n",
    "print(f\"{num} is prime: {is_prime(num)}\")"
   ]
  },
  {
   "cell_type": "code",
   "execution_count": 12,
   "id": "8d36e056",
   "metadata": {},
   "outputs": [
    {
     "name": "stdout",
     "output_type": "stream",
     "text": [
      "Enter numbers: 1 2 3 4\n",
      "Squares: [1, 4, 9, 16]\n"
     ]
    }
   ],
   "source": [
    "def square_list(lst):\n",
    "    return [x**2 for x in lst]\n",
    "\n",
    "numbers = list(map(int, input(\"Enter numbers: \").split()))\n",
    "print(\"Squares:\", square_list(numbers))"
   ]
  },
  {
   "cell_type": "code",
   "execution_count": 13,
   "id": "0b2575dc",
   "metadata": {},
   "outputs": [
    {
     "name": "stdout",
     "output_type": "stream",
     "text": [
      "{'a': 1, 'b': 3, 'c': 4}\n"
     ]
    }
   ],
   "source": [
    "dict1 = {\"a\": 1, \"b\": 2}\n",
    "dict2 = {\"b\": 3, \"c\": 4}\n",
    "\n",
    "merged = {**dict1, **dict2}\n",
    "print(merged)"
   ]
  },
  {
   "cell_type": "code",
   "execution_count": 14,
   "id": "a5c78ad0",
   "metadata": {},
   "outputs": [
    {
     "name": "stdout",
     "output_type": "stream",
     "text": [
      "Enter numbers: 1 2 2 3 4\n",
      "Without Duplicates: [1, 2, 3, 4]\n"
     ]
    }
   ],
   "source": [
    "def remove_duplicates(lst):\n",
    "    seen = set()\n",
    "    return [x for x in lst if not (x in seen or seen.add(x))]\n",
    "\n",
    "numbers = list(map(int, input(\"Enter numbers: \").split()))\n",
    "print(\"Without Duplicates:\", remove_duplicates(numbers))"
   ]
  },
  {
   "cell_type": "code",
   "execution_count": 15,
   "id": "0e9b9239",
   "metadata": {},
   "outputs": [
    {
     "name": "stdout",
     "output_type": "stream",
     "text": [
      "Enter a string: racecar\n",
      "Palindrome: True\n"
     ]
    }
   ],
   "source": [
    "def is_palindrome(s):\n",
    "    s = s.replace(\" \", \"\").lower()\n",
    "    return s == s[::-1]\n",
    "\n",
    "text = input(\"Enter a string: \")\n",
    "print(\"Palindrome:\", is_palindrome(text))"
   ]
  },
  {
   "cell_type": "code",
   "execution_count": null,
   "id": "a00c13e6",
   "metadata": {},
   "outputs": [
    {
     "name": "stdout",
     "output_type": "stream",
     "text": [
      "Enter number of terms: 123456\n"
     ]
    }
   ],
   "source": [
    "def fibonacci(n):\n",
    "    seq = [0, 1]\n",
    "    for _ in range(n - 2):\n",
    "        seq.append(seq[-1] + seq[-2])\n",
    "    return seq[:n]\n",
    "\n",
    "n = int(input(\"Enter number of terms: \"))\n",
    "print(\"Fibonacci:\", fibonacci(n))"
   ]
  },
  {
   "cell_type": "code",
   "execution_count": 2,
   "id": "b465e10e",
   "metadata": {},
   "outputs": [
    {
     "name": "stdout",
     "output_type": "stream",
     "text": [
      "Enter a number (or 'done' to finish): 2\n",
      "Enter a number (or 'done' to finish): done\n",
      "Average: 2.0\n"
     ]
    }
   ],
   "source": [
    "def calculate_average():\n",
    "    numbers = []\n",
    "    while True:\n",
    "        num = input(\"Enter a number (or 'done' to finish): \")\n",
    "        if num.lower() == \"done\":\n",
    "            break\n",
    "        try:\n",
    "            numbers.append(float(num))\n",
    "        except ValueError:\n",
    "            print(\"Invalid input. Please enter a number.\")\n",
    "\n",
    "    return sum(numbers) / len(numbers) if numbers else 0\n",
    "\n",
    "print(\"Average:\", calculate_average())"
   ]
  },
  {
   "cell_type": "code",
   "execution_count": 3,
   "id": "baf203f8",
   "metadata": {},
   "outputs": [
    {
     "name": "stdout",
     "output_type": "stream",
     "text": [
      "   1    2    3    4    5    6    7    8    9   10 \n",
      "   2    4    6    8   10   12   14   16   18   20 \n",
      "   3    6    9   12   15   18   21   24   27   30 \n",
      "   4    8   12   16   20   24   28   32   36   40 \n",
      "   5   10   15   20   25   30   35   40   45   50 \n",
      "   6   12   18   24   30   36   42   48   54   60 \n",
      "   7   14   21   28   35   42   49   56   63   70 \n",
      "   8   16   24   32   40   48   56   64   72   80 \n",
      "   9   18   27   36   45   54   63   72   81   90 \n",
      "  10   20   30   40   50   60   70   80   90  100 \n"
     ]
    }
   ],
   "source": [
    "for i in range(1, 11):\n",
    "    for j in range(1, 11):\n",
    "        print(f\"{i * j:4}\", end=\" \")\n",
    "    print()"
   ]
  },
  {
   "cell_type": "code",
   "execution_count": 4,
   "id": "536a5d3d",
   "metadata": {},
   "outputs": [
    {
     "name": "stdout",
     "output_type": "stream",
     "text": [
      "Enter username: sadia\n",
      "Enter password: 1234\n",
      "User registered!\n",
      "Enter username: sadia\n",
      "Enter password: 1234\n",
      "Login successful!\n"
     ]
    }
   ],
   "source": [
    "users = {}\n",
    "\n",
    "def register():\n",
    "    username = input(\"Enter username: \")\n",
    "    password = input(\"Enter password: \")\n",
    "    users[username] = password\n",
    "    print(\"User registered!\")\n",
    "\n",
    "def login():\n",
    "    username = input(\"Enter username: \")\n",
    "    password = input(\"Enter password: \")\n",
    "    if users.get(username) == password:\n",
    "        print(\"Login successful!\")\n",
    "    else:\n",
    "        print(\"Invalid credentials.\")\n",
    "\n",
    "register()\n",
    "login()"
   ]
  },
  {
   "cell_type": "code",
   "execution_count": 5,
   "id": "422ca6d7",
   "metadata": {},
   "outputs": [
    {
     "name": "stdout",
     "output_type": "stream",
     "text": [
      "Enter words: hello\n",
      "{'hello': 1}\n"
     ]
    }
   ],
   "source": [
    "words = input(\"Enter words: \").split()\n",
    "word_count = {}\n",
    "\n",
    "for word in words:\n",
    "    word_count[word] = word_count.get(word, 0) + 1\n",
    "\n",
    "print(word_count)"
   ]
  },
  {
   "cell_type": "code",
   "execution_count": 6,
   "id": "836f80da",
   "metadata": {},
   "outputs": [
    {
     "name": "stdout",
     "output_type": "stream",
     "text": [
      "Enter temperature: 37\n",
      "Enter unit (C/F): C\n",
      "37.0°C is 98.6°F\n"
     ]
    }
   ],
   "source": [
    "def convert_temperature():\n",
    "    temp = float(input(\"Enter temperature: \"))\n",
    "    unit = input(\"Enter unit (C/F): \").upper()\n",
    "\n",
    "    if unit == \"C\":\n",
    "        print(f\"{temp}°C is {(temp * 9/5) + 32}°F\")\n",
    "    elif unit == \"F\":\n",
    "        print(f\"{temp}°F is {(temp - 32) * 5/9}°C\")\n",
    "    else:\n",
    "        print(\"Invalid unit!\")\n",
    "\n",
    "convert_temperature()"
   ]
  }
 ],
 "metadata": {
  "kernelspec": {
   "display_name": "Python 3",
   "language": "python",
   "name": "python3"
  },
  "language_info": {
   "codemirror_mode": {
    "name": "ipython",
    "version": 3
   },
   "file_extension": ".py",
   "mimetype": "text/x-python",
   "name": "python",
   "nbconvert_exporter": "python",
   "pygments_lexer": "ipython3",
   "version": "3.8.8"
  }
 },
 "nbformat": 4,
 "nbformat_minor": 5
}
