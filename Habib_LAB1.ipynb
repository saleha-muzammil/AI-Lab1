{
  "nbformat": 4,
  "nbformat_minor": 0,
  "metadata": {
    "colab": {
      "provenance": [],
      "toc_visible": true
    },
    "kernelspec": {
      "name": "python3",
      "display_name": "Python 3"
    },
    "language_info": {
      "name": "python"
    }
  },
  "cells": [
    {
      "cell_type": "code",
      "execution_count": null,
      "metadata": {
        "colab": {
          "base_uri": "https://localhost:8080/"
        },
        "id": "1h9P1AVe10J7",
        "outputId": "0aac4fea-c4d6-47ed-9e16-b368ff684561"
      },
      "outputs": [
        {
          "output_type": "stream",
          "name": "stdout",
          "text": [
            "hello\n"
          ]
        }
      ],
      "source": [
        "print(\"hello\")"
      ]
    },
    {
      "cell_type": "code",
      "source": [
        "name=input('Enter your name')\n",
        "print(name)\n",
        "age=input('Enter your age')\n",
        "print(age)\n",
        "print('Hello! Good Morning')\n"
      ],
      "metadata": {
        "colab": {
          "base_uri": "https://localhost:8080/"
        },
        "id": "cvzqrlpQ2VrE",
        "outputId": "25ffb55d-6683-4e25-a2c9-a005811c4bc7"
      },
      "execution_count": null,
      "outputs": [
        {
          "output_type": "stream",
          "name": "stdout",
          "text": [
            "Enter your nameHabib\n",
            "Habib\n",
            "Enter your age21\n",
            "21\n",
            "Hello! Good Morning\n"
          ]
        }
      ]
    },
    {
      "cell_type": "code",
      "source": [
        "num=input('Input from user:')\n",
        "if '.' in num:\n",
        "   print('*Float*')\n",
        "   s =int(float(num))\n",
        "   print(s)\n",
        "else:\n",
        "  print('*Integer*')\n",
        "  s=float(num)\n",
        "  print(s)\n"
      ],
      "metadata": {
        "colab": {
          "base_uri": "https://localhost:8080/"
        },
        "id": "l9E1jWGl36Ea",
        "outputId": "d4b05e7a-2fb0-4dc5-85ff-c7ec73591dd2"
      },
      "execution_count": null,
      "outputs": [
        {
          "output_type": "stream",
          "name": "stdout",
          "text": [
            "Input from user:22.5\n",
            "*Float*\n",
            "22\n"
          ]
        }
      ]
    },
    {
      "cell_type": "code",
      "source": [
        "list=['Habib','Closed','Hamza']\n",
        "list.append('Waleed')\n",
        "list.remove('Hamza')\n",
        "for item in list:\n",
        "    print(item.upper())"
      ],
      "metadata": {
        "colab": {
          "base_uri": "https://localhost:8080/"
        },
        "id": "ghyM_eA6_-tu",
        "outputId": "6b59b8e2-839d-4b01-822d-9c0649a15109"
      },
      "execution_count": null,
      "outputs": [
        {
          "output_type": "stream",
          "name": "stdout",
          "text": [
            "HABIB\n",
            "CLOSED\n",
            "WALEED\n"
          ]
        }
      ]
    },
    {
      "cell_type": "code",
      "source": [
        "tuple = ('s','t','u','v')\n",
        "var1=tuple[0]\n",
        "var2=tuple[1]\n",
        "print(var1+var2)"
      ],
      "metadata": {
        "colab": {
          "base_uri": "https://localhost:8080/"
        },
        "id": "C-oEkWMwAgXa",
        "outputId": "70496190-90eb-4dc1-fd7a-40b4b5a43877"
      },
      "execution_count": null,
      "outputs": [
        {
          "output_type": "stream",
          "name": "stdout",
          "text": [
            "st\n"
          ]
        }
      ]
    },
    {
      "cell_type": "code",
      "source": [
        "Dictionary={\n",
        "    'Hamza':'A',\n",
        "    'Hassan':'B',\n",
        "    'Hammad':'C',\n",
        "}\n",
        "print(Dictionary)"
      ],
      "metadata": {
        "colab": {
          "base_uri": "https://localhost:8080/"
        },
        "id": "tmT1U2HTGFxU",
        "outputId": "1173d7f9-1c7c-4bee-d3ee-8d382dd29707"
      },
      "execution_count": null,
      "outputs": [
        {
          "output_type": "stream",
          "name": "stdout",
          "text": [
            "{'Hamza': 'A', 'Hassan': 'B', 'Hammad': 'C'}\n"
          ]
        }
      ]
    },
    {
      "cell_type": "code",
      "source": [
        "List=[1,2,3,4]\n",
        "list2=[4,5,6,7]\n",
        "set1=set(List)\n",
        "set2=set(list2)\n",
        "print(\"Union\",set1.union(set2))\n",
        "print(\"Intersection\",set2.intersection(set2))\n",
        "print(\"Difference\",set2.difference(set2))"
      ],
      "metadata": {
        "colab": {
          "base_uri": "https://localhost:8080/"
        },
        "id": "w9fuQOgRG1bZ",
        "outputId": "b441295a-7e03-41b9-a291-2bc39516b790"
      },
      "execution_count": null,
      "outputs": [
        {
          "output_type": "stream",
          "name": "stdout",
          "text": [
            "Union {1, 2, 3, 4, 5, 6, 7}\n",
            "Intersection {4, 5, 6, 7}\n",
            "Difference set()\n"
          ]
        }
      ]
    },
    {
      "cell_type": "code",
      "source": [
        "num=float(input('Input from user:'))\n",
        "if (num > 0):\n",
        "  print(\"Positive\")\n",
        "  if(num%2)==0:\n",
        "     print(\"Even\")\n",
        "  else:\n",
        "     print(\"Odd\")\n",
        "elif (num<0):\n",
        "  print(\"Negative\")\n",
        "  if(num%2)==0:\n",
        "     print(\"Even\")\n",
        "  else:\n",
        "     print(\"Odd\")\n",
        "else:\n",
        "  print(\"zero\")"
      ],
      "metadata": {
        "colab": {
          "base_uri": "https://localhost:8080/"
        },
        "id": "IV7vW5d5INpe",
        "outputId": "b8035b0a-c6ba-420c-d84b-ade8271ddb25"
      },
      "execution_count": null,
      "outputs": [
        {
          "output_type": "stream",
          "name": "stdout",
          "text": [
            "Input from user:-11\n",
            "Negative\n",
            "Odd\n"
          ]
        }
      ]
    },
    {
      "cell_type": "code",
      "source": [
        "for i in range(1,51):\n",
        "  if i%3==0 and i%5==0:\n",
        "    print(\"Fizzbuzz\")\n",
        "  elif i%5==0 :\n",
        "    print(\"Buzz\")\n",
        "  elif i%3==0:\n",
        "    print(\"Fizz\")\n",
        "  print(i)\n"
      ],
      "metadata": {
        "colab": {
          "base_uri": "https://localhost:8080/"
        },
        "id": "jNiueW9-KbYC",
        "outputId": "ade4e45e-1162-44b9-9d9b-328703de49fb"
      },
      "execution_count": null,
      "outputs": [
        {
          "output_type": "stream",
          "name": "stdout",
          "text": [
            "1\n",
            "2\n",
            "Fizz\n",
            "3\n",
            "4\n",
            "Buzz\n",
            "5\n",
            "Fizz\n",
            "6\n",
            "7\n",
            "8\n",
            "Fizz\n",
            "9\n",
            "Buzz\n",
            "10\n",
            "11\n",
            "Fizz\n",
            "12\n",
            "13\n",
            "14\n",
            "Fizzbuzz\n",
            "15\n",
            "16\n",
            "17\n",
            "Fizz\n",
            "18\n",
            "19\n",
            "Buzz\n",
            "20\n",
            "Fizz\n",
            "21\n",
            "22\n",
            "23\n",
            "Fizz\n",
            "24\n",
            "Buzz\n",
            "25\n",
            "26\n",
            "Fizz\n",
            "27\n",
            "28\n",
            "29\n",
            "Fizzbuzz\n",
            "30\n",
            "31\n",
            "32\n",
            "Fizz\n",
            "33\n",
            "34\n",
            "Buzz\n",
            "35\n",
            "Fizz\n",
            "36\n",
            "37\n",
            "38\n",
            "Fizz\n",
            "39\n",
            "Buzz\n",
            "40\n",
            "41\n",
            "Fizz\n",
            "42\n",
            "43\n",
            "44\n",
            "Fizzbuzz\n",
            "45\n",
            "46\n",
            "47\n",
            "Fizz\n",
            "48\n",
            "49\n",
            "Buzz\n",
            "50\n"
          ]
        }
      ]
    },
    {
      "cell_type": "code",
      "source": [
        "def factorial(num):\n",
        "  num2=1\n",
        "  for i in range(1,num+1):\n",
        "     num2 *=i\n",
        "  return num2\n",
        "num=int(input(\"Enter the Number:\"))\n",
        "print(f\"The factorial of {num} is {factorial(num)}\")"
      ],
      "metadata": {
        "colab": {
          "base_uri": "https://localhost:8080/"
        },
        "id": "rkVUVuQkML4W",
        "outputId": "ebdff5b8-8d7d-416d-8162-d0d5b25694b6"
      },
      "execution_count": null,
      "outputs": [
        {
          "output_type": "stream",
          "name": "stdout",
          "text": [
            "Enter the Number:5\n",
            "The factorial of 5 is 120\n"
          ]
        }
      ]
    },
    {
      "cell_type": "code",
      "source": [
        "def primechecker(num):\n",
        "    if num > 1:\n",
        "        for i in range(2, (num // 2) + 1):\n",
        "            if (num % i) == 0:\n",
        "                print(num, \"is not a prime number\")\n",
        "                break\n",
        "            else:\n",
        "                print(num, \"is a prime number\")\n",
        "    else:\n",
        "        print(num, \"is not a prime number\")\n",
        "\n",
        "num = int(input(\"Enter the number to find prime:\"))\n",
        "primechecker(num)"
      ],
      "metadata": {
        "colab": {
          "base_uri": "https://localhost:8080/"
        },
        "id": "e4HzojSaayOH",
        "outputId": "cfe72373-4472-4b8f-b3c7-29b7a86243e8"
      },
      "execution_count": 11,
      "outputs": [
        {
          "output_type": "stream",
          "name": "stdout",
          "text": [
            "Enter the number to find prime:5\n",
            "5 is a prime number\n"
          ]
        }
      ]
    },
    {
      "cell_type": "code",
      "source": [
        "def squares(start, end):\n",
        "    squares = [value ** 2 for value in range(start,end+1)]\n",
        "    return squares\n",
        "print(squares(2, 5))\n"
      ],
      "metadata": {
        "colab": {
          "base_uri": "https://localhost:8080/"
        },
        "id": "o2ZBjb14fv8g",
        "outputId": "20503ad7-90f8-4023-e858-698c9400ece6"
      },
      "execution_count": 12,
      "outputs": [
        {
          "output_type": "stream",
          "name": "stdout",
          "text": [
            "[4, 9, 16, 25]\n"
          ]
        }
      ]
    },
    {
      "cell_type": "code",
      "source": [
        "dict1 = {'a': 1, 'b': 2, 'c': 3}\n",
        "dict2 = {'b': 20, 'd': 4}\n",
        "\n",
        "merged_dict = {**dict1, **dict2}\n",
        "print(merged_dict)\n"
      ],
      "metadata": {
        "colab": {
          "base_uri": "https://localhost:8080/"
        },
        "id": "GMlpuYj8h9lt",
        "outputId": "6cc890f0-5dd4-40b1-d037-0f232c319686"
      },
      "execution_count": 13,
      "outputs": [
        {
          "output_type": "stream",
          "name": "stdout",
          "text": [
            "{'a': 1, 'b': 20, 'c': 3, 'd': 4}\n"
          ]
        }
      ]
    },
    {
      "cell_type": "code",
      "source": [
        "def remove_duplicates(lst):\n",
        "    seen = set()\n",
        "    result = []\n",
        "    for num in lst:\n",
        "        if num not in seen:\n",
        "            seen.add(num)\n",
        "            result.append(num)\n",
        "    return result\n",
        "\n",
        "numbers = [1, 2, 2,7,7, 8, 4, 4, 5, 1, 6,5]\n",
        "print(remove_duplicates(numbers))\n"
      ],
      "metadata": {
        "colab": {
          "base_uri": "https://localhost:8080/"
        },
        "id": "8u-XYD-ViP6Y",
        "outputId": "8900d79f-e51b-402e-f5c3-a40c5094c633"
      },
      "execution_count": 16,
      "outputs": [
        {
          "output_type": "stream",
          "name": "stdout",
          "text": [
            "[1, 2, 7, 8, 4, 5, 6]\n"
          ]
        }
      ]
    },
    {
      "cell_type": "code",
      "source": [
        "def is_palindrome(s):\n",
        "    cleaned = s.replace(\" \", \"\").lower()\n",
        "    return cleaned == cleaned[::-1]\n",
        "\n",
        "print(is_palindrome(\"abcdcba\"))\n",
        "\n"
      ],
      "metadata": {
        "colab": {
          "base_uri": "https://localhost:8080/"
        },
        "id": "VshdhXnWjVpw",
        "outputId": "0cba7ddf-3c93-433e-88ac-03b4c734044e"
      },
      "execution_count": 20,
      "outputs": [
        {
          "output_type": "stream",
          "name": "stdout",
          "text": [
            "True\n"
          ]
        }
      ]
    },
    {
      "cell_type": "code",
      "source": [
        "def fibonacci(num):\n",
        "    if num <= 0:\n",
        "        return \"Please enter a positive integer\"\n",
        "\n",
        "    fib_sequence = [0, 1] if num > 1 else [0]\n",
        "\n",
        "    for _ in range(2, num):\n",
        "        fib_sequence.append(fib_sequence[-1] + fib_sequence[-2])\n",
        "\n",
        "    return fib_sequence\n",
        "\n",
        "num = int(input(\"Enter the number of Fibonacci terms: \"))\n",
        "print(fibonacci(num))\n"
      ],
      "metadata": {
        "colab": {
          "base_uri": "https://localhost:8080/"
        },
        "id": "Hc2o_Y5KkRUB",
        "outputId": "cea25a44-49b5-4409-e624-9268da9ba4c7"
      },
      "execution_count": 21,
      "outputs": [
        {
          "output_type": "stream",
          "name": "stdout",
          "text": [
            "Enter the number of Fibonacci terms: 4\n",
            "[0, 1, 1, 2]\n"
          ]
        }
      ]
    },
    {
      "cell_type": "code",
      "source": [
        "def check_valid_num():\n",
        "    user_input = input(\"Enter numbers with space: \").strip()\n",
        "\n",
        "    try:\n",
        "        numbers = [float(num) for num in user_input.split()]\n",
        "        return numbers\n",
        "    except ValueError:\n",
        "        print(\"Invalid input! Please enter only numbers with spaces.\")\n",
        "        return check_valid_num()\n",
        "\n",
        "def calculate_average(numbers):\n",
        "    return sum(numbers) / len(numbers) if numbers else 0\n",
        "\n",
        "numbers = check_valid_num()\n",
        "average = calculate_average(numbers)\n",
        "\n",
        "if numbers:\n",
        "    print(f\"The average of the entered numbers is: {average:.2f}\")\n",
        "else:\n",
        "    print(\"No valid numbers entered.\")\n"
      ],
      "metadata": {
        "colab": {
          "base_uri": "https://localhost:8080/"
        },
        "id": "EnuQPJ0dkxjq",
        "outputId": "778b594a-e5db-4fbb-b353-4a9dc21ee4ab"
      },
      "execution_count": 23,
      "outputs": [
        {
          "output_type": "stream",
          "name": "stdout",
          "text": [
            "Enter numbers with space: 10 11 12 13 14\n",
            "The average of the entered numbers is: 12.00\n"
          ]
        }
      ]
    },
    {
      "cell_type": "code",
      "source": [
        "for i in range(1, 11):\n",
        "    for j in range(1, 11):\n",
        "        print(f\"{i * j:4}\", end=\" \")\n",
        "    print()\n"
      ],
      "metadata": {
        "colab": {
          "base_uri": "https://localhost:8080/"
        },
        "id": "RihdH85WmFhR",
        "outputId": "3af14e60-5948-4e0d-b11b-19a9f28227d9"
      },
      "execution_count": 24,
      "outputs": [
        {
          "output_type": "stream",
          "name": "stdout",
          "text": [
            "   1    2    3    4    5    6    7    8    9   10 \n",
            "   2    4    6    8   10   12   14   16   18   20 \n",
            "   3    6    9   12   15   18   21   24   27   30 \n",
            "   4    8   12   16   20   24   28   32   36   40 \n",
            "   5   10   15   20   25   30   35   40   45   50 \n",
            "   6   12   18   24   30   36   42   48   54   60 \n",
            "   7   14   21   28   35   42   49   56   63   70 \n",
            "   8   16   24   32   40   48   56   64   72   80 \n",
            "   9   18   27   36   45   54   63   72   81   90 \n",
            "  10   20   30   40   50   60   70   80   90  100 \n"
          ]
        }
      ]
    },
    {
      "cell_type": "code",
      "source": [
        "\n",
        "user_db = {}\n",
        "\n",
        "def register():\n",
        "    username = input(\"Enter a username: \").strip()\n",
        "\n",
        "    if username in user_db:\n",
        "        print(\"Username already exists! Try a different.\")\n",
        "        return\n",
        "\n",
        "    password = input(\"Enter a password: \").strip()\n",
        "    user_db[username] = password\n",
        "    print(\"Registration successful!\")\n",
        "\n",
        "def login():\n",
        "    username = input(\"Enter your username: \").strip()\n",
        "    password = input(\"Enter your password: \").strip()\n",
        "\n",
        "    if user_db.get(username) == password:\n",
        "        print(\"Login successful! Welcome,\", username)\n",
        "    else:\n",
        "        print(\"Invalid username or password.\")\n",
        "\n",
        "def main():\n",
        "    while True:\n",
        "        print(\"\\n1. Register\\n2. Login\\n3. Exit\")\n",
        "        choice = input(\"Choose an option: \").strip()\n",
        "\n",
        "        if choice == '1':\n",
        "            register()\n",
        "        elif choice == '2':\n",
        "            login()\n",
        "        elif choice == '3':\n",
        "            print(\"Exit\")\n",
        "            break\n",
        "        else:\n",
        "            print(\"Invalid choice! Please enter 1, 2, or 3.\")\n",
        "\n",
        "main()\n"
      ],
      "metadata": {
        "colab": {
          "base_uri": "https://localhost:8080/"
        },
        "id": "HFWrJ8rKnFgt",
        "outputId": "99a2b3ac-d184-4991-a592-dd9fcd83b6f7"
      },
      "execution_count": 25,
      "outputs": [
        {
          "output_type": "stream",
          "name": "stdout",
          "text": [
            "\n",
            "1. Register\n",
            "2. Login\n",
            "3. Exit\n",
            "Choose an option: 1\n",
            "Enter a username: muhammad123\n",
            "Enter a password: 123456\n",
            "Registration successful!\n",
            "\n",
            "1. Register\n",
            "2. Login\n",
            "3. Exit\n",
            "Choose an option: 1\n",
            "Enter a username: muhammad123\n",
            "Username already exists! Try a different.\n",
            "\n",
            "1. Register\n",
            "2. Login\n",
            "3. Exit\n",
            "Choose an option: muhammad123\n",
            "Invalid choice! Please enter 1, 2, or 3.\n",
            "\n",
            "1. Register\n",
            "2. Login\n",
            "3. Exit\n",
            "Choose an option: habib456\n",
            "Invalid choice! Please enter 1, 2, or 3.\n",
            "\n",
            "1. Register\n",
            "2. Login\n",
            "3. Exit\n",
            "Choose an option: 2\n",
            "Enter your username: habib456\n",
            "Enter your password: 654321\n",
            "Invalid username or password.\n",
            "\n",
            "1. Register\n",
            "2. Login\n",
            "3. Exit\n",
            "Choose an option: 3\n",
            "Exit\n"
          ]
        }
      ]
    },
    {
      "cell_type": "code",
      "source": [
        "def count_frequency():\n",
        "    user_input = input(\"Enter a list of words separated by spaces: \").strip().lower()\n",
        "    words = user_input.split()\n",
        "\n",
        "    word_count = {}\n",
        "\n",
        "    for word in words:\n",
        "        word_count[word] = word_count.get(word, 0) + 1\n",
        "\n",
        "    print(\"\\nWord Frequency:\")\n",
        "    for word, count in word_count.items():\n",
        "        print(f\"{word}: {count}\")\n",
        "\n",
        "count_frequency()\n"
      ],
      "metadata": {
        "colab": {
          "base_uri": "https://localhost:8080/"
        },
        "id": "2v9gOD1OoTMI",
        "outputId": "2f8d366c-fb44-402a-f959-2cdba6aa1391"
      },
      "execution_count": 27,
      "outputs": [
        {
          "output_type": "stream",
          "name": "stdout",
          "text": [
            "Enter a list of words separated by spaces: i my me we i me was were\n",
            "\n",
            "Word Frequency:\n",
            "i: 2\n",
            "my: 1\n",
            "me: 2\n",
            "we: 1\n",
            "was: 1\n",
            "were: 1\n"
          ]
        }
      ]
    },
    {
      "cell_type": "code",
      "source": [
        "def convertor_temperature():\n",
        "    print(\"Temperature Converter\")\n",
        "    print(\"1. C to F\")\n",
        "    print(\"2. F to C\")\n",
        "\n",
        "    choice = input(\"Choose an option (1 or 2): \").strip()\n",
        "\n",
        "    if choice == '1':\n",
        "        c = float(input(\"Enter temperature in Celsius: \"))\n",
        "        f = (c * 9/5) + 32\n",
        "        print(f\"{c}°C is equal to {f:.2f}°F\")\n",
        "\n",
        "    elif choice == '2':\n",
        "        f = float(input(\"Enter temperature in Fahrenheit: \"))\n",
        "        c = (f - 32) * 5/9\n",
        "        print(f\"{f}°F is equal to {c:.2f}°C\")\n",
        "\n",
        "    else:\n",
        "        print(\"Invalid choice! Please enter 1 or 2.\")\n",
        "\n",
        "convertor_temperature()\n"
      ],
      "metadata": {
        "colab": {
          "base_uri": "https://localhost:8080/"
        },
        "id": "SslktyyrpDa3",
        "outputId": "d7d4f7f4-df0e-4a83-ea4f-4d2f3bbed39b"
      },
      "execution_count": 28,
      "outputs": [
        {
          "output_type": "stream",
          "name": "stdout",
          "text": [
            "Temperature Converter\n",
            "1. C to F\n",
            "2. F to C\n",
            "Choose an option (1 or 2): 1\n",
            "Enter temperature in Celsius: 37\n",
            "37.0°C is equal to 98.60°F\n"
          ]
        }
      ]
    }
  ]
}