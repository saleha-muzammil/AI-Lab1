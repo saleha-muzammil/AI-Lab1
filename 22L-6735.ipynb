{
  "cells": [
    {
      "cell_type": "code",
      "execution_count": 1,
      "metadata": {
        "id": "ZAJnZQcr74yr",
        "colab": {
          "base_uri": "https://localhost:8080/"
        },
        "outputId": "03de0ce1-1b4c-45c9-9846-08c75baf6f1d"
      },
      "outputs": [
        {
          "output_type": "stream",
          "name": "stdout",
          "text": [
            "Enter your name:ahmad\n",
            "Enter your age:21\n",
            "Hello ahmadYour age is 21\n"
          ]
        }
      ],
      "source": [
        "name=input(\"Enter your name:\")\n",
        "age=input(\"Enter your age:\")\n",
        "print(\"Hello \"+name+\" Your age is \" +age)"
      ]
    },
    {
      "cell_type": "code",
      "source": [
        "whatIs=input(\"Enter Input:\")\n",
        "n=int(0);\n",
        "\n",
        "try:\n",
        "  whatIs=int(whatIs)\n",
        "  print(whatIs)\n",
        "except:\n",
        "  print(\"Not a integer\")\n",
        "  n=1\n",
        "\n",
        "\n",
        "try:\n",
        "  whatIs=float(whatIs)\n",
        "  print(whatIs)\n",
        "  n=0\n",
        "except:\n",
        "  print(\"Not float\")\n",
        "  n=1\n",
        "\n",
        "\n",
        "if(n==1):\n",
        "  print(\"its String\")\n",
        "\n",
        "\n",
        "\n"
      ],
      "metadata": {
        "colab": {
          "base_uri": "https://localhost:8080/"
        },
        "id": "B10EB7x_yoI4",
        "outputId": "5aa4581a-cada-490c-aa0e-6107b39a6958"
      },
      "execution_count": 34,
      "outputs": [
        {
          "output_type": "stream",
          "name": "stdout",
          "text": [
            "Enter Input:hi\n",
            "Not a integer\n",
            "Not float\n",
            "its String\n"
          ]
        }
      ]
    },
    {
      "cell_type": "code",
      "source": [
        "myList=['a','b','c']\n",
        "print(myList)\n",
        "\n",
        "myList.append('d')\n",
        "print(\"after appending d: \")\n",
        "print(myList)\n",
        "\n",
        "myList.remove('a')\n",
        "print(\"after removing a: \")\n",
        "print(myList)\n",
        "\n",
        "for al in myList:\n",
        "  print(al.upper())\n",
        "\n"
      ],
      "metadata": {
        "colab": {
          "base_uri": "https://localhost:8080/"
        },
        "id": "qTgOspWW2aJR",
        "outputId": "f9e9fd29-8a6c-4ad2-e720-4cf3fe479d2a"
      },
      "execution_count": 14,
      "outputs": [
        {
          "output_type": "stream",
          "name": "stdout",
          "text": [
            "['a', 'b', 'c']\n",
            "after appending d: \n",
            "['a', 'b', 'c', 'd']\n",
            "after removing a: \n",
            "['b', 'c', 'd']\n",
            "B\n",
            "C\n",
            "D\n"
          ]
        }
      ]
    },
    {
      "cell_type": "code",
      "source": [
        "myList=[\"Ahmad\",\"Umer\"]\n",
        "(tall,short)=myList\n",
        "\n",
        "print(tall)\n",
        "print (short)\n"
      ],
      "metadata": {
        "colab": {
          "base_uri": "https://localhost:8080/"
        },
        "id": "xh0uKcpP2vA-",
        "outputId": "b6c2344e-909f-4cc6-b75e-6d01de7ed87b"
      },
      "execution_count": 15,
      "outputs": [
        {
          "output_type": "stream",
          "name": "stdout",
          "text": [
            "Ahmad\n",
            "Umer\n"
          ]
        }
      ]
    },
    {
      "cell_type": "code",
      "source": [
        "n = int(input(\"Enter the number of entries: \"))\n",
        "d = {input(\"Enter key: \"): input(\"Enter value: \") for _ in range(n)}\n",
        "\n",
        "print(d)"
      ],
      "metadata": {
        "colab": {
          "base_uri": "https://localhost:8080/"
        },
        "id": "D1tSzfCk3ru4",
        "outputId": "f6bd84b0-6066-4528-de10-e67f7c52aa16"
      },
      "execution_count": 16,
      "outputs": [
        {
          "output_type": "stream",
          "name": "stdout",
          "text": [
            "Enter the number of entries: 5\n",
            "Enter key: ahmad\n",
            "Enter value: A\n",
            "Enter key: Umer\n",
            "Enter value: F\n",
            "Enter key: ABD\n",
            "Enter value: A\n",
            "Enter key: ali\n",
            "Enter value: C\n",
            "Enter key: Noman\n",
            "Enter value: B+\n",
            "{'ahmad': 'A', 'Umer': 'F', 'ABD': 'A', 'ali': 'C', 'Noman': 'B+'}\n"
          ]
        }
      ]
    },
    {
      "cell_type": "code",
      "source": [
        "\n",
        "l1 = input(\"Enter elements separated by space (for list 1): \").split()\n",
        "\n",
        "print(\"List1:\", l1)\n",
        "\n",
        "\n",
        "l2 = input(\"Enter elements separated by space (for list 2): \").split()\n",
        "\n",
        "print(\"List2:\", l2)\n",
        "\n",
        "\n",
        "l1=set(l1)\n",
        "l2=set(l2)\n",
        "\n",
        "#union\n",
        "print(\"Union:\", l1.union(l2) )\n",
        "\n",
        "\n",
        "#intertsection\n",
        "print(\"Intersection:\", l1.intersection(l2) )\n",
        "\n",
        "\n",
        "\n",
        "#diff\n",
        "print(\"Difference\", l1.difference(l2) )\n"
      ],
      "metadata": {
        "colab": {
          "base_uri": "https://localhost:8080/"
        },
        "id": "f5mHctzc4EFI",
        "outputId": "4c6fe7f2-1e5a-489a-e773-ee76c4d61eb3"
      },
      "execution_count": 19,
      "outputs": [
        {
          "output_type": "stream",
          "name": "stdout",
          "text": [
            "Enter elements separated by space (for list 1): 1 2 3 4 5\n",
            "List1: ['1', '2', '3', '4', '5']\n",
            "Enter elements separated by space (for list 2): 3 4 5 6 7 \n",
            "List2: ['3', '4', '5', '6', '7']\n",
            "Union: {'7', '4', '6', '5', '1', '3', '2'}\n",
            "Intersection: {'5', '4', '3'}\n",
            "Difference {'1', '2'}\n"
          ]
        }
      ]
    },
    {
      "cell_type": "code",
      "source": [],
      "metadata": {
        "id": "9PqkbV3d52wX"
      },
      "execution_count": null,
      "outputs": []
    },
    {
      "cell_type": "code",
      "source": [
        "n=input((\"enter a number:\"))\n",
        "n=int(n)\n",
        "\n",
        "if n>0 :\n",
        "  print(\"positive\")\n",
        "elif n<0 :\n",
        "  print(\"negative\")\n",
        "else :\n",
        "  print(\"zero\")\n",
        "\n",
        "if n%2==0:\n",
        "  print(\"even\")\n",
        "else:\n",
        "  print(\"odd\")"
      ],
      "metadata": {
        "colab": {
          "base_uri": "https://localhost:8080/"
        },
        "id": "6-McYLXG52xb",
        "outputId": "2bbf816c-5595-4877-9377-b89a184ae1ed"
      },
      "execution_count": 24,
      "outputs": [
        {
          "output_type": "stream",
          "name": "stdout",
          "text": [
            "enter a number:7\n",
            "positive\n",
            "odd\n"
          ]
        }
      ]
    },
    {
      "cell_type": "code",
      "source": [
        "for i in range(1,50):\n",
        "  if i%3==0 and i%5==0:\n",
        "    print(\"FizzBuzz \")\n",
        "  elif i%3==0:\n",
        "    print(\"Fizz \")\n",
        "  elif i%5==0:\n",
        "    print(\"Buzz \")\n",
        "  else:\n",
        "    print(i)\n"
      ],
      "metadata": {
        "colab": {
          "base_uri": "https://localhost:8080/"
        },
        "id": "Kf2amGUb6qkp",
        "outputId": "e97dff05-51c6-49d9-a665-188c0ea0eb32"
      },
      "execution_count": 26,
      "outputs": [
        {
          "output_type": "stream",
          "name": "stdout",
          "text": [
            "1\n",
            "2\n",
            "Fizz \n",
            "4\n",
            "Buzz \n",
            "Fizz \n",
            "7\n",
            "8\n",
            "Fizz \n",
            "Buzz \n",
            "11\n",
            "Fizz \n",
            "13\n",
            "14\n",
            "FizzBuzz \n",
            "16\n",
            "17\n",
            "Fizz \n",
            "19\n",
            "Buzz \n",
            "Fizz \n",
            "22\n",
            "23\n",
            "Fizz \n",
            "Buzz \n",
            "26\n",
            "Fizz \n",
            "28\n",
            "29\n",
            "FizzBuzz \n",
            "31\n",
            "32\n",
            "Fizz \n",
            "34\n",
            "Buzz \n",
            "Fizz \n",
            "37\n",
            "38\n",
            "Fizz \n",
            "Buzz \n",
            "41\n",
            "Fizz \n",
            "43\n",
            "44\n",
            "FizzBuzz \n",
            "46\n",
            "47\n",
            "Fizz \n",
            "49\n"
          ]
        }
      ]
    },
    {
      "cell_type": "code",
      "source": [
        "\n",
        "def factorial(n):\n",
        "    if n == 0:\n",
        "        return 1\n",
        "    else:\n",
        "        return n * factorial(n-1)\n",
        "\n",
        "\n",
        "num = int(input(\"Enter a non-negative integer: \"))\n",
        "\n",
        "\n",
        "if num < 0:\n",
        "    print(\"Factorial is not defined for negative numbers.\")\n",
        "else:\n",
        "\n",
        "    print(\"Factorial of\", num, \"is\", factorial(num))\n"
      ],
      "metadata": {
        "colab": {
          "base_uri": "https://localhost:8080/"
        },
        "id": "xBau0oZ4-C4j",
        "outputId": "5fea7bde-6af0-4e7f-87b5-85e6901d6efe"
      },
      "execution_count": 35,
      "outputs": [
        {
          "output_type": "stream",
          "name": "stdout",
          "text": [
            "Enter a non-negative integer: 4\n",
            "Factorial of 4 is 24\n"
          ]
        }
      ]
    },
    {
      "cell_type": "code",
      "source": [
        "\n",
        "def is_prime(num):\n",
        "\n",
        "    if num <= 1:\n",
        "        return False\n",
        "    if num <= 3:\n",
        "        return True\n",
        "\n",
        "    if num % 2 == 0 or num % 3 == 0:\n",
        "        return False\n",
        "\n",
        "    i = 5\n",
        "\n",
        "    while i  < num:\n",
        "        if num % i == 0:\n",
        "            return False\n",
        "        i =i+1;\n",
        "    return True\n",
        "\n",
        "\n",
        "number = int(input(\"Enter a number: \"))\n",
        "\n",
        "\n",
        "if is_prime(number):\n",
        "    print(number ,\"is a prime number.\" )\n",
        "else:\n",
        "    print({number},\" is not a prime number.\")\n"
      ],
      "metadata": {
        "colab": {
          "base_uri": "https://localhost:8080/"
        },
        "id": "kW4DY2OR-Ntp",
        "outputId": "7aa3c30e-0db5-4152-bf70-48a4eef13b86"
      },
      "execution_count": 38,
      "outputs": [
        {
          "output_type": "stream",
          "name": "stdout",
          "text": [
            "Enter a number: 97\n",
            "97 is a prime number.\n"
          ]
        }
      ]
    },
    {
      "cell_type": "code",
      "source": [
        "l = [2,3,4,5,6]\n",
        "newlist = []\n",
        "\n",
        "for x in l:\n",
        "  newlist.append(x*x)\n",
        "\n",
        "print(newlist)"
      ],
      "metadata": {
        "colab": {
          "base_uri": "https://localhost:8080/"
        },
        "id": "QqeTS3QO_HZs",
        "outputId": "6c289dab-1445-4944-dddc-685bf1c897aa"
      },
      "execution_count": 39,
      "outputs": [
        {
          "output_type": "stream",
          "name": "stdout",
          "text": [
            "[4, 9, 16, 25, 36]\n"
          ]
        }
      ]
    },
    {
      "cell_type": "code",
      "source": [
        "d1 = {'a': 1, 'b': 2,'c': 3}\n",
        "d2 = {'c': 4, 'd': 5,'a': 6}\n",
        "\n",
        "d1.update(d2)\n",
        "print(d1)"
      ],
      "metadata": {
        "colab": {
          "base_uri": "https://localhost:8080/"
        },
        "id": "xwq-oBZH_0_I",
        "outputId": "aa6f5859-aef0-4ad3-accd-06adda6eba14"
      },
      "execution_count": 40,
      "outputs": [
        {
          "output_type": "stream",
          "name": "stdout",
          "text": [
            "{'a': 6, 'b': 2, 'c': 4, 'd': 5}\n"
          ]
        }
      ]
    },
    {
      "cell_type": "code",
      "source": [
        "mylist = [1,2,3,4,4,5,6]\n",
        "mylist = list(dict.fromkeys(mylist))\n",
        "print(mylist)"
      ],
      "metadata": {
        "colab": {
          "base_uri": "https://localhost:8080/"
        },
        "id": "PNBVXW_FAXDe",
        "outputId": "e7c306b8-c44c-4e82-fd9a-474e41cfe7d0"
      },
      "execution_count": 41,
      "outputs": [
        {
          "output_type": "stream",
          "name": "stdout",
          "text": [
            "[1, 2, 3, 4, 5, 6]\n"
          ]
        }
      ]
    },
    {
      "cell_type": "code",
      "source": [
        "\n",
        "is_palindrome = lambda phrase: phrase.lower() == phrase[::-1].lower()\n",
        "\n",
        "user_input = input(\"Enter a phrase to check for palindrome: \")\n",
        "\n",
        "if is_palindrome(user_input):\n",
        "    print(user_input,\" is a palindrome.\")\n",
        "else:\n",
        "    print(user_input,\" is not a palindrome.\")\n"
      ],
      "metadata": {
        "colab": {
          "base_uri": "https://localhost:8080/"
        },
        "id": "w5e-9RBfC5kj",
        "outputId": "fef0adc0-ec06-4652-d185-f62532860987"
      },
      "execution_count": 52,
      "outputs": [
        {
          "output_type": "stream",
          "name": "stdout",
          "text": [
            "Enter a phrase to check for palindrome: ehhe\n",
            "ehhe  is a palindrome.\n"
          ]
        }
      ]
    },
    {
      "cell_type": "code",
      "source": [
        "def fibonacci(n):\n",
        "    if n <= 0:\n",
        "        return []\n",
        "    elif n == 1:\n",
        "        return [0]\n",
        "    else:\n",
        "        l = [0, 1]\n",
        "        while len(l) < n:\n",
        "            next_fib = l[-1] + l[-2]\n",
        "            l.append(next_fib)\n",
        "        return l\n",
        "\n",
        "num_terms = int(input(\"Enter the number of terms: \"))\n",
        "fib_sequence = fibonacci(num_terms)\n",
        "print(fib_sequence)\n"
      ],
      "metadata": {
        "colab": {
          "base_uri": "https://localhost:8080/"
        },
        "id": "uhlhYb_IEKmd",
        "outputId": "9ec5dcef-a78b-4faf-8b65-b2de52765e2a"
      },
      "execution_count": 53,
      "outputs": [
        {
          "output_type": "stream",
          "name": "stdout",
          "text": [
            "Enter the number of terms: 5\n",
            "[0, 1, 1, 2, 3]\n"
          ]
        }
      ]
    },
    {
      "cell_type": "code",
      "source": [
        "\n",
        "def cal_average(numbers):\n",
        "    if not numbers:\n",
        "        return None\n",
        "\n",
        "    numeric_numbers = [num for num in numbers if isinstance(num, (int, float))]\n",
        "    if len(numeric_numbers) != len(numbers):\n",
        "        return None\n",
        "\n",
        "    return sum(numeric_numbers) / len(numeric_numbers)\n",
        "\n",
        "\n",
        "def get_numbers():\n",
        "    numbers = []\n",
        "    while True:\n",
        "          num_str = input(\"Enter a number (or type 'done' to finish): \")\n",
        "          if num_str.lower() == 'done':\n",
        "              break\n",
        "          num = float(num_str)\n",
        "          numbers.append(num)\n",
        "\n",
        "    return numbers\n",
        "\n",
        "\n",
        "if __name__ == \"__main__\":\n",
        "    numbers = get_numbers()\n",
        "    average = cal_average(numbers)\n",
        "\n",
        "    if average is not None:\n",
        "        print(\"The average is:\", average)\n",
        "    else:\n",
        "        print(\"Could not calculate the average. Please enter valid numeric input.\")\n"
      ],
      "metadata": {
        "colab": {
          "base_uri": "https://localhost:8080/"
        },
        "id": "OotyIJEeA3lj",
        "outputId": "f277ea39-10ba-4e46-85c6-63cbcf2109b9"
      },
      "execution_count": 4,
      "outputs": [
        {
          "output_type": "stream",
          "name": "stdout",
          "text": [
            "Enter a number (or type 'done' to finish): 2\n",
            "Enter a number (or type 'done' to finish): 2\n",
            "Enter a number (or type 'done' to finish): 2\n",
            "Enter a number (or type 'done' to finish): 2\n",
            "Enter a number (or type 'done' to finish): 2\n",
            "Enter a number (or type 'done' to finish): done\n",
            "The average is: 2.0\n"
          ]
        }
      ]
    },
    {
      "cell_type": "code",
      "source": [
        "for i in range(1,11):\n",
        "  for j in range(1,11):\n",
        "    print(i,\"*\",j,\"=\",i*j)\n",
        "  print()"
      ],
      "metadata": {
        "colab": {
          "base_uri": "https://localhost:8080/"
        },
        "id": "3mqpkmfMC8la",
        "outputId": "1c6a880a-ab89-4f91-8749-d50068839563"
      },
      "execution_count": 54,
      "outputs": [
        {
          "output_type": "stream",
          "name": "stdout",
          "text": [
            "1 * 1 = 1\n",
            "1 * 2 = 2\n",
            "1 * 3 = 3\n",
            "1 * 4 = 4\n",
            "1 * 5 = 5\n",
            "1 * 6 = 6\n",
            "1 * 7 = 7\n",
            "1 * 8 = 8\n",
            "1 * 9 = 9\n",
            "1 * 10 = 10\n",
            "\n",
            "2 * 1 = 2\n",
            "2 * 2 = 4\n",
            "2 * 3 = 6\n",
            "2 * 4 = 8\n",
            "2 * 5 = 10\n",
            "2 * 6 = 12\n",
            "2 * 7 = 14\n",
            "2 * 8 = 16\n",
            "2 * 9 = 18\n",
            "2 * 10 = 20\n",
            "\n",
            "3 * 1 = 3\n",
            "3 * 2 = 6\n",
            "3 * 3 = 9\n",
            "3 * 4 = 12\n",
            "3 * 5 = 15\n",
            "3 * 6 = 18\n",
            "3 * 7 = 21\n",
            "3 * 8 = 24\n",
            "3 * 9 = 27\n",
            "3 * 10 = 30\n",
            "\n",
            "4 * 1 = 4\n",
            "4 * 2 = 8\n",
            "4 * 3 = 12\n",
            "4 * 4 = 16\n",
            "4 * 5 = 20\n",
            "4 * 6 = 24\n",
            "4 * 7 = 28\n",
            "4 * 8 = 32\n",
            "4 * 9 = 36\n",
            "4 * 10 = 40\n",
            "\n",
            "5 * 1 = 5\n",
            "5 * 2 = 10\n",
            "5 * 3 = 15\n",
            "5 * 4 = 20\n",
            "5 * 5 = 25\n",
            "5 * 6 = 30\n",
            "5 * 7 = 35\n",
            "5 * 8 = 40\n",
            "5 * 9 = 45\n",
            "5 * 10 = 50\n",
            "\n",
            "6 * 1 = 6\n",
            "6 * 2 = 12\n",
            "6 * 3 = 18\n",
            "6 * 4 = 24\n",
            "6 * 5 = 30\n",
            "6 * 6 = 36\n",
            "6 * 7 = 42\n",
            "6 * 8 = 48\n",
            "6 * 9 = 54\n",
            "6 * 10 = 60\n",
            "\n",
            "7 * 1 = 7\n",
            "7 * 2 = 14\n",
            "7 * 3 = 21\n",
            "7 * 4 = 28\n",
            "7 * 5 = 35\n",
            "7 * 6 = 42\n",
            "7 * 7 = 49\n",
            "7 * 8 = 56\n",
            "7 * 9 = 63\n",
            "7 * 10 = 70\n",
            "\n",
            "8 * 1 = 8\n",
            "8 * 2 = 16\n",
            "8 * 3 = 24\n",
            "8 * 4 = 32\n",
            "8 * 5 = 40\n",
            "8 * 6 = 48\n",
            "8 * 7 = 56\n",
            "8 * 8 = 64\n",
            "8 * 9 = 72\n",
            "8 * 10 = 80\n",
            "\n",
            "9 * 1 = 9\n",
            "9 * 2 = 18\n",
            "9 * 3 = 27\n",
            "9 * 4 = 36\n",
            "9 * 5 = 45\n",
            "9 * 6 = 54\n",
            "9 * 7 = 63\n",
            "9 * 8 = 72\n",
            "9 * 9 = 81\n",
            "9 * 10 = 90\n",
            "\n",
            "10 * 1 = 10\n",
            "10 * 2 = 20\n",
            "10 * 3 = 30\n",
            "10 * 4 = 40\n",
            "10 * 5 = 50\n",
            "10 * 6 = 60\n",
            "10 * 7 = 70\n",
            "10 * 8 = 80\n",
            "10 * 9 = 90\n",
            "10 * 10 = 100\n",
            "\n"
          ]
        }
      ]
    },
    {
      "cell_type": "code",
      "source": [
        "\n",
        "def register(users):\n",
        "    username = input(\"Enter a username: \")\n",
        "    if username in users:\n",
        "        print(\"Username already exists. Please choose a different name.\")\n",
        "        return\n",
        "    password = input(\"Enter a password: \")\n",
        "    users[username] = password\n",
        "    print(\"Registration successful!\")\n",
        "\n",
        "\n",
        "def login(users):\n",
        "    username = input(\"Enter your username: \")\n",
        "    if username not in users:\n",
        "        print(\"Invalid username.\")\n",
        "        return False\n",
        "    password = input(\"Enter your password: \")\n",
        "    if password == users[username]:\n",
        "        print(\"Login successful!\")\n",
        "        return True\n",
        "    else:\n",
        "        print(\"Incorrect password.\")\n",
        "        return False\n",
        "\n",
        "\n",
        "users = {}\n",
        "\n",
        "while True:\n",
        "    action = input(\"Do you want to register(r), login(l), or quit(q)? \")\n",
        "    if action.lower() == 'r':\n",
        "        register(users)\n",
        "    elif action.lower() == 'l':\n",
        "        login(users)\n",
        "    elif action.lower() == 'q':\n",
        "        break\n",
        "    else:\n",
        "        print(\"Invalid action. Please try again.\")\n"
      ],
      "metadata": {
        "colab": {
          "base_uri": "https://localhost:8080/"
        },
        "id": "OPBkj7MlCaIW",
        "outputId": "cd5bcfb4-7681-45ae-93e4-2ef5990c0d29"
      },
      "execution_count": 55,
      "outputs": [
        {
          "name": "stdout",
          "output_type": "stream",
          "text": [
            "Do you want to register(r), login(l), or quit(q)? r\n",
            "Enter a username: ahmad123\n",
            "Enter a password: hello12\n",
            "Registration successful!\n",
            "Do you want to register(r), login(l), or quit(q)? l\n",
            "Enter your username: ahmad1\n",
            "Invalid username.\n",
            "Do you want to register(r), login(l), or quit(q)? ahmad123\n",
            "Invalid action. Please try again.\n",
            "Do you want to register(r), login(l), or quit(q)? l\n",
            "Enter your username: ahmad123\n",
            "Enter your password: hello12\n",
            "Login successful!\n",
            "Do you want to register(r), login(l), or quit(q)? q\n"
          ]
        }
      ]
    },
    {
      "cell_type": "code",
      "source": [
        "\n",
        "def word_frequency(text):\n",
        "\n",
        "  words = text.lower().split()\n",
        "  frequency = {}\n",
        "  for word in words:\n",
        "    frequency[word] = frequency.get(word, 0) + 1\n",
        "  return frequency\n",
        "\n",
        "word_frequency( \"hello World hello\")"
      ],
      "metadata": {
        "colab": {
          "base_uri": "https://localhost:8080/"
        },
        "id": "shHw7cDSHvVb",
        "outputId": "1e8c2bbf-0595-4c60-fa2c-1363eb54c1a8"
      },
      "execution_count": 56,
      "outputs": [
        {
          "output_type": "execute_result",
          "data": {
            "text/plain": [
              "{'hello': 2, 'world': 1}"
            ]
          },
          "metadata": {},
          "execution_count": 56
        }
      ]
    },
    {
      "cell_type": "code",
      "source": [
        "\n",
        "def convert_temperature():\n",
        "\n",
        "    temp_val = float(input(\"Enter temperature value: \"))\n",
        "\n",
        "    while True:\n",
        "        unit = input(\"Enter unit (C for Celsius, F for Fahrenheit): \").upper()\n",
        "        if unit in ('C', 'F'):\n",
        "            break\n",
        "        else:\n",
        "            print(\"Invalid unit. Please enter 'C' or 'F'.\")\n",
        "\n",
        "    if unit == 'C':\n",
        "        converted_temp = (temp_val * 9/5) + 32\n",
        "        print(temp_val,\"°C is equal to\", converted_temp,\"°F\")\n",
        "    else:\n",
        "        converted_temp = (temp_val - 32) * 5/9\n",
        "        print(temp_val,\" °F is equal to \" ,converted_temp,\"°C\")\n",
        "\n",
        "convert_temperature()\n"
      ],
      "metadata": {
        "colab": {
          "base_uri": "https://localhost:8080/"
        },
        "id": "MB8RPeXoI9ka",
        "outputId": "1c462bb3-addf-468e-a841-bba967315010"
      },
      "execution_count": 1,
      "outputs": [
        {
          "output_type": "stream",
          "name": "stdout",
          "text": [
            "Enter temperature value: 10\n",
            "Enter unit (C for Celsius, F for Fahrenheit): c\n",
            "10.0 °C is equal to 50.0 °F\n"
          ]
        }
      ]
    },
    {
      "cell_type": "code",
      "source": [],
      "metadata": {
        "id": "V82RbNwCHvYE"
      },
      "execution_count": null,
      "outputs": []
    }
  ],
  "metadata": {
    "colab": {
      "provenance": []
    },
    "kernelspec": {
      "display_name": "Python 3",
      "name": "python3"
    },
    "language_info": {
      "name": "python"
    }
  },
  "nbformat": 4,
  "nbformat_minor": 0
}