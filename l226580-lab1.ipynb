{
  "nbformat": 4,
  "nbformat_minor": 0,
  "metadata": {
    "colab": {
      "provenance": []
    },
    "kernelspec": {
      "name": "python3",
      "display_name": "Python 3"
    },
    "language_info": {
      "name": "python"
    }
  },
  "cells": [
    {
      "cell_type": "code",
      "execution_count": 1,
      "metadata": {
        "colab": {
          "base_uri": "https://localhost:8080/"
        },
        "id": "3WdBNxRZ1eYq",
        "outputId": "6c3ef0a7-9d24-47db-a47d-ab5a411b34e9"
      },
      "outputs": [
        {
          "output_type": "stream",
          "name": "stdout",
          "text": [
            "Enter your name: areeb\n",
            "Enter your age: 12\n",
            "Hello, areeb! You are 12 years old.\n"
          ]
        }
      ],
      "source": [
        "name = input(\"Enter your name: \")\n",
        "age = input(\"Enter your age: \")\n",
        "print(f\"Hello, {name}! You are {age} years old.\")"
      ]
    },
    {
      "cell_type": "code",
      "source": [
        "a = input(\"Enter something: \")\n",
        "try:\n",
        "    b = int(a)\n",
        "    print(f\"The input is an integer: {b}\")\n",
        "except ValueError:\n",
        "    try:\n",
        "        value = float(a)\n",
        "        print(f\"The input is a float: {b}\")\n",
        "    except ValueError:\n",
        "        print(f\"The input is a string: {a}\")"
      ],
      "metadata": {
        "colab": {
          "base_uri": "https://localhost:8080/"
        },
        "id": "HoeAUtRs2B-B",
        "outputId": "6bb92f69-00f5-4f90-9548-d3e3e919c15c"
      },
      "execution_count": 3,
      "outputs": [
        {
          "output_type": "stream",
          "name": "stdout",
          "text": [
            "Enter something: 12.5\n",
            "The input is a float: 12\n"
          ]
        }
      ]
    },
    {
      "cell_type": "code",
      "source": [
        "my_list = ['apple', 'banana', 'cherry']\n",
        "my_list.append('date')\n",
        "my_list.remove('banana')\n",
        "for item in my_list:\n",
        "    print(item.upper())"
      ],
      "metadata": {
        "colab": {
          "base_uri": "https://localhost:8080/"
        },
        "id": "ogEVPcxF38IC",
        "outputId": "5194b914-b67e-493f-ffa6-a746f4e11f4b"
      },
      "execution_count": 4,
      "outputs": [
        {
          "output_type": "stream",
          "name": "stdout",
          "text": [
            "APPLE\n",
            "CHERRY\n",
            "DATE\n"
          ]
        }
      ]
    },
    {
      "cell_type": "code",
      "source": [
        "my_tuple = (10, 20, 30, 40)\n",
        "first= my_tuple[0]\n",
        "second= my_tuple[1]\n",
        "print(f\"First element: {first}, Second element: {second}\")"
      ],
      "metadata": {
        "colab": {
          "base_uri": "https://localhost:8080/"
        },
        "id": "EnFw59Fd4SoK",
        "outputId": "eb749084-b389-483f-8975-8081a34b9f35"
      },
      "execution_count": 5,
      "outputs": [
        {
          "output_type": "stream",
          "name": "stdout",
          "text": [
            "First element: 10, Second element: 20\n"
          ]
        }
      ]
    },
    {
      "cell_type": "code",
      "source": [
        "students = {\n",
        "    'Alice': 85,\n",
        "    'Bob': 90,\n",
        "    'Charlie': 78,\n",
        "    'Diana': 92,\n",
        "    'Eve': 88\n",
        "}\n",
        "\n",
        "print(students)"
      ],
      "metadata": {
        "id": "zl5Snx-t4qjr"
      },
      "execution_count": null,
      "outputs": []
    },
    {
      "cell_type": "code",
      "source": [
        "list1 = [1, 2, 3, 4, 5, 5]\n",
        "list2 = [4, 5, 6, 7, 8]\n",
        "\n",
        "set1 = set(list1)\n",
        "set2 = set(list2)\n",
        "print(f\"{set1}\")\n",
        "print(f\"Union: {set1.union(set2)}\")\n",
        "print(f\"Intersection: {set1.intersection(set2)}\")\n",
        "print(f\"Difference (set1 - set2): {set1.difference(set2)}\")"
      ],
      "metadata": {
        "colab": {
          "base_uri": "https://localhost:8080/"
        },
        "id": "NGd7zE6z5ZuK",
        "outputId": "11d4eb56-18cb-465e-b6e2-6ba3a0976e8d"
      },
      "execution_count": 7,
      "outputs": [
        {
          "output_type": "stream",
          "name": "stdout",
          "text": [
            "{1, 2, 3, 4, 5}\n",
            "Union: {1, 2, 3, 4, 5, 6, 7, 8}\n",
            "Intersection: {4, 5}\n",
            "Difference (set1 - set2): {1, 2, 3}\n"
          ]
        }
      ]
    },
    {
      "cell_type": "code",
      "source": [
        "number = int(input(\"Enter an integer: \"))\n",
        "if number > 0:\n",
        "    print(\"The number is positive.\")\n",
        "elif number < 0:\n",
        "    print(\"The number is negative.\")\n",
        "else:\n",
        "    print(\"The number is zero.\")\n",
        "\n",
        "if number % 2 == 0:\n",
        "    print(\"The number is even.\")\n",
        "else:\n",
        "    print(\"The number is odd.\")"
      ],
      "metadata": {
        "colab": {
          "base_uri": "https://localhost:8080/"
        },
        "id": "h13Ey8Eo54aJ",
        "outputId": "375e595f-a211-43d8-8bf9-db287dec97b5"
      },
      "execution_count": 8,
      "outputs": [
        {
          "output_type": "stream",
          "name": "stdout",
          "text": [
            "Enter an integer: -14\n",
            "The number is negative.\n",
            "The number is even.\n"
          ]
        }
      ]
    },
    {
      "cell_type": "code",
      "source": [
        "for i in range(1,50):\n",
        "    if i % 3 == 0 and i % 5 == 0:\n",
        "        print(\"FizzBuzz\")\n",
        "    elif i % 3 == 0:\n",
        "        print(\"Fizz\")\n",
        "    elif i % 5 == 0:\n",
        "        print(\"Buzz\")\n",
        "    else:\n",
        "        print(i)"
      ],
      "metadata": {
        "colab": {
          "base_uri": "https://localhost:8080/"
        },
        "collapsed": true,
        "id": "IJpj-R3i6uL9",
        "outputId": "638deae4-f7a0-41af-fad0-845dea984289"
      },
      "execution_count": 11,
      "outputs": [
        {
          "output_type": "stream",
          "name": "stdout",
          "text": [
            "1\n",
            "2\n",
            "Fizz\n",
            "4\n",
            "Buzz\n",
            "Fizz\n",
            "7\n",
            "8\n",
            "Fizz\n",
            "Buzz\n",
            "11\n",
            "Fizz\n",
            "13\n",
            "14\n",
            "FizzBuzz\n",
            "16\n",
            "17\n",
            "Fizz\n",
            "19\n",
            "Buzz\n",
            "Fizz\n",
            "22\n",
            "23\n",
            "Fizz\n",
            "Buzz\n",
            "26\n",
            "Fizz\n",
            "28\n",
            "29\n",
            "FizzBuzz\n",
            "31\n",
            "32\n",
            "Fizz\n",
            "34\n",
            "Buzz\n",
            "Fizz\n",
            "37\n",
            "38\n",
            "Fizz\n",
            "Buzz\n",
            "41\n",
            "Fizz\n",
            "43\n",
            "44\n",
            "FizzBuzz\n",
            "46\n",
            "47\n",
            "Fizz\n",
            "49\n"
          ]
        }
      ]
    },
    {
      "cell_type": "code",
      "source": [
        "a = int(input(\"Enter a number: \"))\n",
        "result = 1\n",
        "for i in range(2, a + 1):\n",
        "        result *= i\n",
        "print(result)"
      ],
      "metadata": {
        "colab": {
          "base_uri": "https://localhost:8080/"
        },
        "id": "oKsQDiGu72a5",
        "outputId": "cdbfa0ef-bd77-45d6-a842-b5c8f4b6639b"
      },
      "execution_count": 13,
      "outputs": [
        {
          "output_type": "stream",
          "name": "stdout",
          "text": [
            "Enter a number: 3\n",
            "6\n"
          ]
        }
      ]
    },
    {
      "cell_type": "code",
      "source": [
        "def is_prime(n):\n",
        "    if n <= 1:\n",
        "        return False\n",
        "    for i in range(2, int(n**0.5) + 1):\n",
        "        if n % i == 0:\n",
        "            return False\n",
        "    return True\n",
        "\n",
        "number = int(input(\"Enter a number: \"))\n",
        "if is_prime(number):\n",
        "    print(f\"{number} is a prime number.\")\n",
        "else:\n",
        "    print(f\"{number} is not a prime number.\")\n",
        "\n"
      ],
      "metadata": {
        "colab": {
          "base_uri": "https://localhost:8080/"
        },
        "id": "X3x0VWb69MkX",
        "outputId": "09267c30-3112-4f70-d5ce-b1bb52bae64a"
      },
      "execution_count": 15,
      "outputs": [
        {
          "output_type": "stream",
          "name": "stdout",
          "text": [
            "Enter a number: 67\n",
            "67 is a prime number.\n"
          ]
        }
      ]
    },
    {
      "cell_type": "code",
      "source": [
        "numbers = [1, 2, 3, 4, 5]\n",
        "square = [x**2 for x in numbers]\n",
        "print(square)"
      ],
      "metadata": {
        "colab": {
          "base_uri": "https://localhost:8080/"
        },
        "id": "ZD4unAch_TcE",
        "outputId": "ef7633a4-24f8-4d64-8827-16c69e745182"
      },
      "execution_count": 18,
      "outputs": [
        {
          "output_type": "stream",
          "name": "stdout",
          "text": [
            "[1, 4, 9, 16, 25]\n"
          ]
        }
      ]
    },
    {
      "cell_type": "code",
      "source": [
        "dict1 = {'a': 1, 'b': 2}\n",
        "dict2 = {'b': 3, 'c': 4}\n",
        "merge = {**dict1, **dict2}\n",
        "print(merge)"
      ],
      "metadata": {
        "colab": {
          "base_uri": "https://localhost:8080/"
        },
        "id": "inuLbM-c_9aZ",
        "outputId": "a7aad264-80fe-4217-e4f7-7569d234e056"
      },
      "execution_count": 19,
      "outputs": [
        {
          "output_type": "stream",
          "name": "stdout",
          "text": [
            "{'a': 1, 'b': 3, 'c': 4}\n"
          ]
        }
      ]
    },
    {
      "cell_type": "code",
      "source": [
        "def remove_duplicates(lst):\n",
        "    seen = set()\n",
        "    result = []\n",
        "    for item in lst:\n",
        "        if item not in seen:\n",
        "            seen.add(item)\n",
        "            result.append(item)\n",
        "    return result\n",
        "\n",
        "numbers = [2, 3, 1, 3, 4, 5, 4]\n",
        "print(remove_duplicates(numbers))"
      ],
      "metadata": {
        "colab": {
          "base_uri": "https://localhost:8080/"
        },
        "id": "rNqXjSmPBuQr",
        "outputId": "8f1b2c94-83e9-4953-f8f2-7099b8600293"
      },
      "execution_count": 23,
      "outputs": [
        {
          "output_type": "stream",
          "name": "stdout",
          "text": [
            "[2, 3, 1, 4, 5]\n"
          ]
        }
      ]
    },
    {
      "cell_type": "code",
      "source": [
        "ispalindrome = lambda s: s == s[::-1]\n",
        "print(ispalindrome(\"madam\"))"
      ],
      "metadata": {
        "colab": {
          "base_uri": "https://localhost:8080/"
        },
        "id": "eNKiklIBD0EY",
        "outputId": "40b5e341-3023-4cae-d12d-47e0c76df7c9"
      },
      "execution_count": 24,
      "outputs": [
        {
          "output_type": "stream",
          "name": "stdout",
          "text": [
            "True\n"
          ]
        }
      ]
    },
    {
      "cell_type": "code",
      "source": [
        "def fibonacci(n):\n",
        "    a, b = 0, 1\n",
        "    for i in range(0,n):\n",
        "        print(a, end=\" \")\n",
        "        temp = a + b\n",
        "        a = b\n",
        "        b = temp\n",
        "\n",
        "n_terms = int(input(\"Enter the number of terms: \"))\n",
        "fibonacci(n_terms)\n"
      ],
      "metadata": {
        "colab": {
          "base_uri": "https://localhost:8080/"
        },
        "id": "wjMvmrG4FZO8",
        "outputId": "4ee48b25-8f9b-44ac-db48-2682cb50b03b"
      },
      "execution_count": 33,
      "outputs": [
        {
          "output_type": "stream",
          "name": "stdout",
          "text": [
            "Enter the number of terms: 5\n",
            "0 1 1 2 3 "
          ]
        }
      ]
    },
    {
      "cell_type": "code",
      "source": [
        "def calculate_average():\n",
        "    numbers = []\n",
        "    while True:\n",
        "        user_input = input(\"Enter a number (or 'done' to finish): \")\n",
        "        if user_input.lower() == 'done':\n",
        "            break\n",
        "        try:\n",
        "            number = float(user_input)\n",
        "            numbers.append(number)\n",
        "        except ValueError:\n",
        "            print(\"Invalid input. Please enter a valid number.\")\n",
        "\n",
        "    if numbers:\n",
        "        average = sum(numbers) / len(numbers)\n",
        "        print(f\"The average is: {average}\")\n",
        "    else:\n",
        "        print(\"No numbers were entered.\")\n",
        "\n",
        "calculate_average()"
      ],
      "metadata": {
        "colab": {
          "base_uri": "https://localhost:8080/"
        },
        "collapsed": true,
        "id": "VySXUbAOHW2v",
        "outputId": "b5e3d96b-7865-4498-a94f-43f5df33e66e"
      },
      "execution_count": 34,
      "outputs": [
        {
          "output_type": "stream",
          "name": "stdout",
          "text": [
            "Enter a number (or 'done' to finish): 5\n",
            "Enter a number (or 'done' to finish): 5\n",
            "Enter a number (or 'done' to finish): 6\n",
            "Enter a number (or 'done' to finish): 5\n",
            "Enter a number (or 'done' to finish): 7\n",
            "Enter a number (or 'done' to finish): 7\n",
            "Enter a number (or 'done' to finish): 4\n",
            "Enter a number (or 'done' to finish): 3\n",
            "Enter a number (or 'done' to finish): 3\n",
            "Enter a number (or 'done' to finish): done\n",
            "The average is: 5.0\n"
          ]
        }
      ]
    },
    {
      "cell_type": "code",
      "source": [
        "for i in range(1, 11):\n",
        "    for j in range(1, 11):\n",
        "        print(f\"{i} x {j} = {i * j}\")\n"
      ],
      "metadata": {
        "colab": {
          "base_uri": "https://localhost:8080/"
        },
        "collapsed": true,
        "id": "1lJ4gdr6H5zZ",
        "outputId": "3eeb5ec9-1dd5-4637-87fb-1fdcfe283b32"
      },
      "execution_count": 37,
      "outputs": [
        {
          "output_type": "stream",
          "name": "stdout",
          "text": [
            "1 x 1 = 1\n",
            "1 x 2 = 2\n",
            "1 x 3 = 3\n",
            "1 x 4 = 4\n",
            "1 x 5 = 5\n",
            "1 x 6 = 6\n",
            "1 x 7 = 7\n",
            "1 x 8 = 8\n",
            "1 x 9 = 9\n",
            "1 x 10 = 10\n",
            "2 x 1 = 2\n",
            "2 x 2 = 4\n",
            "2 x 3 = 6\n",
            "2 x 4 = 8\n",
            "2 x 5 = 10\n",
            "2 x 6 = 12\n",
            "2 x 7 = 14\n",
            "2 x 8 = 16\n",
            "2 x 9 = 18\n",
            "2 x 10 = 20\n",
            "3 x 1 = 3\n",
            "3 x 2 = 6\n",
            "3 x 3 = 9\n",
            "3 x 4 = 12\n",
            "3 x 5 = 15\n",
            "3 x 6 = 18\n",
            "3 x 7 = 21\n",
            "3 x 8 = 24\n",
            "3 x 9 = 27\n",
            "3 x 10 = 30\n",
            "4 x 1 = 4\n",
            "4 x 2 = 8\n",
            "4 x 3 = 12\n",
            "4 x 4 = 16\n",
            "4 x 5 = 20\n",
            "4 x 6 = 24\n",
            "4 x 7 = 28\n",
            "4 x 8 = 32\n",
            "4 x 9 = 36\n",
            "4 x 10 = 40\n",
            "5 x 1 = 5\n",
            "5 x 2 = 10\n",
            "5 x 3 = 15\n",
            "5 x 4 = 20\n",
            "5 x 5 = 25\n",
            "5 x 6 = 30\n",
            "5 x 7 = 35\n",
            "5 x 8 = 40\n",
            "5 x 9 = 45\n",
            "5 x 10 = 50\n",
            "6 x 1 = 6\n",
            "6 x 2 = 12\n",
            "6 x 3 = 18\n",
            "6 x 4 = 24\n",
            "6 x 5 = 30\n",
            "6 x 6 = 36\n",
            "6 x 7 = 42\n",
            "6 x 8 = 48\n",
            "6 x 9 = 54\n",
            "6 x 10 = 60\n",
            "7 x 1 = 7\n",
            "7 x 2 = 14\n",
            "7 x 3 = 21\n",
            "7 x 4 = 28\n",
            "7 x 5 = 35\n",
            "7 x 6 = 42\n",
            "7 x 7 = 49\n",
            "7 x 8 = 56\n",
            "7 x 9 = 63\n",
            "7 x 10 = 70\n",
            "8 x 1 = 8\n",
            "8 x 2 = 16\n",
            "8 x 3 = 24\n",
            "8 x 4 = 32\n",
            "8 x 5 = 40\n",
            "8 x 6 = 48\n",
            "8 x 7 = 56\n",
            "8 x 8 = 64\n",
            "8 x 9 = 72\n",
            "8 x 10 = 80\n",
            "9 x 1 = 9\n",
            "9 x 2 = 18\n",
            "9 x 3 = 27\n",
            "9 x 4 = 36\n",
            "9 x 5 = 45\n",
            "9 x 6 = 54\n",
            "9 x 7 = 63\n",
            "9 x 8 = 72\n",
            "9 x 9 = 81\n",
            "9 x 10 = 90\n",
            "10 x 1 = 10\n",
            "10 x 2 = 20\n",
            "10 x 3 = 30\n",
            "10 x 4 = 40\n",
            "10 x 5 = 50\n",
            "10 x 6 = 60\n",
            "10 x 7 = 70\n",
            "10 x 8 = 80\n",
            "10 x 9 = 90\n",
            "10 x 10 = 100\n"
          ]
        }
      ]
    },
    {
      "cell_type": "code",
      "source": [
        "creds = {'Areeb': 'tree',\n",
        "            'Aun' : 'cake',\n",
        "            'Saqib': 'most'}\n",
        "username = input(\"Enter your username: \")\n",
        "password = input(\"Enter your password: \")\n",
        "if username in creds and creds[username] == password:\n",
        "      print(\"Login successful\")\n",
        "else:\n",
        "      print(\"Invalid credentials.\")"
      ],
      "metadata": {
        "colab": {
          "base_uri": "https://localhost:8080/"
        },
        "collapsed": true,
        "id": "3iEsJ9-1IWej",
        "outputId": "393b4130-1fd4-4c31-e116-99f143da63d4"
      },
      "execution_count": 41,
      "outputs": [
        {
          "output_type": "stream",
          "name": "stdout",
          "text": [
            "Enter your username: g\n",
            "Enter your password: k\n",
            "Invalid credentials.\n"
          ]
        }
      ]
    },
    {
      "cell_type": "code",
      "source": [
        "words = input(\"Enter a sentence: \").split()\n",
        "word_count = {}\n",
        "for word in words:\n",
        "    if word in word_count:\n",
        "        word_count[word] += 1\n",
        "    else:\n",
        "        word_count[word] = 1\n",
        "print(word_count)"
      ],
      "metadata": {
        "colab": {
          "base_uri": "https://localhost:8080/"
        },
        "id": "6ApAynuBJTVo",
        "outputId": "9f204b59-4733-411f-f1a6-a5504e51404c"
      },
      "execution_count": 42,
      "outputs": [
        {
          "output_type": "stream",
          "name": "stdout",
          "text": [
            "Enter a sentence: kj oh kj\n",
            "{'kj': 2, 'oh': 1}\n"
          ]
        }
      ]
    },
    {
      "cell_type": "code",
      "source": [
        "def temperature_converter():\n",
        "    print(\"1. Celsius to Fahrenheit\")\n",
        "    print(\"2. Fahrenheit to Celsius\")\n",
        "    choice = int(input(\"Enter your choice (1 or 2): \"))\n",
        "    if choice == 1:\n",
        "        celsius = float(input(\"Enter temperature in Celsius: \"))\n",
        "        fahrenheit = (celsius * 9/5) + 32\n",
        "        print(f\"{celsius}°C is {fahrenheit}°F\")\n",
        "    elif choice == 2:\n",
        "        fahrenheit = float(input(\"Enter temperature in Fahrenheit: \"))\n",
        "        celsius = (fahrenheit - 32) * 5/9\n",
        "        print(f\"{fahrenheit}°F is {celsius}°C\")\n",
        "    else:\n",
        "        print(\"Invalid choice.\")\n",
        "temperature_converter()"
      ],
      "metadata": {
        "colab": {
          "base_uri": "https://localhost:8080/"
        },
        "id": "BYiVHlYFJ1A9",
        "outputId": "bd0f46c4-f5e6-4b19-f87e-94a081b34254"
      },
      "execution_count": 43,
      "outputs": [
        {
          "output_type": "stream",
          "name": "stdout",
          "text": [
            "1. Celsius to Fahrenheit\n",
            "2. Fahrenheit to Celsius\n",
            "Enter your choice (1 or 2): 2\n",
            "Enter temperature in Fahrenheit: 300\n",
            "300.0°F is 148.88888888888889°C\n"
          ]
        }
      ]
    }
  ]
}