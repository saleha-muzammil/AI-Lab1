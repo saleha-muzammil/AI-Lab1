{
  "nbformat": 4,
  "nbformat_minor": 0,
  "metadata": {
    "colab": {
      "provenance": []
    },
    "kernelspec": {
      "name": "python3",
      "display_name": "Python 3"
    },
    "language_info": {
      "name": "python"
    }
  },
  "cells": [
    {
      "cell_type": "markdown",
      "source": [
        "**Q1**"
      ],
      "metadata": {
        "id": "vDy-ncbO1nDT"
      }
    },
    {
      "cell_type": "code",
      "execution_count": 1,
      "metadata": {
        "colab": {
          "base_uri": "https://localhost:8080/"
        },
        "id": "mcQKpAcI1eTz",
        "outputId": "5bda7bd4-ef34-41b3-e699-e628b673a202"
      },
      "outputs": [
        {
          "output_type": "stream",
          "name": "stdout",
          "text": [
            "enter name: aun\n",
            "enter age: 22\n",
            "hello aun. your age is 22\n"
          ]
        }
      ],
      "source": [
        "name=input(\"enter name: \")\n",
        "age=input(\"enter age: \")\n",
        "print(f\"hello {name}. your age is {age}\")"
      ]
    },
    {
      "cell_type": "code",
      "source": [
        "a = input(\"enter input\")\n",
        "try:\n",
        "  a= float(a)\n",
        "  print(\"integer entered\")\n",
        "except:\n",
        "  print(\"stirng entered\")"
      ],
      "metadata": {
        "colab": {
          "base_uri": "https://localhost:8080/"
        },
        "id": "TTpaxaKo2Clv",
        "outputId": "d8d78ae9-9adb-4812-f4cc-608e1f191401"
      },
      "execution_count": 2,
      "outputs": [
        {
          "output_type": "stream",
          "name": "stdout",
          "text": [
            "enter input1\n",
            "integer entered\n"
          ]
        }
      ]
    },
    {
      "cell_type": "code",
      "source": [
        "l1= ['aun','saqib']\n",
        "l1.append('areeb')\n",
        "l1.remove('areeb')\n",
        "for i in l1:\n",
        "  print(i.upper())"
      ],
      "metadata": {
        "colab": {
          "base_uri": "https://localhost:8080/"
        },
        "id": "hT-hJ5Yj3C_A",
        "outputId": "c877c4a6-5360-44ca-a0b0-9b68de934276"
      },
      "execution_count": 4,
      "outputs": [
        {
          "output_type": "stream",
          "name": "stdout",
          "text": [
            "AUN\n",
            "SAQIB\n"
          ]
        }
      ]
    },
    {
      "cell_type": "code",
      "source": [
        "t1=(1,2,3)\n",
        "a=t1[0]\n",
        "b=t1[1]\n",
        "print(a)\n",
        "print(b)\n"
      ],
      "metadata": {
        "colab": {
          "base_uri": "https://localhost:8080/"
        },
        "id": "8IYzQ8_i3_kI",
        "outputId": "fe18845c-5f7f-4b36-dabd-c6d4de0bc1e6"
      },
      "execution_count": 5,
      "outputs": [
        {
          "output_type": "stream",
          "name": "stdout",
          "text": [
            "1\n",
            "2\n"
          ]
        }
      ]
    },
    {
      "cell_type": "code",
      "source": [
        "dict={\n",
        "    'aun': 'B',\n",
        "    'areeb': 'A',\n",
        "    'saqib': \" A\",\n",
        "}\n",
        "\n",
        "for i in dict.keys():\n",
        "  print(f\"{i}: {dict[i]}\")"
      ],
      "metadata": {
        "colab": {
          "base_uri": "https://localhost:8080/"
        },
        "id": "bMaknASv4tDA",
        "outputId": "62524197-822e-4746-f1f7-c5d103352eac"
      },
      "execution_count": 7,
      "outputs": [
        {
          "output_type": "stream",
          "name": "stdout",
          "text": [
            "aun: B\n",
            "areeb: A\n",
            "saqib:  A\n"
          ]
        }
      ]
    },
    {
      "cell_type": "code",
      "source": [
        "l1=[4,6,2]\n",
        "l2=[2,8,4]\n",
        "\n",
        "l1=set(l1)\n",
        "l2=set(l2)\n",
        "print(l1.union(l2))\n",
        "\n",
        "print (l1.intersection(l2))\n",
        "print(l1.difference(l2))\n"
      ],
      "metadata": {
        "colab": {
          "base_uri": "https://localhost:8080/"
        },
        "id": "Aw_4hkS_509Y",
        "outputId": "0d550245-394e-4275-8b8e-0af423e3b4ad"
      },
      "execution_count": 8,
      "outputs": [
        {
          "output_type": "stream",
          "name": "stdout",
          "text": [
            "{2, 4, 6, 8}\n",
            "{2, 4}\n",
            "{6}\n"
          ]
        }
      ]
    },
    {
      "cell_type": "code",
      "source": [
        "num= int(input())\n",
        "if num<0:\n",
        "  print (\"num is negative\")\n",
        "elif num>0:\n",
        "  print (\"num is positive\")\n",
        "else:\n",
        "  print('num is zero')\n",
        "\n",
        "if (num%2==0):\n",
        "  print(\"num is even\")\n",
        "else:\n",
        "  print(\"num is odd\")"
      ],
      "metadata": {
        "colab": {
          "base_uri": "https://localhost:8080/"
        },
        "id": "S6WGFJz17ldf",
        "outputId": "cfe0d63e-431d-415e-c178-ee36e8b87d0e"
      },
      "execution_count": 9,
      "outputs": [
        {
          "output_type": "stream",
          "name": "stdout",
          "text": [
            "3\n",
            "num is positive\n",
            "num is odd\n"
          ]
        }
      ]
    },
    {
      "cell_type": "code",
      "source": [
        "for i in range(1, 51):\n",
        "  if i % 3 == 0 and i % 5 == 0:\n",
        "    print(\"FizzBuzz\")\n",
        "  elif i % 3 == 0:\n",
        "    print(\"Fizz\")\n",
        "  elif i % 5 == 0:\n",
        "    print(\"Buzz\")\n"
      ],
      "metadata": {
        "colab": {
          "base_uri": "https://localhost:8080/"
        },
        "id": "jqSGEXu28Dem",
        "outputId": "2f70930a-f098-43eb-98f5-bee711e9096e"
      },
      "execution_count": 10,
      "outputs": [
        {
          "output_type": "stream",
          "name": "stdout",
          "text": [
            "Fizz\n",
            "Buzz\n",
            "Fizz\n",
            "Fizz\n",
            "Buzz\n",
            "Fizz\n",
            "FizzBuzz\n",
            "Fizz\n",
            "Buzz\n",
            "Fizz\n",
            "Fizz\n",
            "Buzz\n",
            "Fizz\n",
            "FizzBuzz\n",
            "Fizz\n",
            "Buzz\n",
            "Fizz\n",
            "Fizz\n",
            "Buzz\n",
            "Fizz\n",
            "FizzBuzz\n",
            "Fizz\n",
            "Buzz\n"
          ]
        }
      ]
    },
    {
      "cell_type": "code",
      "source": [
        "num= int(input())\n",
        "factorial=1\n",
        "for i in range (1,num+1):\n",
        "  factorial=factorial*i\n",
        "print(factorial)"
      ],
      "metadata": {
        "colab": {
          "base_uri": "https://localhost:8080/"
        },
        "id": "P8-1UYZ-8RMF",
        "outputId": "f4107ec0-aa43-4d77-d89d-0258c4c43cbf"
      },
      "execution_count": 15,
      "outputs": [
        {
          "output_type": "stream",
          "name": "stdout",
          "text": [
            "5\n",
            "120\n"
          ]
        }
      ]
    },
    {
      "cell_type": "code",
      "source": [
        "def is_prime(number):\n",
        "  if number <= 1:\n",
        "    return False\n",
        "  for i in range (2, int(number**0.5)+1):\n",
        "    if number % i == 0:\n",
        "      return False\n",
        "  return True\n",
        "\n",
        "number = int(input(\"Enter a number: \"))\n",
        "if is_prime(number):\n",
        "  print(f\"{number} is a prime number.\")\n",
        "else:\n",
        "  print(f\"{number} is not a prime number.\")"
      ],
      "metadata": {
        "colab": {
          "base_uri": "https://localhost:8080/"
        },
        "id": "63Y7Q7yt9xZF",
        "outputId": "23e79d42-a55d-4296-bf33-d673b5f30569"
      },
      "execution_count": 19,
      "outputs": [
        {
          "output_type": "stream",
          "name": "stdout",
          "text": [
            "Enter a number: 67\n",
            "67 is a prime number.\n"
          ]
        }
      ]
    },
    {
      "cell_type": "code",
      "source": [
        "def square_list(numbers):\n",
        "    return [x**2 for x in numbers]\n",
        "nums=[1,2,3,4,5]\n",
        "for i in square_list(nums):\n",
        "  print(i)"
      ],
      "metadata": {
        "colab": {
          "base_uri": "https://localhost:8080/"
        },
        "id": "AygLTXLZ-UH1",
        "outputId": "978d2030-d88f-471e-d403-57b0b8052306"
      },
      "execution_count": 21,
      "outputs": [
        {
          "output_type": "stream",
          "name": "stdout",
          "text": [
            "1\n",
            "4\n",
            "9\n",
            "16\n",
            "25\n"
          ]
        }
      ]
    },
    {
      "cell_type": "code",
      "source": [
        "dict1 = {'a': 3, 'b': 7}\n",
        "dict2 = {'b': 3, 'c': 9}\n",
        "\n",
        "merged_dict = {**dict1, **dict2}\n",
        "print(merged_dict)"
      ],
      "metadata": {
        "colab": {
          "base_uri": "https://localhost:8080/"
        },
        "id": "KhwR0VkX_SlE",
        "outputId": "3708814e-ec87-45b1-dfe2-001d2eeea73b"
      },
      "execution_count": 24,
      "outputs": [
        {
          "output_type": "stream",
          "name": "stdout",
          "text": [
            "{'a': 1, 'b': 3, 'c': 4}\n"
          ]
        }
      ]
    },
    {
      "cell_type": "code",
      "source": [
        "def remove_duplicates(lst):\n",
        "    seen = set()\n",
        "    result = []\n",
        "    for item in lst:\n",
        "        if item not in seen:\n",
        "            seen.add(item)\n",
        "            result.append(item)\n",
        "    return result\n",
        "\n",
        "numbers = [5,3,6,2,7,34,6,4,4,32,67,5,8,3,9,2,3,5]\n",
        "print(remove_duplicates(numbers))\n",
        ""
      ],
      "metadata": {
        "colab": {
          "base_uri": "https://localhost:8080/"
        },
        "id": "XHYdUior_0PY",
        "outputId": "cb792e08-978a-4677-fa60-9b84779a4720"
      },
      "execution_count": 26,
      "outputs": [
        {
          "output_type": "stream",
          "name": "stdout",
          "text": [
            "[5, 3, 6, 2, 7, 34, 4, 32, 67, 8, 9]\n"
          ]
        }
      ]
    },
    {
      "cell_type": "code",
      "source": [
        "is_palindrome = lambda s: s == s[::-1]\n",
        "\n",
        "\n",
        "string = 'ghg'\n",
        "\n",
        "\n",
        "if is_palindrome(string):\n",
        "  print(f\"{string} is a palindrome.\")\n",
        "else:\n",
        "  print(f\"{string} is not a palindrome.\")"
      ],
      "metadata": {
        "colab": {
          "base_uri": "https://localhost:8080/"
        },
        "id": "w9bHA6faBfIa",
        "outputId": "6d6e88a4-1450-4df4-9878-5f64b1a5008a"
      },
      "execution_count": 28,
      "outputs": [
        {
          "output_type": "stream",
          "name": "stdout",
          "text": [
            "ghg is a palindrome.\n"
          ]
        }
      ]
    },
    {
      "cell_type": "code",
      "source": [
        "\n",
        "def fibonacci_sequence(n):\n",
        "\n",
        "    if n <= 0:\n",
        "        return []\n",
        "    elif n == 1:\n",
        "        return [0]\n",
        "    else:\n",
        "        list_fib = [0, 1]\n",
        "        while len(list_fib) < n:\n",
        "            next_fib = list_fib[-1] + list_fib[-2]\n",
        "            list_fib.append(next_fib)\n",
        "        return list_fib\n",
        "\n",
        "\n",
        "n = 10\n",
        "fib_numbers = fibonacci_sequence(n)\n",
        "fib_numbers\n"
      ],
      "metadata": {
        "colab": {
          "base_uri": "https://localhost:8080/"
        },
        "id": "elDf99tsEpdq",
        "outputId": "803a42bf-7d3a-4657-d902-7c724f07f9a2"
      },
      "execution_count": 30,
      "outputs": [
        {
          "output_type": "execute_result",
          "data": {
            "text/plain": [
              "[0, 1, 1, 2, 3, 5, 8, 13, 21, 34]"
            ]
          },
          "metadata": {},
          "execution_count": 30
        }
      ]
    },
    {
      "cell_type": "code",
      "source": [
        "def calculate_average():\n",
        "    numbers = []\n",
        "    while True:\n",
        "        user_input = input(\"Enter a number or '.' to finish: \")\n",
        "        if user_input.lower() == '.':\n",
        "            break\n",
        "        try:\n",
        "            number = float(user_input)\n",
        "            numbers.append(number)\n",
        "        except ValueError:\n",
        "            print(\"Invalid input. Please enter a valid number.\")\n",
        "\n",
        "    if numbers:\n",
        "        average = sum(numbers) / len(numbers)\n",
        "        print(f\"average= {average}\")\n",
        "    else:\n",
        "        print(\"list empty.\")\n",
        "\n",
        "calculate_average()"
      ],
      "metadata": {
        "colab": {
          "base_uri": "https://localhost:8080/"
        },
        "id": "mJ0Pe9_aErbJ",
        "outputId": "277dae32-0e86-4d8a-f260-644454759502"
      },
      "execution_count": 31,
      "outputs": [
        {
          "output_type": "stream",
          "name": "stdout",
          "text": [
            "Enter a number or '.' to finish: 1\n",
            "Enter a number or '.' to finish: 2\n",
            "Enter a number or '.' to finish: .\n",
            "average= 1.5\n"
          ]
        }
      ]
    },
    {
      "cell_type": "code",
      "source": [
        "for i in range(1, 11):\n",
        "    for j in range(1, 11):\n",
        "        print(f\"{i} x {j} = {i * j}\")\n"
      ],
      "metadata": {
        "colab": {
          "base_uri": "https://localhost:8080/"
        },
        "id": "qTwffKSlFpgX",
        "outputId": "040d8a78-0aa4-4505-e819-920b055ad2b1"
      },
      "execution_count": 34,
      "outputs": [
        {
          "output_type": "stream",
          "name": "stdout",
          "text": [
            "1 x 1 = 1\n",
            "1 x 2 = 2\n",
            "1 x 3 = 3\n",
            "1 x 4 = 4\n",
            "1 x 5 = 5\n",
            "1 x 6 = 6\n",
            "1 x 7 = 7\n",
            "1 x 8 = 8\n",
            "1 x 9 = 9\n",
            "1 x 10 = 10\n",
            "2 x 1 = 2\n",
            "2 x 2 = 4\n",
            "2 x 3 = 6\n",
            "2 x 4 = 8\n",
            "2 x 5 = 10\n",
            "2 x 6 = 12\n",
            "2 x 7 = 14\n",
            "2 x 8 = 16\n",
            "2 x 9 = 18\n",
            "2 x 10 = 20\n",
            "3 x 1 = 3\n",
            "3 x 2 = 6\n",
            "3 x 3 = 9\n",
            "3 x 4 = 12\n",
            "3 x 5 = 15\n",
            "3 x 6 = 18\n",
            "3 x 7 = 21\n",
            "3 x 8 = 24\n",
            "3 x 9 = 27\n",
            "3 x 10 = 30\n",
            "4 x 1 = 4\n",
            "4 x 2 = 8\n",
            "4 x 3 = 12\n",
            "4 x 4 = 16\n",
            "4 x 5 = 20\n",
            "4 x 6 = 24\n",
            "4 x 7 = 28\n",
            "4 x 8 = 32\n",
            "4 x 9 = 36\n",
            "4 x 10 = 40\n",
            "5 x 1 = 5\n",
            "5 x 2 = 10\n",
            "5 x 3 = 15\n",
            "5 x 4 = 20\n",
            "5 x 5 = 25\n",
            "5 x 6 = 30\n",
            "5 x 7 = 35\n",
            "5 x 8 = 40\n",
            "5 x 9 = 45\n",
            "5 x 10 = 50\n",
            "6 x 1 = 6\n",
            "6 x 2 = 12\n",
            "6 x 3 = 18\n",
            "6 x 4 = 24\n",
            "6 x 5 = 30\n",
            "6 x 6 = 36\n",
            "6 x 7 = 42\n",
            "6 x 8 = 48\n",
            "6 x 9 = 54\n",
            "6 x 10 = 60\n",
            "7 x 1 = 7\n",
            "7 x 2 = 14\n",
            "7 x 3 = 21\n",
            "7 x 4 = 28\n",
            "7 x 5 = 35\n",
            "7 x 6 = 42\n",
            "7 x 7 = 49\n",
            "7 x 8 = 56\n",
            "7 x 9 = 63\n",
            "7 x 10 = 70\n",
            "8 x 1 = 8\n",
            "8 x 2 = 16\n",
            "8 x 3 = 24\n",
            "8 x 4 = 32\n",
            "8 x 5 = 40\n",
            "8 x 6 = 48\n",
            "8 x 7 = 56\n",
            "8 x 8 = 64\n",
            "8 x 9 = 72\n",
            "8 x 10 = 80\n",
            "9 x 1 = 9\n",
            "9 x 2 = 18\n",
            "9 x 3 = 27\n",
            "9 x 4 = 36\n",
            "9 x 5 = 45\n",
            "9 x 6 = 54\n",
            "9 x 7 = 63\n",
            "9 x 8 = 72\n",
            "9 x 9 = 81\n",
            "9 x 10 = 90\n",
            "10 x 1 = 10\n",
            "10 x 2 = 20\n",
            "10 x 3 = 30\n",
            "10 x 4 = 40\n",
            "10 x 5 = 50\n",
            "10 x 6 = 60\n",
            "10 x 7 = 70\n",
            "10 x 8 = 80\n",
            "10 x 9 = 90\n",
            "10 x 10 = 100\n"
          ]
        }
      ]
    },
    {
      "cell_type": "code",
      "source": [
        "logins={\n",
        "    'aun':'pass1',\n",
        "    'areeb':'pass2',\n",
        "    'saqib':'pass3',\n",
        "}\n",
        "username=input(\"enter username: \")\n",
        "password=input(\"enter password: \")\n",
        "if username in logins and logins[username]==password:\n",
        "  print(\"login successful\")\n",
        "else:\n",
        "  print(\"login failed\")"
      ],
      "metadata": {
        "colab": {
          "base_uri": "https://localhost:8080/"
        },
        "id": "BP8Kde0xGQgx",
        "outputId": "d5cbaca4-d30a-4465-c900-eb03f761dc7e"
      },
      "execution_count": 35,
      "outputs": [
        {
          "output_type": "stream",
          "name": "stdout",
          "text": [
            "enter username: aun\n",
            "enter password: f\n",
            "login failed\n"
          ]
        }
      ]
    },
    {
      "cell_type": "code",
      "source": [
        "l1=['a','the','fog','a','fog','a']\n",
        "count={}\n",
        "for i in l1:\n",
        "  if i in count:\n",
        "    count[i]+=1\n",
        "  else:\n",
        "    count[i]=1\n",
        "print(count)\n"
      ],
      "metadata": {
        "colab": {
          "base_uri": "https://localhost:8080/"
        },
        "id": "dCy7zsibG-e7",
        "outputId": "432b564c-5d08-4540-b14f-59ed5457bd28"
      },
      "execution_count": 36,
      "outputs": [
        {
          "output_type": "stream",
          "name": "stdout",
          "text": [
            "{'a': 3, 'the': 1, 'fog': 2}\n"
          ]
        }
      ]
    },
    {
      "cell_type": "code",
      "source": [
        "temp=float(input('enter temp:'))\n",
        "conv=input('enter C to convert to celsius. F to convert to fahrenheit:')\n",
        "if conv=='C':\n",
        "  print(5/9*(temp-32))\n",
        "else:\n",
        "  print((9/5)*temp + 32)"
      ],
      "metadata": {
        "colab": {
          "base_uri": "https://localhost:8080/"
        },
        "id": "myHLW_jQH23m",
        "outputId": "4830cd1e-29e6-40a7-8cd3-92ff8b455d16"
      },
      "execution_count": 38,
      "outputs": [
        {
          "output_type": "stream",
          "name": "stdout",
          "text": [
            "enter temp:56\n",
            "enter C to convert to celsius. F to convert to fahrenheit:C\n",
            "13.333333333333334\n"
          ]
        }
      ]
    },
    {
      "cell_type": "code",
      "source": [],
      "metadata": {
        "id": "y0OmdUVmI7ZG"
      },
      "execution_count": null,
      "outputs": []
    }
  ]
}