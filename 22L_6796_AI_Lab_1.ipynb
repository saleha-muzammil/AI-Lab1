{
  "nbformat": 4,
  "nbformat_minor": 0,
  "metadata": {
    "colab": {
      "provenance": []
    },
    "kernelspec": {
      "name": "python3",
      "display_name": "Python 3"
    },
    "language_info": {
      "name": "python"
    }
  },
  "cells": [
    {
      "cell_type": "code",
      "execution_count": null,
      "metadata": {
        "colab": {
          "base_uri": "https://localhost:8080/"
        },
        "id": "kY9rBNBL0VZB",
        "outputId": "29f04ed1-a4b7-4f1b-e0b0-7faa7d91894a"
      },
      "outputs": [
        {
          "output_type": "stream",
          "name": "stdout",
          "text": [
            "Enter your name:Arham\n",
            "Enter your age:21\n",
            "Hello Arham, Your age is 21.\n"
          ]
        }
      ],
      "source": [
        "name = input(\"Enter your name:\")\n",
        "age = int(input(\"Enter your age:\"))\n",
        "\n",
        "print (f\"Hello {name}, Your age is {age}.\")"
      ]
    },
    {
      "cell_type": "code",
      "source": [
        "number = input(\"enter a number \")\n",
        "try:\n",
        "  number = int(number)\n",
        "  print (type(number))\n",
        "except:\n",
        "  try:\n",
        "    number = float(number)\n",
        "    print(type(number))\n",
        "  except:\n",
        "    print(\"Not a number\")"
      ],
      "metadata": {
        "colab": {
          "base_uri": "https://localhost:8080/"
        },
        "id": "s0vHy0S-1Wfu",
        "outputId": "01baacbd-476e-46b7-c036-2bc2721ff2b3"
      },
      "execution_count": null,
      "outputs": [
        {
          "output_type": "stream",
          "name": "stdout",
          "text": [
            "enter a numberty\n",
            "Not a number\n"
          ]
        }
      ]
    },
    {
      "cell_type": "code",
      "source": [
        "arr = [\"jug\",\"bilal\",\"dict\"]\n",
        "arr.append(\"Abdullah\")\n",
        "arr.remove(\"dict\")\n",
        "\n",
        "for word in arr:\n",
        "  print(word.upper())\n"
      ],
      "metadata": {
        "colab": {
          "base_uri": "https://localhost:8080/"
        },
        "id": "hVrnMxNB3H71",
        "outputId": "0a9424f5-0667-4ee6-a386-888b3157db0a"
      },
      "execution_count": null,
      "outputs": [
        {
          "output_type": "stream",
          "name": "stdout",
          "text": [
            "JUG\n",
            "BILAL\n",
            "ABDULLAH\n"
          ]
        }
      ]
    },
    {
      "cell_type": "code",
      "source": [
        "tuple = (1,2,3,4,5)\n",
        "\n",
        "a,b = tuple[0],tuple[1]\n",
        "\n",
        "print (a)\n",
        "print (b)"
      ],
      "metadata": {
        "colab": {
          "base_uri": "https://localhost:8080/"
        },
        "id": "UWaEzXoT3-dN",
        "outputId": "7968c741-e6d7-4be0-84e4-28e1c48aa7af"
      },
      "execution_count": null,
      "outputs": [
        {
          "output_type": "stream",
          "name": "stdout",
          "text": [
            "1\n",
            "2\n"
          ]
        }
      ]
    },
    {
      "cell_type": "code",
      "source": [
        "dict = {\n",
        "    \"1\":\"Arham\",\n",
        "    \"2\":\"Bilal\",\n",
        "    \"3\":\"Raif\",\n",
        "    \"4\":\"Abdullah\",\n",
        "    \"5\":\"Asjad\"\n",
        "    }\n",
        "\n",
        "for e in dict:\n",
        "  print(f\"{e} is {dict[e]}\")"
      ],
      "metadata": {
        "colab": {
          "base_uri": "https://localhost:8080/"
        },
        "id": "8mzzfhrB4NmW",
        "outputId": "f04c5dd8-9e10-4924-f453-6aae7a442bf3"
      },
      "execution_count": null,
      "outputs": [
        {
          "output_type": "stream",
          "name": "stdout",
          "text": [
            "1 is Arham\n",
            "2 is Bilal\n",
            "3 is Raif\n",
            "4 is Abdullah\n",
            "5 is Asjad\n"
          ]
        }
      ]
    },
    {
      "cell_type": "code",
      "source": [
        "list1 = []\n",
        "list2 = []\n",
        "\n",
        "for i in range(5):\n",
        "  a = int(input(\"Enter element for first list:\"))\n",
        "  b = int(input(\"Enter element for second list:\"))\n",
        "\n",
        "  list1.append(a)\n",
        "  list2.append(b)\n",
        "\n",
        "set1 = set(list1)\n",
        "set2 = set(list2)\n",
        "\n",
        "print(f\"Union of the sets is: {set1.union(set2)}\")\n",
        "print(f\"Intersection of the sets is: {set1.intersection(set2)}\")\n",
        "print(f\"Difference of the sets is: {set1.difference(set2)}\")"
      ],
      "metadata": {
        "colab": {
          "base_uri": "https://localhost:8080/"
        },
        "id": "xz9Gdrqo4twS",
        "outputId": "5082c5db-8597-45e9-b3d8-4a38a7c1f3ce"
      },
      "execution_count": null,
      "outputs": [
        {
          "output_type": "stream",
          "name": "stdout",
          "text": [
            "Enter element for first list:1\n",
            "Enter element for second list:1\n",
            "Enter element for first list:2\n",
            "Enter element for second list:3\n",
            "Enter element for first list:4\n",
            "Enter element for second list:5\n",
            "Enter element for first list:6\n",
            "Enter element for second list:7\n",
            "Enter element for first list:8\n",
            "Enter element for second list:9\n",
            "Union of the sets is: {1, 2, 3, 4, 5, 6, 7, 8, 9}\n",
            "Intersection of the sets is: {1}\n",
            "Difference of the sets is: {8, 2, 4, 6}\n"
          ]
        }
      ]
    },
    {
      "cell_type": "code",
      "source": [
        "number = int(input(\"Enter a number\"))\n",
        "\n",
        "if number > 0:\n",
        "  print(\"Number is positive\")\n",
        "elif number == 0:\n",
        "  print(\"Number is 0\")\n",
        "else:\n",
        "  print(\"Number is negative\")\n",
        "\n",
        "if number % 2 == 0:\n",
        "  print(\"Number is even\")\n",
        "else:\n",
        "  print(\"Number is odd\")"
      ],
      "metadata": {
        "id": "ghNgKZYO5ubf",
        "colab": {
          "base_uri": "https://localhost:8080/"
        },
        "outputId": "f31efa92-b745-4cd9-b0ec-4c213df9ff83"
      },
      "execution_count": 15,
      "outputs": [
        {
          "output_type": "stream",
          "name": "stdout",
          "text": [
            "Enter a number24\n",
            "Number is positive\n",
            "Number is even\n"
          ]
        }
      ]
    },
    {
      "cell_type": "code",
      "source": [
        "for i in range(1,50):\n",
        "  if i % 3 == 0 and i % 5 == 0:\n",
        "    print(\"FizzBuzz\")\n",
        "  elif i % 5 == 0:\n",
        "    print(\"Buzz\")\n",
        "  elif i % 3 == 0:\n",
        "    print(\"Fizz\")"
      ],
      "metadata": {
        "colab": {
          "base_uri": "https://localhost:8080/"
        },
        "id": "7eW1URgA6iFd",
        "outputId": "ce2c1fb6-0cf2-4874-92ad-01e7cdde8b2a"
      },
      "execution_count": 16,
      "outputs": [
        {
          "output_type": "stream",
          "name": "stdout",
          "text": [
            "Fizz\n",
            "Buzz\n",
            "Fizz\n",
            "Fizz\n",
            "Buzz\n",
            "Fizz\n",
            "FizzBuzz\n",
            "Fizz\n",
            "Buzz\n",
            "Fizz\n",
            "Fizz\n",
            "Buzz\n",
            "Fizz\n",
            "FizzBuzz\n",
            "Fizz\n",
            "Buzz\n",
            "Fizz\n",
            "Fizz\n",
            "Buzz\n",
            "Fizz\n",
            "FizzBuzz\n",
            "Fizz\n"
          ]
        }
      ]
    },
    {
      "cell_type": "code",
      "source": [
        "def FactorialFunction(number):\n",
        "  if (number < 0):\n",
        "    print(\"Nuber doesnt have a factorial\")\n",
        "    return\n",
        "  elif number == 0 or number == 1:\n",
        "    return 1\n",
        "\n",
        "  fact = 1\n",
        "  for i in range(1,number+1):\n",
        "    fact = fact * i\n",
        "\n",
        "  return fact\n",
        "\n",
        "print(FactorialFunction(5))"
      ],
      "metadata": {
        "colab": {
          "base_uri": "https://localhost:8080/"
        },
        "id": "pY2RP4Ce6-7t",
        "outputId": "9a4681fa-f5c9-4c26-aed4-d3d3e4904ad6"
      },
      "execution_count": 19,
      "outputs": [
        {
          "output_type": "stream",
          "name": "stdout",
          "text": [
            "120\n"
          ]
        }
      ]
    },
    {
      "cell_type": "code",
      "source": [
        "def PrimeCheck(number):\n",
        "  if(number < 0):\n",
        "    print(\"Number cant be determined.\")\n",
        "    return\n",
        "  for i in range(2,number):\n",
        "    if (number % i == 0):\n",
        "      return False\n",
        "  return True\n",
        "\n",
        "print(PrimeCheck(7))"
      ],
      "metadata": {
        "colab": {
          "base_uri": "https://localhost:8080/"
        },
        "id": "F6W64O3y7llk",
        "outputId": "c894c9ae-0158-497b-cfbc-5551ab42077f"
      },
      "execution_count": 21,
      "outputs": [
        {
          "output_type": "stream",
          "name": "stdout",
          "text": [
            "True\n"
          ]
        }
      ]
    },
    {
      "cell_type": "code",
      "source": [
        "def Square(arr):\n",
        "  return [element**2 for element in arr]\n",
        "\n",
        "arr = [2,3,4,5]\n",
        "\n",
        "print(Square(arr))"
      ],
      "metadata": {
        "colab": {
          "base_uri": "https://localhost:8080/"
        },
        "id": "dE3_A1uH8QDe",
        "outputId": "5b36e7f2-062b-41ba-8654-c4ca8fe423a7"
      },
      "execution_count": 22,
      "outputs": [
        {
          "output_type": "stream",
          "name": "stdout",
          "text": [
            "[4, 9, 16, 25]\n"
          ]
        }
      ]
    },
    {
      "cell_type": "code",
      "source": [
        "dict1 = {\"1\":\"A\",\"2\":\"B\",\"3\":\"C\"}\n",
        "dict2 = {\"1\":\"D\", \"4\":\"G\"}\n",
        "dict1.update(dict2)\n",
        "\n",
        "print(dict1)"
      ],
      "metadata": {
        "colab": {
          "base_uri": "https://localhost:8080/"
        },
        "id": "2jXOl-7y8pLZ",
        "outputId": "c271e367-dee0-4f6f-b320-da5b71731b21"
      },
      "execution_count": 24,
      "outputs": [
        {
          "output_type": "stream",
          "name": "stdout",
          "text": [
            "{'1': 'D', '2': 'B', '3': 'C', '4': 'G'}\n"
          ]
        }
      ]
    },
    {
      "cell_type": "code",
      "source": [
        "def RemoveDups(arr):\n",
        "  dict = {}\n",
        "  newArr = []\n",
        "\n",
        "  for e in arr:\n",
        "    if (e in dict.keys() and dict[e] == 1):\n",
        "      continue\n",
        "\n",
        "    dict[e] = 1\n",
        "    newArr.append(e)\n",
        "\n",
        "  return newArr\n",
        "\n",
        "print(RemoveDups([1,2,3,1,4,5,1,3]))"
      ],
      "metadata": {
        "colab": {
          "base_uri": "https://localhost:8080/"
        },
        "id": "zrWVnqiw9ZxM",
        "outputId": "9e23d022-7962-4ee0-df5b-9b12bc0a38b1"
      },
      "execution_count": 26,
      "outputs": [
        {
          "output_type": "stream",
          "name": "stdout",
          "text": [
            "[1, 2, 3, 4, 5]\n"
          ]
        }
      ]
    },
    {
      "cell_type": "code",
      "source": [
        "IsPalindrome = lambda word: word.upper().replace(\" \",\"\") == word.upper().replace(\" \",\"\")[::-1]\n",
        "\n",
        "print(IsPalindrome(\"Raceca f\"))\n"
      ],
      "metadata": {
        "colab": {
          "base_uri": "https://localhost:8080/"
        },
        "id": "ZNEL_-en_B8C",
        "outputId": "c898d845-2cfc-483c-82d1-66cd81159d59"
      },
      "execution_count": 28,
      "outputs": [
        {
          "output_type": "stream",
          "name": "stdout",
          "text": [
            "False\n"
          ]
        }
      ]
    },
    {
      "cell_type": "code",
      "source": [
        "def Fibonnaci(num):\n",
        "  arr = [0,1]\n",
        "\n",
        "  if num == 1 or num == 2:\n",
        "    return arr[num]\n",
        "\n",
        "  for i in range (3,num+1):\n",
        "    arr.append(arr[i-2] + arr[i-3])\n",
        "\n",
        "  return arr\n",
        "\n",
        "print(Fibonnaci(9))"
      ],
      "metadata": {
        "colab": {
          "base_uri": "https://localhost:8080/"
        },
        "id": "MJHuwzoABEgI",
        "outputId": "f75aa4aa-0b82-4dd1-c04b-3f544431524d"
      },
      "execution_count": 33,
      "outputs": [
        {
          "output_type": "stream",
          "name": "stdout",
          "text": [
            "[0, 1, 1, 2, 3, 5, 8, 13, 21]\n"
          ]
        }
      ]
    },
    {
      "cell_type": "code",
      "source": [
        "tot = int(input(\"How many numbers:\"))\n",
        "\n",
        "arr = []\n",
        "for i in range(tot):\n",
        "  arr.append(int(input(\"Enter number:\")))\n",
        "sum = 0\n",
        "\n",
        "for i in arr:\n",
        "  sum = sum + i\n",
        "\n",
        "print(sum / tot)"
      ],
      "metadata": {
        "colab": {
          "base_uri": "https://localhost:8080/"
        },
        "id": "pnBfmorOB2z_",
        "outputId": "1c0ee372-43d4-423a-8f70-e84e2e0a04ae"
      },
      "execution_count": 34,
      "outputs": [
        {
          "output_type": "stream",
          "name": "stdout",
          "text": [
            "How many numbers:4\n",
            "Enter number:2\n",
            "Enter number:2\n",
            "Enter number:2\n",
            "Enter number:4\n",
            "2.5\n"
          ]
        }
      ]
    },
    {
      "cell_type": "code",
      "source": [
        "for i in range(10):\n",
        "  for j in range(10):\n",
        "    print(f\"{i+1} * {j+1} = {(i+1) * (j+1)}\")"
      ],
      "metadata": {
        "colab": {
          "base_uri": "https://localhost:8080/"
        },
        "id": "ep5PYyTMCajx",
        "outputId": "271a6ae0-1a44-42f2-9010-fe860a727f74"
      },
      "execution_count": 36,
      "outputs": [
        {
          "output_type": "stream",
          "name": "stdout",
          "text": [
            "1 * 1 = 1\n",
            "1 * 2 = 2\n",
            "1 * 3 = 3\n",
            "1 * 4 = 4\n",
            "1 * 5 = 5\n",
            "1 * 6 = 6\n",
            "1 * 7 = 7\n",
            "1 * 8 = 8\n",
            "1 * 9 = 9\n",
            "1 * 10 = 10\n",
            "2 * 1 = 2\n",
            "2 * 2 = 4\n",
            "2 * 3 = 6\n",
            "2 * 4 = 8\n",
            "2 * 5 = 10\n",
            "2 * 6 = 12\n",
            "2 * 7 = 14\n",
            "2 * 8 = 16\n",
            "2 * 9 = 18\n",
            "2 * 10 = 20\n",
            "3 * 1 = 3\n",
            "3 * 2 = 6\n",
            "3 * 3 = 9\n",
            "3 * 4 = 12\n",
            "3 * 5 = 15\n",
            "3 * 6 = 18\n",
            "3 * 7 = 21\n",
            "3 * 8 = 24\n",
            "3 * 9 = 27\n",
            "3 * 10 = 30\n",
            "4 * 1 = 4\n",
            "4 * 2 = 8\n",
            "4 * 3 = 12\n",
            "4 * 4 = 16\n",
            "4 * 5 = 20\n",
            "4 * 6 = 24\n",
            "4 * 7 = 28\n",
            "4 * 8 = 32\n",
            "4 * 9 = 36\n",
            "4 * 10 = 40\n",
            "5 * 1 = 5\n",
            "5 * 2 = 10\n",
            "5 * 3 = 15\n",
            "5 * 4 = 20\n",
            "5 * 5 = 25\n",
            "5 * 6 = 30\n",
            "5 * 7 = 35\n",
            "5 * 8 = 40\n",
            "5 * 9 = 45\n",
            "5 * 10 = 50\n",
            "6 * 1 = 6\n",
            "6 * 2 = 12\n",
            "6 * 3 = 18\n",
            "6 * 4 = 24\n",
            "6 * 5 = 30\n",
            "6 * 6 = 36\n",
            "6 * 7 = 42\n",
            "6 * 8 = 48\n",
            "6 * 9 = 54\n",
            "6 * 10 = 60\n",
            "7 * 1 = 7\n",
            "7 * 2 = 14\n",
            "7 * 3 = 21\n",
            "7 * 4 = 28\n",
            "7 * 5 = 35\n",
            "7 * 6 = 42\n",
            "7 * 7 = 49\n",
            "7 * 8 = 56\n",
            "7 * 9 = 63\n",
            "7 * 10 = 70\n",
            "8 * 1 = 8\n",
            "8 * 2 = 16\n",
            "8 * 3 = 24\n",
            "8 * 4 = 32\n",
            "8 * 5 = 40\n",
            "8 * 6 = 48\n",
            "8 * 7 = 56\n",
            "8 * 8 = 64\n",
            "8 * 9 = 72\n",
            "8 * 10 = 80\n",
            "9 * 1 = 9\n",
            "9 * 2 = 18\n",
            "9 * 3 = 27\n",
            "9 * 4 = 36\n",
            "9 * 5 = 45\n",
            "9 * 6 = 54\n",
            "9 * 7 = 63\n",
            "9 * 8 = 72\n",
            "9 * 9 = 81\n",
            "9 * 10 = 90\n",
            "10 * 1 = 10\n",
            "10 * 2 = 20\n",
            "10 * 3 = 30\n",
            "10 * 4 = 40\n",
            "10 * 5 = 50\n",
            "10 * 6 = 60\n",
            "10 * 7 = 70\n",
            "10 * 8 = 80\n",
            "10 * 9 = 90\n",
            "10 * 10 = 100\n"
          ]
        }
      ]
    },
    {
      "cell_type": "code",
      "source": [
        "users = {\"Arham\":\"123\",\"Raif\":\"123\",\"Bilal\":\"123\"}\n",
        "\n",
        "print(\"Registering...\")\n",
        "\n",
        "name = input(\"Enter name:\")\n",
        "password = input(\"Enter password:\")\n",
        "\n",
        "users[name] = password\n",
        "\n",
        "print(\"Loggin In...\")\n",
        "\n",
        "name = input(\"Enter name:\")\n",
        "password = input(\"Enter password:\")\n",
        "\n",
        "if (name in users.keys() and users[name] == password):\n",
        "  print(\"Logged In\")\n",
        "else:\n",
        "  print(\"No user\")"
      ],
      "metadata": {
        "colab": {
          "base_uri": "https://localhost:8080/"
        },
        "id": "LnShxQRiC0PU",
        "outputId": "1cc43bee-6423-45fd-db33-642d830055ee"
      },
      "execution_count": 38,
      "outputs": [
        {
          "output_type": "stream",
          "name": "stdout",
          "text": [
            "Registering...\n",
            "Enter name:Abd\n",
            "Enter password:456\n",
            "Loggin In...\n",
            "Enter name:Arham\n",
            "Enter password:456\n",
            "No user\n"
          ]
        }
      ]
    },
    {
      "cell_type": "code",
      "source": [
        "def CountFreq(arr):\n",
        "  dict = {}\n",
        "\n",
        "  for e in arr:\n",
        "    if (e not in dict.keys()):\n",
        "      dict[e] = 1\n",
        "      continue\n",
        "\n",
        "    dict[e] = dict[e] + 1\n",
        "\n",
        "  return dict\n",
        "\n",
        "\n",
        "print(CountFreq([1,2,1,3,3,1]))"
      ],
      "metadata": {
        "colab": {
          "base_uri": "https://localhost:8080/"
        },
        "id": "o7ISiWxwDmLe",
        "outputId": "0b5fc6d9-cbeb-4c0e-c89b-7e0f7df17309"
      },
      "execution_count": 41,
      "outputs": [
        {
          "output_type": "stream",
          "name": "stdout",
          "text": [
            "{1: 3, 2: 1, 3: 2}\n"
          ]
        }
      ]
    },
    {
      "cell_type": "code",
      "source": [
        "def TempConvert(temp, isCelcius):\n",
        "  if (isCelcius):\n",
        "    return (temp * 9 / 5) + 32\n",
        "  else:\n",
        "    return 5/9 * (temp -32)\n",
        "\n",
        "\n",
        "temp = int(input(\"Enter Temperature\"))\n",
        "opt = input(\"Is it in celcius (y/n)\")\n",
        "\n",
        "print(TempConvert(temp, opt == \"y\"))"
      ],
      "metadata": {
        "id": "cugwI4UuEbt2"
      },
      "execution_count": null,
      "outputs": []
    }
  ]
}