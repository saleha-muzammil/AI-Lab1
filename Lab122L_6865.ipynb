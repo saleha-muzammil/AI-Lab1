{
  "nbformat": 4,
  "nbformat_minor": 0,
  "metadata": {
    "colab": {
      "provenance": []
    },
    "kernelspec": {
      "name": "python3",
      "display_name": "Python 3"
    },
    "language_info": {
      "name": "python"
    }
  },
  "cells": [
    {
      "cell_type": "code",
      "source": [
        "#Hello, Python!\n",
        "name=input(\"Enter your name:\")\n",
        "age=int(input(\"Enter your age:\"))\n",
        "print(\"Hi\",name,\"Welcome to python basics\")"
      ],
      "metadata": {
        "id": "F7uPRqbp1gGg",
        "colab": {
          "base_uri": "https://localhost:8080/"
        },
        "outputId": "55d69830-5acf-4ec2-bfd9-951504b45955"
      },
      "execution_count": 9,
      "outputs": [
        {
          "output_type": "stream",
          "name": "stdout",
          "text": [
            "Enter your name:Eiman\n",
            "Enter your age:21\n",
            "Hi Eiman Welcome to python basics\n"
          ]
        }
      ]
    },
    {
      "cell_type": "code",
      "source": [
        "#Data Type Identification\n",
        "str1 = input()\n",
        "if str1.isdigit():\n",
        "    print(\"String is a number\")\n",
        "else:\n",
        "    try:\n",
        "        float(str1)\n",
        "        print(\"String is decimal\")\n",
        "    except ValueError:\n",
        "        print(\"String is a string\")"
      ],
      "metadata": {
        "colab": {
          "base_uri": "https://localhost:8080/"
        },
        "id": "1E0gYNrB1lRf",
        "outputId": "1df32e61-f5f8-4486-f400-bb1c0fc51d81"
      },
      "execution_count": null,
      "outputs": [
        {
          "output_type": "stream",
          "name": "stdout",
          "text": [
            "12.5\n",
            "String is decimal\n"
          ]
        }
      ]
    },
    {
      "cell_type": "code",
      "source": [
        "#List Operations\n",
        "fruits=['apple','banana','orange']\n",
        "for fruit in fruits:\n",
        "    print(fruit.upper())\n",
        "\n",
        "print(\"\\nAdding mango\")\n",
        "fruits.append(\"mango\")\n",
        "for fruit in fruits:\n",
        "    print(fruit.upper())\n",
        "\n",
        "print(\"\\nRemoving apple\")\n",
        "fruits.remove('apple')\n",
        "for fruit in fruits:\n",
        "    print(fruit.upper())\n"
      ],
      "metadata": {
        "colab": {
          "base_uri": "https://localhost:8080/"
        },
        "id": "yu6RLeWe2hSG",
        "outputId": "8f4b4bc9-d746-435e-9c24-29c2419a7a09"
      },
      "execution_count": null,
      "outputs": [
        {
          "output_type": "stream",
          "name": "stdout",
          "text": [
            "APPLE\n",
            "BANANA\n",
            "ORANGE\n",
            "\n",
            "Addingt mango\n",
            "APPLE\n",
            "BANANA\n",
            "ORANGE\n",
            "MANGO\n",
            "\n",
            "Removing apple\n",
            "BANANA\n",
            "ORANGE\n",
            "MANGO\n"
          ]
        }
      ]
    },
    {
      "cell_type": "code",
      "source": [
        "#Tuple Unpacking\n",
        "t1 = (10, 20)\n",
        "v1, v2=t1\n",
        "\n",
        "print(\"Element 1:\", v1)\n",
        "print(\"Element 2:\", v2)"
      ],
      "metadata": {
        "colab": {
          "base_uri": "https://localhost:8080/"
        },
        "id": "xWDVKELv5st9",
        "outputId": "e8d6a855-ae62-4b54-d50d-4dbbe717a13f"
      },
      "execution_count": null,
      "outputs": [
        {
          "output_type": "stream",
          "name": "stdout",
          "text": [
            "Element 1: 10\n",
            "Element 2: 20\n"
          ]
        }
      ]
    },
    {
      "cell_type": "code",
      "source": [
        "#Dictionary Management\n",
        "students = {}\n",
        "for i in range(5):\n",
        "  name=input(\"Enter name:\")\n",
        "  grade=int(input(\"Enter grade:\"))\n",
        "  students[name]=grade\n",
        "\n",
        "print(students)\n"
      ],
      "metadata": {
        "colab": {
          "base_uri": "https://localhost:8080/"
        },
        "id": "z00Oknp66JDj",
        "outputId": "c610a285-90f5-4e65-c559-59bd06fbea3f"
      },
      "execution_count": null,
      "outputs": [
        {
          "output_type": "stream",
          "name": "stdout",
          "text": [
            "{'Shaher': 'A', 'Mahad': 'A', 'Taha': 'A', 'Eiman': 'A+', 'Rohaim': 'A+'}\n"
          ]
        }
      ]
    },
    {
      "cell_type": "code",
      "source": [
        "#Set Operations\n",
        "list1=[]\n",
        "list2=[]\n",
        "print(\"Content for list1\")\n",
        "for i in range(4):\n",
        "  list1.append(int(input(\"Enter number:\")))\n",
        "\n",
        "print(\"\\nContent for list2\")\n",
        "for j in range(4):\n",
        "  list2.append(int(input(\"Enter number:\")))\n",
        "\n",
        "print(\"\\nUnion: \")\n",
        "list3=list1\n",
        "list3.extend(list2)\n",
        "print(list3)\n",
        "\n",
        "print(\"\\nIntersection: \")\n",
        "list4=[]\n",
        "for i in list1:\n",
        "  if i in list2:\n",
        "    list4.append(i)\n",
        "print(list4)\n",
        "\n",
        "print(\"\\nDifference: \")\n",
        "list5=[]\n",
        "for i in list1:\n",
        "  if i not in list2:\n",
        "    list5.append(i)\n",
        "print(list5)"
      ],
      "metadata": {
        "colab": {
          "base_uri": "https://localhost:8080/"
        },
        "id": "VeCF2Hvi7XEP",
        "outputId": "93ed5d7a-608c-47c7-9f22-4ebb7dcda908"
      },
      "execution_count": null,
      "outputs": [
        {
          "output_type": "stream",
          "name": "stdout",
          "text": [
            "Enter number:1\n",
            "Enter number:1\n",
            "Enter number:2\n",
            "Enter number:3\n",
            "Enter number:6\n",
            "Enter number:2\n",
            "Enter number:1\n",
            "Enter number:2\n",
            "\n",
            "Union: \n",
            "[1, 1, 2, 3, 6, 2, 1, 2]\n",
            "\n",
            "Intersection: \n",
            "[1, 1, 2, 6, 2, 1, 2]\n",
            "\n",
            "Difference: \n",
            "[3]\n"
          ]
        }
      ]
    },
    {
      "cell_type": "code",
      "source": [
        "# Conditional Statements: Number Checker\n",
        "\n",
        "numb=int(input(\"Enter number:\"))\n",
        "\n",
        "if(numb<0):\n",
        "  print(\"Number is negative\")\n",
        "elif(numb==0):\n",
        "  print(\"Number is zero\")\n",
        "else:\n",
        "  print(\"Number is positive\")\n",
        "\n",
        "\n",
        "if(numb%2==0):\n",
        "  print(\"Number is even\")\n",
        "else:\n",
        "  print(\"Number is odd\")"
      ],
      "metadata": {
        "colab": {
          "base_uri": "https://localhost:8080/"
        },
        "id": "fhDk9rO89DCE",
        "outputId": "af63c877-05f3-44e8-cf3b-0992a2620157"
      },
      "execution_count": null,
      "outputs": [
        {
          "output_type": "stream",
          "name": "stdout",
          "text": [
            "Enter number:5\n",
            "Number is positive\n",
            "Number is odd\n"
          ]
        }
      ]
    },
    {
      "cell_type": "code",
      "source": [
        "# Function: Factorial Calculator\n",
        "\n",
        "def fact(n):\n",
        "  f=1\n",
        "  for i in range(1,n+1):\n",
        "    f=f*i\n",
        "  return f\n",
        "\n",
        "numb=int(input(\"Enter number:\"))\n",
        "if(numb<0):\n",
        "  print(\"Factorial does not exist\")\n",
        "else:\n",
        "  f=fact(numb)\n",
        "  print(\"Factorial of\",numb,\"is:\",f)\n"
      ],
      "metadata": {
        "colab": {
          "base_uri": "https://localhost:8080/"
        },
        "id": "hh6BZ-6k9UuG",
        "outputId": "f3e5b9d7-4db3-4d68-93b9-a416cd74683a"
      },
      "execution_count": null,
      "outputs": [
        {
          "output_type": "stream",
          "name": "stdout",
          "text": [
            "Enter number:4\n",
            "Factorial of 4 is: 24\n"
          ]
        }
      ]
    },
    {
      "cell_type": "code",
      "source": [
        "#FizzBuzz\n",
        "for i in range(1,51):\n",
        "  if(i%3==0 and i%5==0):\n",
        "    print(\"FizzBuzz\")\n",
        "  elif(i%5==0):\n",
        "    print(\"Buzz\")\n",
        "  elif(i%3==0):\n",
        "    print(\"Fizz\")\n",
        "  else:\n",
        "    print(i)"
      ],
      "metadata": {
        "colab": {
          "base_uri": "https://localhost:8080/"
        },
        "id": "40c4IAj1-YuG",
        "outputId": "a5205589-69b5-448a-fe16-40bcd7c1c999"
      },
      "execution_count": null,
      "outputs": [
        {
          "output_type": "stream",
          "name": "stdout",
          "text": [
            "1\n",
            "2\n",
            "Fizz\n",
            "4\n",
            "Buzz\n",
            "Fizz\n",
            "7\n",
            "8\n",
            "Fizz\n",
            "Buzz\n",
            "11\n",
            "Fizz\n",
            "13\n",
            "14\n",
            "FizzBuzz\n",
            "16\n",
            "17\n",
            "Fizz\n",
            "19\n",
            "Buzz\n",
            "Fizz\n",
            "22\n",
            "23\n",
            "Fizz\n",
            "Buzz\n",
            "26\n",
            "Fizz\n",
            "28\n",
            "29\n",
            "FizzBuzz\n",
            "31\n",
            "32\n",
            "Fizz\n",
            "34\n",
            "Buzz\n",
            "Fizz\n",
            "37\n",
            "38\n",
            "Fizz\n",
            "Buzz\n",
            "41\n",
            "Fizz\n",
            "43\n",
            "44\n",
            "FizzBuzz\n",
            "46\n",
            "47\n",
            "Fizz\n",
            "49\n",
            "Buzz\n"
          ]
        }
      ]
    },
    {
      "cell_type": "code",
      "source": [
        "#Prime Number Checker\n",
        "def isPrime(n):\n",
        "  for i in range(2,n):\n",
        "    if(n%i==0):\n",
        "      return False\n",
        "  return True\n",
        "\n",
        "numb=int(input(\"Enter number:\"))\n",
        "if(isPrime(numb)):\n",
        "  print(\"Number is prime\")\n",
        "else:\n",
        "  print(\"Number is not prime\")"
      ],
      "metadata": {
        "colab": {
          "base_uri": "https://localhost:8080/"
        },
        "id": "9rnCnzOY_U78",
        "outputId": "d3171f1e-86eb-4b03-8c33-b44f088b867d"
      },
      "execution_count": null,
      "outputs": [
        {
          "output_type": "stream",
          "name": "stdout",
          "text": [
            "Enter number:7\n",
            "Number is prime\n"
          ]
        }
      ]
    },
    {
      "cell_type": "code",
      "source": [
        "# List Comprehension: Squares\n",
        "\n",
        "def Square(numbs):\n",
        "  squares=[]\n",
        "  for i in numbs:\n",
        "    squares.append(i*i)\n",
        "  return squares\n",
        "\n",
        "numbs=[1,2,3,4,5]\n",
        "squares=Square(numbs)\n",
        "print(squares)"
      ],
      "metadata": {
        "colab": {
          "base_uri": "https://localhost:8080/"
        },
        "id": "xdsxbkAyABoD",
        "outputId": "879a3ac2-4f89-46d8-c3a7-3b32889620ee"
      },
      "execution_count": null,
      "outputs": [
        {
          "output_type": "stream",
          "name": "stdout",
          "text": [
            "[1, 4, 9, 16, 25]\n"
          ]
        }
      ]
    },
    {
      "cell_type": "code",
      "source": [
        "# Merge Dictionaries\n",
        "\n",
        "dict1={\n",
        "    \"Taha\":\"21\",\n",
        "    \"Shaher\":\"20\",\n",
        "    \"Mahad\":\"21\",\n",
        "    \"Eiman\":\"20\",\n",
        "}\n",
        "dict2={\n",
        "    \"Rohaim\":\"20\",\n",
        "    \"Taha\":\"25\"\n",
        "}\n",
        "\n",
        "dict1.update(dict2)\n",
        "print(dict1)"
      ],
      "metadata": {
        "colab": {
          "base_uri": "https://localhost:8080/"
        },
        "id": "pMkFkI8ACDcG",
        "outputId": "d5e391b6-f691-4e52-916c-fc9ff6b50c06"
      },
      "execution_count": null,
      "outputs": [
        {
          "output_type": "stream",
          "name": "stdout",
          "text": [
            "{'Taha': '25', 'Shaher': '20', 'Mahad': '21', 'Eiman': '20', 'Rohaim': '20'}\n"
          ]
        }
      ]
    },
    {
      "cell_type": "code",
      "source": [
        "# Remove Duplicates from a List\n",
        "\n",
        "list1=[1,2,3,4,5,6,1,2,6,4]\n",
        "list2=[]\n",
        "for i in list1:\n",
        "  if i not in list2:\n",
        "    list2.append(i)\n",
        "list1=set(  list2  )\n",
        "print(list2)"
      ],
      "metadata": {
        "colab": {
          "base_uri": "https://localhost:8080/"
        },
        "id": "Luu6qpUaCDeF",
        "outputId": "383b9080-cfdb-479d-91cb-7c530629b713"
      },
      "execution_count": null,
      "outputs": [
        {
          "output_type": "stream",
          "name": "stdout",
          "text": [
            "[1, 2, 3, 4, 5, 6]\n"
          ]
        }
      ]
    },
    {
      "cell_type": "code",
      "source": [
        "# Palindrome Checker\n",
        "word=input(\"Enter word:\")\n",
        "\n",
        "X=lambda word:word[::-1]\n",
        "if(word==X(word)):\n",
        "  print(\"Palindrome\")\n",
        "else:\n",
        "  print(\"Not Palindrome\")"
      ],
      "metadata": {
        "id": "kLYPwlBrFi_Q",
        "outputId": "8ecf84b2-8527-4c21-9641-c32a70a18638",
        "colab": {
          "base_uri": "https://localhost:8080/"
        }
      },
      "execution_count": null,
      "outputs": [
        {
          "output_type": "stream",
          "name": "stdout",
          "text": [
            "Enter word:hi\\\n",
            "Not Palindrome\n"
          ]
        }
      ]
    },
    {
      "cell_type": "code",
      "source": [
        "# Fibonacci Sequence Generator\n",
        "def fibo(n):\n",
        "    sequence = []\n",
        "    a, b = 1, 1\n",
        "    for _ in range(n):\n",
        "        sequence.append(a)\n",
        "        a, b = b, a + b\n",
        "    return sequence\n",
        "\n",
        "num_terms = int(input(\"Enter the number of terms: \"))\n",
        "fib_sequence = fibo(num_terms)\n",
        "print(fib_sequence)"
      ],
      "metadata": {
        "colab": {
          "base_uri": "https://localhost:8080/"
        },
        "id": "5LEEP-wvHKSF",
        "outputId": "a301937d-a016-4e03-b99d-4abe82656444"
      },
      "execution_count": null,
      "outputs": [
        {
          "output_type": "stream",
          "name": "stdout",
          "text": [
            "Enter the number of terms: 6\n",
            "[1, 1, 2, 3, 5, 8]\n"
          ]
        }
      ]
    },
    {
      "cell_type": "code",
      "source": [
        "# Average Calculator with Validation\n",
        "\n",
        "sum=0\n",
        "for i in range(5):\n",
        "  a=input(\"Enter number\")\n",
        "  if a.isdigit():\n",
        "    a=int(a)\n",
        "    sum=sum+a\n",
        "  else:\n",
        "    continue\n",
        "\n",
        "print(\"Average: \",sum/5)\n"
      ],
      "metadata": {
        "id": "x6BZQud8JKUl",
        "colab": {
          "base_uri": "https://localhost:8080/"
        },
        "outputId": "76fca6ef-ed7f-4273-a9e6-3924ba5d465f"
      },
      "execution_count": 2,
      "outputs": [
        {
          "output_type": "stream",
          "name": "stdout",
          "text": [
            "Enter number1\n",
            "Enter number2\n",
            "Enter number3\n",
            "Enter number4\n",
            "Enter number5\n",
            "Average:  3.0\n"
          ]
        }
      ]
    },
    {
      "cell_type": "code",
      "source": [
        "# Nested Loops: Multiplication Table\n",
        "for i in range(11):\n",
        "  for j in range(11):\n",
        "    print(i,\"*\",j,\"=\",i*j)\n",
        "  print(\"\\n\")"
      ],
      "metadata": {
        "id": "YFtQPK9dLADc",
        "colab": {
          "base_uri": "https://localhost:8080/"
        },
        "outputId": "5cbe3c0b-751d-4846-843f-30cf51d572d9"
      },
      "execution_count": 3,
      "outputs": [
        {
          "output_type": "stream",
          "name": "stdout",
          "text": [
            "0 * 0 = 0\n",
            "0 * 1 = 0\n",
            "0 * 2 = 0\n",
            "0 * 3 = 0\n",
            "0 * 4 = 0\n",
            "0 * 5 = 0\n",
            "0 * 6 = 0\n",
            "0 * 7 = 0\n",
            "0 * 8 = 0\n",
            "0 * 9 = 0\n",
            "0 * 10 = 0\n",
            "\n",
            "\n",
            "1 * 0 = 0\n",
            "1 * 1 = 1\n",
            "1 * 2 = 2\n",
            "1 * 3 = 3\n",
            "1 * 4 = 4\n",
            "1 * 5 = 5\n",
            "1 * 6 = 6\n",
            "1 * 7 = 7\n",
            "1 * 8 = 8\n",
            "1 * 9 = 9\n",
            "1 * 10 = 10\n",
            "\n",
            "\n",
            "2 * 0 = 0\n",
            "2 * 1 = 2\n",
            "2 * 2 = 4\n",
            "2 * 3 = 6\n",
            "2 * 4 = 8\n",
            "2 * 5 = 10\n",
            "2 * 6 = 12\n",
            "2 * 7 = 14\n",
            "2 * 8 = 16\n",
            "2 * 9 = 18\n",
            "2 * 10 = 20\n",
            "\n",
            "\n",
            "3 * 0 = 0\n",
            "3 * 1 = 3\n",
            "3 * 2 = 6\n",
            "3 * 3 = 9\n",
            "3 * 4 = 12\n",
            "3 * 5 = 15\n",
            "3 * 6 = 18\n",
            "3 * 7 = 21\n",
            "3 * 8 = 24\n",
            "3 * 9 = 27\n",
            "3 * 10 = 30\n",
            "\n",
            "\n",
            "4 * 0 = 0\n",
            "4 * 1 = 4\n",
            "4 * 2 = 8\n",
            "4 * 3 = 12\n",
            "4 * 4 = 16\n",
            "4 * 5 = 20\n",
            "4 * 6 = 24\n",
            "4 * 7 = 28\n",
            "4 * 8 = 32\n",
            "4 * 9 = 36\n",
            "4 * 10 = 40\n",
            "\n",
            "\n",
            "5 * 0 = 0\n",
            "5 * 1 = 5\n",
            "5 * 2 = 10\n",
            "5 * 3 = 15\n",
            "5 * 4 = 20\n",
            "5 * 5 = 25\n",
            "5 * 6 = 30\n",
            "5 * 7 = 35\n",
            "5 * 8 = 40\n",
            "5 * 9 = 45\n",
            "5 * 10 = 50\n",
            "\n",
            "\n",
            "6 * 0 = 0\n",
            "6 * 1 = 6\n",
            "6 * 2 = 12\n",
            "6 * 3 = 18\n",
            "6 * 4 = 24\n",
            "6 * 5 = 30\n",
            "6 * 6 = 36\n",
            "6 * 7 = 42\n",
            "6 * 8 = 48\n",
            "6 * 9 = 54\n",
            "6 * 10 = 60\n",
            "\n",
            "\n",
            "7 * 0 = 0\n",
            "7 * 1 = 7\n",
            "7 * 2 = 14\n",
            "7 * 3 = 21\n",
            "7 * 4 = 28\n",
            "7 * 5 = 35\n",
            "7 * 6 = 42\n",
            "7 * 7 = 49\n",
            "7 * 8 = 56\n",
            "7 * 9 = 63\n",
            "7 * 10 = 70\n",
            "\n",
            "\n",
            "8 * 0 = 0\n",
            "8 * 1 = 8\n",
            "8 * 2 = 16\n",
            "8 * 3 = 24\n",
            "8 * 4 = 32\n",
            "8 * 5 = 40\n",
            "8 * 6 = 48\n",
            "8 * 7 = 56\n",
            "8 * 8 = 64\n",
            "8 * 9 = 72\n",
            "8 * 10 = 80\n",
            "\n",
            "\n",
            "9 * 0 = 0\n",
            "9 * 1 = 9\n",
            "9 * 2 = 18\n",
            "9 * 3 = 27\n",
            "9 * 4 = 36\n",
            "9 * 5 = 45\n",
            "9 * 6 = 54\n",
            "9 * 7 = 63\n",
            "9 * 8 = 72\n",
            "9 * 9 = 81\n",
            "9 * 10 = 90\n",
            "\n",
            "\n",
            "10 * 0 = 0\n",
            "10 * 1 = 10\n",
            "10 * 2 = 20\n",
            "10 * 3 = 30\n",
            "10 * 4 = 40\n",
            "10 * 5 = 50\n",
            "10 * 6 = 60\n",
            "10 * 7 = 70\n",
            "10 * 8 = 80\n",
            "10 * 9 = 90\n",
            "10 * 10 = 100\n",
            "\n",
            "\n"
          ]
        }
      ]
    },
    {
      "cell_type": "code",
      "source": [
        "# User Registration System\n",
        "\n",
        "users={}\n",
        "state=0\n",
        "while(state!=1):\n",
        "  name=input(\"Enter your name : \")\n",
        "  password=input(\"Enter password : \")\n",
        "  users[name]=password\n",
        "  print(users)\n",
        "  state=int(input(\"Enter 1 to exit and 0 to continue registering\"))"
      ],
      "metadata": {
        "colab": {
          "base_uri": "https://localhost:8080/"
        },
        "id": "yE5EGmv81VQe",
        "outputId": "bd31f9e4-d610-43ea-84b6-3c8b1a258b1f"
      },
      "execution_count": 5,
      "outputs": [
        {
          "name": "stdout",
          "output_type": "stream",
          "text": [
            "Enter your name : Eiman\n",
            "Enter password : eiman123\n",
            "{'Eiman': 'eiman123'}\n",
            "Enter 1 to exit and 0 to continue registering0\n",
            "Enter your name : Shaher\n",
            "Enter password : shaher123\n",
            "{'Eiman': 'eiman123', 'Shaher': 'shaher123'}\n",
            "Enter 1 to exit and 0 to continue registering1\n"
          ]
        }
      ]
    },
    {
      "cell_type": "code",
      "source": [
        "# Counting Elements with a Dictionary\n",
        "wordCount={}\n",
        "word=input(\"Enter your word of 0 to exit : \")\n",
        "while(word!=\"0\"):\n",
        "  if word in wordCount:\n",
        "    wordCount[word]+=1\n",
        "  else:\n",
        "    wordCount[word]=1\n",
        "\n",
        "  print(wordCount)\n",
        "  word=input(\"Enter your word of 0 to exit : \")"
      ],
      "metadata": {
        "colab": {
          "base_uri": "https://localhost:8080/"
        },
        "id": "OaHA2HD435gZ",
        "outputId": "46ad0c8a-ddb8-4c93-c1e3-2d77a3eb4275"
      },
      "execution_count": 7,
      "outputs": [
        {
          "name": "stdout",
          "output_type": "stream",
          "text": [
            "Enter your word of 0 to exit : hi\n",
            "{'hi': 1}\n",
            "Enter your word of 0 to exit : hi\n",
            "{'hi': 2}\n",
            "Enter your word of 0 to exit : hello\n",
            "{'hi': 2, 'hello': 1}\n",
            "Enter your word of 0 to exit : hey\n",
            "{'hi': 2, 'hello': 1, 'hey': 1}\n",
            "Enter your word of 0 to exit : hey\n",
            "{'hi': 2, 'hello': 1, 'hey': 2}\n",
            "Enter your word of 0 to exit : hi\n",
            "{'hi': 3, 'hello': 1, 'hey': 2}\n",
            "Enter your word of 0 to exit : 0\n"
          ]
        }
      ]
    },
    {
      "cell_type": "code",
      "source": [
        "# Temperature Converter\n",
        "def TemperatureConverter():\n",
        "  type=input(\"How do you wish to convert given temparature?\\n1.Celsius to Fahrenheit\\n2.Fahrenheit to Celsius\\nEnter your choice:\")\n",
        "  if type==\"1\":\n",
        "    t1=float(input(\"Enter temperature in Celsius:\"))\n",
        "    t2=(t1*9/5)+32\n",
        "    print(\"Temperature in Fahrenheit:\",t2)\n",
        "  elif type==\"2\":\n",
        "    t1=float(input(\"Enter temperature in Fahrenheit:\"))\n",
        "    t2=(t1-32)*5/9\n",
        "    print(\"Temperature in Celsius:\",t2)\n",
        "  else:\n",
        "    print(\"Invalid choice\")\n",
        "\n",
        "TemperatureConverter()"
      ],
      "metadata": {
        "colab": {
          "base_uri": "https://localhost:8080/"
        },
        "id": "Usp14Bfr4lwa",
        "outputId": "2518948a-85dd-42ab-ce27-20cef40719ff"
      },
      "execution_count": 8,
      "outputs": [
        {
          "output_type": "stream",
          "name": "stdout",
          "text": [
            "How do you wish to convert given temparature?\n",
            "1.Celsius to Fahrenheit\n",
            "2.Fahrenheit to Celsius\n",
            "Enter your choice:1\n",
            "Enter temperature in Celsius:23.5\n",
            "Temperature in Fahrenheit: 74.3\n"
          ]
        }
      ]
    }
  ]
}