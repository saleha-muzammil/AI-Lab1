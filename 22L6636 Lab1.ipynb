{
  "nbformat": 4,
  "nbformat_minor": 0,
  "metadata": {
    "colab": {
      "provenance": []
    },
    "kernelspec": {
      "name": "python3",
      "display_name": "Python 3"
    },
    "language_info": {
      "name": "python"
    }
  },
  "cells": [
    {
      "cell_type": "code",
      "execution_count": null,
      "metadata": {
        "colab": {
          "base_uri": "https://localhost:8080/"
        },
        "id": "p3NZOiU_uGkq",
        "outputId": "18d7b175-3179-461d-e523-35e281609626"
      },
      "outputs": [
        {
          "output_type": "stream",
          "name": "stdout",
          "text": [
            "enter your name: hafsa\n",
            "enter your age: 21\n",
            "hello hafsa ! Your age is  21 !!\n"
          ]
        }
      ],
      "source": [
        "#printing\n",
        "name= input(\"enter your name: \")\n",
        "age= input(\"enter your age: \")\n",
        "\n",
        "print(\"hello\", name, \"! Your age is \", age, \"!!\")"
      ]
    },
    {
      "cell_type": "code",
      "source": [
        "#Question 2\n",
        "def identify_data_type(user_input):\n",
        "    try:\n",
        "        return int(user_input), \"int\"\n",
        "    except ValueError:\n",
        "        pass\n",
        "\n",
        "    try:\n",
        "        return float(user_input), \"float\"\n",
        "    except ValueError:\n",
        "        pass\n",
        "\n",
        "    if user_input.lower() == 'true' or user_input.lower() == 'false':\n",
        "        return user_input.lower() == 'true', \"bool\"\n",
        "\n",
        "    return user_input, \"str\"\n",
        "\n",
        "user_input = input(\"Enter something: \")\n",
        "\n",
        "value, data_type = identify_data_type(user_input)\n",
        "print(f\"Value: {value}, Data Type: {data_type}\")\n"
      ],
      "metadata": {
        "id": "27ubSQ0EuJrt",
        "colab": {
          "base_uri": "https://localhost:8080/",
          "height": 0
        },
        "outputId": "68f43b8a-9d8a-46af-9a5a-f2e54d3697a1"
      },
      "execution_count": 30,
      "outputs": [
        {
          "output_type": "stream",
          "name": "stdout",
          "text": [
            "Enter something: hello\n",
            "Value: hello, Data Type: str\n"
          ]
        }
      ]
    },
    {
      "cell_type": "code",
      "source": [
        "#list operations\n",
        "my_list = []\n",
        "my_list.append(\"cat\")\n",
        "my_list.append(\"dog\")\n",
        "my_list.append(\"bird\")\n",
        "my_list.append(\"fish\")\n",
        "my_list.append(\"snake\")\n",
        "my_list.remove(\"fish\")\n",
        "\n",
        "for element in my_list:\n",
        "    print(element.upper())\n"
      ],
      "metadata": {
        "colab": {
          "base_uri": "https://localhost:8080/"
        },
        "id": "6SIc5ZSzvIa8",
        "outputId": "ca36449c-210a-41ea-ac45-cb7bf66dc614"
      },
      "execution_count": null,
      "outputs": [
        {
          "output_type": "stream",
          "name": "stdout",
          "text": [
            "CAT\n",
            "DOG\n",
            "BIRD\n",
            "SNAKE\n"
          ]
        }
      ]
    },
    {
      "cell_type": "code",
      "source": [
        "#tuple unpacking\n",
        "from pickle import TUPLE1\n",
        "\n",
        "TUPLE1=(\"a\",\"b\",\"c\",\"d\",\"e\")\n",
        "\n",
        "element1, element2, *others=TUPLE1\n",
        "\n",
        "print(element1)\n",
        "print(element2)\n"
      ],
      "metadata": {
        "colab": {
          "base_uri": "https://localhost:8080/"
        },
        "id": "KTJgbDkexIno",
        "outputId": "f67c5fda-0483-4c1a-a378-678cae423e02"
      },
      "execution_count": null,
      "outputs": [
        {
          "output_type": "stream",
          "name": "stdout",
          "text": [
            "a\n",
            "b\n"
          ]
        }
      ]
    },
    {
      "cell_type": "code",
      "source": [
        "#dictionary management\n",
        "records= {\"hafsa\":'A', \"aina\":'A', \"ali\":'D'}\n",
        "for name, grade in records.items():\n",
        "    print(name, \"has a grade of\", grade)"
      ],
      "metadata": {
        "colab": {
          "base_uri": "https://localhost:8080/"
        },
        "id": "k_ZoE0HoyZiY",
        "outputId": "99444d15-e517-438e-a218-014549f1b738"
      },
      "execution_count": null,
      "outputs": [
        {
          "output_type": "stream",
          "name": "stdout",
          "text": [
            "hafsa has a grade of A\n",
            "aina has a grade of A\n",
            "ali has a grade of D\n"
          ]
        }
      ]
    },
    {
      "cell_type": "code",
      "source": [
        "#union, intersection and difference of two sets\n",
        "list = __builtins__.list\n",
        "\n",
        "l1=list(map(int, input(\"enter a list1 of numbers: \").split()))\n",
        "l2=list(map(int, input(\"enter a list2 of numbers: \").split()))\n",
        "set1=set(l1)\n",
        "set2=set(l2)\n",
        "intersection=set1.intersection(set2)\n",
        "unionset=set1.union(set2)\n",
        "difference=set1.difference(set2)\n",
        "print(\"intersection is: \", intersection)\n",
        "print(\"union is: \", unionset)\n",
        "print(\"difference is: \", difference)\n"
      ],
      "metadata": {
        "colab": {
          "base_uri": "https://localhost:8080/"
        },
        "id": "Z5oE3qPS0TAY",
        "outputId": "3527b02b-4f54-40e5-ad74-1a2a5c334b73"
      },
      "execution_count": null,
      "outputs": [
        {
          "output_type": "stream",
          "name": "stdout",
          "text": [
            "enter a list1 of numbers: 2 3 5 7 8 9\n",
            "enter a list2 of numbers: 1 3 6 4 5\n",
            "intersection is:  {3, 5}\n",
            "union is:  {1, 2, 3, 4, 5, 6, 7, 8, 9}\n",
            "difference is:  {8, 9, 2, 7}\n"
          ]
        }
      ]
    },
    {
      "cell_type": "code",
      "source": [
        "#check if a number is negative or postive, even or odd\n",
        "number= int(input(\"enter an integer: \"))\n",
        "if int(number)%2==0:\n",
        "    print(\"even\")\n",
        "    if number>0:\n",
        "        print(\"positive\")\n",
        "    elif number<0:\n",
        "        print(\"negative\")\n",
        "    else:\n",
        "        print(\"zero\")\n",
        "else:\n",
        "    print(\"odd\")\n",
        "    if number>0:\n",
        "        print(\"positive\")\n",
        "    elif number<0:\n",
        "        print(\"negative\")\n",
        "    else:\n",
        "        print(\"zero\")"
      ],
      "metadata": {
        "colab": {
          "base_uri": "https://localhost:8080/"
        },
        "id": "0rtqlDYT4JDi",
        "outputId": "64ff3f73-2c3f-4bf7-b660-ffd0d52039ea"
      },
      "execution_count": null,
      "outputs": [
        {
          "output_type": "stream",
          "name": "stdout",
          "text": [
            "enter an integer: -20\n",
            "even\n",
            "negative\n"
          ]
        }
      ]
    },
    {
      "cell_type": "code",
      "source": [
        "#fizz, buzz, fizzbuzz\n",
        "for id in range(1,51):\n",
        "    if id%3==0 and id%5==0:\n",
        "        print(\"FizzBuzz\")\n",
        "    elif id%3==0:\n",
        "        print(\"Fizz\")\n",
        "    elif id%5==0:\n",
        "        print(\"Buzz\")\n",
        "    else:\n",
        "        print(id)"
      ],
      "metadata": {
        "colab": {
          "base_uri": "https://localhost:8080/"
        },
        "id": "v_Z1PWUB5sLL",
        "outputId": "7a17dfd3-c7c4-457e-b603-f1a702f8219e"
      },
      "execution_count": null,
      "outputs": [
        {
          "output_type": "stream",
          "name": "stdout",
          "text": [
            "1\n",
            "2\n",
            "Fizz\n",
            "4\n",
            "Buzz\n",
            "Fizz\n",
            "7\n",
            "8\n",
            "Fizz\n",
            "Buzz\n",
            "11\n",
            "Fizz\n",
            "13\n",
            "14\n",
            "FizzBuzz\n",
            "16\n",
            "17\n",
            "Fizz\n",
            "19\n",
            "Buzz\n",
            "Fizz\n",
            "22\n",
            "23\n",
            "Fizz\n",
            "Buzz\n",
            "26\n",
            "Fizz\n",
            "28\n",
            "29\n",
            "FizzBuzz\n",
            "31\n",
            "32\n",
            "Fizz\n",
            "34\n",
            "Buzz\n",
            "Fizz\n",
            "37\n",
            "38\n",
            "Fizz\n",
            "Buzz\n",
            "41\n",
            "Fizz\n",
            "43\n",
            "44\n",
            "FizzBuzz\n",
            "46\n",
            "47\n",
            "Fizz\n",
            "49\n",
            "Buzz\n"
          ]
        }
      ]
    },
    {
      "cell_type": "code",
      "source": [
        "#factorial calculation\n",
        "def fact(num):\n",
        "    for i in range (1,num):\n",
        "        num=num*i\n",
        "    print(\"factorial = \", num)\n",
        "\n",
        "\n",
        "num=int(input(\"enter a number: \"))\n",
        "fact(num)"
      ],
      "metadata": {
        "colab": {
          "base_uri": "https://localhost:8080/"
        },
        "id": "yAfO9-YS6IGe",
        "outputId": "9e16e019-2a36-4712-c8b0-c24e3a59b6d7"
      },
      "execution_count": null,
      "outputs": [
        {
          "output_type": "stream",
          "name": "stdout",
          "text": [
            "enter a number: 5\n",
            "factorial =  120\n"
          ]
        }
      ]
    },
    {
      "cell_type": "code",
      "source": [
        "#prime number checking\n",
        "def isPrime(num):\n",
        "  for i in range(2, int(num/2)+1):\n",
        "    if num%i==0:\n",
        "      return False\n",
        "  return True\n",
        "\n",
        "num=int(input(\"enter a number: \"))\n",
        "if isPrime(num):\n",
        "  print(\"prime\")\n",
        "else:\n",
        "  print(\"not prime\")"
      ],
      "metadata": {
        "colab": {
          "base_uri": "https://localhost:8080/"
        },
        "id": "fR5BvTis6sAg",
        "outputId": "8b42724e-9b07-400c-e84f-5bc98798f69b"
      },
      "execution_count": null,
      "outputs": [
        {
          "output_type": "stream",
          "name": "stdout",
          "text": [
            "enter a number: 9\n",
            "not prime\n"
          ]
        }
      ]
    },
    {
      "cell_type": "code",
      "source": [
        "#list comprehension\n",
        "newList=[3, 9, 7, 5, 4]\n",
        "print(newList)\n",
        "sqList=[x*x for x in newList]\n",
        "print(sqList)"
      ],
      "metadata": {
        "colab": {
          "base_uri": "https://localhost:8080/"
        },
        "id": "FJGi6LG_7-RD",
        "outputId": "d4e15882-24b3-4fcb-b560-246d1e88a5ba"
      },
      "execution_count": null,
      "outputs": [
        {
          "output_type": "stream",
          "name": "stdout",
          "text": [
            "[3, 9, 7, 5, 4]\n",
            "[9, 81, 49, 25, 16]\n"
          ]
        }
      ]
    },
    {
      "cell_type": "code",
      "source": [
        "#merge dictionaries\n",
        "dict1 = {'a': 1, 'b': 2}\n",
        "dict2 = {'b': 3, 'c': 4}\n",
        "\n",
        "mergedDict = dict1.copy()\n",
        "mergedDict.update(dict2)\n",
        "\n",
        "print(mergedDict)"
      ],
      "metadata": {
        "id": "WTxVjExg9btt"
      },
      "execution_count": null,
      "outputs": []
    },
    {
      "cell_type": "code",
      "source": [
        "#remove duplicates\n",
        "list1=[1, 2, 5, 6,7,8,2,3,1,1,6,7]\n",
        "list2=[]\n",
        "for x in list1:\n",
        "    if x not in list2:\n",
        "        list2.append(x)\n",
        "print(list2)"
      ],
      "metadata": {
        "colab": {
          "base_uri": "https://localhost:8080/"
        },
        "id": "sOpEzhAP9y1U",
        "outputId": "dcaacf70-e327-4a36-cfea-3286c211d95f"
      },
      "execution_count": null,
      "outputs": [
        {
          "output_type": "stream",
          "name": "stdout",
          "text": [
            "[1, 2, 5, 6, 7, 8, 3]\n"
          ]
        }
      ]
    },
    {
      "cell_type": "code",
      "source": [
        "#palindrome checker\n",
        "is_palindrome = lambda s: (s.replace(\" \", \"\").lower() == s.replace(\" \", \"\").lower()[::-1])\n",
        "\n",
        "print(is_palindrome(\"A man a plan a canal Panama\"))\n",
        "print(is_palindrome(\"hello\"))"
      ],
      "metadata": {
        "id": "SR7WwIQm-hTa",
        "colab": {
          "base_uri": "https://localhost:8080/",
          "height": 0
        },
        "outputId": "b461d656-31aa-4882-f6f7-0b19f49927ca"
      },
      "execution_count": 23,
      "outputs": [
        {
          "output_type": "stream",
          "name": "stdout",
          "text": [
            "True\n",
            "False\n"
          ]
        }
      ]
    },
    {
      "cell_type": "code",
      "source": [
        "#fibonacci\n",
        "list3=[1,1]\n",
        "element1=0\n",
        "number1=int(input(\"enter a number: \"))\n",
        "for i in range(3, number1+1):\n",
        "  element1=list3[i-2]+list3[i-3]\n",
        "  list3.append(element1)\n",
        "  element1=0\n",
        "\n",
        "print(list3)\n"
      ],
      "metadata": {
        "colab": {
          "base_uri": "https://localhost:8080/"
        },
        "id": "-z4fcV5c-kSx",
        "outputId": "6b3aa68c-4106-4889-fd85-6209f52d58c4"
      },
      "execution_count": null,
      "outputs": [
        {
          "output_type": "stream",
          "name": "stdout",
          "text": [
            "enter a number: 5\n",
            "[1, 1, 2, 3, 5]\n"
          ]
        }
      ]
    },
    {
      "cell_type": "code",
      "source": [
        "#average calculation with validation\n",
        "invalid=False\n",
        "l5=list(input(\"enter a list1 of numbers: \").split())\n",
        "for items in l5:\n",
        "  if not(items.isdigit()):\n",
        "    invalid=True\n",
        "\n",
        "while (invalid==True):\n",
        "  l5=list(input(\"enter a list1 of numbers again: \").split())\n",
        "  for items in l5:\n",
        "    if not(items.isdigit()):\n",
        "      invalid=True\n",
        "    else:\n",
        "      invalid=False\n",
        "\n",
        "if invalid==False:\n",
        "  sum=0\n",
        "  for items in l5:\n",
        "    sum+=int(items)\n",
        "  print(\"average is: \", sum/len(l5))"
      ],
      "metadata": {
        "id": "xBUCF3doBXND",
        "colab": {
          "base_uri": "https://localhost:8080/",
          "height": 0
        },
        "outputId": "a3d36879-1892-4ba6-f95c-d64814050e67"
      },
      "execution_count": 14,
      "outputs": [
        {
          "output_type": "stream",
          "name": "stdout",
          "text": [
            "enter a list1 of numbers: 10 20 30\n",
            "average is:  20.0\n"
          ]
        }
      ]
    },
    {
      "cell_type": "code",
      "source": [
        "#nested loops, multiplication tabel\n",
        "for i in range(1,11):\n",
        "  for j in range(1,11):\n",
        "    print(i*j, end=\" \")\n",
        "  print()\n",
        "\n",
        "\n"
      ],
      "metadata": {
        "colab": {
          "base_uri": "https://localhost:8080/",
          "height": 0
        },
        "id": "7VWaUcvYSMvM",
        "outputId": "f3b7cfb4-d7d9-469e-b833-8e33f365a776"
      },
      "execution_count": 15,
      "outputs": [
        {
          "output_type": "stream",
          "name": "stdout",
          "text": [
            "1 2 3 4 5 6 7 8 9 10 \n",
            "2 4 6 8 10 12 14 16 18 20 \n",
            "3 6 9 12 15 18 21 24 27 30 \n",
            "4 8 12 16 20 24 28 32 36 40 \n",
            "5 10 15 20 25 30 35 40 45 50 \n",
            "6 12 18 24 30 36 42 48 54 60 \n",
            "7 14 21 28 35 42 49 56 63 70 \n",
            "8 16 24 32 40 48 56 64 72 80 \n",
            "9 18 27 36 45 54 63 72 81 90 \n",
            "10 20 30 40 50 60 70 80 90 100 \n"
          ]
        }
      ]
    },
    {
      "cell_type": "code",
      "source": [
        "#User registeration sysytem\n",
        "users= {}\n",
        "while True:\n",
        "  name= input(\"enter your name: \")\n",
        "  if (name==\"\"):\n",
        "    break\n",
        "\n",
        "  password= input(\"enter your password: \")\n",
        "  users[name]=password\n",
        "  print(users)\n",
        "\n",
        "\n"
      ],
      "metadata": {
        "colab": {
          "base_uri": "https://localhost:8080/",
          "height": 0
        },
        "id": "7XnfJbZ7T8WE",
        "outputId": "20247ec8-e439-4aab-9fa8-7521ccaee495"
      },
      "execution_count": 20,
      "outputs": [
        {
          "name": "stdout",
          "output_type": "stream",
          "text": [
            "enter your name: hafsa\n",
            "enter your password: hafsa123\n",
            "{'hafsa': 'hafsa123'}\n",
            "enter your name: ali\n",
            "enter your password: 123Ali\n",
            "{'hafsa': 'hafsa123', 'ali': '123Ali'}\n",
            "enter your name: \n"
          ]
        }
      ]
    },
    {
      "cell_type": "code",
      "source": [
        "#counting using a dictionary\n",
        "\n",
        "words=[\"happy\", \"sad\", \"bad\", \"good\", \"bad\", \"sad\", \"dog\", \"sad\", \"cat\", \"dog\"]\n",
        "frequency={}\n",
        "for word in words:\n",
        "  if word in frequency:\n",
        "    frequency[word]+=1\n",
        "  else:\n",
        "    frequency[word]=1\n",
        "print(frequency)"
      ],
      "metadata": {
        "colab": {
          "base_uri": "https://localhost:8080/",
          "height": 0
        },
        "id": "HEgWeEPFXdWZ",
        "outputId": "c207d834-b5ad-4bac-c16f-c482d77b9b52"
      },
      "execution_count": 21,
      "outputs": [
        {
          "output_type": "stream",
          "name": "stdout",
          "text": [
            "{'happy': 1, 'sad': 3, 'bad': 2, 'good': 1, 'dog': 2, 'cat': 1}\n"
          ]
        }
      ]
    },
    {
      "cell_type": "code",
      "source": [
        "#temperature conversion\n",
        "\n",
        "temp=float(input(\"enter temperature: \"))\n",
        "unit=input(\"enter units (c or f): \")\n",
        "\n",
        "if unit==\"c\":\n",
        "  temp=temp*9/5+32\n",
        "  unit=\"f\"\n",
        "elif unit==\"f\":\n",
        "  temp=(temp-32)*5/9\n",
        "  unit=\"c\"\n",
        "else:\n",
        "  print(\"invalid unit\")\n",
        "\n",
        "print(temp, unit)"
      ],
      "metadata": {
        "colab": {
          "base_uri": "https://localhost:8080/",
          "height": 0
        },
        "id": "Glt8dswFYM22",
        "outputId": "bf7c1fb4-80a1-42e0-cecf-34f7a2af7d56"
      },
      "execution_count": 22,
      "outputs": [
        {
          "output_type": "stream",
          "name": "stdout",
          "text": [
            "enter temperature: 180\n",
            "enter units (c or f): c\n",
            "356.0 f\n"
          ]
        }
      ]
    }
  ]
}