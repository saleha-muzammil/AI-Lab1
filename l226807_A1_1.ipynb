{
  "nbformat": 4,
  "nbformat_minor": 0,
  "metadata": {
    "colab": {
      "provenance": []
    },
    "kernelspec": {
      "name": "python3",
      "display_name": "Python 3"
    },
    "language_info": {
      "name": "python"
    }
  },
  "cells": [
    {
      "cell_type": "code",
      "execution_count": null,
      "metadata": {
        "colab": {
          "base_uri": "https://localhost:8080/"
        },
        "id": "ga8VDXJa1-Rn",
        "outputId": "bdb50e8f-b8ca-445c-c862-8afc9013b5e8"
      },
      "outputs": [
        {
          "output_type": "stream",
          "name": "stdout",
          "text": [
            "What is your name\n"
          ]
        },
        {
          "output_type": "stream",
          "name": "stderr",
          "text": [
            "\n",
            "KeyboardInterrupt\n",
            "\n"
          ]
        }
      ],
      "source": [
        "print(\"What is your name\")\n",
        "name=input()\n",
        "print(\"What is your age\")\n",
        "age=input()"
      ]
    },
    {
      "cell_type": "code",
      "source": [
        "print(\"Input\")\n",
        "value=str(input())\n",
        "if \".\" in value:\n",
        "  print(\"float\")\n",
        "elif value.isdigit() :\n",
        "  print(\"integer\")\n",
        "else :\n",
        "  print(\"string\")\n",
        "\n"
      ],
      "metadata": {
        "colab": {
          "base_uri": "https://localhost:8080/"
        },
        "id": "rsnsZjOo2nLT",
        "outputId": "7ee964a5-54c3-4df0-c281-dea527ab44a1"
      },
      "execution_count": null,
      "outputs": [
        {
          "output_type": "stream",
          "name": "stdout",
          "text": [
            "Input\n",
            "5\n",
            "integer\n"
          ]
        }
      ]
    },
    {
      "cell_type": "code",
      "source": [
        "list=[\"asjad\",\"die\",\"eve\",\"raif\"]\n",
        "list.remove(\"asjad\")\n",
        "list.append(\"arham\")\n",
        "for val in list:\n",
        "    print(val.upper())\n"
      ],
      "metadata": {
        "colab": {
          "base_uri": "https://localhost:8080/"
        },
        "id": "lh4ql_G16DTA",
        "outputId": "d10b139a-598d-4a84-fcc1-9bf1dcdc9588"
      },
      "execution_count": null,
      "outputs": [
        {
          "output_type": "stream",
          "name": "stdout",
          "text": [
            "DIE\n",
            "EVE\n",
            "RAIF\n",
            "ARHAM\n"
          ]
        }
      ]
    },
    {
      "cell_type": "code",
      "source": [
        "value=(\"a\",1)\n",
        "print(value)\n",
        "value1,value2=value\n",
        "print(value1)\n",
        "print(value2)"
      ],
      "metadata": {
        "colab": {
          "base_uri": "https://localhost:8080/"
        },
        "id": "Mak-U0XD8I4W",
        "outputId": "eecad47b-da16-4a34-d449-3ad4b33d6a20"
      },
      "execution_count": null,
      "outputs": [
        {
          "output_type": "stream",
          "name": "stdout",
          "text": [
            "('a', 1)\n",
            "a\n",
            "1\n"
          ]
        }
      ]
    },
    {
      "cell_type": "code",
      "source": [
        "classroom={}\n",
        "for i in range(0,5):\n",
        "  print(f\"Enter name of student {i}\")\n",
        "  name=input()\n",
        "  print(f\"Enter grade of student {i}\")\n",
        "  grade=input()\n",
        "  classroom[name]=grade\n",
        "\n",
        "print(classroom)\n"
      ],
      "metadata": {
        "colab": {
          "base_uri": "https://localhost:8080/"
        },
        "id": "8oGoVaBj86Vt",
        "outputId": "ed3deb8a-a0da-4003-89e4-1ea8cbfae8dd"
      },
      "execution_count": null,
      "outputs": [
        {
          "output_type": "stream",
          "name": "stdout",
          "text": [
            "Enter name of student 1\n",
            "Raif\n",
            "Enter grade of student 1\n",
            "A\n",
            "Enter name of student 2\n",
            "bilal\n",
            "Enter grade of student 2\n",
            "B\n",
            "Enter name of student 3\n",
            "Asjad\n",
            "Enter grade of student 3\n",
            "A\n",
            "Enter name of student 4\n",
            "zeeshan\n",
            "Enter grade of student 4\n",
            "F\n",
            "{'Raif': 'A', 'bilal': 'B', 'Asjad': 'A', 'zeeshan': 'F'}\n"
          ]
        }
      ]
    },
    {
      "cell_type": "code",
      "source": [
        "list1=[1,2,3,4,5]\n",
        "list2=[3,4,5,6,7]\n",
        "\n",
        "setvalue=set(list1).union(set(list2))\n",
        "print(setvalue)\n",
        "setvalue=set(list1).intersection(set(list2))\n",
        "print(setvalue)\n",
        "setvalue=set(list1).difference(set(list2))\n",
        "print(setvalue)"
      ],
      "metadata": {
        "colab": {
          "base_uri": "https://localhost:8080/"
        },
        "id": "Wcon_jhQBMUw",
        "outputId": "4b4f476e-24e3-48de-e0d8-e005c5fe3bac"
      },
      "execution_count": 9,
      "outputs": [
        {
          "output_type": "stream",
          "name": "stdout",
          "text": [
            "{1, 2, 3, 4, 5, 6, 7}\n",
            "{3, 4, 5}\n",
            "{1, 2}\n"
          ]
        }
      ]
    },
    {
      "cell_type": "code",
      "source": [
        "print(\"enter an integer\")\n",
        "value=int(input())\n",
        "if value>0:\n",
        "  print(\"positive\")\n",
        "elif value<0:\n",
        "  print(\"negative\")\n",
        "else:\n",
        "  print(\"zero\")\n",
        "\n",
        "if value%2==0:\n",
        "  print(\"even\")\n",
        "else:\n",
        "  print(\"odd\")"
      ],
      "metadata": {
        "colab": {
          "base_uri": "https://localhost:8080/"
        },
        "id": "gfQiTqWUBzCO",
        "outputId": "32f7ec15-05f6-46c1-9ab1-8e85fc4b12f4"
      },
      "execution_count": null,
      "outputs": [
        {
          "output_type": "stream",
          "name": "stdout",
          "text": [
            "enter an integer\n",
            "4\n",
            "positive\n",
            "even\n"
          ]
        }
      ]
    },
    {
      "cell_type": "code",
      "source": [
        "for i in range(1,51):\n",
        "  if(i%15==0):\n",
        "    print(\"fizzbuzz\")\n",
        "  elif(i%3==0):\n",
        "    print(\"fizz\")\n",
        "  elif(i%5==0):\n",
        "    print(\"buzz\")\n",
        "  else:\n",
        "    print(i)"
      ],
      "metadata": {
        "colab": {
          "base_uri": "https://localhost:8080/"
        },
        "id": "f3S_l0AvC2hp",
        "outputId": "daa43364-e4a4-44aa-fa05-471512391974"
      },
      "execution_count": null,
      "outputs": [
        {
          "output_type": "stream",
          "name": "stdout",
          "text": [
            "1\n",
            "2\n",
            "fizz\n",
            "4\n",
            "buzz\n",
            "fizz\n",
            "7\n",
            "8\n",
            "fizz\n",
            "buzz\n",
            "11\n",
            "fizz\n",
            "13\n",
            "14\n",
            "fizzbuzz\n",
            "16\n",
            "17\n",
            "fizz\n",
            "19\n",
            "buzz\n",
            "fizz\n",
            "22\n",
            "23\n",
            "fizz\n",
            "buzz\n",
            "26\n",
            "fizz\n",
            "28\n",
            "29\n",
            "fizzbuzz\n",
            "31\n",
            "32\n",
            "fizz\n",
            "34\n",
            "buzz\n",
            "fizz\n",
            "37\n",
            "38\n",
            "fizz\n",
            "buzz\n",
            "41\n",
            "fizz\n",
            "43\n",
            "44\n",
            "fizzbuzz\n",
            "46\n",
            "47\n",
            "fizz\n",
            "49\n",
            "buzz\n"
          ]
        }
      ]
    },
    {
      "cell_type": "code",
      "source": [
        "def factorial(num):\n",
        "  if num==0:\n",
        "    return 1\n",
        "  else:\n",
        "    return num*factorial(num-1)\n",
        "\n",
        "print(factorial(5))"
      ],
      "metadata": {
        "colab": {
          "base_uri": "https://localhost:8080/"
        },
        "id": "WEhIajsNDnoG",
        "outputId": "1448f920-6ac5-473b-9ecb-3392ef4b31f1"
      },
      "execution_count": null,
      "outputs": [
        {
          "output_type": "stream",
          "name": "stdout",
          "text": [
            "120\n"
          ]
        }
      ]
    },
    {
      "cell_type": "code",
      "source": [
        "def isprime(num):\n",
        "  for i in range(2,num):\n",
        "    if num%i==0:\n",
        "      return False\n",
        "  return True\n",
        "\n",
        "print(isprime(12))"
      ],
      "metadata": {
        "colab": {
          "base_uri": "https://localhost:8080/"
        },
        "id": "DDQPMZTPEKqV",
        "outputId": "07dbe2cc-a4c7-46a5-89e0-7540f6f95fa1"
      },
      "execution_count": null,
      "outputs": [
        {
          "output_type": "stream",
          "name": "stdout",
          "text": [
            "False\n"
          ]
        }
      ]
    },
    {
      "cell_type": "code",
      "source": [
        "def squarelist(list):\n",
        "  for i in range(0,len(list)):\n",
        "    list[i]=list[i]**2\n",
        "  return list\n",
        "\n",
        "print(squarelist([1,2,3,4,5]))"
      ],
      "metadata": {
        "colab": {
          "base_uri": "https://localhost:8080/"
        },
        "id": "oPl9VvQiEUfU",
        "outputId": "706fabed-3b07-40e1-ecd7-eee8e19f45fc"
      },
      "execution_count": null,
      "outputs": [
        {
          "output_type": "stream",
          "name": "stdout",
          "text": [
            "[1, 4, 9, 16, 25]\n"
          ]
        }
      ]
    },
    {
      "cell_type": "code",
      "source": [
        "Dict1={3:10,2:20}\n",
        "Dict2={3:30,4:40}\n",
        "\n",
        "Dict1.update(Dict2)\n",
        "print(Dict1)\n",
        "\n",
        "for value in Dict2:\n",
        "  Dict1[value]=Dict2[value]\n",
        "\n",
        "print(Dict1)\n",
        "\n"
      ],
      "metadata": {
        "colab": {
          "base_uri": "https://localhost:8080/"
        },
        "id": "bTHSo4WGEqYt",
        "outputId": "35602dbf-4afb-4872-e979-ea8985051911"
      },
      "execution_count": null,
      "outputs": [
        {
          "output_type": "stream",
          "name": "stdout",
          "text": [
            "{3: 30, 2: 20, 4: 40}\n",
            "{3: 30, 2: 20, 4: 40}\n"
          ]
        }
      ]
    },
    {
      "cell_type": "code",
      "source": [
        "list1=[1,2,3,3,4,1,2,3]\n",
        "templist=[]\n",
        "\n",
        "for value in list1:\n",
        "  if value not in templist:\n",
        "    templist.append(value)\n",
        "\n",
        "\n",
        "list1=templist\n",
        "print(templist)"
      ],
      "metadata": {
        "colab": {
          "base_uri": "https://localhost:8080/"
        },
        "id": "_Wzlnt1ZGQ00",
        "outputId": "78199e9c-ae19-4816-c6fe-2c521ebea571"
      },
      "execution_count": null,
      "outputs": [
        {
          "output_type": "stream",
          "name": "stdout",
          "text": [
            "[1, 2, 3, 4]\n"
          ]
        }
      ]
    },
    {
      "cell_type": "code",
      "source": [
        "word=input()\n",
        "if word==word[::-1]:\n",
        "  print(\"palindrome\")\n",
        "else:\n",
        "  print(\"not palindrome\")"
      ],
      "metadata": {
        "colab": {
          "base_uri": "https://localhost:8080/"
        },
        "id": "NlymS25pHubR",
        "outputId": "95ec8a8f-f30a-4f98-9dd4-21b89fc3dc23"
      },
      "execution_count": null,
      "outputs": [
        {
          "output_type": "stream",
          "name": "stdout",
          "text": [
            "nin\n",
            "palindrome\n"
          ]
        }
      ]
    },
    {
      "cell_type": "code",
      "source": [
        "def fibonacci(n):\n",
        "  if n <= 0:\n",
        "    return []\n",
        "  elif n == 1:\n",
        "    return [0]\n",
        "  else:\n",
        "    list_fib = [0, 1]\n",
        "    while len(list_fib) < n:\n",
        "      next_fib = list_fib[-1] + list_fib[-2]\n",
        "      list_fib.append(next_fib)\n",
        "    return list_fib\n",
        "\n",
        "num_terms = int(input(\"Enter the number of terms for the Fibonacci sequence: \"))\n",
        "\n",
        "fib_sequence = fibonacci(num_terms)\n",
        "fib_sequence\n"
      ],
      "metadata": {
        "colab": {
          "base_uri": "https://localhost:8080/"
        },
        "id": "gRo7XkuRH4VA",
        "outputId": "2b7179ed-a743-4b43-ec3c-d4ec2b481541"
      },
      "execution_count": null,
      "outputs": [
        {
          "name": "stdout",
          "output_type": "stream",
          "text": [
            "Enter the number of terms for the Fibonacci sequence: 6\n"
          ]
        },
        {
          "output_type": "execute_result",
          "data": {
            "text/plain": [
              "[0, 1, 1, 2, 3, 5]"
            ]
          },
          "metadata": {},
          "execution_count": 23
        }
      ]
    },
    {
      "cell_type": "code",
      "source": [
        "num=input(\"input num or end program by pressing x \")\n",
        "numberofdigit=0\n",
        "sum=0\n",
        "while (num!=\"x\"):\n",
        "  if (num.isdigit()):\n",
        "    sum=0\n",
        "    numberofdigit+=1\n",
        "  else :\n",
        "    print(\"invalid input\")\n",
        "\n",
        "  num=input(\"input num or end program by pressing x \")\n",
        "\n",
        "average=sum/numberofdigit\n",
        "\n",
        "print(f\"average is {average}\")\n"
      ],
      "metadata": {
        "colab": {
          "base_uri": "https://localhost:8080/"
        },
        "id": "SwBtdsRAJWl0",
        "outputId": "c71056b9-3340-4b2f-9f23-e6e43a03a36d"
      },
      "execution_count": null,
      "outputs": [
        {
          "name": "stdout",
          "output_type": "stream",
          "text": [
            "input num or end program by pressing x 4\n",
            "input num or end program by pressing x 2\n",
            "input num or end program by pressing x x\n"
          ]
        }
      ]
    },
    {
      "cell_type": "code",
      "source": [
        "for i in range (1,11):\n",
        "  for j in range (1,11):\n",
        "    print(f\"{i}*{j}={i*j}\")"
      ],
      "metadata": {
        "colab": {
          "base_uri": "https://localhost:8080/"
        },
        "id": "vpEOv25lLLey",
        "outputId": "4b042d53-bb3f-4b0f-9903-124fb35afd1d"
      },
      "execution_count": null,
      "outputs": [
        {
          "output_type": "stream",
          "name": "stdout",
          "text": [
            "1*1=1\n",
            "1*2=2\n",
            "1*3=3\n",
            "1*4=4\n",
            "1*5=5\n",
            "1*6=6\n",
            "1*7=7\n",
            "1*8=8\n",
            "1*9=9\n",
            "1*10=10\n",
            "2*1=2\n",
            "2*2=4\n",
            "2*3=6\n",
            "2*4=8\n",
            "2*5=10\n",
            "2*6=12\n",
            "2*7=14\n",
            "2*8=16\n",
            "2*9=18\n",
            "2*10=20\n",
            "3*1=3\n",
            "3*2=6\n",
            "3*3=9\n",
            "3*4=12\n",
            "3*5=15\n",
            "3*6=18\n",
            "3*7=21\n",
            "3*8=24\n",
            "3*9=27\n",
            "3*10=30\n",
            "4*1=4\n",
            "4*2=8\n",
            "4*3=12\n",
            "4*4=16\n",
            "4*5=20\n",
            "4*6=24\n",
            "4*7=28\n",
            "4*8=32\n",
            "4*9=36\n",
            "4*10=40\n",
            "5*1=5\n",
            "5*2=10\n",
            "5*3=15\n",
            "5*4=20\n",
            "5*5=25\n",
            "5*6=30\n",
            "5*7=35\n",
            "5*8=40\n",
            "5*9=45\n",
            "5*10=50\n",
            "6*1=6\n",
            "6*2=12\n",
            "6*3=18\n",
            "6*4=24\n",
            "6*5=30\n",
            "6*6=36\n",
            "6*7=42\n",
            "6*8=48\n",
            "6*9=54\n",
            "6*10=60\n",
            "7*1=7\n",
            "7*2=14\n",
            "7*3=21\n",
            "7*4=28\n",
            "7*5=35\n",
            "7*6=42\n",
            "7*7=49\n",
            "7*8=56\n",
            "7*9=63\n",
            "7*10=70\n",
            "8*1=8\n",
            "8*2=16\n",
            "8*3=24\n",
            "8*4=32\n",
            "8*5=40\n",
            "8*6=48\n",
            "8*7=56\n",
            "8*8=64\n",
            "8*9=72\n",
            "8*10=80\n",
            "9*1=9\n",
            "9*2=18\n",
            "9*3=27\n",
            "9*4=36\n",
            "9*5=45\n",
            "9*6=54\n",
            "9*7=63\n",
            "9*8=72\n",
            "9*9=81\n",
            "9*10=90\n",
            "10*1=10\n",
            "10*2=20\n",
            "10*3=30\n",
            "10*4=40\n",
            "10*5=50\n",
            "10*6=60\n",
            "10*7=70\n",
            "10*8=80\n",
            "10*9=90\n",
            "10*10=100\n"
          ]
        }
      ]
    },
    {
      "cell_type": "code",
      "source": [
        "users = {}\n",
        "\n",
        "def register():\n",
        "  username = input(\"Enter a username: \")\n",
        "  if username in users:\n",
        "    print(\"Username already exists. Please choose a different one.\")\n",
        "    return\n",
        "  password = input(\"Enter a password: \")\n",
        "  users[username] = password\n",
        "  print(\"Registration successful!\")\n",
        "\n",
        "def login():\n",
        "  username = input(\"Enter your username: \")\n",
        "  if username not in users:\n",
        "    print(\"Username not found.\")\n",
        "    return\n",
        "  password = input(\"Enter your password: \")\n",
        "  if password == users[username]:\n",
        "    print(\"Login successful!\")\n",
        "  else:\n",
        "    print(\"Incorrect password.\")\n",
        "\n",
        "while True:\n",
        "  print(\"\\nChoose an option:\")\n",
        "  print(\"1. Register\")\n",
        "  print(\"2. Login\")\n",
        "  print(\"3. Exit\")\n",
        "\n",
        "  choice = input(\"Enter your choice: \")\n",
        "\n",
        "  if choice == '1':\n",
        "    register()\n",
        "  elif choice == '2':\n",
        "    login()\n",
        "  elif choice == '3':\n",
        "    break\n",
        "  else:\n",
        "    print(\"Invalid choice.\")\n"
      ],
      "metadata": {
        "id": "hE8PhlNvwBm1"
      },
      "execution_count": null,
      "outputs": []
    },
    {
      "cell_type": "code",
      "source": [
        "list1=[]\n",
        "num=int(input(\"Enter number of words \"))\n",
        "\n",
        "for i in range(0,num):\n",
        "  word=input()\n",
        "  list1.append(word)\n",
        "\n",
        "dict1={}\n",
        "\n",
        "for word in list1:\n",
        "  if word in dict1:\n",
        "    dict1[word]+=1\n",
        "  else:\n",
        "    dict1[word]=1\n",
        "\n",
        "print(dict1)\n"
      ],
      "metadata": {
        "colab": {
          "base_uri": "https://localhost:8080/"
        },
        "id": "t1w1iqehwCkQ",
        "outputId": "171b5a45-aeb6-49c5-b58e-96f29d8c9fe0"
      },
      "execution_count": 3,
      "outputs": [
        {
          "output_type": "stream",
          "name": "stdout",
          "text": [
            "Enter number of words 5\n",
            "nigga\n",
            "nigga\n",
            "hi\n",
            "bye\n",
            "hi\n",
            "{'nigga': 2, 'hi': 2, 'bye': 1}\n"
          ]
        }
      ]
    },
    {
      "cell_type": "code",
      "source": [
        "def convertdegree(type,value):\n",
        "  if(type==\"C\"):\n",
        "    return (value*9/5)+32\n",
        "  elif(type==\"F\"):\n",
        "    return (value-32)*5/9\n",
        "  else:\n",
        "    print(\"invalid input\")\n",
        "\n",
        "print(convertdegree(\"F\",100))\n"
      ],
      "metadata": {
        "colab": {
          "base_uri": "https://localhost:8080/"
        },
        "id": "qmSVPsDjy1Q1",
        "outputId": "d7bbdb04-9e06-423b-b88f-1a256ed88f69"
      },
      "execution_count": 5,
      "outputs": [
        {
          "output_type": "stream",
          "name": "stdout",
          "text": [
            "37.77777777777778\n"
          ]
        }
      ]
    }
  ]
}