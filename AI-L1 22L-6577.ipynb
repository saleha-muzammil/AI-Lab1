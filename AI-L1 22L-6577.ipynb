{
  "nbformat": 4,
  "nbformat_minor": 0,
  "metadata": {
    "colab": {
      "provenance": []
    },
    "kernelspec": {
      "name": "python3",
      "display_name": "Python 3"
    },
    "language_info": {
      "name": "python"
    }
  },
  "cells": [
    {
      "cell_type": "code",
      "execution_count": null,
      "metadata": {
        "colab": {
          "base_uri": "https://localhost:8080/"
        },
        "id": "EqlAKa3Y0a5p",
        "outputId": "f53d26ff-3c46-4b21-f5f7-ee6dd1602a9a"
      },
      "outputs": [
        {
          "output_type": "stream",
          "name": "stdout",
          "text": [
            "Write your nameHaseeb\n",
            "Enter your age18\n",
            "HI Haseeb! Aged 18\n"
          ]
        }
      ],
      "source": [
        "n=input(\"Write your name\");\n",
        "age=int(input(\"Enter your age\"));\n",
        "print(f\"HI {n}! Aged {age}\");"
      ]
    },
    {
      "cell_type": "code",
      "source": [
        "i=int(input(\"Enter ypur input\\n\"));\n",
        "print(type(i));"
      ],
      "metadata": {
        "colab": {
          "base_uri": "https://localhost:8080/"
        },
        "id": "JoJO8jyf1Rm8",
        "outputId": "f3b5bb34-35a6-4d45-e910-79668535c488"
      },
      "execution_count": null,
      "outputs": [
        {
          "output_type": "stream",
          "name": "stdout",
          "text": [
            "Enter ypur input\n",
            "666\n",
            "<class 'int'>\n"
          ]
        }
      ]
    },
    {
      "cell_type": "code",
      "source": [
        "l=[];\n",
        "i=input(\"Enter\\n\")\n",
        "for i in range(5):\n",
        "  i=input()\n",
        "  l.append(i);\n",
        "\n",
        "print(l);\n",
        "j=input(\"Enter element to remove \")\n",
        "l.remove(j);\n",
        "\n",
        "print(l);\n",
        "\n"
      ],
      "metadata": {
        "colab": {
          "base_uri": "https://localhost:8080/"
        },
        "id": "KLtl2Rji2E9M",
        "outputId": "66e814dc-dcfd-435c-ccf6-cc8ba3d326bd"
      },
      "execution_count": null,
      "outputs": [
        {
          "output_type": "stream",
          "name": "stdout",
          "text": [
            "Enter\n",
            "a\n",
            "\n",
            "l\n",
            "l\n",
            "l\n",
            "l\n",
            "['', 'l', 'l', 'l', 'l']\n",
            "Enter element to remove l\n",
            "['', 'l', 'l', 'l']\n"
          ]
        }
      ]
    },
    {
      "cell_type": "code",
      "source": [
        "thisdict = {\n",
        "  \"Ans\": \"A\",\n",
        "  \"krab\": \"B\",\n",
        "  \"ALi2\": \"C\",\n",
        "  \"John\": \"D\"\n",
        "}\n",
        "thisdict[\"Jack\"] = \"A+\"\n",
        "print(thisdict)"
      ],
      "metadata": {
        "colab": {
          "base_uri": "https://localhost:8080/"
        },
        "id": "dWTS8wvk3gGs",
        "outputId": "c661ede8-4f7a-46d9-d739-3c38b515c537"
      },
      "execution_count": null,
      "outputs": [
        {
          "output_type": "stream",
          "name": "stdout",
          "text": [
            "{'Ans': 'A', 'krab': 'B', 'ALi2': 'C', 'John': 'D', 'Jack': 'A+'}\n"
          ]
        }
      ]
    },
    {
      "cell_type": "code",
      "source": [
        "thistuple = (\"A\",\"B\",\"C\");\n",
        "x=thistuple[0];\n",
        "y=thistuple[1];\n",
        "print(x,y)"
      ],
      "metadata": {
        "colab": {
          "base_uri": "https://localhost:8080/"
        },
        "id": "MmCx44QS6mJu",
        "outputId": "c6bbc27b-9096-433d-fb24-4460f97ab193"
      },
      "execution_count": null,
      "outputs": [
        {
          "output_type": "stream",
          "name": "stdout",
          "text": [
            "A B\n"
          ]
        }
      ]
    },
    {
      "cell_type": "code",
      "source": [
        "\n",
        "A = {2, 3, 5}\n",
        "\n",
        "B = {1, 2, 6}\n",
        "\n",
        "\n",
        "print('Intersection :', A.intersection(B))\n",
        "print('Intersection :', A.union(B))\n",
        "print('Difference :', A.difference(B))"
      ],
      "metadata": {
        "colab": {
          "base_uri": "https://localhost:8080/"
        },
        "id": "3rR_AZ7V4eUk",
        "outputId": "2da54ae8-42f4-4d4f-c865-5bb770797446"
      },
      "execution_count": null,
      "outputs": [
        {
          "output_type": "stream",
          "name": "stdout",
          "text": [
            "Intersection using intersection(): {2}\n",
            "Intersection using union(): {1, 2, 3, 5, 6}\n",
            "Difference using difference(): {3, 5}\n"
          ]
        }
      ]
    },
    {
      "cell_type": "code",
      "source": [
        "i=int(input(\"enter integer\"));\n",
        "if i%2==0:\n",
        "    if i<0:\n",
        "      print(\"The number is Even -ve\");\n",
        "    if i>0:\n",
        "      print(\"The number is Even +ve\");\n",
        "    if i==0:\n",
        "        print(\"ZERO\")\n",
        "\n",
        "elif (i%2!=0):\n",
        "      if i<0:\n",
        "        print(\"The number is Even -ve\");\n",
        "      if i>0:\n",
        "        print(\"The number is Even +ve\");\n",
        "      if i==0:\n",
        "        print(\"ZERO\")\n",
        "\n"
      ],
      "metadata": {
        "colab": {
          "base_uri": "https://localhost:8080/"
        },
        "id": "HTV_MOgg7DPx",
        "outputId": "e33a059c-e7da-46c5-c0a6-d75cfcf5929a"
      },
      "execution_count": null,
      "outputs": [
        {
          "output_type": "stream",
          "name": "stdout",
          "text": [
            "enter integer0\n",
            "ZERO\n"
          ]
        }
      ]
    },
    {
      "cell_type": "code",
      "source": [
        "for i in range(0,51):\n",
        "  if i%3==0:\n",
        "    print(\"FIZZ\\n\");\n",
        "  elif i%5==0:\n",
        "    print(\"Buzz\\n\")\n",
        "  elif i%3==0 and i%5==0:\n",
        "    print(\"FIZZBUZZ\\n\");\n",
        "  else:\n",
        "    print(i);"
      ],
      "metadata": {
        "colab": {
          "base_uri": "https://localhost:8080/"
        },
        "id": "L1W9hr7X8rPN",
        "outputId": "4cb85605-67bc-40a7-974e-b5910a7eef5d"
      },
      "execution_count": null,
      "outputs": [
        {
          "output_type": "stream",
          "name": "stdout",
          "text": [
            "FIZZ\n",
            "\n",
            "1\n",
            "2\n",
            "FIZZ\n",
            "\n",
            "4\n",
            "Buzz\n",
            "\n",
            "FIZZ\n",
            "\n",
            "7\n",
            "8\n",
            "FIZZ\n",
            "\n",
            "Buzz\n",
            "\n",
            "11\n",
            "FIZZ\n",
            "\n",
            "13\n",
            "14\n",
            "FIZZ\n",
            "\n",
            "16\n",
            "17\n",
            "FIZZ\n",
            "\n",
            "19\n",
            "Buzz\n",
            "\n",
            "FIZZ\n",
            "\n",
            "22\n",
            "23\n",
            "FIZZ\n",
            "\n",
            "Buzz\n",
            "\n",
            "26\n",
            "FIZZ\n",
            "\n",
            "28\n",
            "29\n",
            "FIZZ\n",
            "\n",
            "31\n",
            "32\n",
            "FIZZ\n",
            "\n",
            "34\n",
            "Buzz\n",
            "\n",
            "FIZZ\n",
            "\n",
            "37\n",
            "38\n",
            "FIZZ\n",
            "\n",
            "Buzz\n",
            "\n",
            "41\n",
            "FIZZ\n",
            "\n",
            "43\n",
            "44\n",
            "FIZZ\n",
            "\n",
            "46\n",
            "47\n",
            "FIZZ\n",
            "\n",
            "49\n",
            "Buzz\n",
            "\n"
          ]
        }
      ]
    },
    {
      "cell_type": "code",
      "source": [
        "n = int(input(\"Enter your number \"));\n",
        "\n",
        "def factorial(x):\n",
        "  fact = 1\n",
        "  for i in range(1, x+1):\n",
        "    fact = fact * i\n",
        "\n",
        "\n",
        "  print(f\"The factorial of {x} is :\",fact)\n",
        "factorial(n);"
      ],
      "metadata": {
        "colab": {
          "base_uri": "https://localhost:8080/"
        },
        "id": "O0xShU_X9417",
        "outputId": "d7cef48e-b5b0-42b6-8858-dcf370b505ba"
      },
      "execution_count": null,
      "outputs": [
        {
          "output_type": "stream",
          "name": "stdout",
          "text": [
            "Enter your number 8\n",
            "The factorial of 8 is :  40320\n"
          ]
        }
      ]
    },
    {
      "cell_type": "code",
      "source": [
        "\n",
        "num=int(input(\"enter your number\"));\n",
        "\n",
        "\n",
        "\n",
        "flag = False\n",
        "\n",
        "if num == 0 or num == 1:\n",
        "    print(num, \"is not a prime number\")\n",
        "elif num > 1:\n",
        "    for i in range(2, num):\n",
        "        if (num % i) == 0:\n",
        "            flag = True\n",
        "            break\n",
        "\n",
        "    if flag:\n",
        "        print(num, \"is not a prime number\")\n",
        "    else:\n",
        "        print(num, \"is a prime number\")"
      ],
      "metadata": {
        "colab": {
          "base_uri": "https://localhost:8080/"
        },
        "id": "EFgqHYuf-jzR",
        "outputId": "69613e76-c6cb-4253-808e-96a751de644d"
      },
      "execution_count": null,
      "outputs": [
        {
          "output_type": "stream",
          "name": "stdout",
          "text": [
            "enter your number44\n",
            "44 is not a prime number\n"
          ]
        }
      ]
    },
    {
      "cell_type": "code",
      "source": [
        "a=[];\n",
        "for i in range(0,5):\n",
        "  j=int(input())\n",
        "  a.append(j)\n",
        "new_list=[x**2 for x in a ]\n",
        "print(new_list)"
      ],
      "metadata": {
        "colab": {
          "base_uri": "https://localhost:8080/"
        },
        "id": "GszKeF8gA8fI",
        "outputId": "f86ab0ec-126d-492f-9d79-5c49348c1c35"
      },
      "execution_count": null,
      "outputs": [
        {
          "output_type": "stream",
          "name": "stdout",
          "text": [
            "1\n",
            "3\n",
            "5\n",
            "2\n",
            "4\n",
            "[1, 9, 25, 4, 16]\n"
          ]
        }
      ]
    },
    {
      "cell_type": "code",
      "source": [
        "d1={\"Ans\":\"A\",\"Ali\":\"B\",\"JAck\":\"C\"}\n",
        "d2={\"Ans\":\"A\",\"Ali\":\"B\",\"JOhn\":\"D\",\"krab\":\"C-\" }\n",
        "d1.update(d2);\n",
        "print(d1)\n"
      ],
      "metadata": {
        "colab": {
          "base_uri": "https://localhost:8080/"
        },
        "id": "ySeRDA9hB1WF",
        "outputId": "299560ea-52f3-4eec-df20-af8ecc9c2c91"
      },
      "execution_count": null,
      "outputs": [
        {
          "output_type": "stream",
          "name": "stdout",
          "text": [
            "{'Ans': 'A', 'Ali': 'B', 'JAck': 'C', 'JOhn': 'D', 'krab': 'C-'}\n"
          ]
        }
      ]
    },
    {
      "cell_type": "code",
      "source": [
        "\n",
        "def my_function(x):\n",
        "  return list(dict.fromkeys(x))\n",
        "\n",
        "mylist = my_function([\"a\", \"b\", \"a\", \"c\", \"c\"])\n",
        "\n",
        "print(mylist)"
      ],
      "metadata": {
        "colab": {
          "base_uri": "https://localhost:8080/"
        },
        "id": "uWTxKKFMDdNJ",
        "outputId": "849d399b-4736-4ea9-f682-64b41615c143"
      },
      "execution_count": null,
      "outputs": [
        {
          "output_type": "stream",
          "name": "stdout",
          "text": [
            "['a', 'b', 'c']\n"
          ]
        }
      ]
    },
    {
      "cell_type": "code",
      "source": [
        "p = lambda num: str(num) == str(num)[::-1]\n",
        "num=121\n",
        "if(p(num)):\n",
        "  print(\"True\");\n",
        "else:\n",
        "  print(\"false\")"
      ],
      "metadata": {
        "colab": {
          "base_uri": "https://localhost:8080/"
        },
        "id": "Y_zL1VpvGWmu",
        "outputId": "70b704c1-90e3-4df2-f818-ef927ad6321c"
      },
      "execution_count": null,
      "outputs": [
        {
          "output_type": "stream",
          "name": "stdout",
          "text": [
            "True\n"
          ]
        }
      ]
    },
    {
      "cell_type": "code",
      "source": [
        "#Average calculator\n"
      ],
      "metadata": {
        "id": "hJ1VjGXtIbOj"
      },
      "execution_count": null,
      "outputs": []
    },
    {
      "cell_type": "code",
      "source": [
        "def Fibonacci(n):\n",
        "\n",
        "\n",
        "    if n < 0:\n",
        "        print(\"Incorrect input\")\n",
        "\n",
        "\n",
        "    elif n == 0:\n",
        "        return 0\n",
        "\n",
        "    elif n == 1 or n == 2:\n",
        "        return 1\n",
        "\n",
        "    else:\n",
        "        return Fibonacci(n-1) + Fibonacci(n-2)\n",
        "\n",
        "\n",
        "print(Fibonacci(9))"
      ],
      "metadata": {
        "colab": {
          "base_uri": "https://localhost:8080/"
        },
        "id": "tGPHfg9tI3v2",
        "outputId": "4d35322d-c963-4323-c285-5a2bd6bed3ef"
      },
      "execution_count": null,
      "outputs": [
        {
          "output_type": "stream",
          "name": "stdout",
          "text": [
            "34\n"
          ]
        }
      ]
    },
    {
      "cell_type": "code",
      "source": [
        "for i in range(1,11):\n",
        "  print(\"\\n  :\")\n",
        "  for j in range(1,11):\n",
        "    print(f\"{i}X{j}\",\"=\",i*j)\n"
      ],
      "metadata": {
        "colab": {
          "base_uri": "https://localhost:8080/"
        },
        "id": "NDyMyIMfJNUD",
        "outputId": "caa3975c-cb76-4975-950d-48f2b2a9d17f"
      },
      "execution_count": null,
      "outputs": [
        {
          "output_type": "stream",
          "name": "stdout",
          "text": [
            "\n",
            "  :\n",
            "1X1 = 1\n",
            "1X2 = 2\n",
            "1X3 = 3\n",
            "1X4 = 4\n",
            "1X5 = 5\n",
            "1X6 = 6\n",
            "1X7 = 7\n",
            "1X8 = 8\n",
            "1X9 = 9\n",
            "1X10 = 10\n",
            "\n",
            "  :\n",
            "2X1 = 2\n",
            "2X2 = 4\n",
            "2X3 = 6\n",
            "2X4 = 8\n",
            "2X5 = 10\n",
            "2X6 = 12\n",
            "2X7 = 14\n",
            "2X8 = 16\n",
            "2X9 = 18\n",
            "2X10 = 20\n",
            "\n",
            "  :\n",
            "3X1 = 3\n",
            "3X2 = 6\n",
            "3X3 = 9\n",
            "3X4 = 12\n",
            "3X5 = 15\n",
            "3X6 = 18\n",
            "3X7 = 21\n",
            "3X8 = 24\n",
            "3X9 = 27\n",
            "3X10 = 30\n",
            "\n",
            "  :\n",
            "4X1 = 4\n",
            "4X2 = 8\n",
            "4X3 = 12\n",
            "4X4 = 16\n",
            "4X5 = 20\n",
            "4X6 = 24\n",
            "4X7 = 28\n",
            "4X8 = 32\n",
            "4X9 = 36\n",
            "4X10 = 40\n",
            "\n",
            "  :\n",
            "5X1 = 5\n",
            "5X2 = 10\n",
            "5X3 = 15\n",
            "5X4 = 20\n",
            "5X5 = 25\n",
            "5X6 = 30\n",
            "5X7 = 35\n",
            "5X8 = 40\n",
            "5X9 = 45\n",
            "5X10 = 50\n",
            "\n",
            "  :\n",
            "6X1 = 6\n",
            "6X2 = 12\n",
            "6X3 = 18\n",
            "6X4 = 24\n",
            "6X5 = 30\n",
            "6X6 = 36\n",
            "6X7 = 42\n",
            "6X8 = 48\n",
            "6X9 = 54\n",
            "6X10 = 60\n",
            "\n",
            "  :\n",
            "7X1 = 7\n",
            "7X2 = 14\n",
            "7X3 = 21\n",
            "7X4 = 28\n",
            "7X5 = 35\n",
            "7X6 = 42\n",
            "7X7 = 49\n",
            "7X8 = 56\n",
            "7X9 = 63\n",
            "7X10 = 70\n",
            "\n",
            "  :\n",
            "8X1 = 8\n",
            "8X2 = 16\n",
            "8X3 = 24\n",
            "8X4 = 32\n",
            "8X5 = 40\n",
            "8X6 = 48\n",
            "8X7 = 56\n",
            "8X8 = 64\n",
            "8X9 = 72\n",
            "8X10 = 80\n",
            "\n",
            "  :\n",
            "9X1 = 9\n",
            "9X2 = 18\n",
            "9X3 = 27\n",
            "9X4 = 36\n",
            "9X5 = 45\n",
            "9X6 = 54\n",
            "9X7 = 63\n",
            "9X8 = 72\n",
            "9X9 = 81\n",
            "9X10 = 90\n",
            "\n",
            "  :\n",
            "10X1 = 10\n",
            "10X2 = 20\n",
            "10X3 = 30\n",
            "10X4 = 40\n",
            "10X5 = 50\n",
            "10X6 = 60\n",
            "10X7 = 70\n",
            "10X8 = 80\n",
            "10X9 = 90\n",
            "10X10 = 100\n"
          ]
        }
      ]
    },
    {
      "cell_type": "code",
      "source": [
        "def calculate_average():\n",
        "    while True:\n",
        "        try:\n",
        "            numbers = list(map(float, input(\"Enter numbers separated by spaces: \").split()))\n",
        "            if not numbers:\n",
        "                raise ValueError(\"No numbers entered.\")\n",
        "            break\n",
        "        except ValueError:\n",
        "            print(\"Invalid input. Please enter only numbers.\")\n",
        "\n",
        "    average = sum(numbers) / len(numbers)\n",
        "    print(f\"Average: {average:.2f}\")\n",
        "\n",
        "calculate_average()\n"
      ],
      "metadata": {
        "id": "HPnbo1rTf36p"
      },
      "execution_count": null,
      "outputs": []
    },
    {
      "cell_type": "code",
      "source": [
        "dic1={\n",
        "}\n",
        "u=input(\"UserName:\");\n",
        "p=input(\"Enter Password\")\n",
        "dic1[\"UserName:\"]=u;\n",
        "dic1[\"password\"]=p;\n",
        "print(dic1)"
      ],
      "metadata": {
        "colab": {
          "base_uri": "https://localhost:8080/"
        },
        "id": "uLt30CB1KqBD",
        "outputId": "a785615d-a196-4848-98b5-3a47592fb270"
      },
      "execution_count": null,
      "outputs": [
        {
          "output_type": "stream",
          "name": "stdout",
          "text": [
            "UserName:HI\n",
            "Enter Password1234\n",
            "{'UserName:': 'HI', 'password': '1234'}\n"
          ]
        }
      ]
    },
    {
      "cell_type": "code",
      "source": [
        "def count_word_frequency():\n",
        "    words = input(\"Enter a list of words separated by spaces: \").split()\n",
        "    word_count = {}\n",
        "\n",
        "    for word in words:\n",
        "        word_count[word] = word_count.get(word, 0) + 1\n",
        "\n",
        "    print(\"\\nWord Frequency:\")\n",
        "    for word, count in word_count.items():\n",
        "        print(f\"{word}: {count}\")\n",
        "\n",
        "count_word_frequency()\n"
      ],
      "metadata": {
        "id": "UfV5IHIZMO_9",
        "colab": {
          "base_uri": "https://localhost:8080/"
        },
        "outputId": "d74ca798-a214-4027-cf1f-2a03f8b16184"
      },
      "execution_count": 3,
      "outputs": [
        {
          "output_type": "stream",
          "name": "stdout",
          "text": [
            "Enter a list of words separated by spaces: APPLE MANGO MANGO \n",
            "\n",
            "Word Frequency:\n",
            "APPLE: 1\n",
            "MANGO: 2\n"
          ]
        }
      ]
    },
    {
      "cell_type": "code",
      "source": [
        "def convert_temperature():\n",
        "    choice = input(\"Convert from Celsius or Fahrenheit? \").lower()\n",
        "\n",
        "    if choice == 'c':\n",
        "        celsius = float(input(\"Enter temperature in Celsius: \"))\n",
        "        fahrenheit = (celsius * 9/5) + 32\n",
        "        print(f\"{celsius}C is equal to {fahrenheit}F\")\n",
        "\n",
        "    elif choice == 'f':\n",
        "        fahrenheit = float(input(\"Enter temperature in Fahrenheit: \"))\n",
        "        celsius = (fahrenheit - 32) * 5/9\n",
        "        print(f\"{fahrenheit}F is equal to {celsius}C\")\n",
        "\n",
        "    else:\n",
        "        print(\"Invalid choice. Please enter 'C' or 'F'.\")\n",
        "\n",
        "convert_temperature()\n",
        "\n",
        "\n"
      ],
      "metadata": {
        "id": "5zvxKBOiMFF5",
        "colab": {
          "base_uri": "https://localhost:8080/"
        },
        "outputId": "62b37543-dde5-4694-84d4-7de26655db88"
      },
      "execution_count": 6,
      "outputs": [
        {
          "output_type": "stream",
          "name": "stdout",
          "text": [
            "Convert from Celsius or Fahrenheit? c\n",
            "Enter temperature in Celsius: 123\n",
            "123.0C is equal to 253.4F\n"
          ]
        }
      ]
    }
  ]
}