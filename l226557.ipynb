{
  "nbformat": 4,
  "nbformat_minor": 0,
  "metadata": {
    "colab": {
      "provenance": [],
      "toc_visible": true
    },
    "kernelspec": {
      "name": "python3",
      "display_name": "Python 3"
    },
    "language_info": {
      "name": "python"
    }
  },
  "cells": [
    {
      "cell_type": "code",
      "execution_count": null,
      "metadata": {
        "colab": {
          "base_uri": "https://localhost:8080/"
        },
        "id": "G90xd8fqGvXC",
        "outputId": "b4ba9292-5c0e-4c11-a2ea-743a17affb74"
      },
      "outputs": [
        {
          "output_type": "stream",
          "name": "stdout",
          "text": [
            "enter your nameAJ\n",
            "enter your age:20\n",
            "hello, AJ youre 20??\n"
          ]
        }
      ],
      "source": [
        "name=input(\"enter your name: \")\n",
        "age=input(\"enter your age:\")\n",
        "print(f\"hello, {name} youre {age}??\")"
      ]
    },
    {
      "cell_type": "code",
      "source": [],
      "metadata": {
        "id": "Bbu0GLFo6uTE"
      },
      "execution_count": null,
      "outputs": []
    },
    {
      "cell_type": "code",
      "source": [],
      "metadata": {
        "id": "dWA-J2Hh6wy9"
      },
      "execution_count": null,
      "outputs": []
    },
    {
      "cell_type": "markdown",
      "source": [
        "# New Section"
      ],
      "metadata": {
        "id": "0u3_o_7-H5dk"
      }
    },
    {
      "cell_type": "code",
      "source": [
        "user_input = input(\"Enter something: \")\n",
        "if user_input.isdigit():\n",
        "   print(f\"The input is an integer: {int(user_input)}\")\n",
        "\n",
        "elif user_input.replace(\".\", \"\", 1).isdigit() and user_input.count(\".\") == 1:\n",
        "   print(f\"The input is a float: {float(user_input)}\")\n",
        "\n",
        "elif user_input.isalpha():\n",
        "   print(f\"The input is a string: {user_input}\")\n",
        "else:\n",
        "   print(\"The input is of unknown type\")\n",
        "\n",
        "\n",
        "\n",
        "\n",
        "\n"
      ],
      "metadata": {
        "id": "F7837aL5H7cb",
        "colab": {
          "base_uri": "https://localhost:8080/"
        },
        "outputId": "94eee22b-ccad-4d4c-c1ee-062a6653af29"
      },
      "execution_count": 23,
      "outputs": [
        {
          "output_type": "stream",
          "name": "stdout",
          "text": [
            "Enter something: 53.5\n",
            "The input is a float: 53.5\n"
          ]
        }
      ]
    },
    {
      "cell_type": "markdown",
      "source": [
        "# New Section"
      ],
      "metadata": {
        "id": "_MPVQ0qpIN0S"
      }
    },
    {
      "cell_type": "code",
      "source": [
        "lists=['ahmed','dada','frg','fgtu']\n",
        "lists.append('sew')\n",
        "lists.remove('frg')\n",
        "for item in lists:\n",
        "  print(item.upper())"
      ],
      "metadata": {
        "colab": {
          "base_uri": "https://localhost:8080/"
        },
        "id": "PXeUX0eZIOgK",
        "outputId": "dac91db4-a522-4687-b39f-7fd3972cb328"
      },
      "execution_count": null,
      "outputs": [
        {
          "output_type": "stream",
          "name": "stdout",
          "text": [
            "AHMED\n",
            "DADA\n",
            "FGTU\n",
            "SEW\n"
          ]
        }
      ]
    },
    {
      "cell_type": "markdown",
      "source": [
        "# New Section"
      ],
      "metadata": {
        "id": "NzITMe5uJhyr"
      }
    },
    {
      "cell_type": "code",
      "source": [
        "tuplee=(10,20,30,40)\n",
        "first,second, *rest=tuplee\n",
        "print(first)\n",
        "print(second)\n"
      ],
      "metadata": {
        "colab": {
          "base_uri": "https://localhost:8080/"
        },
        "id": "6SdzdIIjJijU",
        "outputId": "e1d75128-3411-4ce5-cd16-cdd52f36b9ea"
      },
      "execution_count": null,
      "outputs": [
        {
          "output_type": "stream",
          "name": "stdout",
          "text": [
            "10\n",
            "20\n"
          ]
        }
      ]
    },
    {
      "cell_type": "code",
      "source": [
        "students={\"ahmed\":90,\n",
        "         \"BAKR\":80,\n",
        "          \"aray\":70,\n",
        "          \"aj\":60,\n",
        "          \"ali\":50}\n",
        "for name,grade in students.items():\n",
        "     print(f\"{name} {grade}\")\n"
      ],
      "metadata": {
        "colab": {
          "base_uri": "https://localhost:8080/"
        },
        "id": "0cRKWCyXKUUS",
        "outputId": "088c9d8d-c64d-41cb-f7bb-31add7ae6882"
      },
      "execution_count": null,
      "outputs": [
        {
          "output_type": "stream",
          "name": "stdout",
          "text": [
            "ahmed 90\n",
            "BAKR 80\n",
            "aray 70\n",
            "aj 60\n",
            "ali 50\n"
          ]
        }
      ]
    },
    {
      "cell_type": "code",
      "source": [
        "first_list=list(map(int,input(\"Enter integers man: \").split()))\n",
        "second_list=list(map(int,input(\"Enter integers man: \").split()))\n",
        "\n",
        "set_first=set(first_list)\n",
        "set_second=set(second_list)\n",
        "print(f\"Union {set_first.union(set_second)}\")\n",
        "print(f\"Intersection {set_first.intersection(set_second)}\")\n",
        "print(f\"Difference {set_first.difference(set_second)}\")\n"
      ],
      "metadata": {
        "colab": {
          "base_uri": "https://localhost:8080/"
        },
        "id": "qygyCiYSLxyB",
        "outputId": "6166efcc-4b6e-45d2-ac5b-143af51278f7"
      },
      "execution_count": null,
      "outputs": [
        {
          "output_type": "stream",
          "name": "stdout",
          "text": [
            "Enter integers man: 1 2 3 4 5\n",
            "Enter integers man: 6 7 8 9 10\n",
            "Union {1, 2, 3, 4, 5, 6, 7, 8, 9, 10}\n",
            "Intersection set()\n",
            "Difference {1, 2, 3, 4, 5}\n"
          ]
        }
      ]
    },
    {
      "cell_type": "markdown",
      "source": [
        "# New Section"
      ],
      "metadata": {
        "id": "PjldCMhnJbOr"
      }
    },
    {
      "cell_type": "code",
      "source": [
        "number=int(input(\"Enter a number: \"))\n",
        "if number>0:\n",
        "  print(\"positive\")\n",
        "elif number<0:\n",
        "  print(\"negative\")\n",
        "else:\n",
        "  print(\"zero\")\n",
        "\n",
        "if number%2==0:\n",
        "  print(\"even\")\n",
        "else:\n",
        "  print(\"odd\")\n",
        "\n"
      ],
      "metadata": {
        "colab": {
          "base_uri": "https://localhost:8080/"
        },
        "id": "ivVUJldz61MI",
        "outputId": "d58460ba-f956-424c-db90-3f980b07a334"
      },
      "execution_count": 6,
      "outputs": [
        {
          "output_type": "stream",
          "name": "stdout",
          "text": [
            "Enter a number: 21\n",
            "positive\n",
            "odd\n"
          ]
        }
      ]
    },
    {
      "cell_type": "markdown",
      "source": [
        "# New Section"
      ],
      "metadata": {
        "id": "uQnc9Ti68OgO"
      }
    },
    {
      "cell_type": "code",
      "source": [
        "for i in range(1, 51):\n",
        "    if i % 3 == 0 and i % 5 == 0:\n",
        "        print(\"FizzBuzz\")\n",
        "    elif i % 3 == 0:\n",
        "        print(\"Fizz\")\n",
        "    elif i % 5 == 0:\n",
        "        print(\"Buzz\")\n",
        "    else:\n",
        "        print(i)"
      ],
      "metadata": {
        "colab": {
          "base_uri": "https://localhost:8080/"
        },
        "id": "P4pSipqt8PLw",
        "outputId": "f92b1229-5247-4ec0-992d-3658cd07bfe9"
      },
      "execution_count": 7,
      "outputs": [
        {
          "output_type": "stream",
          "name": "stdout",
          "text": [
            "1\n",
            "2\n",
            "Fizz\n",
            "4\n",
            "Buzz\n",
            "Fizz\n",
            "7\n",
            "8\n",
            "Fizz\n",
            "Buzz\n",
            "11\n",
            "Fizz\n",
            "13\n",
            "14\n",
            "FizzBuzz\n",
            "16\n",
            "17\n",
            "Fizz\n",
            "19\n",
            "Buzz\n",
            "Fizz\n",
            "22\n",
            "23\n",
            "Fizz\n",
            "Buzz\n",
            "26\n",
            "Fizz\n",
            "28\n",
            "29\n",
            "FizzBuzz\n",
            "31\n",
            "32\n",
            "Fizz\n",
            "34\n",
            "Buzz\n",
            "Fizz\n",
            "37\n",
            "38\n",
            "Fizz\n",
            "Buzz\n",
            "41\n",
            "Fizz\n",
            "43\n",
            "44\n",
            "FizzBuzz\n",
            "46\n",
            "47\n",
            "Fizz\n",
            "49\n",
            "Buzz\n"
          ]
        }
      ]
    },
    {
      "cell_type": "markdown",
      "source": [
        "# New Section"
      ],
      "metadata": {
        "id": "Q5ibGEzfCOvI"
      }
    },
    {
      "cell_type": "code",
      "source": [
        "def factorial(number):\n",
        "    if number < 0:\n",
        "        return \"Factorial is not defined for negative numbers.\"\n",
        "\n",
        "    result = 1\n",
        "    for i in range(1, number + 1):\n",
        "        result *= i\n",
        "    return result\n",
        "\n",
        "# Example usage\n",
        "\n",
        "print(f\"Factorial of 27 is {factorial(27)}\")"
      ],
      "metadata": {
        "colab": {
          "base_uri": "https://localhost:8080/"
        },
        "id": "wry4kPkACPHN",
        "outputId": "44aca690-988f-4b3f-e219-e896b11b14b7"
      },
      "execution_count": 9,
      "outputs": [
        {
          "output_type": "stream",
          "name": "stdout",
          "text": [
            "\n",
            "Enter a number to find its factorial: 27\n",
            "Factorial of 27 is 10888869450418352160768000000\n"
          ]
        }
      ]
    },
    {
      "cell_type": "markdown",
      "source": [
        "# New Section"
      ],
      "metadata": {
        "id": "smYaDkKKLg7E"
      }
    },
    {
      "cell_type": "code",
      "source": [
        "def is_prime(n):\n",
        "    if n < 2:\n",
        "        return False\n",
        "    for i in range(2, n):\n",
        "        if n % i == 0:\n",
        "            return False\n",
        "    return True\n",
        "\n",
        "num = int(input(\"Enter a number: \"))\n",
        "if is_prime(num):\n",
        "    print(f\"{num} is a prime number.\")\n",
        "else:\n",
        "    print(f\"{num} is not a prime number.\")"
      ],
      "metadata": {
        "colab": {
          "base_uri": "https://localhost:8080/"
        },
        "id": "OLImme3rLhpV",
        "outputId": "ed2d8b43-b55a-4f95-e8c7-76ccfd562bfa"
      },
      "execution_count": 10,
      "outputs": [
        {
          "output_type": "stream",
          "name": "stdout",
          "text": [
            "Enter a number: 7\n",
            "7 is a prime number.\n"
          ]
        }
      ]
    },
    {
      "cell_type": "markdown",
      "source": [
        "# New Section"
      ],
      "metadata": {
        "id": "f7H6I0tUOuYW"
      }
    },
    {
      "cell_type": "code",
      "source": [
        "def square_list(nums):\n",
        "    return [number**2 for number in nums]\n",
        "\n",
        "numbers = list(map(int, input(\"\\nEnter numbers separated by space: \").split()))\n",
        "print(\"Squared list:\", square_list(numbers))"
      ],
      "metadata": {
        "colab": {
          "base_uri": "https://localhost:8080/"
        },
        "id": "W9Zep2V2Ou4X",
        "outputId": "5dc7d96c-6268-4dfe-dc95-82e307678b0f"
      },
      "execution_count": 11,
      "outputs": [
        {
          "output_type": "stream",
          "name": "stdout",
          "text": [
            "\n",
            "Enter numbers separated by space: 2  4 5\n",
            "Squared list: [4, 16, 25]\n"
          ]
        }
      ]
    },
    {
      "cell_type": "markdown",
      "source": [
        "# New Section"
      ],
      "metadata": {
        "id": "tUZEIdPiVhmr"
      }
    },
    {
      "cell_type": "code",
      "source": [
        "def merge_dicts(dict1, dict2):\n",
        "    merged = dict1.copy()\n",
        "    merged.update(dict2)\n",
        "    return merged\n",
        "\n",
        "\n",
        "dict1 = {\"a\": 1, \"b\": 2, \"c\": 3}\n",
        "dict2 = {\"b\": 2, \"c\": 30, \"d\": 40}\n",
        "\n",
        "\n",
        "merged_dict = merge_dicts(dict1, dict2)\n",
        "print(\"Merged Dictionary:\", merged_dict)"
      ],
      "metadata": {
        "colab": {
          "base_uri": "https://localhost:8080/"
        },
        "id": "R5zLa94GVi_0",
        "outputId": "97437f58-d5e6-4e77-ce7b-f55fddf9946d"
      },
      "execution_count": 12,
      "outputs": [
        {
          "output_type": "stream",
          "name": "stdout",
          "text": [
            "Merged Dictionary: {'a': 1, 'b': 2, 'c': 30, 'd': 40}\n"
          ]
        }
      ]
    },
    {
      "cell_type": "markdown",
      "source": [
        "# New Section"
      ],
      "metadata": {
        "id": "r8ucz_N0WCcK"
      }
    },
    {
      "cell_type": "code",
      "source": [
        "def remove_duplicates(lst):\n",
        "    seen = set()\n",
        "    unique_list = []\n",
        "\n",
        "    for num in lst:\n",
        "        if num not in seen:\n",
        "            unique_list.append(num)\n",
        "            seen.add(num)\n",
        "\n",
        "    return unique_list\n",
        "\n",
        "\n",
        "numbers = [1, 2, 2, 3, 4, 4, 5, 6, 3, 7]\n",
        "NewList = remove_duplicates(numbers)\n",
        "print(\"List :\", NewList)"
      ],
      "metadata": {
        "colab": {
          "base_uri": "https://localhost:8080/"
        },
        "id": "V1NKbwxQWzCu",
        "outputId": "6b9a749f-2c74-4500-af8e-2d8ef2b81b09"
      },
      "execution_count": 13,
      "outputs": [
        {
          "output_type": "stream",
          "name": "stdout",
          "text": [
            "List : [1, 2, 3, 4, 5, 6, 7]\n"
          ]
        }
      ]
    },
    {
      "cell_type": "markdown",
      "source": [
        "# New Section"
      ],
      "metadata": {
        "id": "rM2qwKUOXI5A"
      }
    },
    {
      "cell_type": "code",
      "source": [
        "\n",
        "def palindrome(stringg):\n",
        "    stringg = stringg.lower().replace(\" \", \"\")\n",
        "    left=0\n",
        "    right=len(stringg)-1\n",
        "    while left<right:\n",
        "       if stringg[left]==stringg[right]:\n",
        "           left+=1\n",
        "           right-=1\n",
        "       else:\n",
        "         return False\n",
        "    return True\n",
        "\n",
        "string=input(f\"iNput string: \")\n",
        "if palindrome(string):\n",
        "    print(\"It's a palindrome!\")\n",
        "else:\n",
        "    print(\"Not a palindrome.\")"
      ],
      "metadata": {
        "colab": {
          "base_uri": "https://localhost:8080/"
        },
        "id": "Hhxfm6DEXKXC",
        "outputId": "4907ab70-2223-46c6-d0dd-c5fed221924e"
      },
      "execution_count": 17,
      "outputs": [
        {
          "output_type": "stream",
          "name": "stdout",
          "text": [
            "iNput string: Ahmed demha\n",
            "It's a palindrome!\n"
          ]
        }
      ]
    },
    {
      "cell_type": "markdown",
      "source": [
        "# New Section"
      ],
      "metadata": {
        "id": "jYYnq7AKbIQC"
      }
    },
    {
      "cell_type": "code",
      "source": [
        "def fibonacci(n):\n",
        "    fib_sequence = [0, 1]\n",
        "    if n == 1:\n",
        "        return [0]\n",
        "    for i in range(2, n):\n",
        "        fib_sequence.append(fib_sequence[-1] + fib_sequence[-2])\n",
        "    return fib_sequence\n",
        "\n",
        "n = int(input(\"number of Fibonacci terms: \"))\n",
        "print(\"Fibonacci Sequence:\", fibonacci(n))"
      ],
      "metadata": {
        "id": "VOHDiXv9bI9b"
      },
      "execution_count": null,
      "outputs": []
    },
    {
      "cell_type": "markdown",
      "source": [
        "# New Section"
      ],
      "metadata": {
        "id": "HjgR92FadTvL"
      }
    },
    {
      "cell_type": "code",
      "source": [
        "def calculate_average():\n",
        "    numbers = []\n",
        "    while True:\n",
        "        num = input(\"Enter a number (or type 'done'): \")\n",
        "        if num.lower() == \"done\":\n",
        "            break\n",
        "        try:\n",
        "            numbers.append(float(num))\n",
        "        except ValueError:\n",
        "            print(\"Invalid input. Please enter a valid number.\")\n",
        "\n",
        "    if numbers:\n",
        "        print(f\"Average: {sum(numbers) / len(numbers):.2f}\")\n",
        "    else:\n",
        "        print(\"No numbers were entered.\")\n",
        "\n",
        "calculate_average()\n"
      ],
      "metadata": {
        "id": "C5t1u_gVdUTo"
      },
      "execution_count": null,
      "outputs": []
    },
    {
      "cell_type": "markdown",
      "source": [
        "# New Section"
      ],
      "metadata": {
        "id": "wy3GnsX1dlqP"
      }
    },
    {
      "cell_type": "code",
      "source": [
        "for i in range(1, 11):\n",
        "  print(f\"{i}'s table:\")\n",
        "  for j in range(1, 11):\n",
        "      print(f\"{i * j:4}\", end=\" \")\n",
        "  print()"
      ],
      "metadata": {
        "colab": {
          "base_uri": "https://localhost:8080/"
        },
        "id": "pypHFt9edzOu",
        "outputId": "37e70006-bd35-473c-ccb4-2b55ad9e3382"
      },
      "execution_count": 20,
      "outputs": [
        {
          "output_type": "stream",
          "name": "stdout",
          "text": [
            "1's table:\n",
            "   1    2    3    4    5    6    7    8    9   10 2's table:\n",
            "   2    4    6    8   10   12   14   16   18   20 3's table:\n",
            "   3    6    9   12   15   18   21   24   27   30 4's table:\n",
            "   4    8   12   16   20   24   28   32   36   40 5's table:\n",
            "   5   10   15   20   25   30   35   40   45   50 6's table:\n",
            "   6   12   18   24   30   36   42   48   54   60 7's table:\n",
            "   7   14   21   28   35   42   49   56   63   70 8's table:\n",
            "   8   16   24   32   40   48   56   64   72   80 9's table:\n",
            "   9   18   27   36   45   54   63   72   81   90 10's table:\n",
            "  10   20   30   40   50   60   70   80   90  100 "
          ]
        }
      ]
    },
    {
      "cell_type": "markdown",
      "source": [
        "# New Section"
      ],
      "metadata": {
        "id": "H8sjw6d9eSkk"
      }
    },
    {
      "cell_type": "code",
      "source": [
        "users = {}\n",
        "\n",
        "def register():\n",
        "    username = input(\"Enter a new username: \")\n",
        "    if username in users:\n",
        "        print(\"Username already exists. Try another.\")\n",
        "        return\n",
        "    password = input(\"Enter a password: \")\n",
        "    users[username] = password\n",
        "    print(\"Registration successful!\")\n",
        "\n",
        "def login():\n",
        "    username = input(\"Enter username: \")\n",
        "    password = input(\"Enter password: \")\n",
        "    if users.get(username) == password:\n",
        "        print(\"Login successful! Welcome,\", username)\n",
        "    else:\n",
        "        print(\"Invalid username or password.\")\n",
        "\n",
        "while True:\n",
        "    choice = input(\"\\n1. Register\\n2. Login\\n3. Exit\\nChoose an option: \")\n",
        "    if choice == \"1\":\n",
        "        register()\n",
        "    elif choice == \"2\":\n",
        "        login()\n",
        "    elif choice == \"3\":\n",
        "        break\n",
        "    else:\n",
        "        print(\"Invalid choice. Try again.\")\n"
      ],
      "metadata": {
        "colab": {
          "base_uri": "https://localhost:8080/",
          "height": 356
        },
        "id": "TgCRHZCjeTNO",
        "outputId": "92441427-6f4f-4720-c730-b97370efee70"
      },
      "execution_count": 21,
      "outputs": [
        {
          "output_type": "error",
          "ename": "KeyboardInterrupt",
          "evalue": "Interrupted by user",
          "traceback": [
            "\u001b[0;31m---------------------------------------------------------------------------\u001b[0m",
            "\u001b[0;31mKeyboardInterrupt\u001b[0m                         Traceback (most recent call last)",
            "\u001b[0;32m<ipython-input-21-060b9666be44>\u001b[0m in \u001b[0;36m<cell line: 0>\u001b[0;34m()\u001b[0m\n\u001b[1;32m     19\u001b[0m \u001b[0;34m\u001b[0m\u001b[0m\n\u001b[1;32m     20\u001b[0m \u001b[0;32mwhile\u001b[0m \u001b[0;32mTrue\u001b[0m\u001b[0;34m:\u001b[0m\u001b[0;34m\u001b[0m\u001b[0;34m\u001b[0m\u001b[0m\n\u001b[0;32m---> 21\u001b[0;31m     \u001b[0mchoice\u001b[0m \u001b[0;34m=\u001b[0m \u001b[0minput\u001b[0m\u001b[0;34m(\u001b[0m\u001b[0;34m\"\\n1. Register\\n2. Login\\n3. Exit\\nChoose an option: \"\u001b[0m\u001b[0;34m)\u001b[0m\u001b[0;34m\u001b[0m\u001b[0;34m\u001b[0m\u001b[0m\n\u001b[0m\u001b[1;32m     22\u001b[0m     \u001b[0;32mif\u001b[0m \u001b[0mchoice\u001b[0m \u001b[0;34m==\u001b[0m \u001b[0;34m\"1\"\u001b[0m\u001b[0;34m:\u001b[0m\u001b[0;34m\u001b[0m\u001b[0;34m\u001b[0m\u001b[0m\n\u001b[1;32m     23\u001b[0m         \u001b[0mregister\u001b[0m\u001b[0;34m(\u001b[0m\u001b[0;34m)\u001b[0m\u001b[0;34m\u001b[0m\u001b[0;34m\u001b[0m\u001b[0m\n",
            "\u001b[0;32m/usr/local/lib/python3.11/dist-packages/ipykernel/kernelbase.py\u001b[0m in \u001b[0;36mraw_input\u001b[0;34m(self, prompt)\u001b[0m\n\u001b[1;32m    849\u001b[0m                 \u001b[0;34m\"raw_input was called, but this frontend does not support input requests.\"\u001b[0m\u001b[0;34m\u001b[0m\u001b[0;34m\u001b[0m\u001b[0m\n\u001b[1;32m    850\u001b[0m             )\n\u001b[0;32m--> 851\u001b[0;31m         return self._input_request(str(prompt),\n\u001b[0m\u001b[1;32m    852\u001b[0m             \u001b[0mself\u001b[0m\u001b[0;34m.\u001b[0m\u001b[0m_parent_ident\u001b[0m\u001b[0;34m,\u001b[0m\u001b[0;34m\u001b[0m\u001b[0;34m\u001b[0m\u001b[0m\n\u001b[1;32m    853\u001b[0m             \u001b[0mself\u001b[0m\u001b[0;34m.\u001b[0m\u001b[0m_parent_header\u001b[0m\u001b[0;34m,\u001b[0m\u001b[0;34m\u001b[0m\u001b[0;34m\u001b[0m\u001b[0m\n",
            "\u001b[0;32m/usr/local/lib/python3.11/dist-packages/ipykernel/kernelbase.py\u001b[0m in \u001b[0;36m_input_request\u001b[0;34m(self, prompt, ident, parent, password)\u001b[0m\n\u001b[1;32m    893\u001b[0m             \u001b[0;32mexcept\u001b[0m \u001b[0mKeyboardInterrupt\u001b[0m\u001b[0;34m:\u001b[0m\u001b[0;34m\u001b[0m\u001b[0;34m\u001b[0m\u001b[0m\n\u001b[1;32m    894\u001b[0m                 \u001b[0;31m# re-raise KeyboardInterrupt, to truncate traceback\u001b[0m\u001b[0;34m\u001b[0m\u001b[0;34m\u001b[0m\u001b[0m\n\u001b[0;32m--> 895\u001b[0;31m                 \u001b[0;32mraise\u001b[0m \u001b[0mKeyboardInterrupt\u001b[0m\u001b[0;34m(\u001b[0m\u001b[0;34m\"Interrupted by user\"\u001b[0m\u001b[0;34m)\u001b[0m \u001b[0;32mfrom\u001b[0m \u001b[0;32mNone\u001b[0m\u001b[0;34m\u001b[0m\u001b[0;34m\u001b[0m\u001b[0m\n\u001b[0m\u001b[1;32m    896\u001b[0m             \u001b[0;32mexcept\u001b[0m \u001b[0mException\u001b[0m \u001b[0;32mas\u001b[0m \u001b[0me\u001b[0m\u001b[0;34m:\u001b[0m\u001b[0;34m\u001b[0m\u001b[0;34m\u001b[0m\u001b[0m\n\u001b[1;32m    897\u001b[0m                 \u001b[0mself\u001b[0m\u001b[0;34m.\u001b[0m\u001b[0mlog\u001b[0m\u001b[0;34m.\u001b[0m\u001b[0mwarning\u001b[0m\u001b[0;34m(\u001b[0m\u001b[0;34m\"Invalid Message:\"\u001b[0m\u001b[0;34m,\u001b[0m \u001b[0mexc_info\u001b[0m\u001b[0;34m=\u001b[0m\u001b[0;32mTrue\u001b[0m\u001b[0;34m)\u001b[0m\u001b[0;34m\u001b[0m\u001b[0;34m\u001b[0m\u001b[0m\n",
            "\u001b[0;31mKeyboardInterrupt\u001b[0m: Interrupted by user"
          ]
        }
      ]
    },
    {
      "cell_type": "markdown",
      "source": [
        "# New Section"
      ],
      "metadata": {
        "id": "9xFPNnHuehSG"
      }
    },
    {
      "cell_type": "code",
      "source": [
        "def count_words():\n",
        "    words = input(\"Enter words separated by spaces: \").split()\n",
        "    word_count = {}\n",
        "\n",
        "    for word in words:\n",
        "        word_count[word] = word_count.get(word, 0) + 1\n",
        "\n",
        "    print(\"\\nWord Frequency:\")\n",
        "    for word, count in word_count.items():\n",
        "        print(f\"{word}: {count}\")\n",
        "\n",
        "count_words()\n"
      ],
      "metadata": {
        "id": "00dH5uNeehtq"
      },
      "execution_count": null,
      "outputs": []
    },
    {
      "cell_type": "markdown",
      "source": [
        "# New Section"
      ],
      "metadata": {
        "id": "Uy_tkWJgexJm"
      }
    },
    {
      "cell_type": "code",
      "source": [
        "def convert_temperature():\n",
        "    choice = input(\"Convert:\\n1. Celsius to Fahrenheit\\n2. Fahrenheit to Celsius\\nChoose (1/2): \")\n",
        "\n",
        "    if choice == \"1\":\n",
        "        celsius = float(input(\"Enter temperature in Celsius: \"))\n",
        "        fahrenheit = (celsius * 9/5) + 32\n",
        "        print(f\"{celsius}°C is {fahrenheit}°F\")\n",
        "\n",
        "    elif choice == \"2\":\n",
        "        fahrenheit = float(input(\"Enter temperature in Fahrenheit: \"))\n",
        "        celsius = (fahrenheit - 32) * 5/9\n",
        "        print(f\"{fahrenheit}°F is {celsius:.2f}°C\")\n",
        "\n",
        "    else:\n",
        "        print(\"Invalid choice.\")\n",
        "\n",
        "convert_temperature()\n"
      ],
      "metadata": {
        "id": "F6qL37N-e2Vj"
      },
      "execution_count": null,
      "outputs": []
    }
  ]
}