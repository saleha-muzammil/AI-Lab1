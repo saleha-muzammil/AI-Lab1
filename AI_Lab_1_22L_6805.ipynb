{
  "nbformat": 4,
  "nbformat_minor": 0,
  "metadata": {
    "colab": {
      "provenance": []
    },
    "kernelspec": {
      "name": "python3",
      "display_name": "Python 3"
    },
    "language_info": {
      "name": "python"
    }
  },
  "cells": [
    {
      "cell_type": "code",
      "execution_count": null,
      "metadata": {
        "colab": {
          "base_uri": "https://localhost:8080/"
        },
        "id": "oaiGVOmN1KTL",
        "outputId": "af209ec5-a436-437b-eedc-cc8d1bf6e991"
      },
      "outputs": [
        {
          "output_type": "stream",
          "name": "stdout",
          "text": [
            "Enter name: dlajsdfl\n",
            "Enter age: 213\n",
            "Welcome, dlajsdfl you are 213 years old\n"
          ]
        }
      ],
      "source": [
        "def hello_python():\n",
        "  name = input(\"Enter name: \")\n",
        "  age = input(\"Enter age: \")\n",
        "  print(f\"Welcome, {name} you are {age} years old\")\n",
        "\n",
        "hello_python()"
      ]
    },
    {
      "cell_type": "code",
      "source": [
        "def dataType():\n",
        "  value = input(\"Enter a value: \")\n",
        "  try:\n",
        "    value = int(value)\n",
        "  except:\n",
        "    try:\n",
        "      value = float(value)\n",
        "    except:\n",
        "      value = str(value)\n",
        "  print(type(value))\n",
        "\n",
        "dataType()\n",
        "dataType()\n",
        "dataType()"
      ],
      "metadata": {
        "colab": {
          "base_uri": "https://localhost:8080/"
        },
        "id": "6DZtv5EA1fjf",
        "outputId": "4f73dea2-51e1-46a5-c0fe-c73c50e99714"
      },
      "execution_count": null,
      "outputs": [
        {
          "output_type": "stream",
          "name": "stdout",
          "text": [
            "Enter a value: abc\n",
            "<class 'str'>\n",
            "Enter a value: 9834\n",
            "<class 'int'>\n",
            "Enter a value: 23.4\n",
            "<class 'float'>\n"
          ]
        }
      ]
    },
    {
      "cell_type": "code",
      "source": [
        "def listOperation():\n",
        "  data = [\"abc\", \"def\", \"ghi\"]\n",
        "  data.append(\"jkl\")\n",
        "  data.remove(\"def\")\n",
        "  for x in data:\n",
        "    print(x.upper())\n",
        "\n",
        "listOperation()\n"
      ],
      "metadata": {
        "colab": {
          "base_uri": "https://localhost:8080/"
        },
        "id": "jOAeE-SP2fHM",
        "outputId": "3a9e682e-212d-44c9-cbf4-fcd5586bc8f0"
      },
      "execution_count": null,
      "outputs": [
        {
          "output_type": "stream",
          "name": "stdout",
          "text": [
            "ABC\n",
            "GHI\n",
            "JKL\n"
          ]
        }
      ]
    },
    {
      "cell_type": "code",
      "source": [
        "def tupleUnpack():\n",
        "  tuple_data = (\"abc\", \"def\", \"ghi\")\n",
        "  a, b = tuple_data[0], tuple_data[1]\n",
        "  print(a)\n",
        "  print(b)\n",
        "\n",
        "tupleUnpack()"
      ],
      "metadata": {
        "colab": {
          "base_uri": "https://localhost:8080/"
        },
        "id": "RikSsJIC3LOG",
        "outputId": "d234df29-4c50-45db-fd83-d344f1d75416"
      },
      "execution_count": null,
      "outputs": [
        {
          "output_type": "stream",
          "name": "stdout",
          "text": [
            "abc\n",
            "def\n"
          ]
        }
      ]
    },
    {
      "cell_type": "code",
      "source": [
        "def dictManage():\n",
        "  dict_data = {\"abc\": 'A', \"def\": 'A+', \"ghi\": 'B-', \"jkl\": 'C+', \"def\": 'B+'}\n",
        "  print(dict_data)\n",
        "\n",
        "dictManage()"
      ],
      "metadata": {
        "colab": {
          "base_uri": "https://localhost:8080/"
        },
        "id": "pELeg_6q3i9X",
        "outputId": "4fc047a5-6579-4fbb-f194-25af96169609"
      },
      "execution_count": null,
      "outputs": [
        {
          "output_type": "stream",
          "name": "stdout",
          "text": [
            "{'abc': 'A', 'def': 'B+', 'ghi': 'B-', 'jkl': 'C+'}\n"
          ]
        }
      ]
    },
    {
      "cell_type": "code",
      "source": [
        "def setOperations():\n",
        "  try:\n",
        "    input_vals = input(\"Enter a list of integers separated by spaces: \")\n",
        "    list1 = [int(x) for x in input_vals.split()]\n",
        "\n",
        "    input_vals = input(\"Enter another list of integers separated by spaces: \")\n",
        "    list2 = [int(x) for x in input_vals.split()]\n",
        "\n",
        "    set1 = set(list1)\n",
        "    set2 = set(list2)\n",
        "\n",
        "    print(\"Set 1:\", set1)\n",
        "    print(\"Set 2:\", set2)\n",
        "    print(\"Union:\", set1 | set2)\n",
        "    print(\"Intersection:\", set1 & set2)\n",
        "    print(\"Difference (set1 - set2):\", set1 - set2)\n",
        "    print(\"Difference (set2 - set1):\", set2 - set1)\n",
        "  except ValueError:\n",
        "    print(\"You can only enter integers\")\n",
        "\n",
        "\n",
        "setOperations()\n"
      ],
      "metadata": {
        "colab": {
          "base_uri": "https://localhost:8080/"
        },
        "id": "zb2G_aUx4eM3",
        "outputId": "1795d25f-5813-40e9-f2e4-e6b23ffa0ebe"
      },
      "execution_count": null,
      "outputs": [
        {
          "output_type": "stream",
          "name": "stdout",
          "text": [
            "Enter a list of integers separated by spaces: 1 2 3 4 5 6 7 8\n",
            "Enter another list of integers separated by spaces: 4 5 6 7 8 9 0\n",
            "Set 1: {1, 2, 3, 4, 5, 6, 7, 8}\n",
            "Set 2: {0, 4, 5, 6, 7, 8, 9}\n",
            "Union: {0, 1, 2, 3, 4, 5, 6, 7, 8, 9}\n",
            "Intersection: {4, 5, 6, 7, 8}\n",
            "Difference (set1 - set2): {1, 2, 3}\n",
            "Difference (set2 - set1): {0, 9}\n"
          ]
        }
      ]
    },
    {
      "cell_type": "code",
      "source": [
        "def numberChecker():\n",
        "  try:\n",
        "    number = int(input(\"Enter a number: \"))\n",
        "    if number % 2 == 0:\n",
        "      print(f\"{number} is even\")\n",
        "    else:\n",
        "      print(f\"{number} is odd\")\n",
        "    if number > 0:\n",
        "      print(f\"and {number} is positive\")\n",
        "    elif number < 0:\n",
        "      print(f\"and {number} is negative\")\n",
        "    else:\n",
        "      print(f\"and {number} is zero\")\n",
        "  except:\n",
        "    print(\"You can only enter an integer\")\n",
        "\n",
        "numberChecker()"
      ],
      "metadata": {
        "colab": {
          "base_uri": "https://localhost:8080/"
        },
        "id": "EzWK3KkE5LM1",
        "outputId": "cab94ae3-c460-4075-ea5a-f0eb807b004c"
      },
      "execution_count": null,
      "outputs": [
        {
          "output_type": "stream",
          "name": "stdout",
          "text": [
            "Enter a number: -2\n",
            "-2 is even\n",
            "and -2 is negative\n"
          ]
        }
      ]
    },
    {
      "cell_type": "code",
      "source": [
        "def FizzBuzz():\n",
        "  for i in range(1, 51):\n",
        "    if i % 5 == 0 and i % 3 == 0:\n",
        "      print(\"FizzBuzz\")\n",
        "    elif i % 5 == 0:\n",
        "      print(\"Buzz\")\n",
        "    elif i % 3 == 0:\n",
        "      print(\"Fizz\")\n",
        "    else:\n",
        "      print(i)\n",
        "\n",
        "FizzBuzz()"
      ],
      "metadata": {
        "colab": {
          "base_uri": "https://localhost:8080/"
        },
        "id": "sTvdA62q6GRG",
        "outputId": "34125a61-749a-4213-a592-669e87ff3813"
      },
      "execution_count": null,
      "outputs": [
        {
          "output_type": "stream",
          "name": "stdout",
          "text": [
            "1\n",
            "2\n",
            "Fizz\n",
            "4\n",
            "Buzz\n",
            "Fizz\n",
            "7\n",
            "8\n",
            "Fizz\n",
            "Buzz\n",
            "11\n",
            "Fizz\n",
            "13\n",
            "14\n",
            "FizzBuzz\n",
            "16\n",
            "17\n",
            "Fizz\n",
            "19\n",
            "Buzz\n",
            "Fizz\n",
            "22\n",
            "23\n",
            "Fizz\n",
            "Buzz\n",
            "26\n",
            "Fizz\n",
            "28\n",
            "29\n",
            "FizzBuzz\n",
            "31\n",
            "32\n",
            "Fizz\n",
            "34\n",
            "Buzz\n",
            "Fizz\n",
            "37\n",
            "38\n",
            "Fizz\n",
            "Buzz\n",
            "41\n",
            "Fizz\n",
            "43\n",
            "44\n",
            "FizzBuzz\n",
            "46\n",
            "47\n",
            "Fizz\n",
            "49\n",
            "Buzz\n"
          ]
        }
      ]
    },
    {
      "cell_type": "code",
      "source": [
        "def FactCalc(num: int):\n",
        "  if (num < 0):\n",
        "    print(\"You can only enter a positive integer\")\n",
        "  elif (num == 0):\n",
        "    print(\"The factorial of 0 is 1\")\n",
        "  else:\n",
        "    factorial = 1\n",
        "    for i in range(1, num + 1):\n",
        "      factorial *= i\n",
        "    print(f\"The factorial of {num} is {factorial}\")\n",
        "\n",
        "FactCalc(5)"
      ],
      "metadata": {
        "colab": {
          "base_uri": "https://localhost:8080/"
        },
        "id": "4eQvs94P6oDl",
        "outputId": "0369a352-dfb1-4485-e85d-44bdb149b0bd"
      },
      "execution_count": null,
      "outputs": [
        {
          "output_type": "stream",
          "name": "stdout",
          "text": [
            "The factorial of 5 is 120\n"
          ]
        }
      ]
    },
    {
      "cell_type": "code",
      "source": [
        "def primeChecker():\n",
        "  data = input(\"Enter an integer: \")\n",
        "  try:\n",
        "    data2 = int(data)\n",
        "    if data2 > 1:\n",
        "      for i in range(2, data2):\n",
        "        if (data2 % i) == 0:\n",
        "          print(data2, \"is not a prime number\")\n",
        "          return\n",
        "      print(data2, \"is a prime number\")\n",
        "    else:\n",
        "      print(data2, \"is not a prime number\")\n",
        "  except:\n",
        "    print(\"You can only enter an integer\")\n",
        "\n",
        "primeChecker()"
      ],
      "metadata": {
        "colab": {
          "base_uri": "https://localhost:8080/"
        },
        "id": "tVuDzVVy7dqk",
        "outputId": "032139b3-8d20-4a29-98ec-5edf4a785410"
      },
      "execution_count": 10,
      "outputs": [
        {
          "output_type": "stream",
          "name": "stdout",
          "text": [
            "Enter an integer: 31\n",
            "31 is a prime number\n"
          ]
        }
      ]
    },
    {
      "cell_type": "code",
      "source": [
        "def listSquares():\n",
        "  try:\n",
        "    nums = input(\"Enter a list of integers separated by spaces: \")\n",
        "    list1 = [int(x) for x in nums.split()]\n",
        "\n",
        "    list2 = [x**2 for x in list1]\n",
        "    print(list2)\n",
        "  except:\n",
        "    print(\"You can only enter integers\")\n",
        "\n",
        "listSquares()"
      ],
      "metadata": {
        "colab": {
          "base_uri": "https://localhost:8080/"
        },
        "id": "g0M6-dCS76Is",
        "outputId": "15b08acc-bad9-4cf2-ce7b-fa59ccb28586"
      },
      "execution_count": null,
      "outputs": [
        {
          "output_type": "stream",
          "name": "stdout",
          "text": [
            "Enter a list of integers separated by spaces: 1 2 3 4 5 6 7\n",
            "[1, 4, 9, 16, 25, 36, 49]\n"
          ]
        }
      ]
    },
    {
      "cell_type": "code",
      "source": [
        "def mergeDicts():\n",
        "  dict1 = {\"a\": 1, \"b\": 2, \"c\": 3}\n",
        "  dict2 = {\"b\": 4, \"e\": 5, \"f\": 6}\n",
        "\n",
        "  dict3 = {**dict1, **dict2}\n",
        "  print(dict3)\n",
        "\n",
        "mergeDicts()"
      ],
      "metadata": {
        "colab": {
          "base_uri": "https://localhost:8080/"
        },
        "id": "c_23ZPAT8YHP",
        "outputId": "dbbaf70a-212c-41ab-b714-a65842ce5c9a"
      },
      "execution_count": null,
      "outputs": [
        {
          "output_type": "stream",
          "name": "stdout",
          "text": [
            "{'a': 1, 'b': 4, 'c': 3, 'e': 5, 'f': 6}\n"
          ]
        }
      ]
    },
    {
      "cell_type": "code",
      "source": [
        "def removeDuplicate():\n",
        "  data_list = [1, 2, 4, 6, 3, 1, 3, 7, 2, 9]\n",
        "  result = []\n",
        "  for item in data_list:\n",
        "      if item not in result:\n",
        "          result.append(item)\n",
        "  print(result)\n",
        "\n",
        "removeDuplicate()"
      ],
      "metadata": {
        "colab": {
          "base_uri": "https://localhost:8080/"
        },
        "id": "f4oC3ZgO9jNR",
        "outputId": "4f18eecd-3c7f-4e54-aed0-f4260ba953a7"
      },
      "execution_count": null,
      "outputs": [
        {
          "output_type": "stream",
          "name": "stdout",
          "text": [
            "[1, 2, 4, 6, 3, 7, 9]\n"
          ]
        }
      ]
    },
    {
      "cell_type": "code",
      "source": [
        "string1 = \"racecar\"\n",
        "is_pal = lambda string1: string1 == string1[::-1]\n",
        "if is_pal:\n",
        "  print(f\"{string1} is a palindrome\")\n",
        "else:\n",
        "  print(f\"{string1} is not a palindrome\")"
      ],
      "metadata": {
        "colab": {
          "base_uri": "https://localhost:8080/"
        },
        "id": "3NaThVJU-CF2",
        "outputId": "7bf17f00-af8d-4498-d3ab-b7a5741328de"
      },
      "execution_count": null,
      "outputs": [
        {
          "output_type": "stream",
          "name": "stdout",
          "text": [
            "racecar is a palindrome\n"
          ]
        }
      ]
    },
    {
      "cell_type": "code",
      "source": [
        "def genFibbonaci(n):\n",
        "  fib = [1, 1]\n",
        "  while len(fib) < n:\n",
        "    next_number = fib[-1] + fib[-2]\n",
        "    fib.append(next_number)\n",
        "  print(fib)\n",
        "\n",
        "genFibbonaci(7)"
      ],
      "metadata": {
        "colab": {
          "base_uri": "https://localhost:8080/"
        },
        "id": "AtGtLDPu-hOP",
        "outputId": "848867fd-d79c-4074-d335-c66375f9680f"
      },
      "execution_count": null,
      "outputs": [
        {
          "output_type": "stream",
          "name": "stdout",
          "text": [
            "[1, 1, 2, 3, 5, 8, 13]\n"
          ]
        }
      ]
    },
    {
      "cell_type": "code",
      "source": [
        "def calcAvg():\n",
        "  try:\n",
        "    vals = input(\"Enter a list of integers separated by spaces: \")\n",
        "    list1 = [int(x) for x in vals.split()]\n",
        "    avg = sum(list1) / len(list1)\n",
        "    print(f\"The average of {list1} is {avg}\")\n",
        "  except:\n",
        "    print(\"You can only enter integers\")\n",
        "\n",
        "calcAvg()\n"
      ],
      "metadata": {
        "colab": {
          "base_uri": "https://localhost:8080/"
        },
        "id": "kjY7yYSa-4xW",
        "outputId": "258b283f-7d37-4608-c035-6f58c29dac09"
      },
      "execution_count": 11,
      "outputs": [
        {
          "output_type": "stream",
          "name": "stdout",
          "text": [
            "Enter a list of integers separated by spaces: 1 2 3 4 5 6 7 8 9\n",
            "The average of [1, 2, 3, 4, 5, 6, 7, 8, 9] is 5.0\n"
          ]
        }
      ]
    },
    {
      "cell_type": "code",
      "source": [
        "def multiplicationTable():\n",
        "  for i in range (1, 11):\n",
        "    for j in range (1, 11):\n",
        "      print(f\"{i} x {j} = {i*j}\")\n",
        "\n",
        "multiplicationTable()"
      ],
      "metadata": {
        "colab": {
          "base_uri": "https://localhost:8080/"
        },
        "id": "C2ig3Hq1DYn2",
        "outputId": "540c3364-2230-45be-fb53-8bbce05457c7"
      },
      "execution_count": null,
      "outputs": [
        {
          "output_type": "stream",
          "name": "stdout",
          "text": [
            "1 x 1 = 1\n",
            "1 x 2 = 2\n",
            "1 x 3 = 3\n",
            "1 x 4 = 4\n",
            "1 x 5 = 5\n",
            "1 x 6 = 6\n",
            "1 x 7 = 7\n",
            "1 x 8 = 8\n",
            "1 x 9 = 9\n",
            "1 x 10 = 10\n",
            "2 x 1 = 2\n",
            "2 x 2 = 4\n",
            "2 x 3 = 6\n",
            "2 x 4 = 8\n",
            "2 x 5 = 10\n",
            "2 x 6 = 12\n",
            "2 x 7 = 14\n",
            "2 x 8 = 16\n",
            "2 x 9 = 18\n",
            "2 x 10 = 20\n",
            "3 x 1 = 3\n",
            "3 x 2 = 6\n",
            "3 x 3 = 9\n",
            "3 x 4 = 12\n",
            "3 x 5 = 15\n",
            "3 x 6 = 18\n",
            "3 x 7 = 21\n",
            "3 x 8 = 24\n",
            "3 x 9 = 27\n",
            "3 x 10 = 30\n",
            "4 x 1 = 4\n",
            "4 x 2 = 8\n",
            "4 x 3 = 12\n",
            "4 x 4 = 16\n",
            "4 x 5 = 20\n",
            "4 x 6 = 24\n",
            "4 x 7 = 28\n",
            "4 x 8 = 32\n",
            "4 x 9 = 36\n",
            "4 x 10 = 40\n",
            "5 x 1 = 5\n",
            "5 x 2 = 10\n",
            "5 x 3 = 15\n",
            "5 x 4 = 20\n",
            "5 x 5 = 25\n",
            "5 x 6 = 30\n",
            "5 x 7 = 35\n",
            "5 x 8 = 40\n",
            "5 x 9 = 45\n",
            "5 x 10 = 50\n",
            "6 x 1 = 6\n",
            "6 x 2 = 12\n",
            "6 x 3 = 18\n",
            "6 x 4 = 24\n",
            "6 x 5 = 30\n",
            "6 x 6 = 36\n",
            "6 x 7 = 42\n",
            "6 x 8 = 48\n",
            "6 x 9 = 54\n",
            "6 x 10 = 60\n",
            "7 x 1 = 7\n",
            "7 x 2 = 14\n",
            "7 x 3 = 21\n",
            "7 x 4 = 28\n",
            "7 x 5 = 35\n",
            "7 x 6 = 42\n",
            "7 x 7 = 49\n",
            "7 x 8 = 56\n",
            "7 x 9 = 63\n",
            "7 x 10 = 70\n",
            "8 x 1 = 8\n",
            "8 x 2 = 16\n",
            "8 x 3 = 24\n",
            "8 x 4 = 32\n",
            "8 x 5 = 40\n",
            "8 x 6 = 48\n",
            "8 x 7 = 56\n",
            "8 x 8 = 64\n",
            "8 x 9 = 72\n",
            "8 x 10 = 80\n",
            "9 x 1 = 9\n",
            "9 x 2 = 18\n",
            "9 x 3 = 27\n",
            "9 x 4 = 36\n",
            "9 x 5 = 45\n",
            "9 x 6 = 54\n",
            "9 x 7 = 63\n",
            "9 x 8 = 72\n",
            "9 x 9 = 81\n",
            "9 x 10 = 90\n",
            "10 x 1 = 10\n",
            "10 x 2 = 20\n",
            "10 x 3 = 30\n",
            "10 x 4 = 40\n",
            "10 x 5 = 50\n",
            "10 x 6 = 60\n",
            "10 x 7 = 70\n",
            "10 x 8 = 80\n",
            "10 x 9 = 90\n",
            "10 x 10 = 100\n"
          ]
        }
      ]
    },
    {
      "cell_type": "code",
      "source": [
        "def registrationSys():\n",
        "  users = {\"abc\": \"123\", \"def\": \"456\", \"ghi\": \"789\"}\n",
        "  while True:\n",
        "    option = input(\"Enter 1 to register, 2 to login and 3 to exit: \")\n",
        "    if option == '1':\n",
        "      print(\"Welcome to the registration system\")\n",
        "      username = input(\"Enter username: \")\n",
        "      password = input(\"Enter password: \")\n",
        "      if username in users:\n",
        "        print(\"Username already exists\")\n",
        "      else:\n",
        "        users[username] = password\n",
        "        print(\"Registration successful\")\n",
        "    elif option == '2':\n",
        "      username = input(\"Enter username: \")\n",
        "      password = input(\"Enter password: \")\n",
        "      if username in users and users[username] == password:\n",
        "        print(\"Login successful\")\n",
        "      else:\n",
        "        print(\"Invalid username or password\")\n",
        "    elif option == '3':\n",
        "      print(\"Goodbye\")\n",
        "      break\n",
        "    else:\n",
        "      print(\"Invalid option\")\n",
        "\n",
        "registrationSys()"
      ],
      "metadata": {
        "colab": {
          "base_uri": "https://localhost:8080/"
        },
        "id": "cnSLJoRXD87-",
        "outputId": "4a0a577e-3144-4e9c-b394-128058821cd1"
      },
      "execution_count": 5,
      "outputs": [
        {
          "output_type": "stream",
          "name": "stdout",
          "text": [
            "Enter 1 to register, 2 to login and 3 to exit: 1\n",
            "Welcome to the registration system\n",
            "Enter username: abdulrehman\n",
            "Enter password: abcd1234\n",
            "Registration successful\n",
            "Enter 1 to register, 2 to login and 3 to exit: 2\n",
            "Enter username: abdulrehman\n",
            "Enter password: abcd1234\n",
            "Login successful\n",
            "Enter 1 to register, 2 to login and 3 to exit: 2\n",
            "Enter username: abc\n",
            "Enter password: 123\n",
            "Login successful\n",
            "Enter 1 to register, 2 to login and 3 to exit: 3\n",
            "Goodbye\n"
          ]
        }
      ]
    },
    {
      "cell_type": "code",
      "source": [
        "def countWordsInDict():\n",
        "  text = input(\"Enter list of word separated by commas: \")\n",
        "  words = text.split(\",\")\n",
        "  word_count = {}\n",
        "  for word in words:\n",
        "    if word in word_count:\n",
        "      word_count[word] += 1\n",
        "    else:\n",
        "      word_count[word] = 1\n",
        "  print(word_count)\n",
        "\n",
        "countWordsInDict()"
      ],
      "metadata": {
        "colab": {
          "base_uri": "https://localhost:8080/"
        },
        "id": "88D4vsgoEVT7",
        "outputId": "b4b44c10-8414-4822-c884-f9988e586493"
      },
      "execution_count": 4,
      "outputs": [
        {
          "output_type": "stream",
          "name": "stdout",
          "text": [
            "Enter list of word separated by commas: abc, def, ghi, def, def, jkl, abc, mno, mno\n",
            "{'abc': 1, ' def': 3, ' ghi': 1, ' jkl': 1, ' abc': 1, ' mno': 2}\n"
          ]
        }
      ]
    },
    {
      "cell_type": "code",
      "source": [
        "def convertCelsiusOrFahrenheit():\n",
        "  convert = input(\"Enter 1 to convert from Celsius to Fahrenheit and 2 to convert from Fahrenheit to Celsius: \")\n",
        "  if convert == '1':\n",
        "    celsius = input(\"Enter temperature in Celsius: \")\n",
        "    fahrenheit = (float(celsius) * 9/5) + 32\n",
        "    print(f\"{celsius} degrees Celsius is {fahrenheit} degrees Fahrenheit\")\n",
        "  elif convert == '2':\n",
        "    fahrenheit = input(\"Enter temperature in Fahrenheit: \")\n",
        "    celsius = (float(fahrenheit) - 32) * 5/9\n",
        "    print(f\"{fahrenheit} degrees Fahrenheit is {celsius} degrees Celsius\")\n",
        "  else:\n",
        "    print(\"Invalid option\")\n",
        "\n",
        "convertCelsiusOrFahrenheit()"
      ],
      "metadata": {
        "colab": {
          "base_uri": "https://localhost:8080/"
        },
        "id": "Fnw_J24EFpFt",
        "outputId": "9931c888-0e93-4686-e865-655ae6271931"
      },
      "execution_count": 2,
      "outputs": [
        {
          "output_type": "stream",
          "name": "stdout",
          "text": [
            "Enter 1 to convert from Celsius to Fahrenheit and 2 to convert from Fahrenheit to Celsius: 1\n",
            "Enter temperature in Celsius: 37\n",
            "37 degrees Celsius is 98.6 degrees Fahrenheit\n"
          ]
        }
      ]
    }
  ]
}