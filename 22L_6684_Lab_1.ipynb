{
  "nbformat": 4,
  "nbformat_minor": 0,
  "metadata": {
    "colab": {
      "provenance": [],
      "toc_visible": true
    },
    "kernelspec": {
      "name": "python3",
      "display_name": "Python 3"
    },
    "language_info": {
      "name": "python"
    }
  },
  "cells": [
    {
      "cell_type": "code",
      "execution_count": null,
      "metadata": {
        "colab": {
          "base_uri": "https://localhost:8080/"
        },
        "id": "UoZiF6c31p7V",
        "outputId": "099e3097-35ac-4879-b3a2-8e42a41be782"
      },
      "outputs": [
        {
          "output_type": "stream",
          "name": "stdout",
          "text": [
            "input your name:talal\n",
            "enter your age:19\n",
            "Hello there,talal.you have lived on earth for 19 years.\n"
          ]
        }
      ],
      "source": [
        "name=input(\"input your name:\")\n",
        "age=input(\"enter your age:\")\n",
        "print(f\"Hello there,{name}.you have lived on earth for {age} years.\")\n"
      ]
    },
    {
      "cell_type": "code",
      "source": [
        "\n",
        "tools=['showel','ranch']\n",
        "tools.append('hammer')\n",
        "tools.remove('ranch')\n",
        "for i in tools:\n",
        "  print(f\"{i.upper()}\")"
      ],
      "metadata": {
        "colab": {
          "base_uri": "https://localhost:8080/"
        },
        "id": "1tKtYR6S4qAz",
        "outputId": "16134f54-6b80-4d99-8252-e38995e13647"
      },
      "execution_count": null,
      "outputs": [
        {
          "output_type": "stream",
          "name": "stdout",
          "text": [
            "SHOWEL\n",
            "HAMMER\n"
          ]
        }
      ]
    },
    {
      "cell_type": "code",
      "source": [
        "t=(1,2,3,4,5)\n",
        "a=t[0]\n",
        "b=t[1]\n",
        "print(a,b)"
      ],
      "metadata": {
        "colab": {
          "base_uri": "https://localhost:8080/"
        },
        "id": "-pldjx4a6XFT",
        "outputId": "7b383e80-b49b-4033-9c1e-e24b45491cb1"
      },
      "execution_count": null,
      "outputs": [
        {
          "output_type": "stream",
          "name": "stdout",
          "text": [
            "1 2\n"
          ]
        }
      ]
    },
    {
      "cell_type": "code",
      "source": [
        "dict_={'talal':'A',\n",
        "       'wareesha':'A',\n",
        "       'arshah':'A',\n",
        "       'mubeen':'B',\n",
        "       'Ali':'B'\n",
        "       }\n",
        "print(dict_)"
      ],
      "metadata": {
        "colab": {
          "base_uri": "https://localhost:8080/"
        },
        "id": "O5IaFUoH7CrS",
        "outputId": "a6a2ad42-33a7-4d18-a4d2-d388b00212f0"
      },
      "execution_count": null,
      "outputs": [
        {
          "output_type": "stream",
          "name": "stdout",
          "text": [
            "{'talal': 'A', 'wareesha': 'A', 'arshah': 'A', 'mubeen': 'B', 'Ali': 'B'}\n"
          ]
        }
      ]
    },
    {
      "cell_type": "code",
      "source": [
        "a=[]\n",
        "b=[]\n",
        "\n",
        "for i in range(0,10):\n",
        "  c=int(input(\"Enter number:\"))\n",
        "  a.append(c)\n",
        "\n",
        "for i in range(0,10):\n",
        "  c=int(input(\"Enter number:\"))\n",
        "  b.append(c)\n",
        "\n",
        "set1=set(a)\n",
        "set2=set(b)\n",
        "\n",
        "print(set1.union(set2))\n",
        "print(set1.intersection(set2))\n",
        "print(set1.difference(set2))"
      ],
      "metadata": {
        "colab": {
          "base_uri": "https://localhost:8080/"
        },
        "id": "sIj9h_hT79FR",
        "outputId": "b31420e3-4aec-4a21-c02c-9c697245db89"
      },
      "execution_count": null,
      "outputs": [
        {
          "output_type": "stream",
          "name": "stdout",
          "text": [
            "Enter number:1\n",
            "Enter number:2\n",
            "Enter number:3\n",
            "Enter number:4\n",
            "Enter number:5\n",
            "Enter number:11\n",
            "Enter number:12\n",
            "Enter number:13\n",
            "Enter number:14\n",
            "Enter number:15\n",
            "Enter number:10\n",
            "Enter number:11\n",
            "Enter number:12\n",
            "Enter number:13\n",
            "Enter number:14\n",
            "Enter number:15\n",
            "Enter number:16\n",
            "Enter number:17\n",
            "Enter number:18\n",
            "Enter number:19\n",
            "{1, 2, 3, 4, 5, 10, 11, 12, 13, 14, 15, 16, 17, 18, 19}\n",
            "{11, 12, 13, 14, 15}\n",
            "{1, 2, 3, 4, 5}\n"
          ]
        }
      ]
    },
    {
      "cell_type": "code",
      "source": [
        "a=int(input(\"Enter Number:\"))\n",
        "\n",
        "if(a<0):\n",
        "  print(\"Negative Number\")\n",
        "elif(a==0):\n",
        "  print(\"is zero\")\n",
        "else:\n",
        "  print(\"Positive Number\")\n",
        "if(a%2==0):\n",
        "  print(\"Even\")\n",
        "else:\n",
        "  print(\"Odd\")"
      ],
      "metadata": {
        "colab": {
          "base_uri": "https://localhost:8080/"
        },
        "id": "MbLfpXsL9pxL",
        "outputId": "69eeb3f2-b1ad-4a28-c6d8-195e0198fed4"
      },
      "execution_count": null,
      "outputs": [
        {
          "output_type": "stream",
          "name": "stdout",
          "text": [
            "Enter Number:0\n",
            "is zero\n",
            "Even\n"
          ]
        }
      ]
    },
    {
      "cell_type": "code",
      "source": [
        "for i in range(1,51):\n",
        "  if(i%3==0 and i%5==0):\n",
        "    print(\"FizzBuzz\")\n",
        "  elif(i%3==0):\n",
        "    print(\"Fizz\")\n",
        "  elif(i%5==0):\n",
        "    print(\"Buzz\")\n",
        "  else:\n",
        "    print(i)"
      ],
      "metadata": {
        "colab": {
          "base_uri": "https://localhost:8080/"
        },
        "id": "nimO18WR-GdK",
        "outputId": "85f83816-9ed4-42bd-e3b5-b276fb2079d8"
      },
      "execution_count": null,
      "outputs": [
        {
          "output_type": "stream",
          "name": "stdout",
          "text": [
            "1\n",
            "2\n",
            "Fizz\n",
            "4\n",
            "Buzz\n",
            "Fizz\n",
            "7\n",
            "8\n",
            "Fizz\n",
            "Buzz\n",
            "11\n",
            "Fizz\n",
            "13\n",
            "14\n",
            "FizzBuzz\n",
            "16\n",
            "17\n",
            "Fizz\n",
            "19\n",
            "Buzz\n",
            "Fizz\n",
            "22\n",
            "23\n",
            "Fizz\n",
            "Buzz\n",
            "26\n",
            "Fizz\n",
            "28\n",
            "29\n",
            "FizzBuzz\n",
            "31\n",
            "32\n",
            "Fizz\n",
            "34\n",
            "Buzz\n",
            "Fizz\n",
            "37\n",
            "38\n",
            "Fizz\n",
            "Buzz\n",
            "41\n",
            "Fizz\n",
            "43\n",
            "44\n",
            "FizzBuzz\n",
            "46\n",
            "47\n",
            "Fizz\n",
            "49\n",
            "Buzz\n"
          ]
        }
      ]
    },
    {
      "cell_type": "code",
      "source": [
        "def factorial():\n",
        "  a=int(input(\"Enter positive number:\"))\n",
        "  if(a<0):\n",
        "    print(\"Invalid input\")\n",
        "  elif(a==0):\n",
        "    print(1)\n",
        "  else:\n",
        "    fac=1;\n",
        "    for i in range(1,a+1):\n",
        "      fac=fac*i\n",
        "    print(fac)\n",
        "\n",
        "\n",
        "factorial()"
      ],
      "metadata": {
        "colab": {
          "base_uri": "https://localhost:8080/"
        },
        "id": "qFd2TBDR_7ql",
        "outputId": "76241e90-3663-4ce3-e913-12145833801a"
      },
      "execution_count": null,
      "outputs": [
        {
          "output_type": "stream",
          "name": "stdout",
          "text": [
            "Enter positive number:3\n",
            "6\n"
          ]
        }
      ]
    },
    {
      "cell_type": "code",
      "source": [
        "def prime():\n",
        "  a=int(input(\"Enter positive number:\"))\n",
        "  if(a<0 or a==1):\n",
        "    print(\"Invalid input\")\n",
        "  isprime=True\n",
        "  for i in range(2,a):\n",
        "    if(a%i==0):\n",
        "      isprime=False\n",
        "  print(isprime)\n",
        "\n",
        "prime()"
      ],
      "metadata": {
        "colab": {
          "base_uri": "https://localhost:8080/"
        },
        "id": "jlkyIaJDANen",
        "outputId": "c0c50e08-6370-4912-81a2-bc80bc1c58bc"
      },
      "execution_count": null,
      "outputs": [
        {
          "output_type": "stream",
          "name": "stdout",
          "text": [
            "Enter positive number:2\n",
            "True\n"
          ]
        }
      ]
    },
    {
      "cell_type": "code",
      "source": [
        "def square_numbers(numbers):\n",
        "\n",
        "    squared_list = [num ** 2 for num in numbers]\n",
        "    return squared_list\n",
        "\n",
        "numbers = [1, 2, 3, 4, 5]\n",
        "result = square_numbers(numbers)\n",
        "print(result)"
      ],
      "metadata": {
        "colab": {
          "base_uri": "https://localhost:8080/"
        },
        "id": "98yBxBBpC6JB",
        "outputId": "d1700e73-30f1-4ebc-c8fb-f742342b144a"
      },
      "execution_count": null,
      "outputs": [
        {
          "output_type": "stream",
          "name": "stdout",
          "text": [
            "[1, 4, 9, 16, 25]\n"
          ]
        }
      ]
    },
    {
      "cell_type": "code",
      "source": [
        "def merge(dict1, dict2):\n",
        "\n",
        "    merged_dict = {**dict1, **dict2}\n",
        "    return merged_dict\n",
        "\n",
        "\n",
        "dict1 = {'a': 1, 'b': 2, 'c': 3}\n",
        "dict2 = {'b': 20, 'd': 4}\n",
        "\n",
        "result = merge(dict1, dict2)\n",
        "print(result)"
      ],
      "metadata": {
        "colab": {
          "base_uri": "https://localhost:8080/"
        },
        "id": "KZRTK24uD5VT",
        "outputId": "a47ff9e7-1084-4a56-84ae-477b9962ea30"
      },
      "execution_count": null,
      "outputs": [
        {
          "output_type": "stream",
          "name": "stdout",
          "text": [
            "{'a': 1, 'b': 20, 'c': 3, 'd': 4}\n"
          ]
        }
      ]
    },
    {
      "cell_type": "code",
      "source": [
        "def func(numbers):\n",
        "    seen = set()\n",
        "    result = []\n",
        "\n",
        "    for num in numbers:\n",
        "        if num not in seen:\n",
        "            result.append(num)\n",
        "            seen.add(num)\n",
        "\n",
        "    return result\n",
        "\n",
        "\n",
        "numbers = [3, 5, 2, 3, 8, 5, 1, 2]\n",
        "result = func(numbers)\n",
        "print(result)"
      ],
      "metadata": {
        "colab": {
          "base_uri": "https://localhost:8080/"
        },
        "id": "tm6X9MAYEVJZ",
        "outputId": "2296782f-bbb6-48f5-fa16-4d16c6bac312"
      },
      "execution_count": null,
      "outputs": [
        {
          "output_type": "stream",
          "name": "stdout",
          "text": [
            "[3, 5, 2, 8, 1]\n"
          ]
        }
      ]
    },
    {
      "cell_type": "code",
      "source": [
        "is_palindrome = lambda s: ''.join(s.split()).lower() == ''.join(s.split()).lower()[::-1]\n",
        "test_string1 = \"A man a plan a canal Panama\"\n",
        "print(is_palindrome(test_string1))\n",
        "\n"
      ],
      "metadata": {
        "colab": {
          "base_uri": "https://localhost:8080/"
        },
        "id": "_UdtIsUqE5Kn",
        "outputId": "81122960-aa35-472f-b5e7-ad58d1ba776a"
      },
      "execution_count": null,
      "outputs": [
        {
          "output_type": "stream",
          "name": "stdout",
          "text": [
            "True\n"
          ]
        }
      ]
    },
    {
      "cell_type": "code",
      "source": [
        "def generate_fibonacci(n):\n",
        "    if n <= 0:\n",
        "        return []\n",
        "    elif n == 1:\n",
        "        return [0]\n",
        "    elif n == 2:\n",
        "        return [0, 1]\n",
        "    fibonacci_sequence = [0, 1]\n",
        "    for i in range(2, n):\n",
        "        next_number = fibonacci_sequence[-1] + fibonacci_sequence[-2]\n",
        "        fibonacci_sequence.append(next_number)\n",
        "\n",
        "    return fibonacci_sequence\n",
        "\n",
        "n = int(input(\"Enter the number of Fibonacci numbers to generate: \"))\n",
        "if n < 0:\n",
        "    print(\"invalid input.\")\n",
        "else:\n",
        "    result = generate_fibonacci(n)\n",
        "    print(f\"{result}\")"
      ],
      "metadata": {
        "colab": {
          "base_uri": "https://localhost:8080/"
        },
        "id": "QBA-kYYQGiHM",
        "outputId": "1e87c8d3-26f3-4596-f3a2-715dc0d1a4e4"
      },
      "execution_count": null,
      "outputs": [
        {
          "output_type": "stream",
          "name": "stdout",
          "text": [
            "Enter the number of Fibonacci numbers to generate: 7\n",
            "[0, 1, 1, 2, 3, 5, 8]\n"
          ]
        }
      ]
    },
    {
      "cell_type": "code",
      "source": [
        "def get_validated_numbers():\n",
        "    numbers = []\n",
        "    while True:\n",
        "        user_input = input(\"Enter a number (or 'done' to finish): \")\n",
        "\n",
        "\n",
        "        if user_input.lower() == 'done':\n",
        "            break\n",
        "\n",
        "\n",
        "        try:\n",
        "            number = float(user_input)\n",
        "            numbers.append(number)\n",
        "        except ValueError:\n",
        "            print(\"Invalid input. Please enter a valid number.\")\n",
        "\n",
        "    return numbers\n",
        "\n",
        "def calculate_average(numbers):\n",
        "    if not numbers:\n",
        "        return 0\n",
        "    return sum(numbers) / len(numbers)\n",
        "\n",
        "print(\"This program calculates the average of a series of numbers.\")\n",
        "numbers = get_validated_numbers()\n",
        "\n",
        "if numbers:\n",
        "    average = calculate_average(numbers)\n",
        "    print(f\"The average of the numbers is: {average:.2f}\")\n",
        "else:\n",
        "    print(\"No valid numbers were entered.\")"
      ],
      "metadata": {
        "colab": {
          "base_uri": "https://localhost:8080/"
        },
        "id": "PVzwlNqrHOih",
        "outputId": "da6f9eb7-9f3a-4e2e-e7e0-2cb3d126b451"
      },
      "execution_count": null,
      "outputs": [
        {
          "output_type": "stream",
          "name": "stdout",
          "text": [
            "This program calculates the average of a series of numbers.\n",
            "Enter a number (or 'done' to finish): 3\n",
            "Enter a number (or 'done' to finish): 2\n",
            "Enter a number (or 'done' to finish): 5.5\n",
            "Enter a number (or 'done' to finish): done\n",
            "The average of the numbers is: 3.50\n"
          ]
        }
      ]
    },
    {
      "cell_type": "code",
      "source": [
        "def print_multiplication_table():\n",
        "\n",
        "    for i in range(1, 11):\n",
        "        for j in range(1, 11):\n",
        "            print(f\"{i * j}\", end=\" \")\n",
        "        print()\n",
        "\n",
        "\n",
        "print_multiplication_table()"
      ],
      "metadata": {
        "colab": {
          "base_uri": "https://localhost:8080/"
        },
        "id": "XwCugsnrH6lA",
        "outputId": "32af90e7-1eb6-4190-df2c-3996387dd754"
      },
      "execution_count": null,
      "outputs": [
        {
          "output_type": "stream",
          "name": "stdout",
          "text": [
            "1 2 3 4 5 6 7 8 9 10 \n",
            "2 4 6 8 10 12 14 16 18 20 \n",
            "3 6 9 12 15 18 21 24 27 30 \n",
            "4 8 12 16 20 24 28 32 36 40 \n",
            "5 10 15 20 25 30 35 40 45 50 \n",
            "6 12 18 24 30 36 42 48 54 60 \n",
            "7 14 21 28 35 42 49 56 63 70 \n",
            "8 16 24 32 40 48 56 64 72 80 \n",
            "9 18 27 36 45 54 63 72 81 90 \n",
            "10 20 30 40 50 60 70 80 90 100 \n"
          ]
        }
      ]
    },
    {
      "cell_type": "code",
      "source": [
        "\n",
        "user_credentials = {}\n",
        "\n",
        "def register():\n",
        "    print(\"--- Registration ---\")\n",
        "    username = input(\"Enter a username: \")\n",
        "    if username in user_credentials:\n",
        "        print(\"Username already exists. Please choose a different username.\")\n",
        "        return\n",
        "\n",
        "    password = input(\"Enter a password: \")\n",
        "    user_credentials[username] = password\n",
        "    print(\"Registration successful!\")\n",
        "\n",
        "def login():\n",
        "    print(\"--- Login ---\")\n",
        "    username = input(\"Enter your username: \")\n",
        "    password = input(\"Enter your password: \")\n",
        "    if username in user_credentials and user_credentials[username] == password:\n",
        "        print(\"Login successful! Welcome,\", username)\n",
        "    else:\n",
        "        print(\"Invalid username or password. Please try again.\")\n",
        "\n",
        "def main():\n",
        "    while True:\n",
        "        print(\"\\n1. Register\")\n",
        "        print(\"2. Login\")\n",
        "        print(\"3. Exit\")\n",
        "        choice = input(\"Choose an option (1/2/3): \")\n",
        "\n",
        "        if choice == \"1\":\n",
        "            register()\n",
        "        elif choice == \"2\":\n",
        "            login()\n",
        "        elif choice == \"3\":\n",
        "            print(\"Exiting the program. Goodbye!\")\n",
        "            break\n",
        "        else:\n",
        "            print(\"Invalid choice. Please try again.\")\n",
        "\n",
        "main()"
      ],
      "metadata": {
        "id": "7kx2DQS4IpHK"
      },
      "execution_count": null,
      "outputs": []
    },
    {
      "cell_type": "code",
      "source": [
        "\n",
        "words = input(\"Input: \").split()\n",
        "\n",
        "word_count = {}\n",
        "\n",
        "for word in words:\n",
        "    word_count[word] = word_count.get(word, 0) + 1\n",
        "\n",
        "for word, count in word_count.items():\n",
        "    print(f\"{word}: {count}\")"
      ],
      "metadata": {
        "id": "8VzUv0FfJLVs",
        "colab": {
          "base_uri": "https://localhost:8080/"
        },
        "outputId": "2167786c-2ff1-4f03-eafe-9bce9361710c"
      },
      "execution_count": 2,
      "outputs": [
        {
          "output_type": "stream",
          "name": "stdout",
          "text": [
            "Input: My name is Talal Jamil Jamil Dona\n",
            "My: 1\n",
            "name: 1\n",
            "is: 1\n",
            "Talal: 1\n",
            "Jamil: 2\n",
            "Dona: 1\n"
          ]
        }
      ]
    },
    {
      "cell_type": "code",
      "source": [
        "def convert_temperature():\n",
        "    print(\"Convert\")\n",
        "    print(\"1. Celsius --> Fahrenheit\")\n",
        "    print(\"2. Fahrenheit --> Celsius\")\n",
        "\n",
        "    choice = input(\"Select from the options above: \")\n",
        "\n",
        "    if choice == \"1\":\n",
        "        celsius = float(input(\"Enter temperature in Celsius: \"))\n",
        "        fahrenheit = (celsius * 9/5) + 32\n",
        "        print(f\"{celsius}°C is equal to {fahrenheit:.2f}°F\")\n",
        "    elif choice == \"2\":\n",
        "        fahrenheit = float(input(\"Enter temperature in Fahrenheit: \"))\n",
        "        celsius = (fahrenheit - 32) * 5/9\n",
        "        print(f\"{fahrenheit}°F is equal to {celsius:.2f}°C\")\n",
        "    else:\n",
        "        print(\"Invalid choice! Please enter 1 or 2.\")\n",
        "\n",
        "convert_temperature()\n"
      ],
      "metadata": {
        "colab": {
          "base_uri": "https://localhost:8080/"
        },
        "id": "noVR6qiDhPJp",
        "outputId": "1d03168d-430b-4394-8e66-2a4160f266c9"
      },
      "execution_count": 3,
      "outputs": [
        {
          "output_type": "stream",
          "name": "stdout",
          "text": [
            "Convert\n",
            "1. Celsius --> Fahrenheit\n",
            "2. Fahrenheit --> Celsius\n",
            "Select from the options above: 1\n",
            "Enter temperature in Celsius: 16\n",
            "16.0°C is equal to 60.80°F\n"
          ]
        }
      ]
    }
  ]
}