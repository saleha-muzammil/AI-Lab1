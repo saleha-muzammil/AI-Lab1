{
  "nbformat": 4,
  "nbformat_minor": 0,
  "metadata": {
    "colab": {
      "provenance": []
    },
    "kernelspec": {
      "name": "python3",
      "display_name": "Python 3"
    },
    "language_info": {
      "name": "python"
    }
  },
  "cells": [
    {
      "cell_type": "code",
      "execution_count": null,
      "metadata": {
        "colab": {
          "base_uri": "https://localhost:8080/"
        },
        "id": "q0P8rT7-k34k",
        "outputId": "843cc7ea-37f0-4f33-ed82-6969b7b7dede"
      },
      "outputs": [
        {
          "output_type": "stream",
          "name": "stdout",
          "text": [
            "Enter your name: saad\n",
            "Enter your age: 12\n",
            "Hello saad, you are 12 years old.\n"
          ]
        }
      ],
      "source": [
        "\n",
        "\n",
        "def greet(name, age):\n",
        "  print(f\"Hello {name}, you are {age} years old.\")\n",
        "\n",
        "def main():\n",
        "  name = input(\"Enter your name: \")\n",
        "  age = int(input(\"Enter your age: \"))\n",
        "  greet(name, age)\n",
        "\n",
        "if __name__ == \"__main__\":\n",
        "  main()\n"
      ]
    },
    {
      "cell_type": "code",
      "source": [
        "\n",
        "def greet(num):\n",
        "  if \".\" in num:\n",
        "    print(\"float\")\n",
        "    num = float(num)\n",
        "  else:\n",
        "    print(\"int\")\n",
        "    num = int(num)\n",
        "\n",
        "\n",
        "def main():\n",
        "  num = input(\"Enter a number: \")\n",
        "  greet(num)\n",
        "\n",
        "if __name__ == \"__main__\":\n",
        "  main()\n"
      ],
      "metadata": {
        "colab": {
          "base_uri": "https://localhost:8080/"
        },
        "id": "a5ZSwWjFltzG",
        "outputId": "96d9b367-aaac-48fe-9504-ba95c9e398f7"
      },
      "execution_count": null,
      "outputs": [
        {
          "output_type": "stream",
          "name": "stdout",
          "text": [
            "Enter a number: 7\n",
            "int\n"
          ]
        }
      ]
    },
    {
      "cell_type": "code",
      "source": [
        "list = [\"ali\",\"Javed\",\"Maria\"]\n",
        "for x in list:\n",
        "  print(x.upper())\n",
        "list.append(\"Kashif\")\n",
        "for x in list:\n",
        "  print(x.upper())\n",
        "list.remove(\"Javed\")\n",
        "for x in list:\n",
        "  print(x.upper())"
      ],
      "metadata": {
        "colab": {
          "base_uri": "https://localhost:8080/"
        },
        "id": "yaT7pe3CoNYv",
        "outputId": "a2bf5144-b1d9-49a7-93bc-ffaca8bcf42f"
      },
      "execution_count": null,
      "outputs": [
        {
          "output_type": "stream",
          "name": "stdout",
          "text": [
            "ALI\n",
            "JAVED\n",
            "MARIA\n",
            "ALI\n",
            "JAVED\n",
            "MARIA\n",
            "KASHIF\n",
            "ALI\n",
            "MARIA\n",
            "KASHIF\n"
          ]
        }
      ]
    },
    {
      "cell_type": "code",
      "source": [
        "\n",
        "my_tuple = (10, 20, 30, 40)\n",
        "\n",
        "\n",
        "first_element, second_element = my_tuple[:2]\n",
        "\n",
        "print(f\"First element: {first_element}\")\n",
        "print(f\"Second element: {second_element}\")\n"
      ],
      "metadata": {
        "colab": {
          "base_uri": "https://localhost:8080/"
        },
        "id": "v5qKRWj1p92V",
        "outputId": "67b0e3c6-ac11-49aa-a5ee-d612a3d09280"
      },
      "execution_count": null,
      "outputs": [
        {
          "output_type": "stream",
          "name": "stdout",
          "text": [
            "First element: 10\n",
            "Second element: 20\n"
          ]
        }
      ]
    },
    {
      "cell_type": "code",
      "source": [
        "\n",
        "students = {\n",
        "    \"Ali\": \"A\",\n",
        "    \"Burhan\": \"B\",\n",
        "    \"Chandni\": 'C',\n",
        "    \"DaveDas\": 'D',\n",
        "    \"Elliot\": 'E'\n",
        "}\n",
        "\n",
        "for name, grade in students.items():\n",
        "  print(f\"{name}: {grade}\")\n"
      ],
      "metadata": {
        "colab": {
          "base_uri": "https://localhost:8080/"
        },
        "id": "1dUtlk0nqUtp",
        "outputId": "a0be27db-f16d-4323-9b1e-61c0e374206a"
      },
      "execution_count": null,
      "outputs": [
        {
          "output_type": "stream",
          "name": "stdout",
          "text": [
            "Ali: A\n",
            "Burhan: B\n",
            "Chandni: C\n",
            "DaveDas: D\n",
            "Elliot: E\n"
          ]
        }
      ]
    },
    {
      "cell_type": "code",
      "source": [
        "\n",
        "def set_operations():\n",
        "        list1 = input(\"Enter elements of the first list separated by spaces: \").split()\n",
        "        list2 = input(\"Enter elements of the second list separated by spaces: \").split()\n",
        "\n",
        "        set1 = set(list1)\n",
        "        set2 = set(list2)\n",
        "\n",
        "        union_set = set1.union(set2)\n",
        "        intersection_set = set1.intersection(set2)\n",
        "        difference_set = set1.difference(set2)\n",
        "\n",
        "        print(\"Union:\", union_set)\n",
        "        print(\"Intersection:\", intersection_set)\n",
        "        print(\"Difference (set1 - set2):\", difference_set)\n",
        "\n",
        "\n",
        "if __name__ == \"__main__\":\n",
        "    set_operations()\n"
      ],
      "metadata": {
        "id": "Jc2da-sQr5XD"
      },
      "execution_count": null,
      "outputs": []
    },
    {
      "cell_type": "code",
      "source": [
        "def check_number():\n",
        "        num = int(input(\"Enter an integer: \"))\n",
        "        if num == 0:\n",
        "            print(\"The number is zero.\")\n",
        "        elif num > 0:\n",
        "            print(\"The number is positive.\")\n",
        "        else:\n",
        "            print(\"The number is negative.\")\n",
        "\n",
        "        if num % 2 == 0:\n",
        "            print(\"The number is even.\")\n",
        "        else:\n",
        "            print(\"The number is odd.\")\n",
        "\n",
        "if __name__ == \"__main__\":\n",
        "    check_number()\n"
      ],
      "metadata": {
        "colab": {
          "base_uri": "https://localhost:8080/"
        },
        "id": "uhaTTSnWs1hv",
        "outputId": "d61f6fc8-2344-4a8e-8298-7747109a55d1"
      },
      "execution_count": null,
      "outputs": [
        {
          "output_type": "stream",
          "name": "stdout",
          "text": [
            "Enter an integer: -45\n",
            "The number is negative.\n",
            "The number is odd.\n"
          ]
        }
      ]
    },
    {
      "cell_type": "code",
      "source": [
        "i = 1\n",
        "while i<50:\n",
        "  if(i%3==0 and i%5==0):\n",
        "    print(\"FizzBuzz\")\n",
        "  elif(i%5==0):\n",
        "    print(\"Buzz\")\n",
        "  elif(i%3==0 ):\n",
        "    print(\"Fizz\")\n",
        "  i+=1"
      ],
      "metadata": {
        "colab": {
          "base_uri": "https://localhost:8080/"
        },
        "id": "kp09hM8ns7-s",
        "outputId": "5bc21a5d-0ef4-4485-f0f0-7606a848d0eb"
      },
      "execution_count": null,
      "outputs": [
        {
          "output_type": "stream",
          "name": "stdout",
          "text": [
            "Fizz\n",
            "Buzz\n",
            "Fizz\n",
            "Fizz\n",
            "Buzz\n",
            "Fizz\n",
            "FizzBuzz\n",
            "Fizz\n",
            "Buzz\n",
            "Fizz\n",
            "Fizz\n",
            "Buzz\n",
            "Fizz\n",
            "FizzBuzz\n",
            "Fizz\n",
            "Buzz\n",
            "Fizz\n",
            "Fizz\n",
            "Buzz\n",
            "Fizz\n",
            "FizzBuzz\n",
            "Fizz\n"
          ]
        }
      ]
    },
    {
      "cell_type": "code",
      "source": [
        "\n",
        "def fact(a):\n",
        "      x=1\n",
        "      while a>0:\n",
        "          x=x*a\n",
        "          a-=1\n",
        "      print(x)\n",
        "\n",
        "\n",
        "if __name__ == \"__main__\":\n",
        "    a = abs(int(input(\"Enter a number: \")))\n",
        "\n",
        "    fact(a)"
      ],
      "metadata": {
        "colab": {
          "base_uri": "https://localhost:8080/"
        },
        "id": "Hb-o_qWGuITk",
        "outputId": "32fc3c46-2b09-4c40-86b9-6af6927f5a9c"
      },
      "execution_count": null,
      "outputs": [
        {
          "output_type": "stream",
          "name": "stdout",
          "text": [
            "Enter a number: -5\n",
            "120\n"
          ]
        }
      ]
    },
    {
      "cell_type": "code",
      "source": [
        "num = int(input(\"Enter a number: \"))\n",
        "if num > 1:\n",
        "    for i in range(2, int(num/2)+1):\n",
        "        if (num % i) == 0:\n",
        "            print(num, \"is not a prime number\")\n",
        "            break\n",
        "    else:\n",
        "        print(num, \"is a prime number\")\n",
        "\n",
        "else:\n",
        "    print(num, \"is not a prime number\")"
      ],
      "metadata": {
        "colab": {
          "base_uri": "https://localhost:8080/"
        },
        "id": "QCbFJRe4u7po",
        "outputId": "c64090df-f59c-4e2a-90b3-85027dc0b4f2"
      },
      "execution_count": null,
      "outputs": [
        {
          "output_type": "stream",
          "name": "stdout",
          "text": [
            "Enter a number: 7\n",
            "7 is a prime number\n"
          ]
        }
      ]
    },
    {
      "cell_type": "code",
      "source": [
        "list = [1,2,3,4,5]\n",
        "for x in range(len(list)):\n",
        "  list[x]=list[x]*list[x]\n",
        "\n",
        "print(list)"
      ],
      "metadata": {
        "colab": {
          "base_uri": "https://localhost:8080/"
        },
        "id": "gQ6wby2Twe2Q",
        "outputId": "b68172cc-be0d-483b-b1dd-6e40175f5c5d"
      },
      "execution_count": null,
      "outputs": [
        {
          "output_type": "stream",
          "name": "stdout",
          "text": [
            "[1, 4, 9, 16, 25]\n"
          ]
        }
      ]
    },
    {
      "cell_type": "code",
      "source": [
        "d1={\n",
        "    \"a\":1,\n",
        "    \"b\":2,\n",
        "    \"c\":3\n",
        "}\n",
        "d2={\n",
        "    \"c\":3,\n",
        "    \"d\":4\n",
        "}\n",
        "d1.update(d2)\n",
        "print(d1)"
      ],
      "metadata": {
        "colab": {
          "base_uri": "https://localhost:8080/"
        },
        "id": "aV7Ny7-9xM3S",
        "outputId": "2b1b8c82-7faf-4e6a-e52e-b55e211b5a01"
      },
      "execution_count": null,
      "outputs": [
        {
          "output_type": "stream",
          "name": "stdout",
          "text": [
            "{'a': 1, 'b': 2, 'c': 3, 'd': 4}\n"
          ]
        }
      ]
    },
    {
      "cell_type": "code",
      "source": [
        "def remove_duplicates(lst):\n",
        "    seen = set()\n",
        "    result = []\n",
        "    for item in lst:\n",
        "        if item not in seen:\n",
        "            result.append(item)\n",
        "            seen.add(item)\n",
        "    return result\n",
        "\n",
        "list1 = [1, 2, 3, 4, 1, 4, 1, 3, 2, 5, 4]\n",
        "list1 = remove_duplicates(list1)\n",
        "print(list1)\n"
      ],
      "metadata": {
        "colab": {
          "base_uri": "https://localhost:8080/"
        },
        "id": "Yd1m5dYFx9-F",
        "outputId": "7982aa13-4155-4413-efac-8d0d8d3209a6"
      },
      "execution_count": null,
      "outputs": [
        {
          "output_type": "stream",
          "name": "stdout",
          "text": [
            "[1, 2, 3, 4, 5]\n"
          ]
        }
      ]
    },
    {
      "cell_type": "code",
      "source": [
        "def pal(name):\n",
        "  y=len(name)-1\n",
        "  h=0\n",
        "  for i in  range(len(name)):\n",
        "    if name[i]!=name[y-i]:\n",
        "      print(\"not a palindrome\")\n",
        "      h=1\n",
        "      break\n",
        "\n",
        "  if h==0:\n",
        "    print(\"palindrome\")\n",
        "\n",
        "\n",
        "\n",
        "\n",
        "name=input(\"Enter a name: \")\n",
        "pal(name)"
      ],
      "metadata": {
        "colab": {
          "base_uri": "https://localhost:8080/"
        },
        "id": "gM9tJkhQ0lGy",
        "outputId": "920513c1-b005-4c8b-a695-e164ff402e30"
      },
      "execution_count": null,
      "outputs": [
        {
          "output_type": "stream",
          "name": "stdout",
          "text": [
            "Enter a name: saad\n",
            "not a palindrome\n"
          ]
        }
      ]
    },
    {
      "cell_type": "code",
      "source": [
        "\n",
        "name=input(\"Enter a name: \")\n",
        "y = lambda name:name==name[::-1]\n",
        "if y(name):print(\"palindrome\")\n",
        "else:print(\"not a palindrome\")\n",
        "\n",
        "\n",
        "\n",
        "\n",
        "\n"
      ],
      "metadata": {
        "colab": {
          "base_uri": "https://localhost:8080/"
        },
        "id": "EMD-fgfJ-iMo",
        "outputId": "54dfa335-bfd8-48f6-ffa7-acfaf38fa311"
      },
      "execution_count": null,
      "outputs": [
        {
          "output_type": "stream",
          "name": "stdout",
          "text": [
            "Enter a name: civic\n",
            "palindrome\n"
          ]
        }
      ]
    },
    {
      "cell_type": "code",
      "source": [
        "n= int(input(\"Enter a number: \"))\n",
        "num1 = 0\n",
        "num2 = 1\n",
        "next_number = num2\n",
        "count = 1\n",
        "print(\"Fibonacci series:\")\n",
        "print(num1, end=\" \")\n",
        "print(num2, end=\" \")\n",
        "while count <= n-2:\n",
        "    print(next_number, end=\" \")\n",
        "    count += 1\n",
        "    num1, num2 = num2, next_number\n",
        "    next_number = num1 + num2\n"
      ],
      "metadata": {
        "colab": {
          "base_uri": "https://localhost:8080/"
        },
        "id": "sZSSzTa92c4d",
        "outputId": "8091d69b-433d-4c83-f606-a17a6bd454ef"
      },
      "execution_count": null,
      "outputs": [
        {
          "output_type": "stream",
          "name": "stdout",
          "text": [
            "Enter a number: 10\n",
            "Fibonacci series:\n",
            "0 1 1 2 3 5 8 13 21 34 "
          ]
        }
      ]
    },
    {
      "cell_type": "code",
      "source": [
        "\n",
        "list=[]\n",
        "while True:\n",
        "  a = int(input(\"Enter a number: \"))\n",
        "  if a==-1:\n",
        "    break\n",
        "  list.append(a)\n",
        "y=0\n",
        "for x in range(len(list)):\n",
        "  y+=list[x]\n",
        "\n",
        "y=y/len(list)\n",
        "print(y)\n",
        "print(list)"
      ],
      "metadata": {
        "colab": {
          "base_uri": "https://localhost:8080/"
        },
        "id": "hG7gl4Lu3VMs",
        "outputId": "0a725bcc-05c5-45da-969e-4161e05c96e0"
      },
      "execution_count": null,
      "outputs": [
        {
          "output_type": "stream",
          "name": "stdout",
          "text": [
            "Enter a number: 7\n",
            "Enter a number: 3\n",
            "Enter a number: 4\n",
            "Enter a number: 6\n",
            "Enter a number: -1\n",
            "5.0\n",
            "[7, 3, 4, 6]\n"
          ]
        }
      ]
    },
    {
      "cell_type": "code",
      "source": [
        "num = int(input(\"Enter a number: \"))\n",
        "for i in range(1, 11):\n",
        "    print(num, \"x\", i, \"=\", num * i)"
      ],
      "metadata": {
        "colab": {
          "base_uri": "https://localhost:8080/"
        },
        "id": "JD_y0Xhn5fFk",
        "outputId": "dd96402c-2e4c-4926-b29d-36fd04939e7b"
      },
      "execution_count": null,
      "outputs": [
        {
          "output_type": "stream",
          "name": "stdout",
          "text": [
            "Enter a number: 6\n",
            "6 x 1 = 6\n",
            "6 x 2 = 12\n",
            "6 x 3 = 18\n",
            "6 x 4 = 24\n",
            "6 x 5 = 30\n",
            "6 x 6 = 36\n",
            "6 x 7 = 42\n",
            "6 x 8 = 48\n",
            "6 x 9 = 54\n",
            "6 x 10 = 60\n"
          ]
        }
      ]
    },
    {
      "cell_type": "code",
      "source": [
        "s1 = {}\n",
        "i = 0\n",
        "while i < 5:\n",
        "    word = input(\"Enter a word: \")\n",
        "    s1[i] = word\n",
        "    i += 1\n",
        "\n",
        "s2 = {}\n",
        "for j in range(len(s1)):\n",
        "    count = 1\n",
        "    for k in range(j + 1, len(s1)):\n",
        "        if s1[j] == s1[k]:\n",
        "            count += 1\n",
        "\n",
        "    if s1[j] not in s2:\n",
        "        s2[s1[j]] = count\n",
        "\n",
        "print(s2)\n"
      ],
      "metadata": {
        "colab": {
          "base_uri": "https://localhost:8080/"
        },
        "id": "nghlSSfN5hRG",
        "outputId": "a5a5ab69-0c95-418f-c8b6-3760cc1b88d5"
      },
      "execution_count": null,
      "outputs": [
        {
          "output_type": "stream",
          "name": "stdout",
          "text": [
            "Enter a word: a\n",
            "Enter a word: b\n",
            "Enter a word: b\n",
            "Enter a word: c\n",
            "Enter a word: a\n",
            "{'a': 2, 'b': 2, 'c': 1}\n"
          ]
        }
      ]
    },
    {
      "cell_type": "code",
      "source": [
        "def convert_temperature():\n",
        "    while True:\n",
        "        choice = input(\"Convert to (C)elsius or (F)ahrenheit? (or 'q' to quit): \").upper()\n",
        "\n",
        "        if choice == 'Q':\n",
        "            break\n",
        "\n",
        "        if choice in ('C', 'F'):\n",
        "            temp = float(input(\"Enter temperature value: \"))\n",
        "            if choice == 'C':\n",
        "                converted_temp = (temp - 32) * 5/9\n",
        "                print(f\"{temp}°F is equal to {converted_temp}°C\")\n",
        "            else:\n",
        "                converted_temp = (temp * 9/5) + 32\n",
        "                print(f\"{temp}°C is equal to {converted_temp}°F\")\n",
        "        else:\n",
        "            print(\"Invalid choice. Please enter 'C' or 'F'.\")\n",
        "\n",
        "\n",
        "convert_temperature()"
      ],
      "metadata": {
        "colab": {
          "base_uri": "https://localhost:8080/"
        },
        "id": "kvKAlYZg8apt",
        "outputId": "992a346c-d364-4835-93c6-e733e6927a3c"
      },
      "execution_count": null,
      "outputs": [
        {
          "name": "stdout",
          "output_type": "stream",
          "text": [
            "Convert to (C)elsius or (F)ahrenheit? (or 'q' to quit): C\n",
            "Enter temperature value: 40\n",
            "40.0°F is equal to 4.444444444444445°C\n",
            "Convert to (C)elsius or (F)ahrenheit? (or 'q' to quit): C\n",
            "Enter temperature value: -40\n",
            "-40.0°F is equal to -40.0°C\n",
            "Convert to (C)elsius or (F)ahrenheit? (or 'q' to quit): q\n"
          ]
        }
      ]
    },
    {
      "cell_type": "code",
      "source": [
        "\n",
        "def register(users):\n",
        "  \"\"\"Registers a new user.\"\"\"\n",
        "  username = input(\"Enter a username: \")\n",
        "  if username in users:\n",
        "    print(\"Username already exists. Please choose a different one.\")\n",
        "    return\n",
        "  password = input(\"Enter a password: \")\n",
        "  users[username] = password\n",
        "  print(\"Registration successful!\")\n",
        "\n",
        "def login(users):\n",
        "  \"\"\"Logs in an existing user.\"\"\"\n",
        "  username = input(\"Enter your username: \")\n",
        "  if username not in users:\n",
        "    print(\"Invalid username.\")\n",
        "    return\n",
        "  password = input(\"Enter your password: \")\n",
        "  if password != users[username]:\n",
        "    print(\"Incorrect password.\")\n",
        "    return\n",
        "  print(\"Login successful!\")\n",
        "\n",
        "if __name__ == \"__main__\":\n",
        "  users = {}\n",
        "  while True:\n",
        "    action = input(\"Do you want to (r)egister, (l)ogin, or (q)uit? \").lower()\n",
        "    if action == \"r\":\n",
        "      register(users)\n",
        "    elif action == \"l\":\n",
        "      login(users)\n",
        "    elif action == \"q\":\n",
        "      break\n",
        "    else:\n",
        "      print(\"Invalid action. Please try again.\")"
      ],
      "metadata": {
        "colab": {
          "base_uri": "https://localhost:8080/",
          "height": 426
        },
        "id": "G4fkCGup9qeB",
        "outputId": "799acd50-7434-4c1f-d4a4-92d07685c44a"
      },
      "execution_count": null,
      "outputs": [
        {
          "output_type": "stream",
          "name": "stdout",
          "text": [
            "Do you want to (r)egister, (l)ogin, or (q)uit? r\n",
            "Enter a username: msd\n",
            "Enter a password: msdf\n",
            "Registration successful!\n"
          ]
        },
        {
          "output_type": "error",
          "ename": "KeyboardInterrupt",
          "evalue": "Interrupted by user",
          "traceback": [
            "\u001b[0;31m---------------------------------------------------------------------------\u001b[0m",
            "\u001b[0;31mKeyboardInterrupt\u001b[0m                         Traceback (most recent call last)",
            "\u001b[0;32m<ipython-input-65-25df4b13f6ad>\u001b[0m in \u001b[0;36m<cell line: 0>\u001b[0;34m()\u001b[0m\n\u001b[1;32m     24\u001b[0m   \u001b[0musers\u001b[0m \u001b[0;34m=\u001b[0m \u001b[0;34m{\u001b[0m\u001b[0;34m}\u001b[0m\u001b[0;34m\u001b[0m\u001b[0;34m\u001b[0m\u001b[0m\n\u001b[1;32m     25\u001b[0m   \u001b[0;32mwhile\u001b[0m \u001b[0;32mTrue\u001b[0m\u001b[0;34m:\u001b[0m\u001b[0;34m\u001b[0m\u001b[0;34m\u001b[0m\u001b[0m\n\u001b[0;32m---> 26\u001b[0;31m     \u001b[0maction\u001b[0m \u001b[0;34m=\u001b[0m \u001b[0minput\u001b[0m\u001b[0;34m(\u001b[0m\u001b[0;34m\"Do you want to (r)egister, (l)ogin, or (q)uit? \"\u001b[0m\u001b[0;34m)\u001b[0m\u001b[0;34m.\u001b[0m\u001b[0mlower\u001b[0m\u001b[0;34m(\u001b[0m\u001b[0;34m)\u001b[0m\u001b[0;34m\u001b[0m\u001b[0;34m\u001b[0m\u001b[0m\n\u001b[0m\u001b[1;32m     27\u001b[0m     \u001b[0;32mif\u001b[0m \u001b[0maction\u001b[0m \u001b[0;34m==\u001b[0m \u001b[0;34m\"r\"\u001b[0m\u001b[0;34m:\u001b[0m\u001b[0;34m\u001b[0m\u001b[0;34m\u001b[0m\u001b[0m\n\u001b[1;32m     28\u001b[0m       \u001b[0mregister\u001b[0m\u001b[0;34m(\u001b[0m\u001b[0musers\u001b[0m\u001b[0;34m)\u001b[0m\u001b[0;34m\u001b[0m\u001b[0;34m\u001b[0m\u001b[0m\n",
            "\u001b[0;32m/usr/local/lib/python3.11/dist-packages/ipykernel/kernelbase.py\u001b[0m in \u001b[0;36mraw_input\u001b[0;34m(self, prompt)\u001b[0m\n\u001b[1;32m    849\u001b[0m                 \u001b[0;34m\"raw_input was called, but this frontend does not support input requests.\"\u001b[0m\u001b[0;34m\u001b[0m\u001b[0;34m\u001b[0m\u001b[0m\n\u001b[1;32m    850\u001b[0m             )\n\u001b[0;32m--> 851\u001b[0;31m         return self._input_request(str(prompt),\n\u001b[0m\u001b[1;32m    852\u001b[0m             \u001b[0mself\u001b[0m\u001b[0;34m.\u001b[0m\u001b[0m_parent_ident\u001b[0m\u001b[0;34m,\u001b[0m\u001b[0;34m\u001b[0m\u001b[0;34m\u001b[0m\u001b[0m\n\u001b[1;32m    853\u001b[0m             \u001b[0mself\u001b[0m\u001b[0;34m.\u001b[0m\u001b[0m_parent_header\u001b[0m\u001b[0;34m,\u001b[0m\u001b[0;34m\u001b[0m\u001b[0;34m\u001b[0m\u001b[0m\n",
            "\u001b[0;32m/usr/local/lib/python3.11/dist-packages/ipykernel/kernelbase.py\u001b[0m in \u001b[0;36m_input_request\u001b[0;34m(self, prompt, ident, parent, password)\u001b[0m\n\u001b[1;32m    893\u001b[0m             \u001b[0;32mexcept\u001b[0m \u001b[0mKeyboardInterrupt\u001b[0m\u001b[0;34m:\u001b[0m\u001b[0;34m\u001b[0m\u001b[0;34m\u001b[0m\u001b[0m\n\u001b[1;32m    894\u001b[0m                 \u001b[0;31m# re-raise KeyboardInterrupt, to truncate traceback\u001b[0m\u001b[0;34m\u001b[0m\u001b[0;34m\u001b[0m\u001b[0m\n\u001b[0;32m--> 895\u001b[0;31m                 \u001b[0;32mraise\u001b[0m \u001b[0mKeyboardInterrupt\u001b[0m\u001b[0;34m(\u001b[0m\u001b[0;34m\"Interrupted by user\"\u001b[0m\u001b[0;34m)\u001b[0m \u001b[0;32mfrom\u001b[0m \u001b[0;32mNone\u001b[0m\u001b[0;34m\u001b[0m\u001b[0;34m\u001b[0m\u001b[0m\n\u001b[0m\u001b[1;32m    896\u001b[0m             \u001b[0;32mexcept\u001b[0m \u001b[0mException\u001b[0m \u001b[0;32mas\u001b[0m \u001b[0me\u001b[0m\u001b[0;34m:\u001b[0m\u001b[0;34m\u001b[0m\u001b[0;34m\u001b[0m\u001b[0m\n\u001b[1;32m    897\u001b[0m                 \u001b[0mself\u001b[0m\u001b[0;34m.\u001b[0m\u001b[0mlog\u001b[0m\u001b[0;34m.\u001b[0m\u001b[0mwarning\u001b[0m\u001b[0;34m(\u001b[0m\u001b[0;34m\"Invalid Message:\"\u001b[0m\u001b[0;34m,\u001b[0m \u001b[0mexc_info\u001b[0m\u001b[0;34m=\u001b[0m\u001b[0;32mTrue\u001b[0m\u001b[0;34m)\u001b[0m\u001b[0;34m\u001b[0m\u001b[0;34m\u001b[0m\u001b[0m\n",
            "\u001b[0;31mKeyboardInterrupt\u001b[0m: Interrupted by user"
          ]
        }
      ]
    }
  ]
}