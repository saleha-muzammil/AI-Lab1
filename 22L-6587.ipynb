{
  "nbformat": 4,
  "nbformat_minor": 0,
  "metadata": {
    "colab": {
      "provenance": []
    },
    "kernelspec": {
      "name": "python3",
      "display_name": "Python 3"
    },
    "language_info": {
      "name": "python"
    }
  },
  "cells": [
    {
      "cell_type": "code",
      "execution_count": null,
      "metadata": {
        "id": "QLUTpp0i0ux-"
      },
      "outputs": [],
      "source": [
        "#Q1 Hello Python"
      ]
    },
    {
      "cell_type": "code",
      "source": [
        "name=input(\"Ente your name\");\n",
        "age=input(\"Enter your age\");\n",
        "print(f\"Hello {name} Your age is {age}\")\n",
        "\n",
        "\n"
      ],
      "metadata": {
        "colab": {
          "base_uri": "https://localhost:8080/"
        },
        "id": "uUtpGYk81FHL",
        "outputId": "ea9abce1-8039-4432-9c02-68ea6fbbbb27"
      },
      "execution_count": null,
      "outputs": [
        {
          "output_type": "stream",
          "name": "stdout",
          "text": [
            "Ente your nameshaheer\n",
            "Enter your age20\n",
            "Hello shaheer Your age is 20\n"
          ]
        }
      ]
    },
    {
      "cell_type": "code",
      "source": [
        "#Q2 Data Type\n",
        "data=input(\"Enter any value \");\n",
        "if \".\" in data:\n",
        "    print(\"You entered a float\")\n",
        "else:\n",
        "  print(\"You entered int or a string\")"
      ],
      "metadata": {
        "colab": {
          "base_uri": "https://localhost:8080/"
        },
        "id": "Khlh4K1w1y5K",
        "outputId": "83b625a6-e5b8-4646-f6f1-b46c6777bc4a"
      },
      "execution_count": null,
      "outputs": [
        {
          "output_type": "stream",
          "name": "stdout",
          "text": [
            "Enter any value sdawd\n",
            "You entered int or a string\n"
          ]
        }
      ]
    },
    {
      "cell_type": "code",
      "source": [
        "#Q3 List Modifications\n",
        "spec_elem=['a','b','c',10,101,10101,\"hello\"];\n",
        "print(spec_elem);\n",
        "print(\"After removing hello\")\n",
        "spec_elem.remove('hello');\n",
        "print(spec_elem)\n",
        "print(\"After Adding World\")\n",
        "spec_elem.append(\"World\")\n",
        "print(spec_elem)\n",
        "\n",
        "for i in spec_elem:\n",
        "  if type(i) is str:\n",
        "    cap=\"\";\n",
        "    for j in i:\n",
        "      cap+=j.capitalize()\n",
        "    print(cap)\n",
        "  else:\n",
        "    print(i)"
      ],
      "metadata": {
        "colab": {
          "base_uri": "https://localhost:8080/"
        },
        "collapsed": true,
        "id": "acC03UFp3GFp",
        "outputId": "3c412453-9ba2-49bc-a98f-471065c1882a"
      },
      "execution_count": null,
      "outputs": [
        {
          "output_type": "stream",
          "name": "stdout",
          "text": [
            "['a', 'b', 'c', 10, 101, 10101, 'hello']\n",
            "After removing hello\n",
            "['a', 'b', 'c', 10, 101, 10101]\n",
            "After Adding World\n",
            "['a', 'b', 'c', 10, 101, 10101, 'World']\n",
            "A\n",
            "B\n",
            "C\n",
            "10\n",
            "101\n",
            "10101\n",
            "WORLD\n"
          ]
        }
      ]
    },
    {
      "cell_type": "code",
      "source": [
        "#Q4 Tuple unpacking\n",
        "tuple_elem= ('a','b','c','d','e','f')\n",
        "(f,s,*el)=tuple_elem\n",
        "print(f\"First Elem : {f}, Second Elem:{s}\")"
      ],
      "metadata": {
        "colab": {
          "base_uri": "https://localhost:8080/"
        },
        "id": "ts6a7ja54NF6",
        "outputId": "2ab46ff2-a292-4b60-9c44-4baf3d8dbc56"
      },
      "execution_count": null,
      "outputs": [
        {
          "output_type": "stream",
          "name": "stdout",
          "text": [
            "First Elem : a, Second Elem:b\n"
          ]
        }
      ]
    },
    {
      "cell_type": "code",
      "source": [
        "#Q5 Dict Management\n",
        "grades={\"A\":4,\"B\":3,\"C\":2,\"D\":3.7,\"E\":\"4.23\"}\n",
        "print(grades)"
      ],
      "metadata": {
        "colab": {
          "base_uri": "https://localhost:8080/"
        },
        "id": "y3N_UAem52oy",
        "outputId": "2c63f53c-2648-4455-e2dc-88543cd7a578"
      },
      "execution_count": null,
      "outputs": [
        {
          "output_type": "stream",
          "name": "stdout",
          "text": [
            "{'A': 4, 'B': 3, 'C': 2, 'D': 3.7, 'E': '4.23'}\n"
          ]
        }
      ]
    },
    {
      "cell_type": "code",
      "source": [
        "#Q6 Set operations\n",
        "\n",
        "print(\"Enter a list of integers seperated by space\")\n",
        "list1=input(\"List1: \")\n",
        "\n",
        "print(\"Enter a list of integers seperated by space\")\n",
        "list2=input(\"List2: \")\n",
        "\n",
        "list1=[int(x) for x in list1.split(\" \")]\n",
        "list2=[int(x) for x in list2.split(\" \")]\n",
        "\n",
        "set1=set(list1)\n",
        "set2=set(list2)\n",
        "\n",
        "\n",
        "set3=set1.union(set2)\n",
        "print(\"Union of Set 1 & 2\")\n",
        "print(set3)\n",
        "set3=set1.difference(set2)\n",
        "print(\"Difference of set1 & 2\")\n",
        "print(set3)\n",
        "set3=set1.intersection(set2)\n",
        "print(\"Intersection of set1 & 2\")\n",
        "print(set3)\n",
        "\n"
      ],
      "metadata": {
        "id": "cL6icr2U6Wvt",
        "colab": {
          "base_uri": "https://localhost:8080/"
        },
        "outputId": "570317ec-b861-42e3-c286-35f588715204"
      },
      "execution_count": 2,
      "outputs": [
        {
          "output_type": "stream",
          "name": "stdout",
          "text": [
            "Enter a list of integers seperated by space\n",
            "List1: 1 2 3 4 5 6 7 8\n",
            "Enter a list of integers seperated by space\n",
            "List2: 3 4 2 1 9 10 11 5\n",
            "Union of Set 1 & 2\n",
            "{1, 2, 3, 4, 5, 6, 7, 8, 9, 10, 11}\n",
            "Difference of set1 & 2\n",
            "{8, 6, 7}\n",
            "Difference of set1 & 2\n",
            "{1, 2, 3, 4, 5}\n"
          ]
        }
      ]
    },
    {
      "cell_type": "code",
      "source": [
        "#Q7 Number checker\n",
        "number=input(\"Enter a number\");\n",
        "\n",
        "number=float(number)\n",
        "if (number>0):\n",
        "  print(\"Positive number\")\n",
        "elif number<0:\n",
        "  print(\"Negative number\")\n",
        "else:\n",
        "  print(\"Zero\")\n",
        "if not number%2:\n",
        "  print(\"Even\")\n",
        "else:\n",
        "  print(\"Odd\")"
      ],
      "metadata": {
        "colab": {
          "base_uri": "https://localhost:8080/"
        },
        "id": "3w2jnM-M7buA",
        "outputId": "66eb661a-3caa-4174-9223-3251ee06035b"
      },
      "execution_count": null,
      "outputs": [
        {
          "output_type": "stream",
          "name": "stdout",
          "text": [
            "Enter a number-12\n",
            "Negative number\n",
            "Even\n"
          ]
        }
      ]
    },
    {
      "cell_type": "code",
      "source": [
        "#Q8 FizzBuz\n",
        "\n",
        "for i in range(51):\n",
        "  if i%3==0 and i%5==0:\n",
        "    print(f\" {i} FizzBuzz\")\n",
        "  elif i%3==0:\n",
        "    print(f\" {i} Fizz\")\n",
        "  elif i%5==0:\n",
        "    print(f\" {i} Buzz\")"
      ],
      "metadata": {
        "colab": {
          "base_uri": "https://localhost:8080/"
        },
        "id": "Rvnhhq1V8SWL",
        "outputId": "38425f66-3fff-4007-8250-e66daff6e93a",
        "collapsed": true
      },
      "execution_count": null,
      "outputs": [
        {
          "output_type": "stream",
          "name": "stdout",
          "text": [
            " 0 FizzBuzz\n",
            " 3 Fizz\n",
            " 5 Buzz\n",
            " 6 Fizz\n",
            " 9 Fizz\n",
            " 10 Buzz\n",
            " 12 Fizz\n",
            " 15 FizzBuzz\n",
            " 18 Fizz\n",
            " 20 Buzz\n",
            " 21 Fizz\n",
            " 24 Fizz\n",
            " 25 Buzz\n",
            " 27 Fizz\n",
            " 30 FizzBuzz\n",
            " 33 Fizz\n",
            " 35 Buzz\n",
            " 36 Fizz\n",
            " 39 Fizz\n",
            " 40 Buzz\n",
            " 42 Fizz\n",
            " 45 FizzBuzz\n",
            " 48 Fizz\n",
            " 50 Buzz\n"
          ]
        }
      ]
    },
    {
      "cell_type": "code",
      "source": [
        "#Q9 Factorial Calc\n",
        "number = input(\"Enter a non-negative number \")\n",
        "\n",
        "if int(number) < 0:\n",
        "  print(\"Wrong format buddy\");\n",
        "  exit(1)\n",
        "\n",
        "fact=1;\n",
        "for i in range(1,int(number)+1):\n",
        "  fact=fact*i;\n",
        "print(fact)"
      ],
      "metadata": {
        "colab": {
          "base_uri": "https://localhost:8080/"
        },
        "id": "H4HebGen9Apa",
        "outputId": "a32d2976-bd13-450b-b00d-02619131eadc",
        "collapsed": true
      },
      "execution_count": null,
      "outputs": [
        {
          "output_type": "stream",
          "name": "stdout",
          "text": [
            "Enter a non-negative number 5\n",
            "120\n"
          ]
        }
      ]
    },
    {
      "cell_type": "code",
      "source": [
        "#Q10 Prime number checker\n",
        "def is_prime(num:int):\n",
        "  for i in range(2,int(num/2)):\n",
        "    if num%i == 0:\n",
        "      return False;\n",
        "  return True;\n",
        "\n",
        "number=input(\"Enter a positive number\")\n",
        "if int(number) < 0:\n",
        "  print(\"Wrong format buddy\");\n",
        "  exit(1)\n",
        "if is_prime(int(number)):\n",
        "  print(f\"{number } is prime\");\n",
        "else:\n",
        "  print(f\"{number } is not prime\");\n"
      ],
      "metadata": {
        "colab": {
          "base_uri": "https://localhost:8080/"
        },
        "id": "nbDlBeef-W_B",
        "outputId": "824530ba-658a-4cb2-d39b-e98d4eec51c3"
      },
      "execution_count": null,
      "outputs": [
        {
          "output_type": "stream",
          "name": "stdout",
          "text": [
            "Enter a positive number5\n",
            "5 is prime\n"
          ]
        }
      ]
    },
    {
      "cell_type": "code",
      "source": [
        "#Q11 List comprehension\n",
        "norm_list=[]\n",
        "print(\"Enter 5 numbers\")\n",
        "for i in range(5):\n",
        "  num=int(input(\"Enter number : \"))\n",
        "  norm_list.append(num)\n",
        "\n",
        "sqr_list=[i*i for i in norm_list];\n",
        "print(sqr_list);"
      ],
      "metadata": {
        "colab": {
          "base_uri": "https://localhost:8080/"
        },
        "collapsed": true,
        "id": "a1U7ind0_whp",
        "outputId": "d063eec5-0c0c-446f-8bde-5073dfada5a1"
      },
      "execution_count": null,
      "outputs": [
        {
          "output_type": "stream",
          "name": "stdout",
          "text": [
            "Enter ten numbers\n",
            "Enter number : 1\n",
            "Enter number : 2\n",
            "Enter number : 5\n",
            "Enter number : 11\n",
            "Enter number : 12\n",
            "Enter number : 14\n",
            "Enter number : 16\n",
            "Enter number : 2222\n",
            "Enter number : 22\n",
            "Enter number : 12\n",
            "[1, 4, 25, 121, 144, 196, 256, 4937284, 484, 144]\n"
          ]
        }
      ]
    },
    {
      "cell_type": "code",
      "source": [
        "#Q12\n",
        "\n",
        "dict1={'a':1,'b':12,\"c\":12}\n",
        "dict2={'a':12,'e':100}\n",
        "dict1.update(dict2)\n",
        "print(dict1)\n"
      ],
      "metadata": {
        "colab": {
          "base_uri": "https://localhost:8080/"
        },
        "id": "tbx5FyGOBjvA",
        "outputId": "56aadb69-cb0c-44a2-f085-f904422d2bac"
      },
      "execution_count": null,
      "outputs": [
        {
          "output_type": "stream",
          "name": "stdout",
          "text": [
            "{'a': 12, 'b': 12, 'c': 12, 'e': 100}\n"
          ]
        }
      ]
    },
    {
      "cell_type": "code",
      "source": [
        "#Q13\n",
        "oList=[\"1\",\"2\",\"4\",\"10\",\"12\",\"13\",\"1\"]\n",
        "alr_seen=set()\n",
        "result=[]\n",
        "\n",
        "for i in oList:\n",
        "  if i not in alr_seen:\n",
        "    alr_seen.add(i)\n",
        "    result.append(i)\n",
        "print(result)"
      ],
      "metadata": {
        "colab": {
          "base_uri": "https://localhost:8080/"
        },
        "id": "v2AlolzoCstj",
        "outputId": "2e0f7d8f-999b-4c15-e3cc-7c043b623035"
      },
      "execution_count": null,
      "outputs": [
        {
          "output_type": "stream",
          "name": "stdout",
          "text": [
            "['1', '2', '4', '10', '12', '13']\n"
          ]
        }
      ]
    },
    {
      "cell_type": "code",
      "source": [
        "#Q14 Palindrome Checker\n",
        "word=input(\"Enter a string\")\n",
        "word.replace(\" \",\"\")\n",
        "word.lower()\n",
        "\n",
        "if word==word[::-1]:\n",
        "  print(\"Is a Palindrome\")\n",
        "else:\n",
        "  print(\"Not a palindrome\")\n",
        "\n"
      ],
      "metadata": {
        "colab": {
          "base_uri": "https://localhost:8080/"
        },
        "id": "bymcKHT2E9li",
        "outputId": "09532604-0e79-4f83-de5a-555f243219da"
      },
      "execution_count": null,
      "outputs": [
        {
          "output_type": "stream",
          "name": "stdout",
          "text": [
            "Enter a stringaaabb\n",
            "Not a palindrome\n"
          ]
        }
      ]
    },
    {
      "cell_type": "code",
      "source": [
        "#Q15 Fibonacci\n",
        "num=int(input(\"Enter a number \"))\n",
        "\n",
        "fib_n=[0,1]\n",
        "for i in range(2,num):\n",
        "  fib_new = fib_n[i-2]+fib_n[i-1]\n",
        "  fib_n.append(fib_new)\n",
        "print(fib_n)"
      ],
      "metadata": {
        "colab": {
          "base_uri": "https://localhost:8080/"
        },
        "id": "yToHsDN0FS8q",
        "outputId": "f02d171a-23d1-46f6-b243-5a9318822227"
      },
      "execution_count": null,
      "outputs": [
        {
          "output_type": "stream",
          "name": "stdout",
          "text": [
            "Enter a number14\n",
            "[0, 1, 1, 2, 3, 5, 8, 13, 21, 34, 55, 89, 144, 233]\n"
          ]
        }
      ]
    },
    {
      "cell_type": "code",
      "source": [
        "#Q16 Average calc\n",
        "num=int(input(\"Enter range\"))\n",
        "sum=0;\n",
        "for i in range(0,num):\n",
        "    sum+=int(input(\"Enter number\"))\n",
        "\n",
        "print(sum/num)\n",
        "\n"
      ],
      "metadata": {
        "colab": {
          "base_uri": "https://localhost:8080/"
        },
        "collapsed": true,
        "id": "2Cvuf4WuFvF2",
        "outputId": "bbdc594e-ef42-4595-d582-4e03534c9f00"
      },
      "execution_count": null,
      "outputs": [
        {
          "output_type": "stream",
          "name": "stdout",
          "text": [
            "Enter range5\n",
            "Enter number1\n",
            "Enter number2\n",
            "Enter number3\n",
            "Enter number4\n",
            "Enter number5\n",
            "3.0\n"
          ]
        }
      ]
    },
    {
      "cell_type": "code",
      "source": [
        "#Q17 Multiplication\n",
        "for i in range(1,11):\n",
        "  for j in range(1,11):\n",
        "    print(f\"{i} x {j} = {i*j}\")"
      ],
      "metadata": {
        "colab": {
          "base_uri": "https://localhost:8080/"
        },
        "collapsed": true,
        "id": "IY0HYW3dGq-w",
        "outputId": "0a78f203-a7b8-44d4-8bd2-06a3fa17376e"
      },
      "execution_count": null,
      "outputs": [
        {
          "output_type": "stream",
          "name": "stdout",
          "text": [
            "1 x 1 = 1\n",
            "1 x 2 = 2\n",
            "1 x 3 = 3\n",
            "1 x 4 = 4\n",
            "1 x 5 = 5\n",
            "1 x 6 = 6\n",
            "1 x 7 = 7\n",
            "1 x 8 = 8\n",
            "1 x 9 = 9\n",
            "1 x 10 = 10\n",
            "2 x 1 = 2\n",
            "2 x 2 = 4\n",
            "2 x 3 = 6\n",
            "2 x 4 = 8\n",
            "2 x 5 = 10\n",
            "2 x 6 = 12\n",
            "2 x 7 = 14\n",
            "2 x 8 = 16\n",
            "2 x 9 = 18\n",
            "2 x 10 = 20\n",
            "3 x 1 = 3\n",
            "3 x 2 = 6\n",
            "3 x 3 = 9\n",
            "3 x 4 = 12\n",
            "3 x 5 = 15\n",
            "3 x 6 = 18\n",
            "3 x 7 = 21\n",
            "3 x 8 = 24\n",
            "3 x 9 = 27\n",
            "3 x 10 = 30\n",
            "4 x 1 = 4\n",
            "4 x 2 = 8\n",
            "4 x 3 = 12\n",
            "4 x 4 = 16\n",
            "4 x 5 = 20\n",
            "4 x 6 = 24\n",
            "4 x 7 = 28\n",
            "4 x 8 = 32\n",
            "4 x 9 = 36\n",
            "4 x 10 = 40\n",
            "5 x 1 = 5\n",
            "5 x 2 = 10\n",
            "5 x 3 = 15\n",
            "5 x 4 = 20\n",
            "5 x 5 = 25\n",
            "5 x 6 = 30\n",
            "5 x 7 = 35\n",
            "5 x 8 = 40\n",
            "5 x 9 = 45\n",
            "5 x 10 = 50\n",
            "6 x 1 = 6\n",
            "6 x 2 = 12\n",
            "6 x 3 = 18\n",
            "6 x 4 = 24\n",
            "6 x 5 = 30\n",
            "6 x 6 = 36\n",
            "6 x 7 = 42\n",
            "6 x 8 = 48\n",
            "6 x 9 = 54\n",
            "6 x 10 = 60\n",
            "7 x 1 = 7\n",
            "7 x 2 = 14\n",
            "7 x 3 = 21\n",
            "7 x 4 = 28\n",
            "7 x 5 = 35\n",
            "7 x 6 = 42\n",
            "7 x 7 = 49\n",
            "7 x 8 = 56\n",
            "7 x 9 = 63\n",
            "7 x 10 = 70\n",
            "8 x 1 = 8\n",
            "8 x 2 = 16\n",
            "8 x 3 = 24\n",
            "8 x 4 = 32\n",
            "8 x 5 = 40\n",
            "8 x 6 = 48\n",
            "8 x 7 = 56\n",
            "8 x 8 = 64\n",
            "8 x 9 = 72\n",
            "8 x 10 = 80\n",
            "9 x 1 = 9\n",
            "9 x 2 = 18\n",
            "9 x 3 = 27\n",
            "9 x 4 = 36\n",
            "9 x 5 = 45\n",
            "9 x 6 = 54\n",
            "9 x 7 = 63\n",
            "9 x 8 = 72\n",
            "9 x 9 = 81\n",
            "9 x 10 = 90\n",
            "10 x 1 = 10\n",
            "10 x 2 = 20\n",
            "10 x 3 = 30\n",
            "10 x 4 = 40\n",
            "10 x 5 = 50\n",
            "10 x 6 = 60\n",
            "10 x 7 = 70\n",
            "10 x 8 = 80\n",
            "10 x 9 = 90\n",
            "10 x 10 = 100\n"
          ]
        }
      ]
    },
    {
      "cell_type": "code",
      "source": [
        "#q18\n",
        "cred={'user1':\"password1\",\"user2\":\"password2\"}\n",
        "user=input(\"Enter your name\")\n",
        "passw=input(\"Enter your password\")\n",
        "\n",
        "if user in cred:\n",
        "  if cred[user] == passw:\n",
        "    print(\"Login Succesfull\")\n",
        "  else:\n",
        "    print(\"Wrong password\")\n",
        "else:\n",
        "  print(\"User doesn't exist\")"
      ],
      "metadata": {
        "colab": {
          "base_uri": "https://localhost:8080/"
        },
        "id": "TpBrYRWiHIdU",
        "outputId": "94b3df4c-4b03-445b-f902-efb273f8cedc"
      },
      "execution_count": null,
      "outputs": [
        {
          "output_type": "stream",
          "name": "stdout",
          "text": [
            "Enter your nameuser43\n",
            "Enter your password1\n",
            "User doesn't exist\n"
          ]
        }
      ]
    },
    {
      "cell_type": "code",
      "source": [
        "#Q19\n",
        "print(\"Enter 5 words\")\n",
        "words={}\n",
        "for i in range(5):\n",
        "  word=input()\n",
        "  if word in words:\n",
        "    words[word]+=1\n",
        "  else:\n",
        "    words[word]=1\n",
        "print(words)"
      ],
      "metadata": {
        "colab": {
          "base_uri": "https://localhost:8080/"
        },
        "collapsed": true,
        "id": "UGR37foyItgw",
        "outputId": "ac45f2ff-e2c0-4013-8d7c-c5e4443e61fd"
      },
      "execution_count": null,
      "outputs": [
        {
          "output_type": "stream",
          "name": "stdout",
          "text": [
            "Enter 5 words\n",
            "h\n",
            "a\n",
            "h\n",
            "a\n",
            "t\n",
            "{'h': 2, 'a': 2, 't': 1}\n"
          ]
        }
      ]
    },
    {
      "cell_type": "code",
      "source": [
        "#Q20\n",
        "num=float(input(\"Enter temp\"))\n",
        "choice=input(\"Enter 1 for C->F and 2 for F->C\")\n",
        "if(choice=='1'):\n",
        "  print((num*9/5)+32)\n",
        "elif choice=='2':\n",
        "  print((num-32)*5/9)"
      ],
      "metadata": {
        "colab": {
          "base_uri": "https://localhost:8080/"
        },
        "id": "kpifmIRSJGGb",
        "outputId": "275f9316-175d-441a-fe69-cc27e7308755"
      },
      "execution_count": null,
      "outputs": [
        {
          "output_type": "stream",
          "name": "stdout",
          "text": [
            "Enter temp10\n",
            "Enter 1 for C->F and 2 for F->C2\n",
            "-12.222222222222221\n"
          ]
        }
      ]
    },
    {
      "cell_type": "code",
      "source": [],
      "metadata": {
        "id": "xyN-zFl8JsvU"
      },
      "execution_count": null,
      "outputs": []
    }
  ]
}