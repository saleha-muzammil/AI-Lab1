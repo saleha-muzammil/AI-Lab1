{
  "nbformat": 4,
  "nbformat_minor": 0,
  "metadata": {
    "colab": {
      "provenance": []
    },
    "kernelspec": {
      "name": "python3",
      "display_name": "Python 3"
    },
    "language_info": {
      "name": "python"
    }
  },
  "cells": [
    {
      "cell_type": "code",
      "execution_count": null,
      "metadata": {
        "id": "edoJc1cpQ43T"
      },
      "outputs": [],
      "source": [
        "# 1. Hello, Python!\n",
        "name = input(\"Enter your name: \")\n",
        "age = input(\"Enter your age: \")\n",
        "print(f\"Hello {name}, you are {age} years old!\")"
      ]
    },
    {
      "cell_type": "code",
      "source": [
        "# 2. Data Type Identification\n",
        "value = input(\"Enter a value: \")\n",
        "try:\n",
        "    value = int(value)\n",
        "    print(\"Integer\")\n",
        "except ValueError:\n",
        "    try:\n",
        "        value = float(value)\n",
        "        print(\"Float\")\n",
        "    except ValueError:\n",
        "        print(\"String\")"
      ],
      "metadata": {
        "id": "LuuH3-e0Q8zc"
      },
      "execution_count": null,
      "outputs": []
    },
    {
      "cell_type": "code",
      "source": [
        "# 3. List Operations\n",
        "my_list = [\"apple\", \"banana\", \"cherry\"]\n",
        "my_list.append(\"orange\")\n",
        "my_list.remove(\"banana\")\n",
        "print([item.upper() for item in my_list])"
      ],
      "metadata": {
        "id": "DOSZz6hyRHyw"
      },
      "execution_count": null,
      "outputs": []
    },
    {
      "cell_type": "code",
      "source": [
        "# 4. Tuple Unpacking\n",
        "my_tuple = (10, 20, 30)\n",
        "a, b, _ = my_tuple\n",
        "print(a, b)\n"
      ],
      "metadata": {
        "id": "fdtcfVvnRMyZ"
      },
      "execution_count": null,
      "outputs": []
    },
    {
      "cell_type": "code",
      "source": [
        "# 5. Dictionary Management\n",
        "students = {\"Alice\": 90, \"Bob\": 85, \"Charlie\": 78, \"David\": 92, \"Eve\": 88}\n",
        "print(students)"
      ],
      "metadata": {
        "id": "biAFYqeoRNld"
      },
      "execution_count": null,
      "outputs": []
    },
    {
      "cell_type": "code",
      "source": [
        "# 6. Set Operations\n",
        "list1 = set(map(int, input(\"Enter first list of numbers: \").split()))\n",
        "list2 = set(map(int, input(\"Enter second list of numbers: \").split()))\n",
        "print(\"Union:\", list1 | list2)\n",
        "print(\"Intersection:\", list1 & list2)\n",
        "print(\"Difference:\", list1 - list2)"
      ],
      "metadata": {
        "id": "nLnCP1dtRQZ0"
      },
      "execution_count": null,
      "outputs": []
    },
    {
      "cell_type": "code",
      "source": [
        "# 7. Conditional Statements: Number Checker\n",
        "num = int(input(\"Enter an integer: \"))\n",
        "if num > 0:\n",
        "    print(\"Positive\")\n",
        "elif num < 0:\n",
        "    print(\"Negative\")\n",
        "else:\n",
        "    print(\"Zero\")\n",
        "print(\"Even\" if num % 2 == 0 else \"Odd\")\n"
      ],
      "metadata": {
        "id": "_UuqNPDXRTzq"
      },
      "execution_count": null,
      "outputs": []
    },
    {
      "cell_type": "code",
      "source": [
        "# 8. FizzBuzz\n",
        "for i in range(1, 51):\n",
        "    if i % 3 == 0 and i % 5 == 0:\n",
        "        print(\"FizzBuzz\")\n",
        "    elif i % 3 == 0:\n",
        "        print(\"Fizz\")\n",
        "    elif i % 5 == 0:\n",
        "        print(\"Buzz\")\n",
        "    else:\n",
        "        print(i)"
      ],
      "metadata": {
        "id": "kyR-vIOHRZkf"
      },
      "execution_count": null,
      "outputs": []
    },
    {
      "cell_type": "code",
      "source": [
        "# 9. Function: Factorial Calculator\n",
        "def factorial(n):\n",
        "    result = 1\n",
        "    for i in range(1, n + 1):\n",
        "        result *= i\n",
        "    return result\n",
        "\n",
        "print(factorial(int(input(\"Enter a number for factorial: \"))))"
      ],
      "metadata": {
        "id": "ynQ3i0idRabH"
      },
      "execution_count": null,
      "outputs": []
    },
    {
      "cell_type": "code",
      "source": [
        "# 10. Prime Number Checker\n",
        "def is_prime(n):\n",
        "    if n < 2:\n",
        "        return False\n",
        "    for i in range(2, int(n**0.5) + 1):\n",
        "        if n % i == 0:\n",
        "            return False\n",
        "    return True\n",
        "\n",
        "print(is_prime(int(input(\"Enter a number to check for prime: \"))))"
      ],
      "metadata": {
        "id": "iKVxf0GfRgUZ"
      },
      "execution_count": null,
      "outputs": []
    },
    {
      "cell_type": "code",
      "source": [
        "# 11. List Comprehension: Squares\n",
        "def squares(lst):\n",
        "    return [x ** 2 for x in lst]\n",
        "\n",
        "print(squares(list(map(int, input(\"Enter numbers: \").split()))))"
      ],
      "metadata": {
        "id": "O3OnS3q5Rh7I"
      },
      "execution_count": null,
      "outputs": []
    },
    {
      "cell_type": "code",
      "source": [
        "# 12. Merge Dictionaries\n",
        "dict1 = {\"a\": 1, \"b\": 2}\n",
        "dict2 = {\"b\": 3, \"c\": 4}\n",
        "dict1.update(dict2)\n",
        "print(dict1)"
      ],
      "metadata": {
        "id": "yJGRaTXXRk9I"
      },
      "execution_count": null,
      "outputs": []
    },
    {
      "cell_type": "code",
      "source": [
        "# 13. Remove Duplicates from a List\n",
        "def remove_duplicates(lst):\n",
        "    return list(dict.fromkeys(lst))\n",
        "\n",
        "print(remove_duplicates(list(map(int, input(\"Enter numbers: \").split()))))"
      ],
      "metadata": {
        "id": "eBO4loaSRnii"
      },
      "execution_count": null,
      "outputs": []
    },
    {
      "cell_type": "code",
      "source": [
        "# 14. Palindrome Checker\n",
        "x  =  lambda s : s == s[::-1]\n",
        "print(x(input(\"Enter a string: \")))"
      ],
      "metadata": {
        "colab": {
          "base_uri": "https://localhost:8080/"
        },
        "id": "0hLO1Ua6RsqW",
        "outputId": "6e6a91ba-0b6a-404b-8e5e-d3f623d592be"
      },
      "execution_count": 2,
      "outputs": [
        {
          "output_type": "stream",
          "name": "stdout",
          "text": [
            "Enter a string: tacocat\n",
            "True\n"
          ]
        }
      ]
    },
    {
      "cell_type": "code",
      "source": [
        "# 15. Fibonacci Sequence Generator\n",
        "def fibonacci(n):\n",
        "    fib = [0, 1]\n",
        "    for i in range(n - 2):\n",
        "        fib.append(fib[-1] + fib[-2])\n",
        "    return fib[:n]\n",
        "\n",
        "print(fibonacci(int(input(\"Enter n for Fibonacci: \"))))"
      ],
      "metadata": {
        "id": "8YVtpejvR6MA"
      },
      "execution_count": null,
      "outputs": []
    },
    {
      "cell_type": "code",
      "source": [
        "# 16. Average Calculator with Validation\n",
        "numbers = []\n",
        "while True:\n",
        "    num = input(\"Enter a number (or 'done' to finish): \")\n",
        "    if num.lower() == 'done':\n",
        "        break\n",
        "    try:\n",
        "        numbers.append(float(num))\n",
        "    except ValueError:\n",
        "        print(\"Invalid input, please enter a number.\")\n",
        "\n",
        "print(\"Average:\", sum(numbers) / len(numbers) if numbers else 0)"
      ],
      "metadata": {
        "id": "wd4xW0ygSLkC"
      },
      "execution_count": null,
      "outputs": []
    },
    {
      "cell_type": "code",
      "source": [
        "# 17. Nested Loops: Multiplication Table\n",
        "for i in range(1, 11):\n",
        "    for j in range(1, 11):\n",
        "        print(f\"{i*j:4}\", end=\" \")\n",
        "    print()\n"
      ],
      "metadata": {
        "id": "CLrpdotjSPcE"
      },
      "execution_count": null,
      "outputs": []
    },
    {
      "cell_type": "code",
      "source": [
        "# 18. User Registration System\n",
        "users = {}\n",
        "while True:\n",
        "    action = input(\"Register/Login/Exit: \").lower()\n",
        "    if action == \"register\":\n",
        "        username = input(\"Enter username: \")\n",
        "        password = input(\"Enter password: \")\n",
        "        users[username] = password\n",
        "        print(\"User registered.\")\n",
        "    elif action == \"login\":\n",
        "        username = input(\"Enter username: \")\n",
        "        password = input(\"Enter password: \")\n",
        "        if users.get(username) == password:\n",
        "            print(\"Login successful.\")\n",
        "        else:\n",
        "            print(\"Invalid credentials.\")\n",
        "    elif action == \"exit\":\n",
        "        break"
      ],
      "metadata": {
        "id": "y_CmLfEDSTAM"
      },
      "execution_count": null,
      "outputs": []
    },
    {
      "cell_type": "code",
      "source": [
        "# 19. Counting Elements with a Dictionary\n",
        "words = input(\"Enter words: \").split()\n",
        "word_count = {word: words.count(word) for word in set(words)}\n",
        "print(word_count)"
      ],
      "metadata": {
        "id": "FePoaoc_SWRR"
      },
      "execution_count": null,
      "outputs": []
    },
    {
      "cell_type": "code",
      "source": [
        "# 20. Temperature Converter\n",
        "def convert_temp(value, scale):\n",
        "    if scale.lower() == \"c\":\n",
        "        return (value * 9/5) + 32\n",
        "    elif scale.lower() == \"f\":\n",
        "        return (value - 32) * 5/9\n",
        "    else:\n",
        "        return \"Invalid scale\"\n",
        "\n",
        "temp = float(input(\"Enter temperature: \"))\n",
        "scale = input(\"Convert from (C/F): \")\n",
        "print(\"Converted:\", convert_temp(temp, scale))"
      ],
      "metadata": {
        "id": "-BstmvwjSYk3"
      },
      "execution_count": null,
      "outputs": []
    }
  ]
}