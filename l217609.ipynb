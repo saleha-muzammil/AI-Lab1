{
  "nbformat": 4,
  "nbformat_minor": 0,
  "metadata": {
    "colab": {
      "provenance": []
    },
    "kernelspec": {
      "name": "python3",
      "display_name": "Python 3"
    },
    "language_info": {
      "name": "python"
    }
  },
  "cells": [
    {
      "cell_type": "code",
      "execution_count": 5,
      "metadata": {
        "colab": {
          "base_uri": "https://localhost:8080/"
        },
        "id": "kqIc1hFJ2RWn",
        "outputId": "a006ce94-5617-4b21-92ac-4aac9837f37b",
        "collapsed": true
      },
      "outputs": [
        {
          "output_type": "stream",
          "name": "stdout",
          "text": [
            "enter your nameaa\n",
            "enter yuour age12\n",
            "Hello, aa, your age is 12\n"
          ]
        }
      ],
      "source": [
        "name= input(\"enter your name\")\n",
        "age= input(\"enter yuour age\")\n",
        "print(f\"Hello, {name}, your age is {age}\")\n"
      ]
    },
    {
      "cell_type": "code",
      "source": [
        "value= input(\"Enter a number: \")\n",
        "try:\n",
        "  num= int(value)\n",
        "  print(\"the value in an integer.\")\n",
        "except ValueError:\n",
        "  try:\n",
        "    num= float(value)\n",
        "    print(\"the value is float\")\n",
        "  except ValueError:\n",
        "    print(\"the value is string\")\n"
      ],
      "metadata": {
        "colab": {
          "base_uri": "https://localhost:8080/"
        },
        "collapsed": true,
        "id": "ofdRX2_Y4yoJ",
        "outputId": "6cf083f4-0055-4e7d-c34a-2882b3ac6476"
      },
      "execution_count": 10,
      "outputs": [
        {
          "output_type": "stream",
          "name": "stdout",
          "text": [
            "Enter a number: 87\n",
            "the value in an integer.\n"
          ]
        }
      ]
    },
    {
      "cell_type": "code",
      "source": [
        "my_list= [\"apple\", \"banana\", \"mango\"]\n",
        "my_list.append(\"hello\")\n",
        "my_list.remove(\"banana\")\n",
        "for item in my_list:\n",
        "  print(item.upper())\n"
      ],
      "metadata": {
        "id": "b6f6eZaj3JCn",
        "colab": {
          "base_uri": "https://localhost:8080/"
        },
        "collapsed": true,
        "outputId": "36f529c6-ffb2-4047-f130-7d128b95acf6"
      },
      "execution_count": 13,
      "outputs": [
        {
          "output_type": "stream",
          "name": "stdout",
          "text": [
            "APPLE\n",
            "MANGO\n",
            "HELLO\n"
          ]
        }
      ]
    },
    {
      "cell_type": "code",
      "source": [
        "my_tupple= (10,20,30,40,50)\n",
        "a,b, *_ = my_tupple\n",
        "print(a,b)"
      ],
      "metadata": {
        "colab": {
          "base_uri": "https://localhost:8080/"
        },
        "id": "SLe01BfT8Ggg",
        "outputId": "9ea42cba-d5d8-4c8b-d06f-039d5b8d86bc"
      },
      "execution_count": 14,
      "outputs": [
        {
          "output_type": "stream",
          "name": "stdout",
          "text": [
            "10 20\n"
          ]
        }
      ]
    },
    {
      "cell_type": "code",
      "source": [
        "students ={\"Ali\":80, \"sara\": 90, \"hasan\":30, \"hamza\":95}\n",
        "print(students)"
      ],
      "metadata": {
        "colab": {
          "base_uri": "https://localhost:8080/"
        },
        "id": "kQ0xrpRB-c-V",
        "outputId": "2a17ff47-2768-4569-83d7-3009e2f65610"
      },
      "execution_count": 15,
      "outputs": [
        {
          "output_type": "stream",
          "name": "stdout",
          "text": [
            "{'Ali': 80, 'sara': 90, 'hasan': 30, 'hamza': 95}\n"
          ]
        }
      ]
    },
    {
      "cell_type": "code",
      "source": [
        "set1 = set(map(int,input(\"Enter first list: \").split()))\n",
        "set2 = set(map(int,input(\"Enter first list: \").split()))\n",
        "print(\"union: \", set1 | set2)\n",
        "print(\"intersection: \", set1 & set2)\n",
        "print(\"difference: \", set1 - set2)\n"
      ],
      "metadata": {
        "colab": {
          "base_uri": "https://localhost:8080/"
        },
        "id": "bHT5keYq_EcM",
        "outputId": "df5d9e4e-4cfc-4059-9888-6982512f196b"
      },
      "execution_count": 18,
      "outputs": [
        {
          "output_type": "stream",
          "name": "stdout",
          "text": [
            "Enter first list: 1 2 3 4 5\n",
            "Enter first list: 9 8 7 6 5\n",
            "union:  {1, 2, 3, 4, 5, 6, 7, 8, 9}\n",
            "intersection:  {5}\n",
            "difference:  {1, 2, 3, 4}\n"
          ]
        }
      ]
    },
    {
      "cell_type": "code",
      "source": [
        "num = int(input(\"enter a number: \"))\n",
        "if num<0:\n",
        "  print(\"number is negative\")\n",
        "elif num>0:\n",
        "  print(\"number is positive\")\n",
        "else:\n",
        "  print(\"number is zero\")\n",
        "\n",
        "print(\"even\" if num % 2 == 0 else \"odd\")"
      ],
      "metadata": {
        "colab": {
          "base_uri": "https://localhost:8080/"
        },
        "id": "LE2eVCfO_-Rz",
        "outputId": "24ba71ce-dca4-4b64-ac98-be422a26e7f5"
      },
      "execution_count": 19,
      "outputs": [
        {
          "output_type": "stream",
          "name": "stdout",
          "text": [
            "enter a number: 56\n",
            "number is positive\n",
            "even\n"
          ]
        }
      ]
    },
    {
      "cell_type": "code",
      "source": [
        "for i in range(1,51):\n",
        "  if i%3==0 and i%5==0:\n",
        "    print(\"FizzBuzz\")\n",
        "  elif i%5==0:\n",
        "    print(\"Buzz\")\n",
        "  elif i%3==0:\n",
        "    print(\"Fizz\")\n",
        "  else:\n",
        "    print(i)"
      ],
      "metadata": {
        "colab": {
          "base_uri": "https://localhost:8080/"
        },
        "id": "LoCmFyr7Br_C",
        "outputId": "51a53279-d401-478a-b25a-c13aaa5e5369"
      },
      "execution_count": 21,
      "outputs": [
        {
          "output_type": "stream",
          "name": "stdout",
          "text": [
            "1\n",
            "2\n",
            "Fizz\n",
            "4\n",
            "Buzz\n",
            "Fizz\n",
            "7\n",
            "8\n",
            "Fizz\n",
            "Buzz\n",
            "11\n",
            "Fizz\n",
            "13\n",
            "14\n",
            "FizzBuzz\n",
            "16\n",
            "17\n",
            "Fizz\n",
            "19\n",
            "Buzz\n",
            "Fizz\n",
            "22\n",
            "23\n",
            "Fizz\n",
            "Buzz\n",
            "26\n",
            "Fizz\n",
            "28\n",
            "29\n",
            "FizzBuzz\n",
            "31\n",
            "32\n",
            "Fizz\n",
            "34\n",
            "Buzz\n",
            "Fizz\n",
            "37\n",
            "38\n",
            "Fizz\n",
            "Buzz\n",
            "41\n",
            "Fizz\n",
            "43\n",
            "44\n",
            "FizzBuzz\n",
            "46\n",
            "47\n",
            "Fizz\n",
            "49\n",
            "Buzz\n"
          ]
        }
      ]
    },
    {
      "cell_type": "code",
      "source": [
        "def factorial(n):\n",
        "    result = 1\n",
        "    for i in range(1, n+1):\n",
        "        result *= i\n",
        "    return result\n",
        "\n",
        "num = int(input(\"Enter a number: \"))\n",
        "print(factorial(num))"
      ],
      "metadata": {
        "colab": {
          "base_uri": "https://localhost:8080/"
        },
        "id": "2fZiTdrnDG9n",
        "outputId": "afa73e44-c2e4-4a91-dd17-20250d9ae4a5"
      },
      "execution_count": 22,
      "outputs": [
        {
          "output_type": "stream",
          "name": "stdout",
          "text": [
            "Enter a number: 6\n",
            "720\n"
          ]
        }
      ]
    },
    {
      "cell_type": "code",
      "source": [
        "def is_prime(n):\n",
        "    if n < 2:\n",
        "        return False\n",
        "    for i in range(2, int(n**0.5) + 1):\n",
        "        if n % i == 0:\n",
        "            return False\n",
        "    return True\n",
        "\n",
        "num = int(input(\"Enter a number: \"))\n",
        "print(\"Prime\" if is_prime(num) else \"Not Prime\")"
      ],
      "metadata": {
        "colab": {
          "base_uri": "https://localhost:8080/"
        },
        "id": "Jw2PR0TsD6KK",
        "outputId": "226e9b8b-8bda-46f1-8ce9-471148c89cf0"
      },
      "execution_count": 23,
      "outputs": [
        {
          "output_type": "stream",
          "name": "stdout",
          "text": [
            "Enter a number: 17\n",
            "Prime\n"
          ]
        }
      ]
    },
    {
      "cell_type": "code",
      "source": [
        "def square_list(numbers):\n",
        "    return [x**2 for x in numbers]\n",
        "\n",
        "nums = list(map(int, input(\"Enter numbers: \").split()))\n",
        "print(square_list(nums))"
      ],
      "metadata": {
        "colab": {
          "base_uri": "https://localhost:8080/"
        },
        "id": "TDryOSmlEEGa",
        "outputId": "586390fb-4bdc-4aaf-fccf-47e72c534595"
      },
      "execution_count": 24,
      "outputs": [
        {
          "output_type": "stream",
          "name": "stdout",
          "text": [
            "Enter numbers: 1 2 3 4 5 6 7 8 9 10\n",
            "[1, 4, 9, 16, 25, 36, 49, 64, 81, 100]\n"
          ]
        }
      ]
    },
    {
      "cell_type": "code",
      "source": [
        "dict1 = {\"a\": 1, \"b\": 2}\n",
        "dict2 = {\"b\": 3, \"c\": 4}\n",
        "merged_dict = {**dict1, **dict2}\n",
        "print(merged_dict)"
      ],
      "metadata": {
        "colab": {
          "base_uri": "https://localhost:8080/"
        },
        "id": "O6zFYNsOEwiy",
        "outputId": "c91c4aed-e89d-4adb-b1e7-c3632694406a"
      },
      "execution_count": 25,
      "outputs": [
        {
          "output_type": "stream",
          "name": "stdout",
          "text": [
            "{'a': 1, 'b': 3, 'c': 4}\n"
          ]
        }
      ]
    },
    {
      "cell_type": "code",
      "source": [
        "def remove_duplicates(lst):\n",
        "    seen = set()\n",
        "    return [x for x in lst if not (x in seen or seen.add(x))]\n",
        "\n",
        "nums = list(map(int, input(\"Enter numbers: \").split()))\n",
        "print(remove_duplicates(nums))"
      ],
      "metadata": {
        "colab": {
          "base_uri": "https://localhost:8080/"
        },
        "id": "Y0n3h74CE8mO",
        "outputId": "32615e3f-f99f-4d7c-d5af-7126440b7fdc"
      },
      "execution_count": 27,
      "outputs": [
        {
          "output_type": "stream",
          "name": "stdout",
          "text": [
            "Enter numbers: 1 2 3 4 5 8 5\n",
            "[1, 2, 3, 4, 5, 8]\n"
          ]
        }
      ]
    },
    {
      "cell_type": "code",
      "source": [
        "def is_palindrome(s):\n",
        "    cleaned = \"\".join(s.lower().split())\n",
        "    return cleaned == cleaned[::-1]\n",
        "\n",
        "word = input(\"Enter a word: \")\n",
        "print(\"Palindrome\" if is_palindrome(word) else \"Not Palindrome\")"
      ],
      "metadata": {
        "colab": {
          "base_uri": "https://localhost:8080/"
        },
        "id": "TlJb7_Y9FFkS",
        "outputId": "ddd633b7-de1e-449e-8aec-16dede5ee3bb"
      },
      "execution_count": 29,
      "outputs": [
        {
          "output_type": "stream",
          "name": "stdout",
          "text": [
            "Enter a word: 1234\n",
            "Not Palindrome\n"
          ]
        }
      ]
    },
    {
      "cell_type": "code",
      "source": [
        "def fibonacci(n):\n",
        "    sequence = [0, 1]\n",
        "    for _ in range(n - 2):\n",
        "        sequence.append(sequence[-1] + sequence[-2])\n",
        "    return sequence[:n]\n",
        "\n",
        "num = int(input(\"Enter n: \"))\n",
        "print(fibonacci(num))"
      ],
      "metadata": {
        "colab": {
          "base_uri": "https://localhost:8080/"
        },
        "id": "l0JMtDXIF3BB",
        "outputId": "6c1076db-2c1a-457d-da24-3e6bbc6aabec"
      },
      "execution_count": 30,
      "outputs": [
        {
          "output_type": "stream",
          "name": "stdout",
          "text": [
            "Enter n: 5\n",
            "[0, 1, 1, 2, 3]\n"
          ]
        }
      ]
    },
    {
      "cell_type": "code",
      "source": [
        "def calculate_average():\n",
        "    nums = []\n",
        "    while True:\n",
        "        val = input(\"Enter a number (or 'done' to finish): \")\n",
        "        if val.lower() == \"done\":\n",
        "            break\n",
        "        try:\n",
        "            nums.append(float(val))\n",
        "        except ValueError:\n",
        "            print(\"Invalid input, enter a number.\")\n",
        "\n",
        "    return sum(nums) / len(nums) if nums else 0\n",
        "\n",
        "print(\"Average:\", calculate_average())"
      ],
      "metadata": {
        "colab": {
          "base_uri": "https://localhost:8080/"
        },
        "id": "2XUWBhgcF_-z",
        "outputId": "1565f0e5-754d-4fbb-a1b7-84b91f48ebc0"
      },
      "execution_count": 31,
      "outputs": [
        {
          "output_type": "stream",
          "name": "stdout",
          "text": [
            "Enter a number (or 'done' to finish): 5\n",
            "Enter a number (or 'done' to finish): 9\n",
            "Enter a number (or 'done' to finish): 3\n",
            "Enter a number (or 'done' to finish): 2\n",
            "Enter a number (or 'done' to finish): done\n",
            "Average: 4.75\n"
          ]
        }
      ]
    },
    {
      "cell_type": "code",
      "source": [
        "for i in range(1, 11):\n",
        "    for j in range(1, 11):\n",
        "        print(f\"{i * j:4}\", end=\" \")\n",
        "    print()"
      ],
      "metadata": {
        "colab": {
          "base_uri": "https://localhost:8080/"
        },
        "id": "ue6GR6lbGIfL",
        "outputId": "f8d0ece9-36a8-4a01-80c2-ae8af58e5d89"
      },
      "execution_count": 37,
      "outputs": [
        {
          "output_type": "stream",
          "name": "stdout",
          "text": [
            "   1    2    3    4    5    6    7    8    9   10 \n",
            "   2    4    6    8   10   12   14   16   18   20 \n",
            "   3    6    9   12   15   18   21   24   27   30 \n",
            "   4    8   12   16   20   24   28   32   36   40 \n",
            "   5   10   15   20   25   30   35   40   45   50 \n",
            "   6   12   18   24   30   36   42   48   54   60 \n",
            "   7   14   21   28   35   42   49   56   63   70 \n",
            "   8   16   24   32   40   48   56   64   72   80 \n",
            "   9   18   27   36   45   54   63   72   81   90 \n",
            "  10   20   30   40   50   60   70   80   90  100 \n"
          ]
        }
      ]
    },
    {
      "cell_type": "code",
      "source": [
        "users = {}\n",
        "\n",
        "def register():\n",
        "    username = input(\"Enter username: \")\n",
        "    password = input(\"Enter password: \")\n",
        "    users[username] = password\n",
        "    print(\"User registered.\")\n",
        "\n",
        "def login():\n",
        "    username = input(\"Enter username: \")\n",
        "    password = input(\"Enter password: \")\n",
        "    if users.get(username) == password:\n",
        "        print(\"Login successful!\")\n",
        "    else:\n",
        "        print(\"Invalid credentials.\")\n",
        "\n",
        "register()\n",
        "login()"
      ],
      "metadata": {
        "colab": {
          "base_uri": "https://localhost:8080/"
        },
        "id": "lCyi42NVGdiD",
        "outputId": "a98192fc-51cb-472e-baa8-a5ed2ba5028c"
      },
      "execution_count": 33,
      "outputs": [
        {
          "output_type": "stream",
          "name": "stdout",
          "text": [
            "Enter username: musa\n",
            "Enter password: dar\n",
            "User registered.\n",
            "Enter username: musa\n",
            "Enter password: dar\n",
            "Login successful!\n"
          ]
        }
      ]
    },
    {
      "cell_type": "code",
      "source": [
        "from collections import Counter\n",
        "\n",
        "words = input(\"Enter words separated by spaces: \").split()\n",
        "word_counts = Counter(words)\n",
        "print(dict(word_counts))\n"
      ],
      "metadata": {
        "colab": {
          "base_uri": "https://localhost:8080/"
        },
        "id": "_W1sg8R6GwWx",
        "outputId": "3e712b96-34bc-420c-8243-d32e8fff2888"
      },
      "execution_count": 35,
      "outputs": [
        {
          "output_type": "stream",
          "name": "stdout",
          "text": [
            "Enter words separated by spaces: hello world hi world hi buddy\n",
            "{'hello': 1, 'world': 2, 'hi': 2, 'buddy': 1}\n"
          ]
        }
      ]
    },
    {
      "cell_type": "code",
      "source": [
        "def convert_temperature():\n",
        "    temp = float(input(\"Enter temperature: \"))\n",
        "    choice = input(\"Convert to (C)elsius or (F)ahrenheit? \").lower()\n",
        "\n",
        "    if choice == \"c\":\n",
        "        print(f\"{(temp - 32) * 5/9:.2f}°C\")\n",
        "    elif choice == \"f\":\n",
        "        print(f\"{(temp * 9/5) + 32:.2f}°F\")\n",
        "    else:\n",
        "        print(\"Invalid choice\")\n",
        "\n",
        "convert_temperature()"
      ],
      "metadata": {
        "colab": {
          "base_uri": "https://localhost:8080/"
        },
        "id": "AJzW0iQBHFGF",
        "outputId": "2e8070c2-ad17-4a82-85d5-2aafac261401"
      },
      "execution_count": 36,
      "outputs": [
        {
          "output_type": "stream",
          "name": "stdout",
          "text": [
            "Enter temperature: 100\n",
            "Convert to (C)elsius or (F)ahrenheit? f\n",
            "212.00°F\n"
          ]
        }
      ]
    },
    {
      "cell_type": "code",
      "source": [],
      "metadata": {
        "id": "iPABSu_tHm_h"
      },
      "execution_count": null,
      "outputs": []
    }
  ]
}