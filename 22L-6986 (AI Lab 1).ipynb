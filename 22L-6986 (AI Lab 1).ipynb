{
  "nbformat": 4,
  "nbformat_minor": 0,
  "metadata": {
    "colab": {
      "provenance": []
    },
    "kernelspec": {
      "name": "python3",
      "display_name": "Python 3"
    },
    "language_info": {
      "name": "python"
    }
  },
  "cells": [
    {
      "cell_type": "code",
      "execution_count": 4,
      "metadata": {
        "colab": {
          "base_uri": "https://localhost:8080/"
        },
        "id": "WmzCyrtl1bYG",
        "outputId": "75a41a42-7c94-42d5-e50e-d50b559d8fad"
      },
      "outputs": [
        {
          "output_type": "stream",
          "name": "stdout",
          "text": [
            "What's your name AJs\n",
            "What's your age 22\n",
            "Hello AJs, you're 22 years old\n"
          ]
        }
      ],
      "source": [
        "name = input(\"What's your name \")\n",
        "age = int(input(\"What's your age \"))\n",
        "print(f\"Hello {name}, you're {age} years old\")"
      ]
    },
    {
      "cell_type": "code",
      "source": [
        "x = input(\"Enter an input \")\n",
        "print(type(x))"
      ],
      "metadata": {
        "colab": {
          "base_uri": "https://localhost:8080/"
        },
        "id": "9zD1sz0U2aK2",
        "outputId": "9a3c8f6d-7aeb-46d1-baa1-2ad00e5ea73d"
      },
      "execution_count": 5,
      "outputs": [
        {
          "output_type": "stream",
          "name": "stdout",
          "text": [
            "Enter an input Ans\n",
            "<class 'str'>\n"
          ]
        }
      ]
    },
    {
      "cell_type": "code",
      "source": [
        "arr = ['a', 'b', 'c']\n",
        "print([item.upper() for item in arr])\n",
        "arr.append('d')\n",
        "print([item.upper() for item in arr])\n",
        "arr.remove('d')\n",
        "print([item.upper() for item in arr])"
      ],
      "metadata": {
        "colab": {
          "base_uri": "https://localhost:8080/"
        },
        "id": "zuFq8DrZ3Vv9",
        "outputId": "ad68edb6-6d4c-4844-8c9d-a96e2dddce8e"
      },
      "execution_count": 14,
      "outputs": [
        {
          "output_type": "stream",
          "name": "stdout",
          "text": [
            "['A', 'B', 'C']\n",
            "['A', 'B', 'C', 'D']\n",
            "['A', 'B', 'C']\n"
          ]
        }
      ]
    },
    {
      "cell_type": "code",
      "source": [
        "my_tuple = (1, 2, 3, 4)\n",
        "a, b = my_tuple[:2]\n",
        "print(f\"First element: {a}\")\n",
        "print(f\"Second element: {b}\")"
      ],
      "metadata": {
        "colab": {
          "base_uri": "https://localhost:8080/"
        },
        "id": "6Nj6AOUy6dy-",
        "outputId": "5176ad26-1033-4d79-ca82-0ae3a11c7ebf"
      },
      "execution_count": 18,
      "outputs": [
        {
          "output_type": "stream",
          "name": "stdout",
          "text": [
            "First element: 1\n",
            "Second element: 2\n"
          ]
        }
      ]
    },
    {
      "cell_type": "code",
      "source": [
        "dic = {\n",
        "    \"Ans Jamal\": \"A*\", \"Awais Amir\": \"A*\", \"Haseeb\": \"A*\", \"Azam\": \"B\",\n",
        "    \"Abdul\": \"A*\"\n",
        "}\n",
        "print(dic)"
      ],
      "metadata": {
        "colab": {
          "base_uri": "https://localhost:8080/"
        },
        "id": "PvmYZOBB7b9f",
        "outputId": "8dd0f8b1-3826-41b4-fb4a-8ac7f7e47d66"
      },
      "execution_count": 21,
      "outputs": [
        {
          "output_type": "stream",
          "name": "stdout",
          "text": [
            "{'Ans Jamal': 'A*', 'Awais Amir': 'A*', 'Haseeb': 'A*', 'Azam': 'B', 'Abdul': 'A*'}\n"
          ]
        }
      ]
    },
    {
      "cell_type": "code",
      "source": [
        "arr1 = []\n",
        "for i in range(0,5):\n",
        "    i = int(input(\"Enter numbers for first array \"))\n",
        "    arr1.append(i)\n",
        "print(arr1)\n",
        "arr2 = []\n",
        "for i in range(0,5):\n",
        "    i = int(input(\"Enter numbers for second array \"))\n",
        "    arr2.append(i)\n",
        "print(arr2)\n",
        "arr1 = set(arr1)\n",
        "arr2 = set(arr2)\n",
        "print(\"Intersection \", arr1.intersection(arr2))\n",
        "print(\"Union \", arr1.union(arr2))\n",
        "print(\"Difference \", arr1.difference(arr2))"
      ],
      "metadata": {
        "colab": {
          "base_uri": "https://localhost:8080/"
        },
        "id": "z9LZojfF8ypL",
        "outputId": "25de5ff5-62f4-4cff-f0a1-a503d7418009"
      },
      "execution_count": 26,
      "outputs": [
        {
          "output_type": "stream",
          "name": "stdout",
          "text": [
            "Enter numbers for first array 2\n",
            "Enter numbers for first array 6\n",
            "Enter numbers for first array 4\n",
            "Enter numbers for first array 8\n",
            "Enter numbers for first array 1\n",
            "[2, 6, 4, 8, 1]\n",
            "Enter numbers for second array 2\n",
            "Enter numbers for second array 1\n",
            "Enter numbers for second array 8\n",
            "Enter numbers for second array 0\n",
            "Enter numbers for second array 10\n",
            "[2, 1, 8, 0, 10]\n",
            "Intersection  {8, 1, 2}\n",
            "Union  {0, 1, 2, 4, 6, 8, 10}\n",
            "Difference  {4, 6}\n"
          ]
        }
      ]
    },
    {
      "cell_type": "code",
      "source": [
        "x = int(input(\"Enter a number \"))\n",
        "if(x == 0):\n",
        "  print(\"Number entered is ZERO and its EVEN \")\n",
        "elif(x > 0):\n",
        "    if(x % 2 == 0):\n",
        "      print(\"Number entered is positive and its EVEN \")\n",
        "    else:\n",
        "      print(\"Number entered is positive and its ODD \")\n",
        "elif(x < 0):\n",
        "    if(x % 2 == 0):\n",
        "      print(\"Number entered is negative and its EVEN \")\n",
        "    else:\n",
        "      print(\"Number entered is negative and its ODD \")\n"
      ],
      "metadata": {
        "colab": {
          "base_uri": "https://localhost:8080/"
        },
        "id": "GkUdKZNK_GeX",
        "outputId": "cb1be37b-19b7-43c4-a092-930f69ba7167"
      },
      "execution_count": 33,
      "outputs": [
        {
          "output_type": "stream",
          "name": "stdout",
          "text": [
            "Enter a number 35\n",
            "Number entered is positive and its ODD \n"
          ]
        }
      ]
    },
    {
      "cell_type": "code",
      "source": [
        "for i in range(1,51):\n",
        "    if(i % 3 == 0):\n",
        "      if(i % 5 == 0):\n",
        "        print(\"FizzBuzz\")\n",
        "      else:\n",
        "        print(\"Fizz\")\n",
        "    elif(i % 5 == 0):\n",
        "      if(i % 3 == 0):\n",
        "        print(\"FizzBuzz\")\n",
        "      else:\n",
        "        print(\"Buzz \")\n",
        "    else:\n",
        "     print(i)\n"
      ],
      "metadata": {
        "colab": {
          "base_uri": "https://localhost:8080/"
        },
        "id": "7dVuNp0SAgqA",
        "outputId": "7d4c66f4-3e58-40be-c02e-e6cd06b49916"
      },
      "execution_count": 42,
      "outputs": [
        {
          "output_type": "stream",
          "name": "stdout",
          "text": [
            "1\n",
            "2\n",
            "Fizz\n",
            "4\n",
            "Buzz \n",
            "Fizz\n",
            "7\n",
            "8\n",
            "Fizz\n",
            "Buzz \n",
            "11\n",
            "Fizz\n",
            "13\n",
            "14\n",
            "FizzBuzz\n",
            "16\n",
            "17\n",
            "Fizz\n",
            "19\n",
            "Buzz \n",
            "Fizz\n",
            "22\n",
            "23\n",
            "Fizz\n",
            "Buzz \n",
            "26\n",
            "Fizz\n",
            "28\n",
            "29\n",
            "FizzBuzz\n",
            "31\n",
            "32\n",
            "Fizz\n",
            "34\n",
            "Buzz \n",
            "Fizz\n",
            "37\n",
            "38\n",
            "Fizz\n",
            "Buzz \n",
            "41\n",
            "Fizz\n",
            "43\n",
            "44\n",
            "FizzBuzz\n",
            "46\n",
            "47\n",
            "Fizz\n",
            "49\n",
            "Buzz \n"
          ]
        }
      ]
    },
    {
      "cell_type": "code",
      "source": [
        "def fac(x):\n",
        "  z = 1\n",
        "  if (x < 0):\n",
        "    return -1\n",
        "  if(x == 0 or x == 1):\n",
        "    return 1;\n",
        "  else:\n",
        "    for i in range(1, x+1):\n",
        "      z = z * i\n",
        "  return z\n",
        "\n",
        "y = int(input(\"Enter a number \"))\n",
        "result = fac(y)\n",
        "print(f\"Factorial of {y} is {result}\")\n"
      ],
      "metadata": {
        "colab": {
          "base_uri": "https://localhost:8080/"
        },
        "id": "63CWmBzSDElJ",
        "outputId": "63559121-f762-4b99-dd8b-b0eaca723455"
      },
      "execution_count": 50,
      "outputs": [
        {
          "output_type": "stream",
          "name": "stdout",
          "text": [
            "Enter a number 5\n",
            "Factorial of 5 is 120\n"
          ]
        }
      ]
    },
    {
      "cell_type": "code",
      "source": [
        "def prime(num):\n",
        "    if num <= 1:\n",
        "        return False\n",
        "    for i in range(2, int(num*0.5) + 1):\n",
        "        if num % i == 0:\n",
        "            return False\n",
        "    return True\n",
        "\n",
        "x = int(input(\"Enter a number \"))\n",
        "if prime(x):\n",
        "    print(f\"{x} is a prime number.\")\n",
        "else:\n",
        "    print(f\"{x} is not a prime number.\")"
      ],
      "metadata": {
        "colab": {
          "base_uri": "https://localhost:8080/"
        },
        "id": "P6gxh0OfG6Y1",
        "outputId": "f5e11493-b220-4983-9039-9e1b2b53ab7b"
      },
      "execution_count": 54,
      "outputs": [
        {
          "output_type": "stream",
          "name": "stdout",
          "text": [
            "Enter a number 121\n",
            "121 is not a prime number.\n"
          ]
        }
      ]
    },
    {
      "cell_type": "code",
      "source": [
        "def double(arr):\n",
        "  newarr = []\n",
        "  for i in arr:\n",
        "    newarr.append(i*i)\n",
        "  return newarr\n",
        "\n",
        "arr1 = (1,2,3)\n",
        "res = []\n",
        "res = double(arr1)\n",
        "print(res)"
      ],
      "metadata": {
        "colab": {
          "base_uri": "https://localhost:8080/"
        },
        "id": "yiJABvqrH3MT",
        "outputId": "f566c8df-467b-4628-be32-068fc86155c0"
      },
      "execution_count": 56,
      "outputs": [
        {
          "output_type": "stream",
          "name": "stdout",
          "text": [
            "[1, 4, 9]\n"
          ]
        }
      ]
    },
    {
      "cell_type": "code",
      "source": [
        "dic1 = {\n",
        "    \"Ans Jamal\": \"A*\", \"Awais Amir\": \"A*\", \"Haseeb\": \"A*\", \"Azam\": \"B\",\n",
        "    \"Abdul\": \"A*\"\n",
        "}\n",
        "dic2 = {\n",
        "    \"Ans Jamal\": \"A*\", \"Jack\": \"A\", \"John\": \"C\", \"Alif\": \"B\",\n",
        "    \"Rahman\": \"A*\"\n",
        "}\n",
        "\n",
        "dic1.update(dic2)\n",
        "print(dic1)"
      ],
      "metadata": {
        "colab": {
          "base_uri": "https://localhost:8080/"
        },
        "id": "Qp8R210aJXUD",
        "outputId": "ab45160a-60e8-45a9-9bf1-12615aaebae9"
      },
      "execution_count": 64,
      "outputs": [
        {
          "output_type": "stream",
          "name": "stdout",
          "text": [
            "{'Ans Jamal': 'A*', 'Awais Amir': 'A*', 'Haseeb': 'A*', 'Azam': 'B', 'Abdul': 'A*', 'Jack': 'A', 'John': 'C', 'Alif': 'B', 'Rahman': 'A*'}\n"
          ]
        }
      ]
    },
    {
      "cell_type": "code",
      "source": [
        "def removeDuplicate(arr):\n",
        "  res = []\n",
        "  for i in arr:\n",
        "    if i not in res:\n",
        "      res.append(i)\n",
        "  return res\n",
        "\n",
        "arr1 = (1,1,2,3,4,5)\n",
        "result = removeDuplicate(arr1)\n",
        "print(result)\n"
      ],
      "metadata": {
        "colab": {
          "base_uri": "https://localhost:8080/"
        },
        "id": "v4kxCkiIKvv0",
        "outputId": "d665d757-4e94-4f31-8ec4-7c7a91d713f7"
      },
      "execution_count": 65,
      "outputs": [
        {
          "output_type": "stream",
          "name": "stdout",
          "text": [
            "[1, 2, 3, 4, 5]\n"
          ]
        }
      ]
    },
    {
      "cell_type": "code",
      "source": [
        "def is_palindrome(s):\n",
        "    cleaned_str = ''.join(s.split()).lower()\n",
        "    return cleaned_str == cleaned_str[::-1]\n",
        "\n",
        "user_input = input(\"Enter a string to check if it's a palindrome: \")\n",
        "if is_palindrome(user_input):\n",
        "    print(f'\"{user_input}\" is a palindrome.')\n",
        "else:\n",
        "    print(f'\"{user_input}\" is not a palindrome.')"
      ],
      "metadata": {
        "colab": {
          "base_uri": "https://localhost:8080/"
        },
        "id": "oa6IDknzMdnw",
        "outputId": "a933b718-6505-4f9a-e1f7-ec55eff6d893"
      },
      "execution_count": 67,
      "outputs": [
        {
          "output_type": "stream",
          "name": "stdout",
          "text": [
            "Enter a string to check if it's a palindrome: Ans Jamal\n",
            "\"Ans Jamal\" is not a palindrome.\n"
          ]
        }
      ]
    },
    {
      "cell_type": "code",
      "source": [
        "def fibonacci(n):\n",
        "    fib_sequence = [0, 1]\n",
        "    for i in range(2, n):\n",
        "        next_number = fib_sequence[-1] + fib_sequence[-2]\n",
        "        fib_sequence.append(next_number)\n",
        "    return fib_sequence[:n]\n",
        "\n",
        "num = int(input(\"Enter the number \"))\n",
        "if num <= 0:\n",
        "    print(\"Please enter a positive integer.\")\n",
        "else:\n",
        "    result = fibonacci(num)\n",
        "    print(f\"The first {num} numbers in the Fibonacci sequence are: {result}\")"
      ],
      "metadata": {
        "colab": {
          "base_uri": "https://localhost:8080/"
        },
        "id": "B5FWnm7wLwAe",
        "outputId": "cf3980bd-ee61-42cd-e2f4-073c4435bdca"
      },
      "execution_count": 68,
      "outputs": [
        {
          "output_type": "stream",
          "name": "stdout",
          "text": [
            "Enter the number 5\n",
            "The first 5 numbers in the Fibonacci sequence are: [0, 1, 1, 2, 3]\n"
          ]
        }
      ]
    },
    {
      "cell_type": "code",
      "source": [
        "def calculate_average():\n",
        "    try:\n",
        "        numbers = input(\"Enter a series of numbers separated by spaces: \").split()\n",
        "        numbers = [float(num) for num in numbers]\n",
        "        average = sum(numbers) / len(numbers)\n",
        "        print(f\"The average of the entered numbers is: {average}\")\n",
        "    except ValueError:\n",
        "        print(\"Invalid input. Please enter only numbers separated by spaces.\")\n",
        "    except ZeroDivisionError:\n",
        "        print(\"No numbers were entered. Please try again.\")\n",
        "\n",
        "calculate_average()"
      ],
      "metadata": {
        "colab": {
          "base_uri": "https://localhost:8080/"
        },
        "id": "zC4QPvIcNwfp",
        "outputId": "e275143c-5412-40f5-bd91-69483e926426"
      },
      "execution_count": 70,
      "outputs": [
        {
          "output_type": "stream",
          "name": "stdout",
          "text": [
            "Enter a series of numbers separated by spaces: 1 2 3 \n",
            "The average of the entered numbers is: 2.0\n"
          ]
        }
      ]
    },
    {
      "cell_type": "code",
      "source": [
        "for i in range(1, 11):\n",
        "    for j in range(1, 11):\n",
        "        print(f\"{i * j:4}\", end=\"\")\n",
        "    print()"
      ],
      "metadata": {
        "colab": {
          "base_uri": "https://localhost:8080/"
        },
        "id": "wdaMvMdmOqT_",
        "outputId": "c4e9c623-2e08-4759-c61d-0c291e2454c1"
      },
      "execution_count": 71,
      "outputs": [
        {
          "output_type": "stream",
          "name": "stdout",
          "text": [
            "   1   2   3   4   5   6   7   8   9  10\n",
            "   2   4   6   8  10  12  14  16  18  20\n",
            "   3   6   9  12  15  18  21  24  27  30\n",
            "   4   8  12  16  20  24  28  32  36  40\n",
            "   5  10  15  20  25  30  35  40  45  50\n",
            "   6  12  18  24  30  36  42  48  54  60\n",
            "   7  14  21  28  35  42  49  56  63  70\n",
            "   8  16  24  32  40  48  56  64  72  80\n",
            "   9  18  27  36  45  54  63  72  81  90\n",
            "  10  20  30  40  50  60  70  80  90 100\n"
          ]
        }
      ]
    },
    {
      "cell_type": "code",
      "source": [
        "user_credentials = {}\n",
        "def register():\n",
        "    \"\"\"Register a new user.\"\"\"\n",
        "    username = input(\"Enter a username: \")\n",
        "    if username in user_credentials:\n",
        "        print(\"Username already exists. Please try a different username.\")\n",
        "    else:\n",
        "        password = input(\"Enter a password: \")\n",
        "        user_credentials[username] = password\n",
        "        print(\"Registration successful!\")\n",
        "\n",
        "def login():\n",
        "    \"\"\"Login an existing user.\"\"\"\n",
        "    username = input(\"Enter your username: \")\n",
        "    if username in user_credentials:\n",
        "        password = input(\"Enter your password: \")\n",
        "        if user_credentials[username] == password:\n",
        "            print(\"Login successful! Welcome back!\")\n",
        "        else:\n",
        "            print(\"Incorrect password. Please try again.\")\n",
        "    else:\n",
        "        print(\"Username not found. Please register first.\")\n",
        "\n",
        "def main():\n",
        "    \"\"\"Main function to handle user choices.\"\"\"\n",
        "    while True:\n",
        "        print(\"\\n--- User Registration and Login System ---\")\n",
        "        print(\"1. Register\")\n",
        "        print(\"2. Login\")\n",
        "        print(\"3. Exit\")\n",
        "        choice = input(\"Enter your choice (1/2/3): \")\n",
        "\n",
        "        if choice == \"1\":\n",
        "            register()\n",
        "        elif choice == \"2\":\n",
        "            login()\n",
        "        elif choice == \"3\":\n",
        "            print(\"Exiting the system. Goodbye!\")\n",
        "            break\n",
        "        else:\n",
        "            print(\"Invalid choice. Please try again.\")\n",
        "main()"
      ],
      "metadata": {
        "colab": {
          "base_uri": "https://localhost:8080/"
        },
        "id": "cVNutAS7POaK",
        "outputId": "817c584e-6900-43aa-c5f9-b01491fddf40"
      },
      "execution_count": 72,
      "outputs": [
        {
          "output_type": "stream",
          "name": "stdout",
          "text": [
            "\n",
            "--- User Registration and Login System ---\n",
            "1. Register\n",
            "2. Login\n",
            "3. Exit\n",
            "Enter your choice (1/2/3): 1\n",
            "Enter a username: ansjamal\n",
            "Enter a password: 12\n",
            "Registration successful!\n",
            "\n",
            "--- User Registration and Login System ---\n",
            "1. Register\n",
            "2. Login\n",
            "3. Exit\n",
            "Enter your choice (1/2/3): 3\n",
            "Exiting the system. Goodbye!\n"
          ]
        }
      ]
    },
    {
      "cell_type": "code",
      "source": [
        "def count_word_frequencies():\n",
        "    words = input(\"Enter a list of words separated by spaces: \").split()\n",
        "    word_count = {}\n",
        "    for word in words:\n",
        "        word_count[word] = word_count.get(word, 0) + 1\n",
        "\n",
        "    print(\"\\nWord Frequencies:\")\n",
        "    for word, count in word_count.items():\n",
        "        print(f\"{word}: {count}\")\n",
        "\n",
        "count_word_frequencies()"
      ],
      "metadata": {
        "colab": {
          "base_uri": "https://localhost:8080/"
        },
        "id": "Cg4_20csPxvn",
        "outputId": "ffb4ccc9-9821-49dd-a54d-915b6124e157"
      },
      "execution_count": 73,
      "outputs": [
        {
          "output_type": "stream",
          "name": "stdout",
          "text": [
            "Enter a list of words separated by spaces: 1 1 2 2 \n",
            "\n",
            "Word Frequencies:\n",
            "1: 2\n",
            "2: 2\n"
          ]
        }
      ]
    },
    {
      "cell_type": "code",
      "source": [
        "def celsius_to_fahrenheit(celsius):\n",
        "    return (celsius * 9/5) + 32\n",
        "\n",
        "def fahrenheit_to_celsius(fahrenheit):\n",
        "    return (fahrenheit - 32) * 5/9\n",
        "\n",
        "def temperature_converter():\n",
        "    print(\"Temperature Converter\")\n",
        "    print(\"1. Convert Celsius to Fahrenheit\")\n",
        "    print(\"2. Convert Fahrenheit to Celsius\")\n",
        "\n",
        "    choice = input(\"Enter your choice (1/2): \")\n",
        "\n",
        "    if choice == \"1\":\n",
        "        celsius = float(input(\"Enter temperature in Celsius: \"))\n",
        "        fahrenheit = celsius_to_fahrenheit(celsius)\n",
        "        print(f\"{celsius}°C is equal to {fahrenheit:.2f}°F\")\n",
        "    elif choice == \"2\":\n",
        "        fahrenheit = float(input(\"Enter temperature in Fahrenheit: \"))\n",
        "        celsius = fahrenheit_to_celsius(fahrenheit)\n",
        "        print(f\"{fahrenheit}°F is equal to {celsius:.2f}°C\")\n",
        "    else:\n",
        "        print(\"Invalid choice. Please select 1 or 2.\")\n",
        "\n",
        "temperature_converter()"
      ],
      "metadata": {
        "colab": {
          "base_uri": "https://localhost:8080/"
        },
        "id": "_AgJI-b4QKjM",
        "outputId": "34a64ee4-db54-4e7f-8523-e113a9d25f4f"
      },
      "execution_count": 74,
      "outputs": [
        {
          "output_type": "stream",
          "name": "stdout",
          "text": [
            "Temperature Converter\n",
            "1. Convert Celsius to Fahrenheit\n",
            "2. Convert Fahrenheit to Celsius\n",
            "Enter your choice (1/2): 1\n",
            "Enter temperature in Celsius: 23\n",
            "23.0°C is equal to 73.40°F\n"
          ]
        }
      ]
    }
  ]
}