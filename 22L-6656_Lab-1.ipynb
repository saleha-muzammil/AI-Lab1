{
 "cells": [
  {
   "cell_type": "code",
   "execution_count": 89,
   "metadata": {},
   "outputs": [
    {
     "name": "stdout",
     "output_type": "stream",
     "text": [
      "Hello Abdullah, Happy Birthday, you are 20 years old\n"
     ]
    }
   ],
   "source": [
    "#Q1 \n",
    "\n",
    "name, age = input(\"Enter your name and age: \").split()\n",
    "print(f\"Hello {name}, Happy Birthday, you are {age} years old\")"
   ]
  },
  {
   "cell_type": "code",
   "execution_count": 90,
   "metadata": {},
   "outputs": [
    {
     "name": "stdout",
     "output_type": "stream",
     "text": [
      "7328.45 is a float\n"
     ]
    }
   ],
   "source": [
    "#Q2\n",
    "\n",
    "data = input()\n",
    "if data.isnumeric():\n",
    "    data = int(data)\n",
    "    print(f\"{data} is a number\")\n",
    "elif (data.split(\".\")[0].isnumeric() and data.split(\".\")[1].isnumeric()):\n",
    "    data = float(data)\n",
    "    print(f\"{data} is a float\")\n",
    "else:\n",
    "    print(f\"{data} is a string\")"
   ]
  },
  {
   "cell_type": "code",
   "execution_count": 91,
   "metadata": {},
   "outputs": [
    {
     "name": "stdout",
     "output_type": "stream",
     "text": [
      "['hello', 'how', 'are', 'you']\n",
      "['hello', 'how', 'are', 'you', 'new']\n",
      "['hello', 'are', 'you', 'new']\n",
      "HELLO ARE YOU NEW "
     ]
    }
   ],
   "source": [
    "#Q3\n",
    "\n",
    "data = input().split()\n",
    "print(data)\n",
    "data.append(\"new\")\n",
    "print(data)\n",
    "data.pop(1)\n",
    "print(data)\n",
    "\n",
    "for i in range(0, len(data)):\n",
    "    print(data[i].upper() , end = \" \")  "
   ]
  },
  {
   "cell_type": "code",
   "execution_count": 92,
   "metadata": {},
   "outputs": [
    {
     "name": "stdout",
     "output_type": "stream",
     "text": [
      "1\n",
      "2\n"
     ]
    }
   ],
   "source": [
    "#Q4\n",
    "\n",
    "tuple = (1, 2, 3, 4, 5)\n",
    "x, y = tuple[0] , tuple[1] \n",
    "print(x)\n",
    "print(y)"
   ]
  },
  {
   "cell_type": "code",
   "execution_count": 93,
   "metadata": {},
   "outputs": [
    {
     "name": "stdout",
     "output_type": "stream",
     "text": [
      "{'names': ['Ali', 'Ahmed', 'Omar', 'Abdullah', 'Arham'], 'grades': ['A', 'B', 'C', 'D', 'E']}\n",
      "['Ali', 'Ahmed', 'Omar', 'Abdullah', 'Arham']\n",
      "['A', 'B', 'C', 'D', 'E']\n"
     ]
    }
   ],
   "source": [
    "#Q5 \n",
    "\n",
    "dict = {}\n",
    "dict[\"names\"] = [\"Ali\", \"Ahmed\", \"Omar\", \"Abdullah\", \"Arham\"]\n",
    "dict[\"grades\"] = ['A', 'B', 'C', 'D', 'E']\n",
    "\n",
    "print(dict)\n",
    "print(dict.get(\"names\"))\n",
    "print(dict.get(\"grades\"))"
   ]
  },
  {
   "cell_type": "code",
   "execution_count": 94,
   "metadata": {},
   "outputs": [
    {
     "name": "stdout",
     "output_type": "stream",
     "text": [
      "{'3', '4', '2', '1', '5'}\n",
      "{'1', '3', '2'}\n",
      "{'4', '5'}\n",
      "set()\n"
     ]
    }
   ],
   "source": [
    "#Q6 \n",
    "\n",
    "list1 = input().split()\n",
    "list2 = input().split()\n",
    "\n",
    "list1 = set(list1)\n",
    "list2 = set(list2)\n",
    "\n",
    "print(list1.union(list2))\n",
    "print(list1.intersection(list2))\n",
    "print(list1.difference(list2))\n",
    "print(list2.difference(list1))"
   ]
  },
  {
   "cell_type": "code",
   "execution_count": 95,
   "metadata": {},
   "outputs": [
    {
     "name": "stdout",
     "output_type": "stream",
     "text": [
      "Positive\n",
      "Even\n"
     ]
    }
   ],
   "source": [
    "#Q7 \n",
    "\n",
    "num = int(input(\"Enter an integer: \"))\n",
    "if num>0:\n",
    "    print(\"Positive\")\n",
    "elif num<0:\n",
    "    print(\"Negative\")\n",
    "else:\n",
    "    print(\"Zero\")\n",
    "\n",
    "if num%2 == 0:\n",
    "    print(\"Even\")\n",
    "else:\n",
    "    print(\"Odd\")"
   ]
  },
  {
   "cell_type": "code",
   "execution_count": 96,
   "metadata": {},
   "outputs": [
    {
     "name": "stdout",
     "output_type": "stream",
     "text": [
      "1\n",
      "2\n",
      "Fizz\n",
      "4\n",
      "Buzz\n",
      "Fizz\n",
      "7\n",
      "8\n",
      "Fizz\n",
      "Buzz\n",
      "11\n",
      "Fizz\n",
      "13\n",
      "14\n",
      "Fizz\n",
      "16\n",
      "17\n",
      "Fizz\n",
      "19\n",
      "Buzz\n",
      "Fizz\n",
      "22\n",
      "23\n",
      "Fizz\n",
      "Buzz\n",
      "26\n",
      "Fizz\n",
      "28\n",
      "29\n",
      "Fizz\n",
      "31\n",
      "32\n",
      "Fizz\n",
      "34\n",
      "Buzz\n",
      "Fizz\n",
      "37\n",
      "38\n",
      "Fizz\n",
      "Buzz\n",
      "41\n",
      "Fizz\n",
      "43\n",
      "44\n",
      "Fizz\n",
      "46\n",
      "47\n",
      "Fizz\n",
      "49\n"
     ]
    }
   ],
   "source": [
    "#Q8 \n",
    "\n",
    "for i in range(1, 50):\n",
    "    if i%3 == 0:\n",
    "        print(\"Fizz\")\n",
    "    elif i%5 == 0:\n",
    "        print(\"Buzz\")\n",
    "    elif i%3 == 0 and i%5 == 0:\n",
    "        print(\"FizzBuzz\")\n",
    "    else:\n",
    "        print(i)"
   ]
  },
  {
   "cell_type": "code",
   "execution_count": 97,
   "metadata": {},
   "outputs": [
    {
     "name": "stdout",
     "output_type": "stream",
     "text": [
      "The factorial is 3628800\n"
     ]
    }
   ],
   "source": [
    "#Q9 \n",
    "\n",
    "num = int(input(\"Enter a number: \"))\n",
    "factorial = 1\n",
    "if num >= 0:\n",
    "    while num > 0:\n",
    "        factorial = factorial * num\n",
    "        num -= 1\n",
    "\n",
    "    print(f\"The factorial is {factorial}\")"
   ]
  },
  {
   "cell_type": "code",
   "execution_count": 98,
   "metadata": {},
   "outputs": [
    {
     "name": "stdout",
     "output_type": "stream",
     "text": [
      "Prime\n"
     ]
    }
   ],
   "source": [
    "#Q10 \n",
    "\n",
    "def isPrime(num):\n",
    "    if num > 1:\n",
    "        for i in range(2, num // 2):\n",
    "            if num%i == 0:\n",
    "                return False\n",
    "        return True\n",
    "    else:\n",
    "        return False\n",
    "    \n",
    "num = int(input(\"Enter a number: \"))\n",
    "if isPrime(num):\n",
    "    print(\"Prime\")\n",
    "else:\n",
    "    print(\"Not Prime\")\n"
   ]
  },
  {
   "cell_type": "code",
   "execution_count": 99,
   "metadata": {},
   "outputs": [
    {
     "name": "stdout",
     "output_type": "stream",
     "text": [
      "[1, 4, 9, 16, 25]\n"
     ]
    }
   ],
   "source": [
    "#Q11\n",
    "\n",
    "def listSquarer(data):\n",
    "    data = [i**2 for i in data]    \n",
    "    return data\n",
    "\n",
    "data = [1, 2, 3, 4, 5]\n",
    "print(listSquarer(data))\n"
   ]
  },
  {
   "cell_type": "code",
   "execution_count": 100,
   "metadata": {},
   "outputs": [
    {
     "name": "stdout",
     "output_type": "stream",
     "text": [
      "{'item1': 6, 'item2': 2, 'item3': 3, 'item4': 293, 'item5': 5, 'item': 3}\n"
     ]
    }
   ],
   "source": [
    "#Q12\n",
    "\n",
    "dict1 = {\"item1\" : 1, \"item2\" : 2, \"item3\" : 3, \"item4\" : 4, \"item5\" : 5}\n",
    "dict2 = {\"item1\" : 6, \"item2\" : 2, \"item\" : 3, \"item4\" : 293}\n",
    "\n",
    "dict1.update(dict2)\n",
    "print(dict1)"
   ]
  },
  {
   "cell_type": "code",
   "execution_count": 101,
   "metadata": {},
   "outputs": [
    {
     "name": "stdout",
     "output_type": "stream",
     "text": [
      "[1, 2, 3, 4, 5]\n"
     ]
    }
   ],
   "source": [
    "#Q13\n",
    "\n",
    "def deduplicator(dup_list):\n",
    "    deduped = set(dup_list)\n",
    "    new_list = [i for i in deduped]\n",
    "    return new_list\n",
    "\n",
    "dup_list = [1, 2, 3, 2, 4, 5, 4, 5]\n",
    "print(deduplicator(dup_list))"
   ]
  },
  {
   "cell_type": "code",
   "execution_count": 102,
   "metadata": {},
   "outputs": [
    {
     "name": "stdout",
     "output_type": "stream",
     "text": [
      "Palindrome\n"
     ]
    }
   ],
   "source": [
    "#Q14\n",
    "\n",
    "isPalindrome = (lambda x : x == x[::-1])\n",
    "\n",
    "data = input(\"Enter a string: \")\n",
    "\n",
    "if isPalindrome(data.lower().replace(\" \", \"\")):\n",
    "    print(\"Palindrome\")\n",
    "else:\n",
    "    print(\"Not Palindrome\")"
   ]
  },
  {
   "cell_type": "code",
   "execution_count": 103,
   "metadata": {},
   "outputs": [
    {
     "name": "stdout",
     "output_type": "stream",
     "text": [
      "0 1 1 2 3 5 8 13 21 34 "
     ]
    }
   ],
   "source": [
    "#Q15\n",
    "\n",
    "def fibonacci(num):\n",
    "    a, b = 0, 1\n",
    "    for i in range(num):\n",
    "        print(a, end=\" \")\n",
    "        a, b = b, a+b\n",
    "\n",
    "num = int(input(\"Enter a number: \"))\n",
    "fibonacci(num)"
   ]
  },
  {
   "cell_type": "code",
   "execution_count": 104,
   "metadata": {},
   "outputs": [
    {
     "name": "stdout",
     "output_type": "stream",
     "text": [
      "The average is:  3.0\n"
     ]
    }
   ],
   "source": [
    "#Q16 \n",
    "\n",
    "#validated input\n",
    "numbers = input(\"Enter the numbers: \").split()\n",
    "numbers = [int(i) for i in numbers]\n",
    "print(\"The average is: \", sum(numbers)/len(numbers))"
   ]
  },
  {
   "cell_type": "code",
   "execution_count": 105,
   "metadata": {},
   "outputs": [
    {
     "name": "stdout",
     "output_type": "stream",
     "text": [
      "1 * 1 = 1\n",
      "1 * 2 = 2\n",
      "1 * 3 = 3\n",
      "1 * 4 = 4\n",
      "1 * 5 = 5\n",
      "1 * 6 = 6\n",
      "1 * 7 = 7\n",
      "1 * 8 = 8\n",
      "1 * 9 = 9\n",
      "1 * 10 = 10\n",
      "2 * 1 = 2\n",
      "2 * 2 = 4\n",
      "2 * 3 = 6\n",
      "2 * 4 = 8\n",
      "2 * 5 = 10\n",
      "2 * 6 = 12\n",
      "2 * 7 = 14\n",
      "2 * 8 = 16\n",
      "2 * 9 = 18\n",
      "2 * 10 = 20\n",
      "3 * 1 = 3\n",
      "3 * 2 = 6\n",
      "3 * 3 = 9\n",
      "3 * 4 = 12\n",
      "3 * 5 = 15\n",
      "3 * 6 = 18\n",
      "3 * 7 = 21\n",
      "3 * 8 = 24\n",
      "3 * 9 = 27\n",
      "3 * 10 = 30\n",
      "4 * 1 = 4\n",
      "4 * 2 = 8\n",
      "4 * 3 = 12\n",
      "4 * 4 = 16\n",
      "4 * 5 = 20\n",
      "4 * 6 = 24\n",
      "4 * 7 = 28\n",
      "4 * 8 = 32\n",
      "4 * 9 = 36\n",
      "4 * 10 = 40\n",
      "5 * 1 = 5\n",
      "5 * 2 = 10\n",
      "5 * 3 = 15\n",
      "5 * 4 = 20\n",
      "5 * 5 = 25\n",
      "5 * 6 = 30\n",
      "5 * 7 = 35\n",
      "5 * 8 = 40\n",
      "5 * 9 = 45\n",
      "5 * 10 = 50\n",
      "6 * 1 = 6\n",
      "6 * 2 = 12\n",
      "6 * 3 = 18\n",
      "6 * 4 = 24\n",
      "6 * 5 = 30\n",
      "6 * 6 = 36\n",
      "6 * 7 = 42\n",
      "6 * 8 = 48\n",
      "6 * 9 = 54\n",
      "6 * 10 = 60\n",
      "7 * 1 = 7\n",
      "7 * 2 = 14\n",
      "7 * 3 = 21\n",
      "7 * 4 = 28\n",
      "7 * 5 = 35\n",
      "7 * 6 = 42\n",
      "7 * 7 = 49\n",
      "7 * 8 = 56\n",
      "7 * 9 = 63\n",
      "7 * 10 = 70\n",
      "8 * 1 = 8\n",
      "8 * 2 = 16\n",
      "8 * 3 = 24\n",
      "8 * 4 = 32\n",
      "8 * 5 = 40\n",
      "8 * 6 = 48\n",
      "8 * 7 = 56\n",
      "8 * 8 = 64\n",
      "8 * 9 = 72\n",
      "8 * 10 = 80\n",
      "9 * 1 = 9\n",
      "9 * 2 = 18\n",
      "9 * 3 = 27\n",
      "9 * 4 = 36\n",
      "9 * 5 = 45\n",
      "9 * 6 = 54\n",
      "9 * 7 = 63\n",
      "9 * 8 = 72\n",
      "9 * 9 = 81\n",
      "9 * 10 = 90\n",
      "10 * 1 = 10\n",
      "10 * 2 = 20\n",
      "10 * 3 = 30\n",
      "10 * 4 = 40\n",
      "10 * 5 = 50\n",
      "10 * 6 = 60\n",
      "10 * 7 = 70\n",
      "10 * 8 = 80\n",
      "10 * 9 = 90\n",
      "10 * 10 = 100\n"
     ]
    }
   ],
   "source": [
    "#Q17\n",
    "\n",
    "for i in range(1, 11):\n",
    "    for j in range(1, 11):\n",
    "        print(f\"{i} * {j} = {i*j}\")"
   ]
  },
  {
   "cell_type": "code",
   "execution_count": 106,
   "metadata": {},
   "outputs": [
    {
     "name": "stdout",
     "output_type": "stream",
     "text": [
      "Access granted\n"
     ]
    }
   ],
   "source": [
    "#Q18\n",
    "\n",
    "credentials = {\"Abdullah\" : \"1234\", \"Ali\" : \"5678\", \"Ahmed\" : \"91011\"}\n",
    "\n",
    "username = input(\"Enter username: \")\n",
    "\n",
    "if username in credentials:\n",
    "    password = input(\"Enter password: \")\n",
    "    if credentials[username] == password:\n",
    "        print(\"Access granted\")\n",
    "    else:\n",
    "        print(\"Access denied\")\n",
    "else:\n",
    "    print(\"User not found\")"
   ]
  },
  {
   "cell_type": "code",
   "execution_count": 107,
   "metadata": {},
   "outputs": [
    {
     "name": "stdout",
     "output_type": "stream",
     "text": [
      "{'hello': 1, 'how': 2, 'are': 1, 'you': 1}\n"
     ]
    }
   ],
   "source": [
    "#Q19\n",
    "\n",
    "words = input(\"Enter the words: \").split()\n",
    "\n",
    "freq = {}\n",
    "\n",
    "for word in words:\n",
    "    if word in freq:\n",
    "        freq[word] += 1\n",
    "    else:\n",
    "        freq[word] = 1\n",
    "\n",
    "print(freq)"
   ]
  },
  {
   "cell_type": "code",
   "execution_count": 108,
   "metadata": {},
   "outputs": [
    {
     "name": "stdout",
     "output_type": "stream",
     "text": [
      "37.0\n"
     ]
    }
   ],
   "source": [
    "#Q20\n",
    "\n",
    "def temperatureConverter(temp, unit):\n",
    "    if unit == \"F\":\n",
    "        return (temp * 9/5) + 32\n",
    "    elif unit == \"C\":\n",
    "        return (temp - 32) * 5/9\n",
    "    \n",
    "temp = input(\"Enter the temperature: \")\n",
    "temp = int(temp) if temp.isnumeric() else float(temp)\n",
    "unit = input(\"Enter the unit (C/F): \")\n",
    "print(temperatureConverter(temp, unit))"
   ]
  }
 ],
 "metadata": {
  "kernelspec": {
   "display_name": "Python 3",
   "language": "python",
   "name": "python3"
  },
  "language_info": {
   "codemirror_mode": {
    "name": "ipython",
    "version": 3
   },
   "file_extension": ".py",
   "mimetype": "text/x-python",
   "name": "python",
   "nbconvert_exporter": "python",
   "pygments_lexer": "ipython3",
   "version": "3.12.4"
  }
 },
 "nbformat": 4,
 "nbformat_minor": 2
}
