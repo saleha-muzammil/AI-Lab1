{
  "nbformat": 4,
  "nbformat_minor": 0,
  "metadata": {
    "colab": {
      "provenance": []
    },
    "kernelspec": {
      "name": "python3",
      "display_name": "Python 3"
    },
    "language_info": {
      "name": "python"
    }
  },
  "cells": [
    {
      "cell_type": "code",
      "execution_count": null,
      "metadata": {
        "colab": {
          "base_uri": "https://localhost:8080/"
        },
        "id": "T0xrbFnd1Qos",
        "outputId": "c6ff14b3-b595-4af0-8517-6558ce99945a"
      },
      "outputs": [
        {
          "output_type": "stream",
          "name": "stdout",
          "text": [
            "Enter your nameM kaif\n",
            "Enter your age20\n",
            "Hello M kaif having age 20\n"
          ]
        }
      ],
      "source": [
        "#Q-1\n",
        "name = input(\"Enter your name\")\n",
        "age=input(\"Enter your age\")\n",
        "print(f\"Hello {name} having age {age}\")"
      ]
    },
    {
      "cell_type": "code",
      "source": [
        "#Q-2\n",
        "value = input(\"Enter a value\")\n",
        "if \".\" in value:\n",
        "    print(\"Entered value is float\")\n",
        "else:\n",
        "  print(\"Entered value is int\")"
      ],
      "metadata": {
        "colab": {
          "base_uri": "https://localhost:8080/"
        },
        "id": "y9fNfW7r2Sxw",
        "outputId": "66af0d54-9577-4166-9490-5cdccc91eafb"
      },
      "execution_count": null,
      "outputs": [
        {
          "output_type": "stream",
          "name": "stdout",
          "text": [
            "Enter a value12\n",
            "Entered value is int\n"
          ]
        }
      ]
    },
    {
      "cell_type": "code",
      "source": [
        "#Q-3\n",
        "arr=[\"abc\",\"hello\",\"okay\",\"WHY\"]\n",
        "print(arr)\n",
        "arr.append(\"hmm\")\n",
        "print(arr)\n",
        "arr.remove(\"okay\")\n",
        "print(arr)\n",
        "for word in arr:\n",
        "  print(word.upper())"
      ],
      "metadata": {
        "colab": {
          "base_uri": "https://localhost:8080/"
        },
        "id": "bRZQR-zG4AFD",
        "outputId": "2c9be24a-8964-4c74-de45-da7d68478237"
      },
      "execution_count": null,
      "outputs": [
        {
          "output_type": "stream",
          "name": "stdout",
          "text": [
            "['abc', 'hello', 'okay', 'WHY']\n",
            "['abc', 'hello', 'okay', 'WHY', 'hmm']\n",
            "['abc', 'hello', 'WHY', 'hmm']\n",
            "ABC\n",
            "HELLO\n",
            "WHY\n",
            "HMM\n"
          ]
        }
      ]
    },
    {
      "cell_type": "code",
      "source": [
        "#Q-4\n",
        "arr=('ai','bo','c','d','gh')\n",
        "(first,second,*element)=arr\n",
        "print(f\"First element is {first} and second is {second}\")"
      ],
      "metadata": {
        "colab": {
          "base_uri": "https://localhost:8080/"
        },
        "id": "-ptmNC4b5lCe",
        "outputId": "8e2af96a-672a-4f50-aeae-6184fba0359a"
      },
      "execution_count": null,
      "outputs": [
        {
          "output_type": "stream",
          "name": "stdout",
          "text": [
            "First element is ai and second is bo\n"
          ]
        }
      ]
    },
    {
      "cell_type": "code",
      "source": [
        "#Q-5\n",
        "arr={\"ahmed\":4,\"ali\":3,\"oka\":5}\n",
        "print(arr)"
      ],
      "metadata": {
        "colab": {
          "base_uri": "https://localhost:8080/"
        },
        "id": "SmUY2u8I6i73",
        "outputId": "a300e5cd-bd41-407a-d378-4dafc49ff3d9"
      },
      "execution_count": null,
      "outputs": [
        {
          "output_type": "stream",
          "name": "stdout",
          "text": [
            "{'ahmed': 4, 'ali': 3, 'oka': 5}\n"
          ]
        }
      ]
    },
    {
      "cell_type": "code",
      "source": [
        "#Q-6\n",
        "\n",
        "list1_str = input(\"Enter elements of the first list, separated by spaces: \")\n",
        "list1 = [int(x) for x in list1_str.split()]\n",
        "\n",
        "list2_str = input(\"Enter elements of the second list, separated by spaces: \")\n",
        "list2 = [int(x) for x in list2_str.split()]\n",
        "\n",
        "# Convert lists to sets\n",
        "set1 = set(list1)\n",
        "set2 = set(list2)\n",
        "\n",
        "# union\n",
        "union_set = set1.union(set2)\n",
        "print(\"Union:\", union_set)\n",
        "\n",
        "# intersection\n",
        "intersection_set = set1.intersection(set2)\n",
        "print(\"Intersection:\", intersection_set)\n",
        "\n",
        "# difference\n",
        "difference_set = set1.difference(set2)\n",
        "print(\"Difference (set1 - set2):\", difference_set)\n",
        "\n",
        "difference_set2 = set2.difference(set1)\n",
        "print(\"Difference (set2 - set1):\", difference_set2)"
      ],
      "metadata": {
        "id": "igPRdhfl7daL",
        "colab": {
          "base_uri": "https://localhost:8080/"
        },
        "outputId": "98ae869f-2c89-45a8-9a88-430881a80b88"
      },
      "execution_count": 23,
      "outputs": [
        {
          "output_type": "stream",
          "name": "stdout",
          "text": [
            "Enter elements of the first list, separated by spaces: 1 2 3 4\n",
            "Enter elements of the second list, separated by spaces: 3 4 5 6 \n",
            "Union: {1, 2, 3, 4, 5, 6}\n",
            "Intersection: {3, 4}\n",
            "Difference (set1 - set2): {1, 2}\n",
            "Difference (set2 - set1): {5, 6}\n"
          ]
        }
      ]
    },
    {
      "cell_type": "code",
      "source": [
        "#Q-7\n",
        "val = input(\"Enter an integer\")\n",
        "val=int(val)\n",
        "if val<0:\n",
        "  print(\"Entered value is negative\")\n",
        "elif val>0:\n",
        "  print(\"Entered value is positive\")\n",
        "else:\n",
        "  print(\"Entered value is zero\")\n",
        "\n",
        "if val%2==0:\n",
        "  print(\"Entered value is even\")\n",
        "else:\n",
        "  print(\"Entered value is odd\")"
      ],
      "metadata": {
        "colab": {
          "base_uri": "https://localhost:8080/"
        },
        "id": "Urs-EJqh8E5y",
        "outputId": "47dca5dd-7a3d-4e59-bfca-7d01050261e2"
      },
      "execution_count": null,
      "outputs": [
        {
          "output_type": "stream",
          "name": "stdout",
          "text": [
            "Enter an integer25\n",
            "Entered value is positive\n",
            "Entered value is odd\n"
          ]
        }
      ]
    },
    {
      "cell_type": "code",
      "source": [
        "#Q-8\n",
        "\n",
        "for i in range(1,51):\n",
        "  if i%3==0 and i%5==0:\n",
        "    print(f\"{i} FizzBuzz\")\n",
        "  elif i%3==0:\n",
        "    print(f\"{i} Fizz\")\n",
        "  elif i%5==0:\n",
        "    print(f\"{i} Buzz\")"
      ],
      "metadata": {
        "colab": {
          "base_uri": "https://localhost:8080/"
        },
        "id": "IRz1ZFvT9JYH",
        "outputId": "dfb70e82-530a-448e-b4ca-3a49ed017384"
      },
      "execution_count": null,
      "outputs": [
        {
          "output_type": "stream",
          "name": "stdout",
          "text": [
            "3 Fizz\n",
            "5 Buzz\n",
            "6 Fizz\n",
            "9 Fizz\n",
            "10 Buzz\n",
            "12 Fizz\n",
            "15 FizzBuzz\n",
            "18 Fizz\n",
            "20 Buzz\n",
            "21 Fizz\n",
            "24 Fizz\n",
            "25 Buzz\n",
            "27 Fizz\n",
            "30 FizzBuzz\n",
            "33 Fizz\n",
            "35 Buzz\n",
            "36 Fizz\n",
            "39 Fizz\n",
            "40 Buzz\n",
            "42 Fizz\n",
            "45 FizzBuzz\n",
            "48 Fizz\n",
            "50 Buzz\n"
          ]
        }
      ]
    },
    {
      "cell_type": "code",
      "source": [
        "#Q-9\n",
        "\n",
        "n = int(input(\"Enter a non-negative integer: \"))\n",
        "if n < 0:\n",
        "    print(\"Factorial is not defined for negative numbers\")\n",
        "    factorial=0\n",
        "elif n == 0:\n",
        "    factorial =1\n",
        "else:\n",
        "    factorial = 1\n",
        "    for i in range(1, n + 1):\n",
        "      factorial *= i\n",
        "print(f\"The factorial of {n} is {factorial}\")"
      ],
      "metadata": {
        "id": "HV5rAUwt-Lsl",
        "colab": {
          "base_uri": "https://localhost:8080/"
        },
        "outputId": "4d22f9cf-3f47-408d-bace-bd08324ca835"
      },
      "execution_count": 2,
      "outputs": [
        {
          "output_type": "stream",
          "name": "stdout",
          "text": [
            "Enter a non-negative integer: 4\n",
            "The factorial of 4 is 24\n"
          ]
        }
      ]
    },
    {
      "cell_type": "code",
      "source": [
        "#Q-10\n",
        "\n",
        "def is_prime(number):\n",
        "  if number <= 1:\n",
        "    return False\n",
        "  for i in range(2, int(number**0.5) + 1):\n",
        "    if number % i == 0:\n",
        "      return False\n",
        "  return True\n",
        "\n",
        "number = int(input(\"Enter a number: \"))\n",
        "\n",
        "# Check if the number is prime\n",
        "if is_prime(number):\n",
        "  print(f\"{number} is a prime number.\")\n",
        "else:\n",
        "  print(f\"{number} is not a prime number.\")"
      ],
      "metadata": {
        "colab": {
          "base_uri": "https://localhost:8080/"
        },
        "id": "a9Mkv1tNBL1N",
        "outputId": "06bb11c7-c2a8-4b80-83bf-87c25fe0fcb6"
      },
      "execution_count": 4,
      "outputs": [
        {
          "output_type": "stream",
          "name": "stdout",
          "text": [
            "Enter a number: 11\n",
            "11 is a prime number.\n"
          ]
        }
      ]
    },
    {
      "cell_type": "code",
      "source": [
        "#Q-11\n",
        "\n",
        "arr=[]\n",
        "print(\"Enter 3 numbers\")\n",
        "for i in range(3):\n",
        "  arr.append(int(input()))\n",
        "arr=[i*i for i in arr]\n",
        "print(arr)"
      ],
      "metadata": {
        "colab": {
          "base_uri": "https://localhost:8080/"
        },
        "id": "_0CZSJUPCC7Z",
        "outputId": "1c5f0e2e-56ad-4952-a79c-62169e7dc8b0"
      },
      "execution_count": 5,
      "outputs": [
        {
          "output_type": "stream",
          "name": "stdout",
          "text": [
            "Enter 3 numbers\n",
            "2\n",
            "4\n",
            "6\n",
            "[4, 16, 36]\n"
          ]
        }
      ]
    },
    {
      "cell_type": "code",
      "source": [
        "#Q-12\n",
        "\n",
        "dict1 = {'a': 1, 'b': 2, 'c': 3}\n",
        "dict2 = {'b': 4, 'd': 5}\n",
        "\n",
        "dict1.update(dict2)\n",
        "print(dict1)"
      ],
      "metadata": {
        "colab": {
          "base_uri": "https://localhost:8080/"
        },
        "id": "foI136X6DDn_",
        "outputId": "57bd67c0-f1cf-46f4-df63-7d52924f63ca"
      },
      "execution_count": 6,
      "outputs": [
        {
          "output_type": "stream",
          "name": "stdout",
          "text": [
            "{'a': 1, 'b': 4, 'c': 3, 'd': 5}\n"
          ]
        }
      ]
    },
    {
      "cell_type": "code",
      "source": [
        "#Q-13\n",
        "\n",
        "my_list = [6 ,1, 2, 3, 2, 4, 1, 5]\n",
        "seen = set()\n",
        "result = []\n",
        "for item in my_list:\n",
        "   if item not in seen:\n",
        "       seen.add(item)\n",
        "       result.append(item)\n",
        "print(result)  # Output: [1, 2, 3, 4, 5]"
      ],
      "metadata": {
        "colab": {
          "base_uri": "https://localhost:8080/"
        },
        "id": "Rw-AzU14DkCW",
        "outputId": "fe9ef94a-420f-4693-8619-3c8e0b097cc8"
      },
      "execution_count": 8,
      "outputs": [
        {
          "output_type": "stream",
          "name": "stdout",
          "text": [
            "[6, 1, 2, 3, 4, 5]\n"
          ]
        }
      ]
    },
    {
      "cell_type": "code",
      "source": [
        "#Q-14\n",
        "\n",
        "text = input(\"Enter a string: \")\n",
        "processed_text = text.lower().replace(\" \", \"\")\n",
        "if (processed_text == processed_text[::-1]):\n",
        "  print(f\"'{text}' is a palindrome.\")\n",
        "else:\n",
        "  print(f\"'{text}' is not a palindrome.\")\n"
      ],
      "metadata": {
        "colab": {
          "base_uri": "https://localhost:8080/"
        },
        "id": "NJ67TP7KE4la",
        "outputId": "eae2fb7a-0354-492a-9174-7ff2a6a46cb9"
      },
      "execution_count": 26,
      "outputs": [
        {
          "output_type": "stream",
          "name": "stdout",
          "text": [
            "Enter a string: aba\n",
            "'aba' is a palindrome.\n"
          ]
        }
      ]
    },
    {
      "cell_type": "code",
      "source": [
        "#Q-15\n",
        "\n",
        "# Get input from the user\n",
        "n = int(input(\"Enter the number of Fibonacci numbers to generate: \"))\n",
        "fibonacci_sequence = []\n",
        "a, b = 0, 1\n",
        "for _ in range(n):\n",
        "    fibonacci_sequence.append(a)\n",
        "    a, b = b, a + b\n",
        "print(f\"The first {n} Fibonacci numbers are: {fibonacci_sequence}\")"
      ],
      "metadata": {
        "colab": {
          "base_uri": "https://localhost:8080/"
        },
        "id": "K3XnKOpxFKNb",
        "outputId": "2713a864-84da-4bdf-ee6e-c846e7054765"
      },
      "execution_count": 11,
      "outputs": [
        {
          "output_type": "stream",
          "name": "stdout",
          "text": [
            "Enter the number of Fibonacci numbers to generate: 10\n",
            "The first 10 Fibonacci numbers are: [0, 1, 1, 2, 3, 5, 8, 13, 21, 34]\n"
          ]
        }
      ]
    },
    {
      "cell_type": "code",
      "source": [
        "#Q-16\n",
        "\n",
        "num=0\n",
        "i=int(input(\"Enter a range\"))\n",
        "for j in range(0,i):\n",
        "  inp=int(input(\"Enter a number\"))\n",
        "  num+=inp\n",
        "print(num/i)"
      ],
      "metadata": {
        "colab": {
          "base_uri": "https://localhost:8080/"
        },
        "id": "khelibZNF-pc",
        "outputId": "e9140d2d-435e-4b28-8ac6-99fc8e759594"
      },
      "execution_count": 13,
      "outputs": [
        {
          "output_type": "stream",
          "name": "stdout",
          "text": [
            "Enter a range4\n",
            "Enter a number1\n",
            "Enter a number2\n",
            "Enter a number3\n",
            "Enter a number4\n",
            "2.5\n"
          ]
        }
      ]
    },
    {
      "cell_type": "code",
      "source": [
        "#Q-17\n",
        "\n",
        "for i in range(1,11):\n",
        "  for j in range(1,11):\n",
        "    print(f\"{i}*{j}={i*j} \")"
      ],
      "metadata": {
        "colab": {
          "base_uri": "https://localhost:8080/"
        },
        "id": "uxgRWAnzHCOO",
        "outputId": "d9cd54c6-1a0a-45ec-b187-e5e69162beeb"
      },
      "execution_count": 14,
      "outputs": [
        {
          "output_type": "stream",
          "name": "stdout",
          "text": [
            "1*1=1 \n",
            "1*2=2 \n",
            "1*3=3 \n",
            "1*4=4 \n",
            "1*5=5 \n",
            "1*6=6 \n",
            "1*7=7 \n",
            "1*8=8 \n",
            "1*9=9 \n",
            "1*10=10 \n",
            "2*1=2 \n",
            "2*2=4 \n",
            "2*3=6 \n",
            "2*4=8 \n",
            "2*5=10 \n",
            "2*6=12 \n",
            "2*7=14 \n",
            "2*8=16 \n",
            "2*9=18 \n",
            "2*10=20 \n",
            "3*1=3 \n",
            "3*2=6 \n",
            "3*3=9 \n",
            "3*4=12 \n",
            "3*5=15 \n",
            "3*6=18 \n",
            "3*7=21 \n",
            "3*8=24 \n",
            "3*9=27 \n",
            "3*10=30 \n",
            "4*1=4 \n",
            "4*2=8 \n",
            "4*3=12 \n",
            "4*4=16 \n",
            "4*5=20 \n",
            "4*6=24 \n",
            "4*7=28 \n",
            "4*8=32 \n",
            "4*9=36 \n",
            "4*10=40 \n",
            "5*1=5 \n",
            "5*2=10 \n",
            "5*3=15 \n",
            "5*4=20 \n",
            "5*5=25 \n",
            "5*6=30 \n",
            "5*7=35 \n",
            "5*8=40 \n",
            "5*9=45 \n",
            "5*10=50 \n",
            "6*1=6 \n",
            "6*2=12 \n",
            "6*3=18 \n",
            "6*4=24 \n",
            "6*5=30 \n",
            "6*6=36 \n",
            "6*7=42 \n",
            "6*8=48 \n",
            "6*9=54 \n",
            "6*10=60 \n",
            "7*1=7 \n",
            "7*2=14 \n",
            "7*3=21 \n",
            "7*4=28 \n",
            "7*5=35 \n",
            "7*6=42 \n",
            "7*7=49 \n",
            "7*8=56 \n",
            "7*9=63 \n",
            "7*10=70 \n",
            "8*1=8 \n",
            "8*2=16 \n",
            "8*3=24 \n",
            "8*4=32 \n",
            "8*5=40 \n",
            "8*6=48 \n",
            "8*7=56 \n",
            "8*8=64 \n",
            "8*9=72 \n",
            "8*10=80 \n",
            "9*1=9 \n",
            "9*2=18 \n",
            "9*3=27 \n",
            "9*4=36 \n",
            "9*5=45 \n",
            "9*6=54 \n",
            "9*7=63 \n",
            "9*8=72 \n",
            "9*9=81 \n",
            "9*10=90 \n",
            "10*1=10 \n",
            "10*2=20 \n",
            "10*3=30 \n",
            "10*4=40 \n",
            "10*5=50 \n",
            "10*6=60 \n",
            "10*7=70 \n",
            "10*8=80 \n",
            "10*9=90 \n",
            "10*10=100 \n"
          ]
        }
      ]
    },
    {
      "cell_type": "code",
      "source": [
        "#Q-18\n",
        "\n",
        "system={\"user1\":\"pass1\",\"user2\":\"pass2\",\"user3\":\"pass3\"}\n",
        "user=input(\"Enter a user\")\n",
        "if user in system:\n",
        "  password=input(\"Enter a password\")\n",
        "  if password==system[user]:\n",
        "    print(\"Welcome\")\n",
        "  else:\n",
        "    print(\"Wrong password\")\n",
        "else:\n",
        "  print(\"User not found\")"
      ],
      "metadata": {
        "colab": {
          "base_uri": "https://localhost:8080/"
        },
        "id": "7FS1xg4gHm_g",
        "outputId": "556ae1ef-bf00-4e52-bf5b-8f8b22006e4c"
      },
      "execution_count": 17,
      "outputs": [
        {
          "output_type": "stream",
          "name": "stdout",
          "text": [
            "Enter a useruser5\n",
            "User not found\n"
          ]
        }
      ]
    },
    {
      "cell_type": "code",
      "source": [
        "#Q-19\n",
        "\n",
        "print(\"Enter 5 words\")\n",
        "dic={}\n",
        "for i in range(5):\n",
        "  word=input()\n",
        "  if word in dic:\n",
        "    dic[word]+=1\n",
        "  else:\n",
        "    dic[word]=1\n",
        "print(dic)"
      ],
      "metadata": {
        "colab": {
          "base_uri": "https://localhost:8080/"
        },
        "id": "3G-Rpst3ISfg",
        "outputId": "c3238b0b-d5b6-49fe-89ea-66d71bef2691"
      },
      "execution_count": 18,
      "outputs": [
        {
          "output_type": "stream",
          "name": "stdout",
          "text": [
            "Enter 5 words\n",
            "hello\n",
            "ok\n",
            "wow\n",
            "ok\n",
            "hello\n",
            "{'hello': 2, 'ok': 2, 'wow': 1}\n"
          ]
        }
      ]
    },
    {
      "cell_type": "code",
      "source": [
        "#Q-20\n",
        "\n",
        "n= float(input(\"Enter tmep: \"))\n",
        "flag=input(\"Enter c for celcius to fahrenheit or f for fahrenheit to celcius\")\n",
        "if flag == \"c\":\n",
        "  print((n*9/5)+32)\n",
        "else:\n",
        "  print((n-32)*5/9)"
      ],
      "metadata": {
        "colab": {
          "base_uri": "https://localhost:8080/"
        },
        "id": "Y5cHfjgNJOZl",
        "outputId": "c240475a-e101-4818-a5a3-40e240e84a87"
      },
      "execution_count": 21,
      "outputs": [
        {
          "output_type": "stream",
          "name": "stdout",
          "text": [
            "Enter tmep: 10\n",
            "Enter c for celcius to fahrenheit or f for fahrenheit to celciusf\n",
            "-12.222222222222221\n"
          ]
        }
      ]
    }
  ]
}